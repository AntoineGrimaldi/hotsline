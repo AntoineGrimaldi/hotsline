{
 "cells": [
  {
   "cell_type": "markdown",
   "id": "146e9eb1-7f15-4122-a866-cd3061b73da0",
   "metadata": {},
   "source": [
    "# BASICS 03 - HOTS with online classification (Grimaldi et al. 2022)"
   ]
  },
  {
   "cell_type": "code",
   "execution_count": 1,
   "id": "98a75ff8-780a-400b-9925-515f4a2274cf",
   "metadata": {},
   "outputs": [],
   "source": [
    "%load_ext autoreload\n",
    "%autoreload 2"
   ]
  },
  {
   "cell_type": "code",
   "execution_count": 2,
   "id": "e6346880-ad3c-4a2c-a39a-1a8842c3ac3d",
   "metadata": {},
   "outputs": [
    {
     "name": "stdout",
     "output_type": "stream",
     "text": [
      "/home/antoine/homhots/hotsline/hots\n",
      "Tonic version installed -> 1.0.19\n",
      "Number of GPU devices available: 1\n",
      "GPU 1 named GeForce RTX 2080 Ti\n"
     ]
    }
   ],
   "source": [
    "%cd ../hots\n",
    "import tonic, torch, os, pickle\n",
    "from tqdm import tqdm\n",
    "from network import network\n",
    "from layer import mlrlayer\n",
    "from timesurface import timesurface\n",
    "from utils import get_loader, make_histogram_classification, HOTS_Dataset, fit_mlr, predict_mlr, score_classif_events\n",
    "\n",
    "print(f'Tonic version installed -> {tonic.__version__}')\n",
    "\n",
    "print(f'Number of GPU devices available: {torch.cuda.device_count()}')\n",
    "for N_gpu in range(torch.cuda.device_count()):\n",
    "    print(f'GPU {N_gpu+1} named {torch.cuda.get_device_name(N_gpu)}')"
   ]
  },
  {
   "cell_type": "markdown",
   "id": "6ae45cc7-c96c-4c5f-8b9b-efa613afd9b3",
   "metadata": {},
   "source": [
    "## Loading of the dataset for the clustering phase"
   ]
  },
  {
   "cell_type": "code",
   "execution_count": 3,
   "id": "fe228881-0acd-422e-9376-966d47b0425b",
   "metadata": {},
   "outputs": [
    {
     "name": "stdout",
     "output_type": "stream",
     "text": [
      "number of samples in the training set: 48\n"
     ]
    }
   ],
   "source": [
    "type_transform = tonic.transforms.NumpyAsType(int)\n",
    "trainset = tonic.datasets.POKERDVS(save_to='../../Data/', train=True, transform=type_transform)\n",
    "testset = tonic.datasets.POKERDVS(save_to='../../Data/', train=False, transform=type_transform)\n",
    "loader = get_loader(trainset)\n",
    "num_sample_train = len(loader)\n",
    "num_sample_test = len(testset)\n",
    "print(f'number of samples in the training set: {len(loader)}')"
   ]
  },
  {
   "cell_type": "markdown",
   "id": "5ce771bc-ad2d-45c4-ba80-0a28862f07fe",
   "metadata": {},
   "source": [
    "## Initialization of the network"
   ]
  },
  {
   "cell_type": "code",
   "execution_count": 4,
   "id": "1caf366e-fc63-4030-868b-a57babe598de",
   "metadata": {},
   "outputs": [
    {
     "name": "stdout",
     "output_type": "stream",
     "text": [
      "device -> cuda\n"
     ]
    }
   ],
   "source": [
    "name = 'homeohots'\n",
    "homeo = True\n",
    "timestr = '2022-04-27'\n",
    "dataset_name = 'poker'\n",
    "\n",
    "Rz = [2, 4]\n",
    "N_neuronz = [8, 16]\n",
    "tauz = [1e3, 4e3]\n",
    "\n",
    "hots = network(name, dataset_name, timestr, trainset.sensor_size, nb_neurons = N_neuronz, tau = tauz, R = Rz, homeo = homeo)\n",
    "\n",
    "initial_name = hots.name"
   ]
  },
  {
   "cell_type": "markdown",
   "id": "804365ce-3c09-40a8-90ad-f2471961b169",
   "metadata": {},
   "source": [
    "## Unsupervised clustering"
   ]
  },
  {
   "cell_type": "code",
   "execution_count": 5,
   "id": "7064b789-7876-4611-8d34-3a5a4d62e888",
   "metadata": {},
   "outputs": [],
   "source": [
    "if not os.path.exists('../Records/'):\n",
    "    os.mkdir('../Records/')\n",
    "    os.mkdir('../Records/networks/')\n",
    "filtering_threshold = [2*Rz[L] for L in range(len(Rz))]\n",
    "path = '../Records/networks/'+hots.name+'.pkl'\n",
    "if not os.path.exists(path):\n",
    "    hots.clustering(loader, trainset.ordering, filtering_threshold, record = True)"
   ]
  },
  {
   "cell_type": "markdown",
   "id": "9f0361ae-8651-4ca6-95db-d3161988f90c",
   "metadata": {},
   "source": [
    "## Training of the classification layer"
   ]
  },
  {
   "cell_type": "code",
   "execution_count": 6,
   "id": "e0a911b9-b781-4e79-a4f9-494dd90615ad",
   "metadata": {},
   "outputs": [],
   "source": [
    "jitter = (None, None)\n",
    "num_workers = 0\n",
    "learning_rate = 0.005\n",
    "beta1, beta2 = 0.9, 0.999\n",
    "betas = (beta1, beta2)\n",
    "num_epochs = 2 ** 5 + 1\n",
    "N_output_neurons = N_neuronz[-1]\n",
    "ts_size = (trainset.sensor_size[0],trainset.sensor_size[1],N_output_neurons)\n",
    "tau_cla = 2e4\n",
    "\n",
    "train_path = f'../Records/output/train/{hots.name}_{num_sample_train}_{jitter}/'\n",
    "model_path = f'../Records/networks/{hots.name}_{tau_cla}_{learning_rate}_{betas}_{num_epochs}_{jitter}.pkl'\n",
    "\n",
    "trainset_output = HOTS_Dataset(train_path, trainset.sensor_size, dtype=trainset.dtype, transform=type_transform)\n",
    "trainloader = get_loader(trainset_output)\n",
    "classif_layer, losses = fit_mlr(trainloader, model_path, tau_cla, learning_rate, betas, num_epochs, ts_size, trainset.ordering, len(trainset.classes))"
   ]
  },
  {
   "cell_type": "code",
   "execution_count": null,
   "id": "e5ef8e13-bdc0-4dfd-93be-ce2594d01a99",
   "metadata": {},
   "outputs": [
    {
     "name": "stdout",
     "output_type": "stream",
     "text": [
      "For jitter variance 0.0 pixels, accuracy is 100.0%\n",
      "For jitter variance 1.1080332409972298 pixels, accuracy is 95.0%\n",
      "For jitter variance 4.432132963988919 pixels, accuracy is 75.0%\n",
      "For jitter variance 9.97229916897507 pixels, accuracy is 75.0%\n",
      "For jitter variance 17.728531855955676 pixels, accuracy is 65.0%\n",
      "For jitter variance 27.700831024930743 pixels, accuracy is 45.0%\n",
      "For jitter variance 39.88919667590028 pixels, accuracy is 50.0%\n",
      "For jitter variance 54.29362880886426 pixels, accuracy is 45.0%\n",
      "For jitter variance 70.9141274238227 pixels, accuracy is 45.0%\n",
      "For jitter variance 89.75069252077562 pixels, accuracy is 40.0%\n",
      "For jitter variance 110.80332409972297 pixels, accuracy is 30.0%\n",
      "For jitter variance 134.0720221606648 pixels, accuracy is 50.0%\n",
      "For jitter variance 159.55678670360112 pixels, accuracy is 40.0%\n",
      "For jitter variance 187.25761772853184 pixels, accuracy is 40.0%\n",
      "For jitter variance 217.17451523545705 pixels, accuracy is 35.0%\n",
      "For jitter variance 249.30747922437672 pixels, accuracy is 45.0%\n",
      "For jitter variance 283.6565096952908 pixels, accuracy is 30.0%\n",
      "For jitter variance 320.22160664819944 pixels, accuracy is 35.0%\n",
      "For jitter variance 359.00277008310246 pixels, accuracy is 45.0%\n",
      "[[0.132942   0.27895247 0.37523332 0.21287221]]\n",
      "For jitter variance 400.0 pixels, accuracy is 25.0%\n",
      "For jitter variance 0.0 pixels, accuracy is 100.0%\n",
      "For jitter variance 1.1080332409972298 pixels, accuracy is 95.0%\n",
      "For jitter variance 4.432132963988919 pixels, accuracy is 70.0%\n",
      "For jitter variance 9.97229916897507 pixels, accuracy is 80.0%\n",
      "For jitter variance 17.728531855955676 pixels, accuracy is 55.00000000000001%\n",
      "For jitter variance 27.700831024930743 pixels, accuracy is 45.0%\n",
      "For jitter variance 39.88919667590028 pixels, accuracy is 55.00000000000001%\n",
      "For jitter variance 54.29362880886426 pixels, accuracy is 40.0%\n",
      "For jitter variance 70.9141274238227 pixels, accuracy is 45.0%\n",
      "For jitter variance 89.75069252077562 pixels, accuracy is 40.0%\n",
      "For jitter variance 110.80332409972297 pixels, accuracy is 35.0%\n",
      "For jitter variance 134.0720221606648 pixels, accuracy is 40.0%\n",
      "For jitter variance 159.55678670360112 pixels, accuracy is 40.0%\n",
      "For jitter variance 187.25761772853184 pixels, accuracy is 35.0%\n",
      "For jitter variance 217.17451523545705 pixels, accuracy is 40.0%\n",
      "For jitter variance 249.30747922437672 pixels, accuracy is 45.0%\n",
      "For jitter variance 283.6565096952908 pixels, accuracy is 45.0%\n",
      "[[0.21519785 0.25200108 0.28870473 0.24409634]]\n",
      "For jitter variance 320.22160664819944 pixels, accuracy is 40.0%\n",
      "device -> cuda - num_workers -> 0\n"
     ]
    },
    {
     "name": "stderr",
     "output_type": "stream",
     "text": [
      "100%|█████████████████████████████████████████████████████████████████████████████████████████████████████████████████████████████████████████████████████████████████████████████████████████████████████████████████████████████████████████| 20/20 [00:02<00:00,  6.69it/s]\n"
     ]
    },
    {
     "name": "stdout",
     "output_type": "stream",
     "text": [
      "For jitter variance 359.00277008310246 pixels, accuracy is 40.0%\n"
     ]
    },
    {
     "name": "stderr",
     "output_type": "stream",
     "text": [
      "100%|█████████████████████████████████████████████████████████████████████████████████████████████████████████████████████████████████████████████████████████████████████████████████████████████████████████████████████████████████████████| 20/20 [00:03<00:00,  6.40it/s]\n"
     ]
    },
    {
     "name": "stdout",
     "output_type": "stream",
     "text": [
      "device -> cuda - num_workers -> 0\n"
     ]
    },
    {
     "name": "stderr",
     "output_type": "stream",
     "text": [
      "100%|█████████████████████████████████████████████████████████████████████████████████████████████████████████████████████████████████████████████████████████████████████████████████████████████████████████████████████████████████████████| 20/20 [00:00<00:00, 78.49it/s]\n"
     ]
    },
    {
     "name": "stdout",
     "output_type": "stream",
     "text": [
      "For jitter variance 400.0 pixels, accuracy is 40.0%\n"
     ]
    },
    {
     "name": "stderr",
     "output_type": "stream",
     "text": [
      "100%|█████████████████████████████████████████████████████████████████████████████████████████████████████████████████████████████████████████████████████████████████████████████████████████████████████████████████████████████████████████| 20/20 [00:14<00:00,  1.42it/s]\n"
     ]
    },
    {
     "name": "stdout",
     "output_type": "stream",
     "text": [
      "device -> cuda - num_workers -> 0\n"
     ]
    },
    {
     "name": "stderr",
     "output_type": "stream",
     "text": [
      "100%|█████████████████████████████████████████████████████████████████████████████████████████████████████████████████████████████████████████████████████████████████████████████████████████████████████████████████████████████████████████| 20/20 [00:09<00:00,  2.16it/s]\n"
     ]
    },
    {
     "name": "stdout",
     "output_type": "stream",
     "text": [
      "For jitter variance 0.0 pixels, accuracy is 100.0%\n"
     ]
    },
    {
     "name": "stderr",
     "output_type": "stream",
     "text": [
      " 20%|██████████████████████████████████████████████▊                                                                                                                                                                                           | 4/20 [00:02<00:09,  1.64it/s]"
     ]
    }
   ],
   "source": [
    "import numpy as np\n",
    "\n",
    "std_jit_s = np.linspace(0,20,20)\n",
    "std_jit_t = np.logspace(2.7,4.2,20)\n",
    "var_jit_s = std_jit_s**2\n",
    "nb_trials = 10\n",
    "\n",
    "score_spatial = []\n",
    "score_temporal = []\n",
    "\n",
    "torch.set_default_tensor_type(\"torch.DoubleTensor\")\n",
    "\n",
    "for trial in range(nb_trials):\n",
    "    for spatial_jitter in var_jit_s:\n",
    "        if spatial_jitter==0:\n",
    "            jitter = (None,None)\n",
    "        else:\n",
    "            jitter = (spatial_jitter,None)\n",
    "        test_path = f'../Records/output/test/{initial_name}_{trial}_{num_sample_test}_{jitter}/'\n",
    "        results_path = f'../Records/LR_results/{initial_name}_{trial}_{tau_cla}_{learning_rate}_{betas}_{num_epochs}_{jitter}.pkl'\n",
    "        hots.name = initial_name+f'_{trial}'\n",
    "        \n",
    "        spatial_jitter_transform = tonic.transforms.SpatialJitter(sensor_size = trainset.sensor_size, variance_x = spatial_jitter, variance_y = spatial_jitter, clip_outliers = True)\n",
    "        spatial_jitter_transform_full = tonic.transforms.Compose([spatial_jitter_transform, type_transform])\n",
    "        testset = tonic.datasets.POKERDVS(save_to='../../Data/', train=False, transform=spatial_jitter_transform_full)\n",
    "        loader = get_loader(testset)\n",
    "        hots.coding(loader, testset.ordering, testset.classes, filtering_threshold, training=False, jitter = jitter, verbose=False)\n",
    "        \n",
    "        testset_output = HOTS_Dataset(test_path, trainset.sensor_size, dtype=trainset.dtype, transform=type_transform)\n",
    "        testloader = get_loader(testset_output)\n",
    "        \n",
    "        likelihood, true_target, timestamps = predict_mlr(classif_layer,tau_cla,testloader,results_path,ts_size,testset_output.ordering)\n",
    "        meanac, onlinac, lastac, _, _ = score_classif_events(likelihood, true_target, verbose=False)\n",
    "        print(f'For jitter variance {spatial_jitter} pixels, accuracy is {lastac*100}%')"
   ]
  },
  {
   "cell_type": "code",
   "execution_count": null,
   "id": "5a400292-c507-43de-b965-29a65a741ed0",
   "metadata": {},
   "outputs": [],
   "source": [
    "print(len([]))"
   ]
  },
  {
   "cell_type": "code",
   "execution_count": null,
   "id": "762e66bc-f0f9-41a1-b72d-d423e356bab0",
   "metadata": {},
   "outputs": [],
   "source": []
  },
  {
   "cell_type": "code",
   "execution_count": null,
   "id": "1cecd17e-6539-4292-9c9c-63db9bf93c6a",
   "metadata": {},
   "outputs": [],
   "source": []
  }
 ],
 "metadata": {
  "kernelspec": {
   "display_name": "Python 3 (ipykernel)",
   "language": "python",
   "name": "python3"
  },
  "language_info": {
   "codemirror_mode": {
    "name": "ipython",
    "version": 3
   },
   "file_extension": ".py",
   "mimetype": "text/x-python",
   "name": "python",
   "nbconvert_exporter": "python",
   "pygments_lexer": "ipython3",
   "version": "3.8.10"
  }
 },
 "nbformat": 4,
 "nbformat_minor": 5
}
