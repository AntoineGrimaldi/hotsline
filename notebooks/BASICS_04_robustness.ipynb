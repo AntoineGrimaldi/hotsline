{
 "cells": [
  {
   "cell_type": "markdown",
   "id": "146e9eb1-7f15-4122-a866-cd3061b73da0",
   "metadata": {},
   "source": [
    "# BASICS 03 - HOTS with online classification (Grimaldi et al. 2022)"
   ]
  },
  {
   "cell_type": "code",
   "execution_count": 1,
   "id": "98a75ff8-780a-400b-9925-515f4a2274cf",
   "metadata": {},
   "outputs": [],
   "source": [
    "%load_ext autoreload\n",
    "%autoreload 2"
   ]
  },
  {
   "cell_type": "code",
   "execution_count": 2,
   "id": "e6346880-ad3c-4a2c-a39a-1a8842c3ac3d",
   "metadata": {},
   "outputs": [
    {
     "name": "stdout",
     "output_type": "stream",
     "text": [
      "/home/antoine/homhots/hotsline/hots\n",
      "Tonic version installed -> 1.0.19\n",
      "Number of GPU devices available: 1\n",
      "GPU 1 named GeForce RTX 2080 Ti\n"
     ]
    }
   ],
   "source": [
    "%cd ../hots\n",
    "import tonic, torch, os, pickle\n",
    "from tqdm import tqdm\n",
    "from network import network\n",
    "from layer import mlrlayer\n",
    "from timesurface import timesurface\n",
    "from utils import get_loader, make_histogram_classification, HOTS_Dataset, fit_mlr, predict_mlr, score_classif_events\n",
    "\n",
    "print(f'Tonic version installed -> {tonic.__version__}')\n",
    "\n",
    "print(f'Number of GPU devices available: {torch.cuda.device_count()}')\n",
    "for N_gpu in range(torch.cuda.device_count()):\n",
    "    print(f'GPU {N_gpu+1} named {torch.cuda.get_device_name(N_gpu)}')"
   ]
  },
  {
   "cell_type": "markdown",
   "id": "6ae45cc7-c96c-4c5f-8b9b-efa613afd9b3",
   "metadata": {},
   "source": [
    "## Loading of the dataset for the clustering phase"
   ]
  },
  {
   "cell_type": "code",
   "execution_count": 3,
   "id": "fe228881-0acd-422e-9376-966d47b0425b",
   "metadata": {},
   "outputs": [
    {
     "name": "stdout",
     "output_type": "stream",
     "text": [
      "number of samples in the training set: 48\n"
     ]
    }
   ],
   "source": [
    "type_transform = tonic.transforms.NumpyAsType(int)\n",
    "trainset = tonic.datasets.POKERDVS(save_to='../../Data/', train=True, transform=type_transform)\n",
    "testset = tonic.datasets.POKERDVS(save_to='../../Data/', train=False, transform=type_transform)\n",
    "loader = get_loader(trainset)\n",
    "num_sample_train = len(loader)\n",
    "num_sample_test = len(testset)\n",
    "print(f'number of samples in the training set: {len(loader)}')"
   ]
  },
  {
   "cell_type": "markdown",
   "id": "5ce771bc-ad2d-45c4-ba80-0a28862f07fe",
   "metadata": {},
   "source": [
    "## Initialization of the network"
   ]
  },
  {
   "cell_type": "code",
   "execution_count": 4,
   "id": "1caf366e-fc63-4030-868b-a57babe598de",
   "metadata": {},
   "outputs": [
    {
     "name": "stdout",
     "output_type": "stream",
     "text": [
      "device -> cuda\n"
     ]
    }
   ],
   "source": [
    "name = 'homeohots'\n",
    "homeo = True\n",
    "timestr = '2022-04-27'\n",
    "dataset_name = 'poker'\n",
    "\n",
    "Rz = [2, 4]\n",
    "N_neuronz = [8, 16]\n",
    "tauz = [1e3, 4e3]\n",
    "\n",
    "hots = network(name, dataset_name, timestr, trainset.sensor_size, nb_neurons = N_neuronz, tau = tauz, R = Rz, homeo = homeo)\n",
    "\n",
    "initial_name = hots.name"
   ]
  },
  {
   "cell_type": "markdown",
   "id": "804365ce-3c09-40a8-90ad-f2471961b169",
   "metadata": {},
   "source": [
    "## Unsupervised clustering"
   ]
  },
  {
   "cell_type": "code",
   "execution_count": 5,
   "id": "7064b789-7876-4611-8d34-3a5a4d62e888",
   "metadata": {},
   "outputs": [],
   "source": [
    "if not os.path.exists('../Records/'):\n",
    "    os.mkdir('../Records/')\n",
    "    os.mkdir('../Records/networks/')\n",
    "filtering_threshold = [2*Rz[L] for L in range(len(Rz))]\n",
    "path = '../Records/networks/'+hots.name+'.pkl'\n",
    "if not os.path.exists(path):\n",
    "    hots.clustering(loader, trainset.ordering, filtering_threshold, record = True)"
   ]
  },
  {
   "cell_type": "markdown",
   "id": "9f0361ae-8651-4ca6-95db-d3161988f90c",
   "metadata": {},
   "source": [
    "## Training of the classification layer"
   ]
  },
  {
   "cell_type": "code",
   "execution_count": 6,
   "id": "e0a911b9-b781-4e79-a4f9-494dd90615ad",
   "metadata": {},
   "outputs": [],
   "source": [
    "jitter = (None, None)\n",
    "num_workers = 0\n",
    "learning_rate = 0.005\n",
    "beta1, beta2 = 0.9, 0.999\n",
    "betas = (beta1, beta2)\n",
    "num_epochs = 2 ** 5 + 1\n",
    "N_output_neurons = N_neuronz[-1]\n",
    "ts_size = (trainset.sensor_size[0],trainset.sensor_size[1],N_output_neurons)\n",
    "tau_cla = 2e4\n",
    "\n",
    "train_path = f'../Records/output/train/{hots.name}_{num_sample_train}_{jitter}/'\n",
    "model_path = f'../Records/networks/{hots.name}_{tau_cla}_{learning_rate}_{betas}_{num_epochs}_{jitter}.pkl'\n",
    "\n",
    "trainset_output = HOTS_Dataset(train_path, trainset.sensor_size, dtype=trainset.dtype, transform=type_transform)\n",
    "trainloader = get_loader(trainset_output)\n",
    "classif_layer, losses = fit_mlr(trainloader, model_path, tau_cla, learning_rate, betas, num_epochs, ts_size, trainset.ordering, len(trainset.classes))"
   ]
  },
  {
   "cell_type": "code",
   "execution_count": 9,
   "id": "e5ef8e13-bdc0-4dfd-93be-ce2594d01a99",
   "metadata": {},
   "outputs": [
    {
     "name": "stderr",
     "output_type": "stream",
     "text": [
      "  0%|                                                                                                                                                                                                                                                  | 0/10 [00:00<?, ?it/s]/home/antoine/homhots/hotsline/hots/utils.py:375: RuntimeWarning: Mean of empty slice\n",
      "  meanac = np.nanmean(matscor)\n",
      "/home/antoine/homhots/hotsline/hots/utils.py:375: RuntimeWarning: Mean of empty slice\n",
      "  meanac = np.nanmean(matscor)\n",
      "/home/antoine/homhots/hotsline/hots/utils.py:375: RuntimeWarning: Mean of empty slice\n",
      "  meanac = np.nanmean(matscor)\n",
      " 10%|███████████████████████▍                                                                                                                                                                                                                  | 1/10 [00:04<00:43,  4.89s/it]/home/antoine/homhots/hotsline/hots/utils.py:375: RuntimeWarning: Mean of empty slice\n",
      "  meanac = np.nanmean(matscor)\n",
      "/home/antoine/homhots/hotsline/hots/utils.py:375: RuntimeWarning: Mean of empty slice\n",
      "  meanac = np.nanmean(matscor)\n",
      "/home/antoine/homhots/hotsline/hots/utils.py:375: RuntimeWarning: Mean of empty slice\n",
      "  meanac = np.nanmean(matscor)\n",
      "/home/antoine/homhots/hotsline/hots/utils.py:375: RuntimeWarning: Mean of empty slice\n",
      "  meanac = np.nanmean(matscor)\n",
      "/home/antoine/homhots/hotsline/hots/utils.py:375: RuntimeWarning: Mean of empty slice\n",
      "  meanac = np.nanmean(matscor)\n",
      "/home/antoine/homhots/hotsline/hots/utils.py:375: RuntimeWarning: Mean of empty slice\n",
      "  meanac = np.nanmean(matscor)\n",
      " 20%|██████████████████████████████████████████████▊                                                                                                                                                                                           | 2/10 [00:07<00:26,  3.30s/it]/home/antoine/homhots/hotsline/hots/utils.py:375: RuntimeWarning: Mean of empty slice\n",
      "  meanac = np.nanmean(matscor)\n",
      "/home/antoine/homhots/hotsline/hots/utils.py:375: RuntimeWarning: Mean of empty slice\n",
      "  meanac = np.nanmean(matscor)\n",
      "/home/antoine/homhots/hotsline/hots/utils.py:375: RuntimeWarning: Mean of empty slice\n",
      "  meanac = np.nanmean(matscor)\n",
      " 30%|██████████████████████████████████████████████████████████████████████▏                                                                                                                                                                   | 3/10 [00:09<00:19,  2.80s/it]/home/antoine/homhots/hotsline/hots/utils.py:375: RuntimeWarning: Mean of empty slice\n",
      "  meanac = np.nanmean(matscor)\n",
      "/home/antoine/homhots/hotsline/hots/utils.py:375: RuntimeWarning: Mean of empty slice\n",
      "  meanac = np.nanmean(matscor)\n",
      "/home/antoine/homhots/hotsline/hots/utils.py:375: RuntimeWarning: Mean of empty slice\n",
      "  meanac = np.nanmean(matscor)\n",
      " 40%|█████████████████████████████████████████████████████████████████████████████████████████████▌                                                                                                                                            | 4/10 [00:11<00:15,  2.56s/it]/home/antoine/homhots/hotsline/hots/utils.py:375: RuntimeWarning: Mean of empty slice\n",
      "  meanac = np.nanmean(matscor)\n",
      "/home/antoine/homhots/hotsline/hots/utils.py:375: RuntimeWarning: Mean of empty slice\n",
      "  meanac = np.nanmean(matscor)\n",
      "/home/antoine/homhots/hotsline/hots/utils.py:375: RuntimeWarning: Mean of empty slice\n",
      "  meanac = np.nanmean(matscor)\n",
      "/home/antoine/homhots/hotsline/hots/utils.py:375: RuntimeWarning: Mean of empty slice\n",
      "  meanac = np.nanmean(matscor)\n",
      "/home/antoine/homhots/hotsline/hots/utils.py:375: RuntimeWarning: Mean of empty slice\n",
      "  meanac = np.nanmean(matscor)\n",
      " 50%|█████████████████████████████████████████████████████████████████████████████████████████████████████████████████████                                                                                                                     | 5/10 [00:13<00:12,  2.43s/it]/home/antoine/homhots/hotsline/hots/utils.py:375: RuntimeWarning: Mean of empty slice\n",
      "  meanac = np.nanmean(matscor)\n",
      "/home/antoine/homhots/hotsline/hots/utils.py:375: RuntimeWarning: Mean of empty slice\n",
      "  meanac = np.nanmean(matscor)\n",
      "/home/antoine/homhots/hotsline/hots/utils.py:375: RuntimeWarning: Mean of empty slice\n",
      "  meanac = np.nanmean(matscor)\n",
      "/home/antoine/homhots/hotsline/hots/utils.py:375: RuntimeWarning: Mean of empty slice\n",
      "  meanac = np.nanmean(matscor)\n",
      " 60%|████████████████████████████████████████████████████████████████████████████████████████████████████████████████████████████████████████████▍                                                                                             | 6/10 [00:15<00:09,  2.36s/it]/home/antoine/homhots/hotsline/hots/utils.py:375: RuntimeWarning: Mean of empty slice\n",
      "  meanac = np.nanmean(matscor)\n",
      "/home/antoine/homhots/hotsline/hots/utils.py:375: RuntimeWarning: Mean of empty slice\n",
      "  meanac = np.nanmean(matscor)\n",
      "/home/antoine/homhots/hotsline/hots/utils.py:375: RuntimeWarning: Mean of empty slice\n",
      "  meanac = np.nanmean(matscor)\n",
      "/home/antoine/homhots/hotsline/hots/utils.py:375: RuntimeWarning: Mean of empty slice\n",
      "  meanac = np.nanmean(matscor)\n",
      " 70%|███████████████████████████████████████████████████████████████████████████████████████████████████████████████████████████████████████████████████████████████████▊                                                                      | 7/10 [00:18<00:06,  2.31s/it]/home/antoine/homhots/hotsline/hots/utils.py:375: RuntimeWarning: Mean of empty slice\n",
      "  meanac = np.nanmean(matscor)\n",
      "/home/antoine/homhots/hotsline/hots/utils.py:375: RuntimeWarning: Mean of empty slice\n",
      "  meanac = np.nanmean(matscor)\n",
      "/home/antoine/homhots/hotsline/hots/utils.py:375: RuntimeWarning: Mean of empty slice\n",
      "  meanac = np.nanmean(matscor)\n",
      " 80%|███████████████████████████████████████████████████████████████████████████████████████████████████████████████████████████████████████████████████████████████████████████████████████████▏                                              | 8/10 [00:20<00:04,  2.28s/it]/home/antoine/homhots/hotsline/hots/utils.py:375: RuntimeWarning: Mean of empty slice\n",
      "  meanac = np.nanmean(matscor)\n",
      "/home/antoine/homhots/hotsline/hots/utils.py:375: RuntimeWarning: Mean of empty slice\n",
      "  meanac = np.nanmean(matscor)\n",
      "/home/antoine/homhots/hotsline/hots/utils.py:375: RuntimeWarning: Mean of empty slice\n",
      "  meanac = np.nanmean(matscor)\n",
      "/home/antoine/homhots/hotsline/hots/utils.py:375: RuntimeWarning: Mean of empty slice\n",
      "  meanac = np.nanmean(matscor)\n",
      " 90%|██████████████████████████████████████████████████████████████████████████████████████████████████████████████████████████████████████████████████████████████████████████████████████████████████████████████████▌                       | 9/10 [00:22<00:02,  2.25s/it]/home/antoine/homhots/hotsline/hots/utils.py:375: RuntimeWarning: Mean of empty slice\n",
      "  meanac = np.nanmean(matscor)\n",
      "/home/antoine/homhots/hotsline/hots/utils.py:375: RuntimeWarning: Mean of empty slice\n",
      "  meanac = np.nanmean(matscor)\n",
      "/home/antoine/homhots/hotsline/hots/utils.py:375: RuntimeWarning: Mean of empty slice\n",
      "  meanac = np.nanmean(matscor)\n",
      "100%|█████████████████████████████████████████████████████████████████████████████████████████████████████████████████████████████████████████████████████████████████████████████████████████████████████████████████████████████████████████| 10/10 [00:24<00:00,  2.47s/it]\n"
     ]
    }
   ],
   "source": [
    "import numpy as np\n",
    "from tqdm import tqdm\n",
    "\n",
    "nb_trials = 10\n",
    "n_classes = len(testset.classes)\n",
    "\n",
    "std_jit_s = np.logspace(0,2,20)\n",
    "var_jit_s = std_jit_s**2\n",
    "scores_jit_s = np.zeros([nb_trials, len(var_jit_s)])\n",
    "scores_jit_s_histo = np.zeros([nb_trials, len(var_jit_s)])\n",
    "\n",
    "torch.set_default_tensor_type(\"torch.DoubleTensor\")\n",
    "\n",
    "for trial in tqdm(range(nb_trials)):\n",
    "    for ind_jit, spatial_jitter in enumerate(var_jit_s):\n",
    "        if spatial_jitter==0:\n",
    "            jitter = (None,None)\n",
    "        else:\n",
    "            jitter = (spatial_jitter,None)\n",
    "        test_path = f'../Records/output/test/{initial_name}_{trial}_{num_sample_test}_{jitter}/'\n",
    "        results_path = f'../Records/LR_results/{initial_name}_{trial}_{tau_cla}_{learning_rate}_{betas}_{num_epochs}_{jitter}.pkl'\n",
    "        hots.name = initial_name+f'_{trial}'\n",
    "        \n",
    "        spatial_jitter_transform = tonic.transforms.SpatialJitter(sensor_size = trainset.sensor_size, variance_x = spatial_jitter, variance_y = spatial_jitter, clip_outliers = True)\n",
    "        spatial_jitter_transform_full = tonic.transforms.Compose([spatial_jitter_transform, type_transform])\n",
    "        testset = tonic.datasets.POKERDVS(save_to='../../Data/', train=False, transform=spatial_jitter_transform_full)\n",
    "        loader = get_loader(testset)\n",
    "        hots.coding(loader, testset.ordering, testset.classes, filtering_threshold, training=False, jitter = jitter, verbose=False)\n",
    "        \n",
    "        testset_output = HOTS_Dataset(test_path, trainset.sensor_size, dtype=trainset.dtype, transform=type_transform)\n",
    "        testloader = get_loader(testset_output)\n",
    "        \n",
    "        likelihood, true_target, timestamps = predict_mlr(classif_layer,tau_cla,testloader,results_path,ts_size,testset_output.ordering)\n",
    "        meanac, onlinac, lastac, _, _ = score_classif_events(likelihood, true_target, n_classes, verbose=False)\n",
    "        \n",
    "        scores_jit_s_histo[trial,ind_jit] = make_histogram_classification(trainset_output, testset_output, N_neuronz[-1])\n",
    "        scores_jit_s[trial,ind_jit] = lastac\n",
    "        \n",
    "        #print(f'For jitter variance {spatial_jitter} pixels, accuracy is {lastac*100}%')"
   ]
  },
  {
   "cell_type": "code",
   "execution_count": null,
   "id": "1cecd17e-6539-4292-9c9c-63db9bf93c6a",
   "metadata": {},
   "outputs": [],
   "source": [
    "std_jit_t = np.logspace(2.5,5.5,20)\n",
    "scores_jit_t = np.zeros([nb_trials, len(std_jit_t)])\n",
    "\n",
    "torch.set_default_tensor_type(\"torch.DoubleTensor\")\n",
    "\n",
    "for trial in range(nb_trials):\n",
    "    for ind_jit, temporal_jitter in enumerate(std_jit_t):\n",
    "        if temporal_jitter==0:\n",
    "            jitter = (None,None)\n",
    "        else:\n",
    "            jitter = (None,temporal_jitter)\n",
    "        test_path = f'../Records/output/test/{initial_name}_{trial}_{num_sample_test}_{jitter}/'\n",
    "        results_path = f'../Records/LR_results/{initial_name}_{trial}_{tau_cla}_{learning_rate}_{betas}_{num_epochs}_{jitter}.pkl'\n",
    "        hots.name = initial_name+f'_{trial}'\n",
    "        \n",
    "        tonic.transforms.TimeJitter(std = temporal_jitter, clip_negative = True, sort_timestamps = True)\n",
    "        temporal_jitter_transform = tonic.transforms.TimeJitter(std = temporal_jitter, clip_negative = True, sort_timestamps = True)\n",
    "        temporal_jitter_transform_full = tonic.transforms.Compose([temporal_jitter_transform, type_transform])\n",
    "        testset = tonic.datasets.POKERDVS(save_to='../../Data/', train=False, transform=temporal_jitter_transform_full)\n",
    "        loader = get_loader(testset)\n",
    "        hots.coding(loader, testset.ordering, testset.classes, filtering_threshold, training=False, jitter = jitter, verbose=False)\n",
    "        \n",
    "        testset_output = HOTS_Dataset(test_path, trainset.sensor_size, dtype=trainset.dtype, transform=type_transform)\n",
    "        testloader = get_loader(testset_output)\n",
    "        \n",
    "        likelihood, true_target, timestamps = predict_mlr(classif_layer,tau_cla,testloader,results_path,ts_size,testset_output.ordering)\n",
    "        meanac, onlinac, lastac, _, _ = score_classif_events(likelihood, true_target, verbose=False)\n",
    "        \n",
    "        scores_jit_t[trial,ind_jit] = lastac\n",
    "        print(f'For jitter standard deviation {temporal_jitter} microsec, accuracy is {lastac*100}%')"
   ]
  },
  {
   "cell_type": "code",
   "execution_count": 11,
   "id": "21e75e93-2ed7-4376-a7a1-b91d688b470c",
   "metadata": {},
   "outputs": [
    {
     "ename": "NameError",
     "evalue": "name 'std_jit_t' is not defined",
     "output_type": "error",
     "traceback": [
      "\u001b[0;31m---------------------------------------------------------------------------\u001b[0m",
      "\u001b[0;31mNameError\u001b[0m                                 Traceback (most recent call last)",
      "Input \u001b[0;32mIn [11]\u001b[0m, in \u001b[0;36m<module>\u001b[0;34m\u001b[0m\n\u001b[1;32m      1\u001b[0m \u001b[38;5;28;01mimport\u001b[39;00m \u001b[38;5;21;01mmatplotlib\u001b[39;00m\u001b[38;5;21;01m.\u001b[39;00m\u001b[38;5;21;01mpyplot\u001b[39;00m \u001b[38;5;28;01mas\u001b[39;00m \u001b[38;5;21;01mplt\u001b[39;00m\n\u001b[0;32m----> 2\u001b[0m plt\u001b[38;5;241m.\u001b[39msemilogx(np\u001b[38;5;241m.\u001b[39mhstack([np\u001b[38;5;241m.\u001b[39marray([\u001b[38;5;241m0\u001b[39m]),\u001b[43mstd_jit_t\u001b[49m]), np\u001b[38;5;241m.\u001b[39mhstack([np\u001b[38;5;241m.\u001b[39marray([\u001b[38;5;241m1\u001b[39m]),scores_jit_t\u001b[38;5;241m.\u001b[39mmean(axis\u001b[38;5;241m=\u001b[39m\u001b[38;5;241m0\u001b[39m)]), \u001b[38;5;124m'\u001b[39m\u001b[38;5;124mo\u001b[39m\u001b[38;5;124m'\u001b[39m)\n",
      "\u001b[0;31mNameError\u001b[0m: name 'std_jit_t' is not defined"
     ]
    }
   ],
   "source": [
    "import matplotlib.pyplot as plt\n",
    "plt.semilogx(np.hstack([np.array([0]),std_jit_t]), np.hstack([np.array([1]),scores_jit_t.mean(axis=0)]), 'o')"
   ]
  },
  {
   "cell_type": "code",
   "execution_count": 12,
   "id": "162b044c-f450-4182-a692-aba6bc0aad48",
   "metadata": {},
   "outputs": [
    {
     "data": {
      "text/plain": [
       "[<matplotlib.lines.Line2D at 0x7f8d107d1700>]"
      ]
     },
     "execution_count": 12,
     "metadata": {},
     "output_type": "execute_result"
    },
    {
     "data": {
      "image/png": "[encoded data removed]",
      "text/plain": [
       "<Figure size 432x288 with 1 Axes>"
      ]
     },
     "metadata": {
      "needs_background": "light"
     },
     "output_type": "display_data"
    }
   ],
   "source": [
    "plt.semilogx(std_jit_s, scores_jit_s.mean(axis=0), 'o')\n",
    "plt.semilogx(std_jit_s, scores_jit_s_histo.mean(axis=0), 'o')"
   ]
  },
  {
   "cell_type": "code",
   "execution_count": null,
   "id": "cc0abba5-575e-44db-ae94-5da17ab470e6",
   "metadata": {},
   "outputs": [],
   "source": []
  }
 ],
 "metadata": {
  "kernelspec": {
   "display_name": "Python 3 (ipykernel)",
   "language": "python",
   "name": "python3"
  },
  "language_info": {
   "codemirror_mode": {
    "name": "ipython",
    "version": 3
   },
   "file_extension": ".py",
   "mimetype": "text/x-python",
   "name": "python",
   "nbconvert_exporter": "python",
   "pygments_lexer": "ipython3",
   "version": "3.8.10"
  }
 },
 "nbformat": 4,
 "nbformat_minor": 5
}
