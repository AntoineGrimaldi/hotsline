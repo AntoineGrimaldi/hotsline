{
 "cells": [
  {
   "cell_type": "markdown",
   "id": "146e9eb1-7f15-4122-a866-cd3061b73da0",
   "metadata": {},
   "source": [
    "# BASICS 03 - HOTS with online classification (Grimaldi et al. 2022)"
   ]
  },
  {
   "cell_type": "code",
   "execution_count": 1,
   "id": "98a75ff8-780a-400b-9925-515f4a2274cf",
   "metadata": {},
   "outputs": [],
   "source": [
    "%load_ext autoreload\n",
    "%autoreload 2"
   ]
  },
  {
   "cell_type": "code",
   "execution_count": 2,
   "id": "e6346880-ad3c-4a2c-a39a-1a8842c3ac3d",
   "metadata": {},
   "outputs": [
    {
     "name": "stdout",
     "output_type": "stream",
     "text": [
      "/home/antoine/homhots/hotsline/hots\n",
      "Tonic version installed -> 1.0.19\n",
      "Number of GPU devices available: 1\n",
      "GPU 1 named GeForce RTX 2080 Ti\n"
     ]
    }
   ],
   "source": [
    "%cd ../hots\n",
    "import tonic, torch, os, pickle\n",
    "from tqdm.notebook import tqdm\n",
    "from hots.network import network\n",
    "from hots.layer import mlrlayer\n",
    "from hots.timesurface import timesurface\n",
    "from hots.utils import get_loader, make_histogram_classification, HOTS_Dataset, fit_mlr, predict_mlr, score_classif_events, plotjitter, printfig\n",
    "import matplotlib.pyplot as plt\n",
    "\n",
    "print(f'Tonic version installed -> {tonic.__version__}')\n",
    "\n",
    "print(f'Number of GPU devices available: {torch.cuda.device_count()}')\n",
    "for N_gpu in range(torch.cuda.device_count()):\n",
    "    print(f'GPU {N_gpu+1} named {torch.cuda.get_device_name(N_gpu)}')"
   ]
  },
  {
   "cell_type": "markdown",
   "id": "6ae45cc7-c96c-4c5f-8b9b-efa613afd9b3",
   "metadata": {},
   "source": [
    "## Loading of the dataset for the clustering phase"
   ]
  },
  {
   "cell_type": "code",
   "execution_count": 3,
   "id": "fe228881-0acd-422e-9376-966d47b0425b",
   "metadata": {},
   "outputs": [
    {
     "name": "stdout",
     "output_type": "stream",
     "text": [
      "number of samples in the training set: 48\n"
     ]
    }
   ],
   "source": [
    "type_transform = tonic.transforms.NumpyAsType(int)\n",
    "trainset = tonic.datasets.POKERDVS(save_to='../../Data/', train=True, transform=type_transform)\n",
    "testset = tonic.datasets.POKERDVS(save_to='../../Data/', train=False, transform=type_transform)\n",
    "loader = get_loader(trainset)\n",
    "num_sample_train = len(loader)\n",
    "num_sample_test = len(testset)\n",
    "print(f'number of samples in the training set: {len(loader)}')"
   ]
  },
  {
   "cell_type": "markdown",
   "id": "5ce771bc-ad2d-45c4-ba80-0a28862f07fe",
   "metadata": {},
   "source": [
    "## Initialization of the network"
   ]
  },
  {
   "cell_type": "code",
   "execution_count": 4,
   "id": "1caf366e-fc63-4030-868b-a57babe598de",
   "metadata": {},
   "outputs": [
    {
     "name": "stdout",
     "output_type": "stream",
     "text": [
      "device -> cuda\n",
      "device -> cuda\n"
     ]
    }
   ],
   "source": [
    "name = 'homeohots'\n",
    "homeo = True\n",
    "#timestr = '2022-04-27'\n",
    "timestr = '2022-05-18'\n",
    "dataset_name = 'poker'\n",
    "\n",
    "Rz = [2, 4]\n",
    "N_neuronz = [8, 16]\n",
    "tauz = [1e3, 4e3]\n",
    "\n",
    "hots = network(name, dataset_name, timestr, trainset.sensor_size, nb_neurons = N_neuronz, tau = tauz, R = Rz, homeo = homeo)\n",
    "\n",
    "initial_name = hots.name\n",
    "\n",
    "name_nohomeo = 'hots'\n",
    "hots_nohomeo = network(name, dataset_name, timestr, trainset.sensor_size, nb_neurons = N_neuronz, tau = tauz, R = Rz, homeo = False)\n",
    "\n",
    "initial_name_nohomeo = hots_nohomeo.name"
   ]
  },
  {
   "cell_type": "markdown",
   "id": "804365ce-3c09-40a8-90ad-f2471961b169",
   "metadata": {},
   "source": [
    "## Unsupervised clustering"
   ]
  },
  {
   "cell_type": "code",
   "execution_count": 5,
   "id": "7064b789-7876-4611-8d34-3a5a4d62e888",
   "metadata": {},
   "outputs": [
    {
     "name": "stderr",
     "output_type": "stream",
     "text": [
      "  2%|███                                                                                                                                              | 1/48 [00:07<05:46,  7.38s/it]\n"
     ]
    },
    {
     "ename": "KeyboardInterrupt",
     "evalue": "",
     "output_type": "error",
     "traceback": [
      "\u001b[0;31m---------------------------------------------------------------------------\u001b[0m",
      "\u001b[0;31mKeyboardInterrupt\u001b[0m                         Traceback (most recent call last)",
      "Input \u001b[0;32mIn [5]\u001b[0m, in \u001b[0;36m<module>\u001b[0;34m\u001b[0m\n\u001b[1;32m      7\u001b[0m path_nohomeo \u001b[38;5;241m=\u001b[39m \u001b[38;5;124m'\u001b[39m\u001b[38;5;124m../Records/networks/\u001b[39m\u001b[38;5;124m'\u001b[39m\u001b[38;5;241m+\u001b[39mhots_nohomeo\u001b[38;5;241m.\u001b[39mname\u001b[38;5;241m+\u001b[39m\u001b[38;5;124m'\u001b[39m\u001b[38;5;124m.pkl\u001b[39m\u001b[38;5;124m'\u001b[39m\n\u001b[1;32m      8\u001b[0m \u001b[38;5;28;01mif\u001b[39;00m \u001b[38;5;129;01mnot\u001b[39;00m os\u001b[38;5;241m.\u001b[39mpath\u001b[38;5;241m.\u001b[39mexists(path_nohomeo):\n\u001b[0;32m----> 9\u001b[0m     \u001b[43mhots_nohomeo\u001b[49m\u001b[38;5;241;43m.\u001b[39;49m\u001b[43mclustering\u001b[49m\u001b[43m(\u001b[49m\u001b[43mloader\u001b[49m\u001b[43m,\u001b[49m\u001b[43m \u001b[49m\u001b[43mtrainset\u001b[49m\u001b[38;5;241;43m.\u001b[39;49m\u001b[43mordering\u001b[49m\u001b[43m)\u001b[49m\n",
      "File \u001b[0;32m~/homhots/hotsline/hots/network.py:70\u001b[0m, in \u001b[0;36mnetwork.clustering\u001b[0;34m(self, loader, ordering, filtering_threshold, record)\u001b[0m\n\u001b[1;32m     68\u001b[0m \u001b[38;5;28;01mfor\u001b[39;00m L \u001b[38;5;129;01min\u001b[39;00m \u001b[38;5;28mrange\u001b[39m(\u001b[38;5;28mlen\u001b[39m(\u001b[38;5;28mself\u001b[39m\u001b[38;5;241m.\u001b[39mtau)):\n\u001b[1;32m     69\u001b[0m     all_ts, ind_filtered \u001b[38;5;241m=\u001b[39m timesurface(events\u001b[38;5;241m.\u001b[39msqueeze(\u001b[38;5;241m0\u001b[39m), (\u001b[38;5;28mself\u001b[39m\u001b[38;5;241m.\u001b[39msensor_size[\u001b[38;5;241m0\u001b[39m], \u001b[38;5;28mself\u001b[39m\u001b[38;5;241m.\u001b[39msensor_size[\u001b[38;5;241m1\u001b[39m], \u001b[38;5;28mself\u001b[39m\u001b[38;5;241m.\u001b[39mn_pola[L]), ordering, tau \u001b[38;5;241m=\u001b[39m \u001b[38;5;28mself\u001b[39m\u001b[38;5;241m.\u001b[39mtau[L], surface_dimensions\u001b[38;5;241m=\u001b[39m[\u001b[38;5;241m2\u001b[39m\u001b[38;5;241m*\u001b[39m\u001b[38;5;28mself\u001b[39m\u001b[38;5;241m.\u001b[39mR[L]\u001b[38;5;241m+\u001b[39m\u001b[38;5;241m1\u001b[39m,\u001b[38;5;241m2\u001b[39m\u001b[38;5;241m*\u001b[39m\u001b[38;5;28mself\u001b[39m\u001b[38;5;241m.\u001b[39mR[L]\u001b[38;5;241m+\u001b[39m\u001b[38;5;241m1\u001b[39m], filtering_threshold \u001b[38;5;241m=\u001b[39m filtering_threshold[L], device\u001b[38;5;241m=\u001b[39mdevice)\n\u001b[0;32m---> 70\u001b[0m     n_star \u001b[38;5;241m=\u001b[39m \u001b[38;5;28;43mself\u001b[39;49m\u001b[38;5;241;43m.\u001b[39;49m\u001b[43mlayers\u001b[49m\u001b[43m[\u001b[49m\u001b[43mL\u001b[49m\u001b[43m]\u001b[49m\u001b[43m(\u001b[49m\u001b[43mall_ts\u001b[49m\u001b[43m,\u001b[49m\u001b[43m \u001b[49m\u001b[38;5;28;43;01mTrue\u001b[39;49;00m\u001b[43m)\u001b[49m\n\u001b[1;32m     71\u001b[0m     \u001b[38;5;28;01mif\u001b[39;00m ind_filtered \u001b[38;5;129;01mis\u001b[39;00m \u001b[38;5;129;01mnot\u001b[39;00m \u001b[38;5;28;01mNone\u001b[39;00m:\n\u001b[1;32m     72\u001b[0m         events \u001b[38;5;241m=\u001b[39m events[:,ind_filtered,:]\n",
      "File \u001b[0;32m~/.local/lib/python3.8/site-packages/torch/nn/modules/module.py:1110\u001b[0m, in \u001b[0;36mModule._call_impl\u001b[0;34m(self, *input, **kwargs)\u001b[0m\n\u001b[1;32m   1106\u001b[0m \u001b[38;5;66;03m# If we don't have any hooks, we want to skip the rest of the logic in\u001b[39;00m\n\u001b[1;32m   1107\u001b[0m \u001b[38;5;66;03m# this function, and just call forward.\u001b[39;00m\n\u001b[1;32m   1108\u001b[0m \u001b[38;5;28;01mif\u001b[39;00m \u001b[38;5;129;01mnot\u001b[39;00m (\u001b[38;5;28mself\u001b[39m\u001b[38;5;241m.\u001b[39m_backward_hooks \u001b[38;5;129;01mor\u001b[39;00m \u001b[38;5;28mself\u001b[39m\u001b[38;5;241m.\u001b[39m_forward_hooks \u001b[38;5;129;01mor\u001b[39;00m \u001b[38;5;28mself\u001b[39m\u001b[38;5;241m.\u001b[39m_forward_pre_hooks \u001b[38;5;129;01mor\u001b[39;00m _global_backward_hooks\n\u001b[1;32m   1109\u001b[0m         \u001b[38;5;129;01mor\u001b[39;00m _global_forward_hooks \u001b[38;5;129;01mor\u001b[39;00m _global_forward_pre_hooks):\n\u001b[0;32m-> 1110\u001b[0m     \u001b[38;5;28;01mreturn\u001b[39;00m \u001b[43mforward_call\u001b[49m\u001b[43m(\u001b[49m\u001b[38;5;241;43m*\u001b[39;49m\u001b[38;5;28;43minput\u001b[39;49m\u001b[43m,\u001b[49m\u001b[43m \u001b[49m\u001b[38;5;241;43m*\u001b[39;49m\u001b[38;5;241;43m*\u001b[39;49m\u001b[43mkwargs\u001b[49m\u001b[43m)\u001b[49m\n\u001b[1;32m   1111\u001b[0m \u001b[38;5;66;03m# Do not call functions when jit is used\u001b[39;00m\n\u001b[1;32m   1112\u001b[0m full_backward_hooks, non_full_backward_hooks \u001b[38;5;241m=\u001b[39m [], []\n",
      "File \u001b[0;32m~/homhots/hotsline/hots/layer.py:31\u001b[0m, in \u001b[0;36mhotslayer.forward\u001b[0;34m(self, all_ts, clustering_flag)\u001b[0m\n\u001b[1;32m     29\u001b[0m Ck \u001b[38;5;241m=\u001b[39m \u001b[38;5;28mself\u001b[39m\u001b[38;5;241m.\u001b[39msynapses\u001b[38;5;241m.\u001b[39mweight\u001b[38;5;241m.\u001b[39mdata[n_star_ev,:]\n\u001b[1;32m     30\u001b[0m alpha \u001b[38;5;241m=\u001b[39m \u001b[38;5;241m0.01\u001b[39m\u001b[38;5;241m/\u001b[39m(\u001b[38;5;241m1\u001b[39m\u001b[38;5;241m+\u001b[39m\u001b[38;5;28mself\u001b[39m\u001b[38;5;241m.\u001b[39mcumhisto[n_star_ev]\u001b[38;5;241m/\u001b[39m\u001b[38;5;241m20000\u001b[39m)\n\u001b[0;32m---> 31\u001b[0m \u001b[38;5;28mself\u001b[39m\u001b[38;5;241m.\u001b[39msynapses\u001b[38;5;241m.\u001b[39mweight\u001b[38;5;241m.\u001b[39mdata[n_star_ev,:] \u001b[38;5;241m=\u001b[39m Ck \u001b[38;5;241m+\u001b[39m alpha\u001b[38;5;241m*\u001b[39mbeta[n_star_ev]\u001b[38;5;241m*\u001b[39m(ts \u001b[38;5;241m-\u001b[39m Ck)\n\u001b[1;32m     32\u001b[0m \u001b[38;5;66;03m# learning rule from Lagorce 2017\u001b[39;00m\n\u001b[1;32m     33\u001b[0m \u001b[38;5;66;03m#self.synapses[:,n_star] = Ck + alpha*(TS - simil[closest_proto_idx]*Ck)\u001b[39;00m\n\u001b[1;32m     34\u001b[0m \u001b[38;5;28mself\u001b[39m\u001b[38;5;241m.\u001b[39mcumhisto[n_star_ev] \u001b[38;5;241m+\u001b[39m\u001b[38;5;241m=\u001b[39m \u001b[38;5;241m1\u001b[39m\n",
      "\u001b[0;31mKeyboardInterrupt\u001b[0m: "
     ]
    }
   ],
   "source": [
    "if not os.path.exists('../Records/'):\n",
    "    os.mkdir('../Records/')\n",
    "    os.mkdir('../Records/networks/')\n",
    "path = '../Records/networks/'+hots.name+'.pkl'\n",
    "if not os.path.exists(path):\n",
    "    hots.clustering(loader, trainset.ordering)\n",
    "path_nohomeo = '../Records/networks/'+hots_nohomeo.name+'.pkl'\n",
    "if not os.path.exists(path_nohomeo):\n",
    "    hots_nohomeo.clustering(loader, trainset.ordering)"
   ]
  },
  {
   "cell_type": "raw",
   "id": "6c567978-28ee-4af6-8f12-828f98857f13",
   "metadata": {},
   "source": [
    "hots.plotlayers();\n",
    "hots_nohomeo.plotlayers();"
   ]
  },
  {
   "cell_type": "markdown",
   "id": "9f0361ae-8651-4ca6-95db-d3161988f90c",
   "metadata": {},
   "source": [
    "## Training of the classification layer"
   ]
  },
  {
   "cell_type": "code",
   "execution_count": null,
   "id": "e0a911b9-b781-4e79-a4f9-494dd90615ad",
   "metadata": {},
   "outputs": [],
   "source": [
    "jitter = (None, None)\n",
    "num_workers = 0\n",
    "learning_rate = 0.005\n",
    "beta1, beta2 = 0.9, 0.999\n",
    "betas = (beta1, beta2)\n",
    "num_epochs = 2 ** 5 + 1\n",
    "N_output_neurons = N_neuronz[-1]\n",
    "ts_size = (trainset.sensor_size[0],trainset.sensor_size[1],N_output_neurons)\n",
    "tau_cla = 2e4\n",
    "\n",
    "train_path = f'../Records/output/train/{hots.name}_{num_sample_train}_{jitter}/'\n",
    "model_path = f'../Records/networks/{hots.name}_{tau_cla}_{learning_rate}_{betas}_{num_epochs}_{jitter}.pkl'\n",
    "\n",
    "hots.coding(loader, trainset.ordering, trainset.classes, training=True)  \n",
    "\n",
    "trainset_output = HOTS_Dataset(train_path, trainset.sensor_size, dtype=trainset.dtype, transform=type_transform)\n",
    "trainloader = get_loader(trainset_output)\n",
    "classif_layer, losses = fit_mlr(trainloader, model_path, tau_cla, learning_rate, betas, num_epochs, ts_size, trainset.ordering, len(trainset.classes))\n",
    "\n",
    "hots_nohomeo.coding(loader, trainset.ordering, trainset.classes, training=True)\n",
    "\n",
    "train_path_nohomeo = f'../Records/output/train/{hots_nohomeo.name}_{num_sample_train}_{jitter}/'\n",
    "model_path_nohomeo = f'../Records/networks/{hots_nohomeo.name}_{tau_cla}_{learning_rate}_{betas}_{num_epochs}_{jitter}.pkl'\n",
    "\n",
    "trainset_output_nohomeo = HOTS_Dataset(train_path_nohomeo, trainset.sensor_size, dtype=trainset.dtype, transform=type_transform)\n",
    "trainloader_nohomeo = get_loader(trainset_output_nohomeo)\n",
    "#classif_layer_nohomeo, losses_nohomeo = fit_mlr(trainloader_nohomeo, model_path_nohomeo, tau_cla, learning_rate, betas, num_epochs, ts_size, trainset.ordering, len(trainset.classes))"
   ]
  },
  {
   "cell_type": "code",
   "execution_count": null,
   "id": "e5ef8e13-bdc0-4dfd-93be-ce2594d01a99",
   "metadata": {},
   "outputs": [],
   "source": [
    "import numpy as np\n",
    "from tqdm import tqdm\n",
    "\n",
    "if not os.path.exists('../Records/jitter_results/'):\n",
    "    os.mkdir('../Records/jitter_results/')\n",
    "\n",
    "nb_trials = 10\n",
    "n_classes = len(testset.classes)\n",
    "\n",
    "std_jit_s_min = 0\n",
    "std_jit_s_max = 10\n",
    "std_jit_s = np.linspace(0,10,20)\n",
    "var_jit_s = std_jit_s**2\n",
    "scores_jit_s = np.zeros([nb_trials, len(var_jit_s)])\n",
    "scores_jit_s_histo = np.zeros([nb_trials, len(var_jit_s)])\n",
    "scores_jit_s_histo_nohomeo = np.zeros([nb_trials, len(var_jit_s)])\n",
    "\n",
    "jitter_path = f'../Records/jitter_results/{initial_name}_{nb_trials}_{std_jit_s_min}_{std_jit_s_max}'\n",
    "if not os.path.exists(jitter_path+'.npz'):\n",
    "\n",
    "    torch.set_default_tensor_type(\"torch.DoubleTensor\")\n",
    "\n",
    "    for trial in tqdm(range(nb_trials)):\n",
    "        for ind_jit, spatial_jitter in enumerate(var_jit_s):\n",
    "            if spatial_jitter==0:\n",
    "                jitter = (None,None)\n",
    "            else:\n",
    "                jitter = (spatial_jitter,None)\n",
    "            test_path = f'../Records/output/test/{initial_name}_{trial}_{num_sample_test}_{jitter}/'\n",
    "            results_path = f'../Records/LR_results/{initial_name}_{trial}_{tau_cla}_{learning_rate}_{betas}_{num_epochs}_{jitter}.pkl'\n",
    "            hots.name = initial_name+f'_{trial}'\n",
    "\n",
    "            spatial_jitter_transform = tonic.transforms.SpatialJitter(sensor_size = trainset.sensor_size, variance_x = spatial_jitter, variance_y = spatial_jitter, clip_outliers = True)\n",
    "            spatial_jitter_transform_full = tonic.transforms.Compose([spatial_jitter_transform, type_transform])\n",
    "            testset = tonic.datasets.POKERDVS(save_to='../../Data/', train=False, transform=spatial_jitter_transform_full)\n",
    "            loader = get_loader(testset)\n",
    "            hots.coding(loader, testset.ordering, testset.classes, training=False, jitter = jitter, verbose=False)\n",
    "\n",
    "            testset_output = HOTS_Dataset(test_path, trainset.sensor_size, dtype=trainset.dtype, transform=type_transform)\n",
    "            testloader = get_loader(testset_output)\n",
    "\n",
    "            likelihood, true_target, timestamps = predict_mlr(classif_layer,tau_cla,testloader,results_path,ts_size,testset_output.ordering)\n",
    "            meanac, onlinac, lastac = score_classif_events(likelihood, true_target, n_classes, verbose=False)\n",
    "\n",
    "            scores_jit_s_histo[trial,ind_jit] = make_histogram_classification(trainset_output, testset_output, N_neuronz[-1])\n",
    "            scores_jit_s[trial,ind_jit] = lastac\n",
    "\n",
    "            test_path_nohomeo = f'../Records/output/test/{initial_name_nohomeo}_{trial}_{num_sample_test}_{jitter}/'\n",
    "            results_path_nohomeo = f'../Records/LR_results/{initial_name_nohomeo}_{trial}_{tau_cla}_{learning_rate}_{betas}_{num_epochs}_{jitter}.pkl'\n",
    "            hots_nohomeo.name = initial_name_nohomeo+f'_{trial}'\n",
    "\n",
    "            hots_nohomeo.coding(loader, testset.ordering, testset.classes, training=False, jitter=jitter, verbose=False)\n",
    "            testset_output_nohomeo = HOTS_Dataset(test_path_nohomeo, trainset.sensor_size, dtype=trainset.dtype, transform=type_transform)\n",
    "\n",
    "            scores_jit_s_histo_nohomeo[trial,ind_jit] = make_histogram_classification(trainset_output_nohomeo, testset_output_nohomeo, N_neuronz[-1])\n",
    "            np.savez(jitter_path, std_jit_s,scores_jit_s,scores_jit_s_histo,scores_jit_s_histo_nohomeo)\n",
    "else:\n",
    "    data_stored = np.load(jitter_path+'.npz')\n",
    "    std_jit_s = data_stored['arr_0']\n",
    "    scores_jit_s = data_stored['arr_1']\n",
    "    scores_jit_s_histo = data_stored['arr_2']\n",
    "    scores_jit_s_histo_nohomeo = data_stored['arr_3']"
   ]
  },
  {
   "cell_type": "code",
   "execution_count": null,
   "id": "1cecd17e-6539-4292-9c9c-63db9bf93c6a",
   "metadata": {},
   "outputs": [],
   "source": [
    "std_jit_t_min = 2.5\n",
    "std_jit_t_max = 5.5\n",
    "std_jit_t = np.logspace(std_jit_t_min,std_jit_t_max,20)\n",
    "scores_jit_t = np.zeros([nb_trials, len(std_jit_t)])\n",
    "scores_jit_t_histo = np.zeros([nb_trials, len(std_jit_t)])\n",
    "scores_jit_t_histo_nohomeo = np.zeros([nb_trials, len(std_jit_t)])\n",
    "\n",
    "jitter_path = f'../Records/jitter_results/{initial_name}_{nb_trials}_{std_jit_t_min}_{std_jit_t_max}'\n",
    "if not os.path.exists(jitter_path+'.npz'):\n",
    "\n",
    "    torch.set_default_tensor_type(\"torch.DoubleTensor\")\n",
    "\n",
    "    for trial in tqdm(range(nb_trials)):\n",
    "        for ind_jit, temporal_jitter in enumerate(std_jit_t):\n",
    "            if temporal_jitter==0:\n",
    "                jitter = (None,None)\n",
    "            else:\n",
    "                jitter = (None,temporal_jitter)\n",
    "            test_path = f'../Records/output/test/{initial_name}_{trial}_{num_sample_test}_{jitter}/'\n",
    "            results_path = f'../Records/LR_results/{initial_name}_{trial}_{tau_cla}_{learning_rate}_{betas}_{num_epochs}_{jitter}.pkl'\n",
    "            hots.name = initial_name+f'_{trial}'\n",
    "\n",
    "            tonic.transforms.TimeJitter(std = temporal_jitter, clip_negative = True, sort_timestamps = True)\n",
    "            temporal_jitter_transform = tonic.transforms.TimeJitter(std = temporal_jitter, clip_negative = True, sort_timestamps = True)\n",
    "            temporal_jitter_transform_full = tonic.transforms.Compose([temporal_jitter_transform, type_transform])\n",
    "            testset = tonic.datasets.POKERDVS(save_to='../../Data/', train=False, transform=temporal_jitter_transform_full)\n",
    "            loader = get_loader(testset)\n",
    "            hots.coding(loader, testset.ordering, testset.classes, training=False, jitter = jitter, verbose=False)\n",
    "\n",
    "            testset_output = HOTS_Dataset(test_path, trainset.sensor_size, dtype=trainset.dtype, transform=type_transform)\n",
    "            testloader = get_loader(testset_output)\n",
    "\n",
    "            likelihood, true_target, timestamps = predict_mlr(classif_layer,tau_cla,testloader,results_path,ts_size,testset_output.ordering)\n",
    "            meanac, onlinac, lastac = score_classif_events(likelihood, true_target, n_classes, verbose=False)\n",
    "\n",
    "            scores_jit_t_histo[trial,ind_jit] = make_histogram_classification(trainset_output, testset_output, N_neuronz[-1])\n",
    "            scores_jit_t[trial,ind_jit] = lastac\n",
    "\n",
    "            test_path_nohomeo = f'../Records/output/test/{initial_name_nohomeo}_{trial}_{num_sample_test}_{jitter}/'\n",
    "            results_path_nohomeo = f'../Records/LR_results/{initial_name_nohomeo}_{trial}_{tau_cla}_{learning_rate}_{betas}_{num_epochs}_{jitter}.pkl'\n",
    "            hots_nohomeo.name = initial_name_nohomeo+f'_{trial}'\n",
    "\n",
    "            hots_nohomeo.coding(loader, testset.ordering, testset.classes, training=False, jitter=jitter, verbose=False)\n",
    "            testset_output_nohomeo = HOTS_Dataset(test_path_nohomeo, trainset.sensor_size, dtype=trainset.dtype, transform=type_transform)\n",
    "\n",
    "            scores_jit_t_histo_nohomeo[trial,ind_jit] = make_histogram_classification(trainset_output_nohomeo, testset_output_nohomeo, N_neuronz[-1])\n",
    "            np.savez(jitter_path, std_jit_t,scores_jit_t,scores_jit_t_histo,scores_jit_t_histo_nohomeo)\n",
    "else:\n",
    "    data_stored = np.load(jitter_path+'.npz')\n",
    "    std_jit_t = data_stored['arr_0']\n",
    "    scores_jit_t = data_stored['arr_1']\n",
    "    scores_jit_t_histo = data_stored['arr_2']\n",
    "    scores_jit_t_histo_nohomeo = data_stored['arr_3']"
   ]
  },
  {
   "cell_type": "code",
   "execution_count": null,
   "id": "08c3a9e5-9ff1-4bb4-b2c3-7f4c4f37d70e",
   "metadata": {},
   "outputs": [],
   "source": [
    "colorz = ['#2ca02c','#1f77b4','#d62728']\n",
    "\n",
    "fitting = True\n",
    "logscale = True\n",
    "\n",
    "std_jit_t *= 1e-3"
   ]
  },
  {
   "cell_type": "code",
   "execution_count": null,
   "id": "64959237-ed19-4fe1-af38-3aeb10220c1b",
   "metadata": {},
   "outputs": [],
   "source": [
    "fig_t, ax_t = plt.subplots(1,1,figsize=(8,5))\n",
    "param_T = [.99, 1/n_classes, 20, 1]\n",
    "label = 'online HOTS (ours)'\n",
    "n_epoch = 33\n",
    "fig_t, ax_t, semisat_t = plotjitter(fig_t, ax_t, std_jit_t, scores_jit_t, param = param_T, color=colorz[1], label=label, n_epo=n_epoch, fitting = fitting, logscale=logscale)\n",
    "if fitting:\n",
    "    print(f'semi saturation level for {label}: {np.round(semisat_t,2)} ms')\n",
    "    \n",
    "label = 'HOTS with homeostasis'\n",
    "param_T = [.9, 1/n_classes, 3, 1]\n",
    "fig_t, ax_t, semisat_t = plotjitter(fig_t, ax_t, std_jit_t, scores_jit_t_histo, param = param_T, color=colorz[0], label=label, n_epo=n_epoch, fitting = fitting, logscale=logscale)\n",
    "if fitting:\n",
    "    print(f'semi saturation level for {label}: {np.round(semisat_t,2)} ms')\n",
    "\n",
    "label = 'original HOTS'\n",
    "param_T = [.8,1/n_classes, 3, 1]\n",
    "fig_t, ax_t, semisat_t = plotjitter(fig_t, ax_t, std_jit_t, scores_jit_t_histo_nohomeo, param = param_T, color=colorz[2], label=label, n_epo=n_epoch, fitting = fitting, logscale=logscale)\n",
    "if fitting:\n",
    "    print(f'semi saturation level for {label}: {np.round(semisat_t,2)} ms')\n",
    "\n",
    "chance_t = np.ones([len(std_jit_t)])*100/n_classes\n",
    "ax_t.plot(std_jit_t,chance_t, 'k--', label='chance level')\n",
    "ax_t.axis([1,max(std_jit_t),0,100]);\n",
    "ax_t.set_xlabel('Standard deviation of temporal jitter (in $ms$)', fontsize=16);\n",
    "ax_t.set_ylabel('Accuracy (in %)', fontsize=16);\n",
    "#ax_t.set_yticks([]);\n",
    "#ax_t.set_title('Accuracy as a function of temporal jitter', fontsize=16);\n",
    "#ax_t.legend(fontsize=12);"
   ]
  },
  {
   "cell_type": "code",
   "execution_count": null,
   "id": "bc941c00-6560-449f-901c-0a17c068de0a",
   "metadata": {},
   "outputs": [],
   "source": [
    "logscale = False\n",
    "\n",
    "fig_s, ax_s = plt.subplots(1,1,figsize=(8,5))\n",
    "param_S = [1, .4, 3, .1]\n",
    "label = 'online HOTS (ours)'\n",
    "n_epoch = 33\n",
    "fig_s, ax_s, semisat_s = plotjitter(fig_s, ax_s, std_jit_s, scores_jit_s, param = param_S, color=colorz[1], label=label, n_epo=n_epoch, fitting = fitting, logscale=logscale)\n",
    "if fitting:\n",
    "    print(f'semi saturation level for {label}: {np.round(semisat_s,2)} pixels')\n",
    "\n",
    "label = 'HOTS with homeostasis'\n",
    "param_S = [0.85, .3, 2, .1]\n",
    "fig_s, ax_s, semisat_s = plotjitter(fig_s, ax_s, std_jit_s, scores_jit_s_histo, param = param_S, color=colorz[0], label=label, n_epo=n_epoch, fitting = fitting, logscale=logscale)\n",
    "if fitting:\n",
    "    print(f'semi saturation level for {label}: {np.round(semisat_s,2)} pixels')\n",
    "\n",
    "label = 'original HOTS'\n",
    "param_S = [0.8, .3, 2, .1]\n",
    "fig_s, ax_s, semisat_s = plotjitter(fig_s, ax_s, std_jit_s, scores_jit_s_histo_nohomeo, param = param_S, color=colorz[2], label=label, n_epo=n_epoch, fitting = fitting, logscale=logscale)\n",
    "if fitting:\n",
    "    print(f'semi saturation level for {label}: {np.round(semisat_s,2)} pixels')\n",
    "\n",
    "chance_s = np.ones([len(std_jit_s)])*100/n_classes\n",
    "ax_s.plot(std_jit_s,chance_s, 'k--', label='chance level')\n",
    "ax_s.axis([0,max(std_jit_s),0,100]);\n",
    "ax_s.set_xlabel('Standard deviation of spatial jitter (in pixel)', fontsize=16);\n",
    "ax_s.set_ylabel('Accuracy (in %)', fontsize=16);\n",
    "#ax_s.set_title('Accuracy as a function of spatial jitter', fontsize=16);\n",
    "#plt.yticks([],[])\n",
    "#ax_s.set_yticks([])\n",
    "ax_s.legend(fontsize=12);"
   ]
  },
  {
   "cell_type": "code",
   "execution_count": null,
   "id": "d981730f-1605-4019-9b89-f5f68fecdc59",
   "metadata": {},
   "outputs": [],
   "source": [
    "printfig(fig_s, 'spatial_jitter_poker.pdf')\n",
    "printfig(fig_t, 'temporal_jitter_poker.pdf')"
   ]
  },
  {
   "cell_type": "code",
   "execution_count": null,
   "id": "86f132db-1fb2-4f56-8d1b-cbc806248b85",
   "metadata": {},
   "outputs": [],
   "source": [
    "print(scores_jit_s_histo_nohomeo)"
   ]
  },
  {
   "cell_type": "code",
   "execution_count": null,
   "id": "6f57fd52-80db-48fb-921a-cee4ab2051c2",
   "metadata": {},
   "outputs": [],
   "source": []
  }
 ],
 "metadata": {
  "kernelspec": {
   "display_name": "Python 3 (ipykernel)",
   "language": "python",
   "name": "python3"
  },
  "language_info": {
   "codemirror_mode": {
    "name": "ipython",
    "version": 3
   },
   "file_extension": ".py",
   "mimetype": "text/x-python",
   "name": "python",
   "nbconvert_exporter": "python",
   "pygments_lexer": "ipython3",
   "version": "3.8.10"
  }
 },
 "nbformat": 4,
 "nbformat_minor": 5
}
