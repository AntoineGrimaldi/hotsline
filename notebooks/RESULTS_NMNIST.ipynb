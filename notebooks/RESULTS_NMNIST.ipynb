{
 "cells": [
  {
   "cell_type": "markdown",
   "id": "146e9eb1-7f15-4122-a866-cd3061b73da0",
   "metadata": {},
   "source": [
    "# RESULTS NMNIST"
   ]
  },
  {
   "cell_type": "code",
   "execution_count": 1,
   "id": "98a75ff8-780a-400b-9925-515f4a2274cf",
   "metadata": {},
   "outputs": [],
   "source": [
    "%load_ext autoreload\n",
    "%autoreload 2"
   ]
  },
  {
   "cell_type": "code",
   "execution_count": 2,
   "id": "e6346880-ad3c-4a2c-a39a-1a8842c3ac3d",
   "metadata": {},
   "outputs": [
    {
     "name": "stdout",
     "output_type": "stream",
     "text": [
      "/home/antoine/homhots/hotsline/hots\n",
      "Tonic version installed -> 1.0.19\n",
      "Number of GPU devices available: 1\n",
      "GPU 1 named GeForce RTX 2080 Ti\n"
     ]
    }
   ],
   "source": [
    "%cd ../hots\n",
    "import tonic, torch, os, pickle\n",
    "from tqdm import tqdm\n",
    "from network import network\n",
    "from layer import mlrlayer\n",
    "from timesurface import timesurface\n",
    "from utils import get_loader, make_histogram_classification, HOTS_Dataset, fit_mlr, predict_mlr, score_classif_events, plotjitter, printfig\n",
    "import matplotlib.pyplot as plt\n",
    "import numpy as np\n",
    "\n",
    "print(f'Tonic version installed -> {tonic.__version__}')\n",
    "\n",
    "print(f'Number of GPU devices available: {torch.cuda.device_count()}')\n",
    "for N_gpu in range(torch.cuda.device_count()):\n",
    "    print(f'GPU {N_gpu+1} named {torch.cuda.get_device_name(N_gpu)}')"
   ]
  },
  {
   "cell_type": "markdown",
   "id": "6ae45cc7-c96c-4c5f-8b9b-efa613afd9b3",
   "metadata": {},
   "source": [
    "## Loading of the dataset for the clustering phase"
   ]
  },
  {
   "cell_type": "code",
   "execution_count": 3,
   "id": "fe228881-0acd-422e-9376-966d47b0425b",
   "metadata": {},
   "outputs": [
    {
     "name": "stdout",
     "output_type": "stream",
     "text": [
      "number of samples in the training set: 60000\n",
      "number of samples in the testing set: 10000\n"
     ]
    }
   ],
   "source": [
    "kfold = None\n",
    "\n",
    "type_transform = tonic.transforms.NumpyAsType(int)\n",
    "trainset = tonic.datasets.NMNIST(save_to='../../Data/', train=True, transform=type_transform)\n",
    "testset = tonic.datasets.NMNIST(save_to='../../Data/', train=False, transform=type_transform)\n",
    "loader = get_loader(trainset, kfold=300)\n",
    "trainloader = get_loader(trainset, kfold=kfold)\n",
    "testloader = get_loader(testset, kfold=kfold)\n",
    "num_sample_train = len(trainloader)\n",
    "num_sample_test = len(testloader)\n",
    "n_classes = len(testset.classes)\n",
    "print(f'number of samples in the training set: {len(trainloader)}')\n",
    "print(f'number of samples in the testing set: {len(testloader)}')"
   ]
  },
  {
   "cell_type": "markdown",
   "id": "5ce771bc-ad2d-45c4-ba80-0a28862f07fe",
   "metadata": {},
   "source": [
    "## Initialization of the network"
   ]
  },
  {
   "cell_type": "code",
   "execution_count": 4,
   "id": "1caf366e-fc63-4030-868b-a57babe598de",
   "metadata": {},
   "outputs": [
    {
     "name": "stdout",
     "output_type": "stream",
     "text": [
      "device -> cuda\n"
     ]
    }
   ],
   "source": [
    "name = 'homeohots'\n",
    "homeo = True\n",
    "timestr = '2022-05-19'\n",
    "dataset_name = 'nmnist'\n",
    "\n",
    "Rz = [2, 4]\n",
    "N_neuronz = [16, 32]\n",
    "tauz = [1e4*2, 1e4*16]\n",
    "\n",
    "hots = network(name, dataset_name, timestr, trainset.sensor_size, nb_neurons = N_neuronz, tau = tauz, R = Rz, homeo = homeo)\n",
    "\n",
    "initial_name = hots.name\n",
    "\n",
    "name_nohomeo = 'hots'\n",
    "hots_nohomeo = network(name, dataset_name, timestr, trainset.sensor_size, nb_neurons = N_neuronz, tau = tauz, R = Rz, homeo = False)\n",
    "\n",
    "initial_name_nohomeo = hots_nohomeo.name"
   ]
  },
  {
   "cell_type": "markdown",
   "id": "804365ce-3c09-40a8-90ad-f2471961b169",
   "metadata": {},
   "source": [
    "## Unsupervised clustering"
   ]
  },
  {
   "cell_type": "code",
   "execution_count": 5,
   "id": "7064b789-7876-4611-8d34-3a5a4d62e888",
   "metadata": {},
   "outputs": [],
   "source": [
    "filtering_threshold = [5, None]\n",
    "\n",
    "if not os.path.exists('../Records/'):\n",
    "    os.mkdir('../Records/')\n",
    "    os.mkdir('../Records/networks/')\n",
    "path = '../Records/networks/'+hots.name+'.pkl'\n",
    "if not os.path.exists(path):\n",
    "    hots.clustering(loader, trainset.ordering, filtering_threshold = filtering_threshold)\n",
    "path_nohomeo = '../Records/networks/'+hots_nohomeo.name+'.pkl'\n",
    "if not os.path.exists(path_nohomeo):\n",
    "    hots_nohomeo.clustering(loader, trainset.ordering, filtering_threshold = filtering_threshold)"
   ]
  },
  {
   "cell_type": "markdown",
   "id": "9f0361ae-8651-4ca6-95db-d3161988f90c",
   "metadata": {},
   "source": [
    "## Training of the classification layer"
   ]
  },
  {
   "cell_type": "code",
   "execution_count": 6,
   "id": "e0a911b9-b781-4e79-a4f9-494dd90615ad",
   "metadata": {},
   "outputs": [],
   "source": [
    "jitter = (None, None)\n",
    "num_workers = 0\n",
    "learning_rate = 0.005\n",
    "beta1, beta2 = 0.9, 0.999\n",
    "betas = (beta1, beta2)\n",
    "num_epochs = 2 ** 5 + 1\n",
    "N_output_neurons = N_neuronz[-1]\n",
    "ts_size = (trainset.sensor_size[0],trainset.sensor_size[1],N_output_neurons)\n",
    "tau_cla = 1e5\n",
    "\n",
    "train_path = f'../Records/output/train/{hots.name}_{num_sample_train}_{jitter}/'\n",
    "test_path = f'../Records/output/test/{hots.name}_{num_sample_test}_{jitter}/'\n",
    "model_path = f'../Records/networks/{hots.name}_{tau_cla}_{learning_rate}_{betas}_{num_epochs}_{jitter}.pkl'\n",
    "results_path = f'../Records/LR_results/{hots.name}_{tau_cla}_{learning_rate}_{betas}_{num_epochs}_{jitter}.pkl'\n",
    "\n",
    "hots.coding(trainloader, trainset.ordering, trainset.classes, filtering_threshold=filtering_threshold, training=True, verbose=False)\n",
    "hots.coding(testloader, trainset.ordering, trainset.classes, filtering_threshold=filtering_threshold, training=False, verbose=False)\n",
    "\n",
    "trainset_output = HOTS_Dataset(train_path, trainset.sensor_size, dtype=trainset.dtype, transform=type_transform)\n",
    "trainloader = get_loader(trainset_output)\n",
    "testset_output = HOTS_Dataset(test_path, trainset.sensor_size, dtype=trainset.dtype, transform=type_transform)\n",
    "testloader = get_loader(testset_output)\n",
    "\n",
    "classif_layer, losses = fit_mlr(trainloader, model_path, tau_cla, learning_rate, betas, num_epochs, ts_size, trainset.ordering, len(trainset.classes))\n",
    "\n",
    "hots_nohomeo.coding(trainloader, trainset.ordering, trainset.classes, filtering_threshold=filtering_threshold, training=True)\n",
    "hots_nohomeo.coding(testloader, trainset.ordering, trainset.classes, filtering_threshold=filtering_threshold, training=False)\n",
    "\n",
    "train_path_nohomeo = f'../Records/output/train/{hots_nohomeo.name}_{num_sample_train}_{jitter}/'\n",
    "model_path_nohomeo = f'../Records/networks/{hots_nohomeo.name}_{tau_cla}_{learning_rate}_{betas}_{num_epochs}_{jitter}.pkl'\n",
    "\n",
    "trainset_output_nohomeo = HOTS_Dataset(train_path_nohomeo, trainset.sensor_size, dtype=trainset.dtype, transform=type_transform)\n",
    "trainloader_nohomeo = get_loader(trainset_output_nohomeo)\n",
    "testset_output_nohomeo = HOTS_Dataset(test_path_nohomeo, trainset.sensor_size, dtype=trainset.dtype, transform=type_transform)\n",
    "testloader_nohomeo = get_loader(test_output_nohomeo)"
   ]
  },
  {
   "cell_type": "code",
   "execution_count": 7,
   "id": "75a7543b-4211-4d48-b246-ffd1d3a25ea0",
   "metadata": {},
   "outputs": [
    {
     "data": {
      "text/plain": [
       "[<matplotlib.lines.Line2D at 0x7f752c82ad30>]"
      ]
     },
     "execution_count": 7,
     "metadata": {},
     "output_type": "execute_result"
    },
    {
     "data": {
      "image/png": "[encoded data removed]",
      "text/plain": [
       "<Figure size 432x288 with 1 Axes>"
      ]
     },
     "metadata": {
      "needs_background": "light"
     },
     "output_type": "display_data"
    }
   ],
   "source": [
    "import matplotlib.pyplot as plt\n",
    "plt.plot(losses)"
   ]
  },
  {
   "cell_type": "markdown",
   "id": "d97301a0-bdce-4595-95f0-ae50fd56b372",
   "metadata": {},
   "source": [
    "## Online Inference (Figure 4-(b))"
   ]
  },
  {
   "cell_type": "code",
   "execution_count": 8,
   "id": "e385305b-1b7a-4f42-91bb-d308dd5521ee",
   "metadata": {},
   "outputs": [
    {
     "name": "stdout",
     "output_type": "stream",
     "text": [
      "Mean accuracy: 89.0%\n"
     ]
    },
    {
     "ename": "TypeError",
     "evalue": "unsupported operand type(s) for *: 'NoneType' and 'int'",
     "output_type": "error",
     "traceback": [
      "\u001b[0;31m---------------------------------------------------------------------------\u001b[0m",
      "\u001b[0;31mTypeError\u001b[0m                                 Traceback (most recent call last)",
      "Input \u001b[0;32mIn [8]\u001b[0m, in \u001b[0;36m<module>\u001b[0;34m\u001b[0m\n\u001b[1;32m      1\u001b[0m likelihood, true_target, timestamps \u001b[38;5;241m=\u001b[39m predict_mlr(classif_layer,tau_cla,testloader,results_path,ts_size,testset_output\u001b[38;5;241m.\u001b[39mordering)\n\u001b[1;32m      2\u001b[0m score \u001b[38;5;241m=\u001b[39m make_histogram_classification(trainset_output, testset_output, N_neuronz[\u001b[38;5;241m-\u001b[39m\u001b[38;5;241m1\u001b[39m])\n\u001b[0;32m----> 3\u001b[0m meanac, onlinac, lastac \u001b[38;5;241m=\u001b[39m \u001b[43mscore_classif_events\u001b[49m\u001b[43m(\u001b[49m\u001b[43mlikelihood\u001b[49m\u001b[43m,\u001b[49m\u001b[43m \u001b[49m\u001b[43mtrue_target\u001b[49m\u001b[43m,\u001b[49m\u001b[43m \u001b[49m\u001b[43mn_classes\u001b[49m\u001b[43m,\u001b[49m\u001b[43m \u001b[49m\u001b[43moriginal_accuracy\u001b[49m\u001b[43m \u001b[49m\u001b[38;5;241;43m=\u001b[39;49m\u001b[43m \u001b[49m\u001b[43mscore\u001b[49m\u001b[43m,\u001b[49m\u001b[43m \u001b[49m\u001b[43mfigure_name\u001b[49m\u001b[43m \u001b[49m\u001b[38;5;241;43m=\u001b[39;49m\u001b[43m \u001b[49m\u001b[38;5;124;43m'\u001b[39;49m\u001b[38;5;124;43mnmnist_online.pdf\u001b[39;49m\u001b[38;5;124;43m'\u001b[39;49m\u001b[43m)\u001b[49m\n\u001b[1;32m      4\u001b[0m \u001b[38;5;28mprint\u001b[39m(\u001b[38;5;124mf\u001b[39m\u001b[38;5;124m'\u001b[39m\u001b[38;5;124mlast accuracy: \u001b[39m\u001b[38;5;132;01m{\u001b[39;00mlastac\u001b[38;5;241m*\u001b[39m\u001b[38;5;241m100\u001b[39m\u001b[38;5;132;01m}\u001b[39;00m\u001b[38;5;124m%\u001b[39m\u001b[38;5;124m'\u001b[39m)\n",
      "File \u001b[0;32m~/homhots/hotsline/hots/utils.py:410\u001b[0m, in \u001b[0;36mscore_classif_events\u001b[0;34m(likelihood, true_target, n_classes, thres, original_accuracy, original_accuracy_nohomeo, verbose, figure_name)\u001b[0m\n\u001b[1;32m    408\u001b[0m \u001b[38;5;28;01mif\u001b[39;00m original_accuracy:\n\u001b[1;32m    409\u001b[0m     ax\u001b[38;5;241m.\u001b[39mhlines(original_accuracy\u001b[38;5;241m*\u001b[39m\u001b[38;5;241m100\u001b[39m,\u001b[38;5;241m0\u001b[39m,\u001b[38;5;28mint\u001b[39m(max_len), linestyles\u001b[38;5;241m=\u001b[39m\u001b[38;5;124m'\u001b[39m\u001b[38;5;124mdashed\u001b[39m\u001b[38;5;124m'\u001b[39m, color\u001b[38;5;241m=\u001b[39m\u001b[38;5;124m'\u001b[39m\u001b[38;5;124mg\u001b[39m\u001b[38;5;124m'\u001b[39m, label\u001b[38;5;241m=\u001b[39m\u001b[38;5;124m'\u001b[39m\u001b[38;5;124mHOTS with homeostasis\u001b[39m\u001b[38;5;124m'\u001b[39m)\n\u001b[0;32m--> 410\u001b[0m     ax\u001b[38;5;241m.\u001b[39mhlines(\u001b[43moriginal_accuracy_nohomeo\u001b[49m\u001b[38;5;241;43m*\u001b[39;49m\u001b[38;5;241;43m100\u001b[39;49m,\u001b[38;5;241m0\u001b[39m,\u001b[38;5;28mint\u001b[39m(max_len), linestyles\u001b[38;5;241m=\u001b[39m\u001b[38;5;124m'\u001b[39m\u001b[38;5;124mdashed\u001b[39m\u001b[38;5;124m'\u001b[39m, color\u001b[38;5;241m=\u001b[39m\u001b[38;5;124m'\u001b[39m\u001b[38;5;124mr\u001b[39m\u001b[38;5;124m'\u001b[39m, label\u001b[38;5;241m=\u001b[39m\u001b[38;5;124m'\u001b[39m\u001b[38;5;124moriginal HOTS\u001b[39m\u001b[38;5;124m'\u001b[39m)\n\u001b[1;32m    411\u001b[0m ax\u001b[38;5;241m.\u001b[39mset_xlabel(\u001b[38;5;124m'\u001b[39m\u001b[38;5;124mNumber of events\u001b[39m\u001b[38;5;124m'\u001b[39m, fontsize\u001b[38;5;241m=\u001b[39m\u001b[38;5;241m16\u001b[39m);\n\u001b[1;32m    412\u001b[0m ax\u001b[38;5;241m.\u001b[39maxis([\u001b[38;5;241m1\u001b[39m,\u001b[38;5;28mint\u001b[39m(max_len),\u001b[38;5;241m0\u001b[39m,\u001b[38;5;241m101\u001b[39m]);\n",
      "\u001b[0;31mTypeError\u001b[0m: unsupported operand type(s) for *: 'NoneType' and 'int'"
     ]
    },
    {
     "data": {
      "image/png": "[encoded data removed]",
      "text/plain": [
       "<Figure size 432x288 with 1 Axes>"
      ]
     },
     "metadata": {
      "needs_background": "light"
     },
     "output_type": "display_data"
    }
   ],
   "source": [
    "likelihood, true_target, timestamps = predict_mlr(classif_layer,tau_cla,testloader,results_path,ts_size,testset_output.ordering)\n",
    "score = make_histogram_classification(trainset_output, testset_output, N_neuronz[-1])\n",
    "score_nohomeo = make_histogram_classification(trainset_output_nohomeo, testset_output_nohomeo, N_neuronz[-1])\n",
    "meanac, onlinac, lastac = score_classif_events(likelihood, true_target, n_classes, original_accuracy = score, original_accuracy_nohom = score_nohomeo, figure_name = 'nmnist_online.pdf')\n",
    "print(f'last accuracy: {lastac*100}%')"
   ]
  },
  {
   "cell_type": "markdown",
   "id": "75378b6a-ba60-4813-afb9-cf7405f24043",
   "metadata": {},
   "source": [
    "## Robustness to spatial jitter (Figure 5-(b)-(up))"
   ]
  },
  {
   "cell_type": "raw",
   "id": "cc339d4e-c5a0-4b72-992e-9919ca9c7cf6",
   "metadata": {},
   "source": [
    "kfold = 10\n",
    "\n",
    "if not os.path.exists('../Records/jitter_results/'):\n",
    "    os.mkdir('../Records/jitter_results/')\n",
    "\n",
    "nb_trials = 10"
   ]
  },
  {
   "cell_type": "raw",
   "id": "38f09568-461b-4c26-a1b7-9ee7f17fc032",
   "metadata": {},
   "source": [
    "std_jit_s_min = 0\n",
    "std_jit_s_max = 10\n",
    "\n",
    "std_jit_s = np.linspace(0,std_jit_s_min,std_jit_s_max)\n",
    "var_jit_s = std_jit_s**2\n",
    "scores_jit_s = np.zeros([nb_trials, len(var_jit_s)])\n",
    "scores_jit_s_histo = np.zeros([nb_trials, len(var_jit_s)])\n",
    "scores_jit_s_histo_nohomeo = np.zeros([nb_trials, len(var_jit_s)])\n",
    "\n",
    "jitter_path = f'../Records/jitter_results/{initial_name}_{nb_trials}_{std_jit_t_min}_{std_jit_t_max}'\n",
    "if not os.path.exists(jitter_path+'.npz'):\n",
    "\n",
    "    torch.set_default_tensor_type(\"torch.DoubleTensor\")\n",
    "\n",
    "    for trial in tqdm(range(nb_trials)):\n",
    "        for ind_jit, spatial_jitter in enumerate(var_jit_s):\n",
    "            if spatial_jitter==0:\n",
    "                jitter = (None,None)\n",
    "            else:\n",
    "                jitter = (spatial_jitter,None)\n",
    "            test_path = f'../Records/output/test/{initial_name}_{trial}_{num_sample_test//kfold}_{jitter}/'\n",
    "            results_path = f'../Records/LR_results/{initial_name}_{trial}_{tau_cla}_{learning_rate}_{betas}_{num_epochs}_{jitter}.pkl'\n",
    "            hots.name = initial_name+f'_{trial}'\n",
    "\n",
    "            spatial_jitter_transform = tonic.transforms.SpatialJitter(sensor_size = trainset.sensor_size, variance_x = spatial_jitter, variance_y = spatial_jitter, clip_outliers = True)\n",
    "            spatial_jitter_transform_full = tonic.transforms.Compose([spatial_jitter_transform, type_transform])\n",
    "            testset = tonic.datasets.NMNIST(save_to='../../Data/', train=False, transform=spatial_jitter_transform_full)\n",
    "            loader = get_loader(testset, kfold=kfold)\n",
    "            hots.coding(loader, testset.ordering, testset.classes, training=False, jitter = jitter, verbose=False)\n",
    "\n",
    "            testset_output = HOTS_Dataset(test_path, trainset.sensor_size, dtype=trainset.dtype, transform=type_transform)\n",
    "            testloader = get_loader(testset_output, kfold=kfold)\n",
    "\n",
    "            likelihood, true_target, timestamps = predict_mlr(classif_layer,tau_cla,testloader,results_path,ts_size,testset_output.ordering)\n",
    "            meanac, onlinac, lastac = score_classif_events(likelihood, true_target, n_classes, verbose=False)\n",
    "\n",
    "            scores_jit_s_histo[trial,ind_jit] = make_histogram_classification(trainset_output, testset_output, N_neuronz[-1])\n",
    "            scores_jit_s[trial,ind_jit] = lastac\n",
    "\n",
    "            test_path_nohomeo = f'../Records/output/test/{initial_name_nohomeo}_{trial}_{num_sample_test//kfold}_{jitter}/'\n",
    "            results_path_nohomeo = f'../Records/LR_results/{initial_name_nohomeo}_{trial}_{tau_cla}_{learning_rate}_{betas}_{num_epochs}_{jitter}.pkl'\n",
    "            hots_nohomeo.name = initial_name_nohomeo+f'_{trial}'\n",
    "\n",
    "            hots_nohomeo.coding(loader, testset.ordering, testset.classes, training=False, jitter=jitter, verbose=False)\n",
    "            testset_output_nohomeo = HOTS_Dataset(test_path_nohomeo, trainset.sensor_size, dtype=trainset.dtype, transform=type_transform)\n",
    "\n",
    "            scores_jit_s_histo_nohomeo[trial,ind_jit] = make_histogram_classification(trainset_output_nohomeo, testset_output_nohomeo, N_neuronz[-1])\n",
    "\n",
    "            np.savez(jitter_path, std_jit_t,scores_jit_t,scores_jit_t_histo,scores_jit_t_histo_nohomeo)\n",
    "else:\n",
    "    data_stored = np.load(jitter_path+'.npz')\n",
    "    std_jit_t = data_stored['arr_0']\n",
    "    scores_jit_t = data_stored['arr_1']\n",
    "    scores_jit_t_histo = data_stored['arr_2']\n",
    "    scores_jit_t_histo_nohomeo = data_stored['arr_3']"
   ]
  },
  {
   "cell_type": "markdown",
   "id": "29ccb161-5b0b-4d03-bb0e-4baa38e4f443",
   "metadata": {},
   "source": [
    "## Robustness to spatial jitter (Figure 5-(b)-(down))"
   ]
  },
  {
   "cell_type": "raw",
   "id": "4e70f5cd-6cb6-4e1f-b434-f4a3e65ca747",
   "metadata": {},
   "source": [
    "std_jit_t_min = 3\n",
    "std_jit_t_max = 7\n",
    "std_jit_t = np.logspace(std_jit_t_min,std_jit_t_max,20)\n",
    "scores_jit_t = np.zeros([nb_trials, len(std_jit_t)])\n",
    "scores_jit_t_histo = np.zeros([nb_trials, len(std_jit_t)])\n",
    "scores_jit_t_histo_nohomeo = np.zeros([nb_trials, len(std_jit_t)])\n",
    "\n",
    "jitter_path = f'../Records/jitter_results/{initial_name}_{nb_trials}_{std_jit_t_min}_{std_jit_t_max}'\n",
    "if not os.path.exists(jitter_path+'.npz'):\n",
    "\n",
    "    torch.set_default_tensor_type(\"torch.DoubleTensor\")\n",
    "\n",
    "    for trial in tqdm(range(nb_trials)):\n",
    "        for ind_jit, temporal_jitter in enumerate(std_jit_t):\n",
    "            if temporal_jitter==0:\n",
    "                jitter = (None,None)\n",
    "            else:\n",
    "                jitter = (None,temporal_jitter)\n",
    "            test_path = f'../Records/output/test/{initial_name}_{trial}_{num_sample_test}_{jitter}/'\n",
    "            results_path = f'../Records/LR_results/{initial_name}_{trial}_{tau_cla}_{learning_rate}_{betas}_{num_epochs}_{jitter}.pkl'\n",
    "            hots.name = initial_name+f'_{trial}'\n",
    "\n",
    "            tonic.transforms.TimeJitter(std = temporal_jitter, clip_negative = True, sort_timestamps = True)\n",
    "            temporal_jitter_transform = tonic.transforms.TimeJitter(std = temporal_jitter, clip_negative = True, sort_timestamps = True)\n",
    "            temporal_jitter_transform_full = tonic.transforms.Compose([temporal_jitter_transform, type_transform])\n",
    "            testset = tonic.datasets.NMNIST(save_to='../../Data/', train=False, transform=temporal_jitter_transform_full)\n",
    "            loader = get_loader(testset, kfold=kfold)\n",
    "            hots.coding(loader, testset.ordering, testset.classes, training=False, jitter = jitter, verbose=False)\n",
    "\n",
    "            testset_output = HOTS_Dataset(test_path, trainset.sensor_size, dtype=trainset.dtype, transform=type_transform)\n",
    "            testloader = get_loader(testset_output)\n",
    "\n",
    "            likelihood, true_target, timestamps = predict_mlr(classif_layer,tau_cla,testloader,results_path,ts_size,testset_output.ordering)\n",
    "            meanac, onlinac, lastac = score_classif_events(likelihood, true_target, n_classes, verbose=False)\n",
    "\n",
    "            scores_jit_t_histo[trial,ind_jit] = make_histogram_classification(trainset_output, testset_output, N_neuronz[-1])\n",
    "            scores_jit_t[trial,ind_jit] = lastac\n",
    "\n",
    "            test_path_nohomeo = f'../Records/output/test/{initial_name_nohomeo}_{trial}_{num_sample_test}_{jitter}/'\n",
    "            results_path_nohomeo = f'../Records/LR_results/{initial_name_nohomeo}_{trial}_{tau_cla}_{learning_rate}_{betas}_{num_epochs}_{jitter}.pkl'\n",
    "            hots_nohomeo.name = initial_name_nohomeo+f'_{trial}'\n",
    "\n",
    "            hots_nohomeo.coding(loader, testset.ordering, testset.classes, training=False, jitter=jitter, verbose=False)\n",
    "            testset_output_nohomeo = HOTS_Dataset(test_path_nohomeo, trainset.sensor_size, dtype=trainset.dtype, transform=type_transform)\n",
    "\n",
    "            scores_jit_t_histo_nohomeo[trial,ind_jit] = make_histogram_classification(trainset_output_nohomeo, testset_output_nohomeo, N_neuronz[-1])\n",
    "            np.savez(jitter_path, std_jit_t,scores_jit_t,scores_jit_t_histo,scores_jit_t_histo_nohomeo)\n",
    "else:\n",
    "    data_stored = np.load(jitter_path+'.npz')\n",
    "    std_jit_t = data_stored['arr_0']\n",
    "    scores_jit_t = data_stored['arr_1']\n",
    "    scores_jit_t_histo = data_stored['arr_2']\n",
    "    scores_jit_t_histo_nohomeo = data_stored['arr_3']"
   ]
  },
  {
   "cell_type": "raw",
   "id": "ff837185-2f2b-40d8-a954-e365506a4317",
   "metadata": {},
   "source": [
    "colorz = ['#2ca02c','#1f77b4','#d62728']\n",
    "\n",
    "fitting = True\n",
    "logscale = True\n",
    "\n",
    "std_jit_t *= 1e-3"
   ]
  },
  {
   "cell_type": "raw",
   "id": "cac69dfc-d781-4ae7-b954-82bffdbafe1a",
   "metadata": {},
   "source": [
    "fig_t, ax_t = plt.subplots(1,1,figsize=(8,5))\n",
    "param_T = [.99, 1/n_classes, 20, 1]\n",
    "label = 'online HOTS (ours)'\n",
    "n_epoch = 33\n",
    "fig_t, ax_t, semisat_t = plotjitter(fig_t, ax_t, std_jit_t, scores_jit_t, param = param_T, color=colorz[1], label=label, n_epo=n_epoch, fitting = fitting, logscale=logscale)\n",
    "if fitting:\n",
    "    print(f'semi saturation level for {label}: {np.round(semisat_t,2)} ms')\n",
    "    \n",
    "label = 'HOTS with homeostasis'\n",
    "param_T = [.9, 1/n_classes, 3, 1]\n",
    "fig_t, ax_t, semisat_t = plotjitter(fig_t, ax_t, std_jit_t, scores_jit_t_histo, param = param_T, color=colorz[0], label=label, n_epo=n_epoch, fitting = fitting, logscale=logscale)\n",
    "if fitting:\n",
    "    print(f'semi saturation level for {label}: {np.round(semisat_t,2)} ms')\n",
    "\n",
    "label = 'original HOTS'\n",
    "param_T = [.8,1/n_classes, 3, 1]\n",
    "fig_t, ax_t, semisat_t = plotjitter(fig_t, ax_t, std_jit_t, scores_jit_t_histo_nohomeo, param = param_T, color=colorz[2], label=label, n_epo=n_epoch, fitting = fitting, logscale=logscale)\n",
    "if fitting:\n",
    "    print(f'semi saturation level for {label}: {np.round(semisat_t,2)} ms')\n",
    "\n",
    "chance_t = np.ones([len(std_jit_t)])*100/n_classes\n",
    "ax_t.plot(std_jit_t,chance_t, 'k--', label='chance level')\n",
    "ax_t.axis([1,max(std_jit_t),0,100]);\n",
    "ax_t.set_xlabel('Standard deviation of temporal jitter (in $ms$)', fontsize=16);\n",
    "ax_t.set_ylabel('Accuracy (in %)', fontsize=16);\n",
    "#ax_t.set_yticks([]);\n",
    "#ax_t.set_title('Accuracy as a function of temporal jitter', fontsize=16);\n",
    "#ax_t.legend(fontsize=12);"
   ]
  },
  {
   "cell_type": "raw",
   "id": "d88f5685-c706-43ee-a124-f0e95b468841",
   "metadata": {},
   "source": [
    "logscale = False\n",
    "\n",
    "fig_s, ax_s = plt.subplots(1,1,figsize=(8,5))\n",
    "param_S = [1, .4, 3, .1]\n",
    "label = 'online HOTS (ours)'\n",
    "n_epoch = 33\n",
    "fig_s, ax_s, semisat_s = plotjitter(fig_s, ax_s, std_jit_s, scores_jit_s, param = param_S, color=colorz[1], label=label, n_epo=n_epoch, fitting = fitting, logscale=logscale)\n",
    "if fitting:\n",
    "    print(f'semi saturation level for {label}: {np.round(semisat_s,2)} pixels')\n",
    "\n",
    "label = 'HOTS with homeostasis'\n",
    "param_S = [0.85, .3, 2, .1]\n",
    "fig_s, ax_s, semisat_s = plotjitter(fig_s, ax_s, std_jit_s, scores_jit_s_histo, param = param_S, color=colorz[0], label=label, n_epo=n_epoch, fitting = fitting, logscale=logscale)\n",
    "if fitting:\n",
    "    print(f'semi saturation level for {label}: {np.round(semisat_s,2)} pixels')\n",
    "\n",
    "label = 'original HOTS'\n",
    "param_S = [0.8, .3, 2, .1]\n",
    "fig_s, ax_s, semisat_s = plotjitter(fig_s, ax_s, std_jit_s, scores_jit_s_histo_nohomeo, param = param_S, color=colorz[2], label=label, n_epo=n_epoch, fitting = fitting, logscale=logscale)\n",
    "if fitting:\n",
    "    print(f'semi saturation level for {label}: {np.round(semisat_s,2)} pixels')\n",
    "\n",
    "chance_s = np.ones([len(std_jit_s)])*100/n_classes\n",
    "ax_s.plot(std_jit_s,chance_s, 'k--', label='chance level')\n",
    "ax_s.axis([0,max(std_jit_s),0,100]);\n",
    "ax_s.set_xlabel('Standard deviation of spatial jitter (in pixel)', fontsize=16);\n",
    "ax_s.set_ylabel('Accuracy (in %)', fontsize=16);\n",
    "#ax_s.set_title('Accuracy as a function of spatial jitter', fontsize=16);\n",
    "#plt.yticks([],[])\n",
    "#ax_s.set_yticks([])\n",
    "ax_s.legend(fontsize=12);"
   ]
  },
  {
   "cell_type": "raw",
   "id": "47041df5-fb0b-4d9d-a848-cd216b372ad7",
   "metadata": {},
   "source": [
    "printfig(fig_s, 'spatial_jitter_nmnist.pdf')\n",
    "printfig(fig_t, 'temporal_jitter_nmnist.pdf')"
   ]
  },
  {
   "cell_type": "code",
   "execution_count": null,
   "id": "86f132db-1fb2-4f56-8d1b-cbc806248b85",
   "metadata": {},
   "outputs": [],
   "source": []
  }
 ],
 "metadata": {
  "kernelspec": {
   "display_name": "Python 3 (ipykernel)",
   "language": "python",
   "name": "python3"
  },
  "language_info": {
   "codemirror_mode": {
    "name": "ipython",
    "version": 3
   },
   "file_extension": ".py",
   "mimetype": "text/x-python",
   "name": "python",
   "nbconvert_exporter": "python",
   "pygments_lexer": "ipython3",
   "version": "3.8.10"
  }
 },
 "nbformat": 4,
 "nbformat_minor": 5
}
