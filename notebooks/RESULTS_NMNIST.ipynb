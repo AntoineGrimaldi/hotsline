{
 "cells": [
  {
   "cell_type": "markdown",
   "id": "146e9eb1-7f15-4122-a866-cd3061b73da0",
   "metadata": {},
   "source": [
    "# RESULTS NMNIST"
   ]
  },
  {
   "cell_type": "code",
   "execution_count": 1,
   "id": "98a75ff8-780a-400b-9925-515f4a2274cf",
   "metadata": {},
   "outputs": [],
   "source": [
    "%load_ext autoreload\n",
    "%autoreload 2"
   ]
  },
  {
   "cell_type": "code",
   "execution_count": 2,
   "id": "e6346880-ad3c-4a2c-a39a-1a8842c3ac3d",
   "metadata": {},
   "outputs": [
    {
     "name": "stdout",
     "output_type": "stream",
     "text": [
      "/home/antoine/homhots/hotsline/hots\n",
      "Tonic version installed -> 1.0.19\n",
      "Number of GPU devices available: 1\n",
      "GPU 1 named GeForce RTX 2080 Ti\n"
     ]
    }
   ],
   "source": [
    "%cd ../hots\n",
    "import tonic, torch, os, pickle\n",
    "from tqdm import tqdm\n",
    "from network import network\n",
    "from layer import mlrlayer\n",
    "from timesurface import timesurface\n",
    "from utils import apply_jitter, get_loader, make_histogram_classification, HOTS_Dataset, fit_mlr, predict_mlr, score_classif_events, plotjitter, printfig\n",
    "import matplotlib.pyplot as plt\n",
    "import numpy as np\n",
    "\n",
    "print(f'Tonic version installed -> {tonic.__version__}')\n",
    "\n",
    "print(f'Number of GPU devices available: {torch.cuda.device_count()}')\n",
    "for N_gpu in range(torch.cuda.device_count()):\n",
    "    print(f'GPU {N_gpu+1} named {torch.cuda.get_device_name(N_gpu)}')"
   ]
  },
  {
   "cell_type": "markdown",
   "id": "6ae45cc7-c96c-4c5f-8b9b-efa613afd9b3",
   "metadata": {},
   "source": [
    "## Loading of the dataset for the clustering phase"
   ]
  },
  {
   "cell_type": "code",
   "execution_count": 3,
   "id": "fe228881-0acd-422e-9376-966d47b0425b",
   "metadata": {},
   "outputs": [
    {
     "name": "stdout",
     "output_type": "stream",
     "text": [
      "number of samples in the training set: 60000\n",
      "number of samples in the testing set: 10000\n"
     ]
    }
   ],
   "source": [
    "kfold = None\n",
    "\n",
    "type_transform = tonic.transforms.NumpyAsType(int)\n",
    "trainset = tonic.datasets.NMNIST(save_to='../../Data/', train=True, transform=type_transform)\n",
    "testset = tonic.datasets.NMNIST(save_to='../../Data/', train=False, transform=type_transform)\n",
    "loader = get_loader(trainset, kfold=300)\n",
    "trainloader = get_loader(trainset, kfold=kfold)\n",
    "testloader = get_loader(testset, kfold=kfold)\n",
    "num_sample_train = len(trainloader)\n",
    "num_sample_test = len(testloader)\n",
    "n_classes = len(testset.classes)\n",
    "print(f'number of samples in the training set: {len(trainloader)}')\n",
    "print(f'number of samples in the testing set: {len(testloader)}')"
   ]
  },
  {
   "cell_type": "markdown",
   "id": "5ce771bc-ad2d-45c4-ba80-0a28862f07fe",
   "metadata": {},
   "source": [
    "## Initialization of the network"
   ]
  },
  {
   "cell_type": "code",
   "execution_count": 4,
   "id": "1caf366e-fc63-4030-868b-a57babe598de",
   "metadata": {},
   "outputs": [],
   "source": [
    "name = 'homeohots'\n",
    "homeo = True\n",
    "timestr = '2022-06-15'\n",
    "dataset_name = 'nmnist'\n",
    "\n",
    "Rz = [2, 4]\n",
    "N_neuronz = [16, 32]\n",
    "tauz = [1e4*2, 1e4*16]\n",
    "\n",
    "hots = network(name, dataset_name, timestr, trainset.sensor_size, nb_neurons = N_neuronz, tau = tauz, R = Rz, homeo = homeo)\n",
    "\n",
    "initial_name = hots.name\n",
    "\n",
    "name_nohomeo = 'hots'\n",
    "hots_nohomeo = network(name, dataset_name, timestr, trainset.sensor_size, nb_neurons = N_neuronz, tau = tauz, R = Rz, homeo = False)\n",
    "\n",
    "initial_name_nohomeo = hots_nohomeo.name"
   ]
  },
  {
   "cell_type": "markdown",
   "id": "804365ce-3c09-40a8-90ad-f2471961b169",
   "metadata": {},
   "source": [
    "## Unsupervised clustering"
   ]
  },
  {
   "cell_type": "code",
   "execution_count": 5,
   "id": "7064b789-7876-4611-8d34-3a5a4d62e888",
   "metadata": {},
   "outputs": [],
   "source": [
    "filtering_threshold = [2*Rz[L] for L in range(len(Rz))]\n",
    "if not os.path.exists('../Records/'):\n",
    "    os.mkdir('../Records/')\n",
    "    os.mkdir('../Records/networks/')\n",
    "path = '../Records/networks/'+hots.name+'.pkl'\n",
    "if not os.path.exists(path):\n",
    "    hots.clustering(loader, trainset.ordering, filtering_threshold = filtering_threshold)\n",
    "path_nohomeo = '../Records/networks/'+hots_nohomeo.name+'.pkl'\n",
    "if not os.path.exists(path_nohomeo):\n",
    "    hots_nohomeo.clustering(loader, trainset.ordering, filtering_threshold = filtering_threshold)"
   ]
  },
  {
   "cell_type": "raw",
   "id": "c70714e3-a8e9-49f7-b809-a4690308cba2",
   "metadata": {},
   "source": [
    "hots.plotlayers();\n",
    "hots_nohomeo.plotlayers();"
   ]
  },
  {
   "cell_type": "markdown",
   "id": "9f0361ae-8651-4ca6-95db-d3161988f90c",
   "metadata": {},
   "source": [
    "## Training of the classification layer"
   ]
  },
  {
   "cell_type": "code",
   "execution_count": 6,
   "id": "e0a911b9-b781-4e79-a4f9-494dd90615ad",
   "metadata": {},
   "outputs": [],
   "source": [
    "drop_proba_mlr = .9\n",
    "jitter = (None, None)\n",
    "num_workers = 0\n",
    "learning_rate = 0.005\n",
    "beta1, beta2 = 0.9, 0.999\n",
    "betas = (beta1, beta2)\n",
    "num_epochs = 2 ** 5 + 1\n",
    "N_output_neurons = N_neuronz[-1]\n",
    "ts_size = (trainset.sensor_size[0],trainset.sensor_size[1],N_output_neurons)\n",
    "tau_cla = 5e4\n",
    "\n",
    "\n",
    "train_path = f'../Records/output/train/{hots.name}_{num_sample_train}_{jitter}/'\n",
    "test_path = f'../Records/output/test/{hots.name}_{num_sample_test}_{jitter}/'\n",
    "model_path = f'../Records/networks/{hots.name}_{tau_cla}_{num_sample_train}_{learning_rate}_{betas}_{num_epochs}_{drop_proba_mlr}_{jitter}.pkl'\n",
    "results_path = f'../Records/LR_results/{hots.name}_{tau_cla}_{num_sample_test}_{learning_rate}_{betas}_{num_epochs}_{drop_proba_mlr}_{jitter}.pkl'\n",
    "\n",
    "hots.coding(trainloader, trainset.ordering, trainset.classes, training=True, verbose=False)\n",
    "hots.coding(testloader, trainset.ordering, testset.classes, training=False, verbose=False)\n",
    "\n",
    "trainset_output = HOTS_Dataset(train_path, trainset.sensor_size, trainset.classes, dtype=trainset.dtype, transform=type_transform)\n",
    "trainoutputloader = get_loader(trainset_output)\n",
    "testset_output = HOTS_Dataset(test_path, trainset.sensor_size, trainset.classes, dtype=trainset.dtype, transform=type_transform)\n",
    "testoutputloader = get_loader(testset_output)\n",
    "\n",
    "if drop_proba_mlr:\n",
    "    drop_transform = tonic.transforms.DropEvent(p = drop_proba_mlr)\n",
    "    trainset_output = HOTS_Dataset(train_path, trainset.sensor_size, trainset.classes, dtype=trainset.dtype, transform=tonic.transforms.Compose([drop_transform, type_transform]))\n",
    "    trainoutputloader = get_loader(trainset_output)\n",
    "\n",
    "classif_layer, losses = fit_mlr(trainoutputloader, model_path, tau_cla, learning_rate, betas, num_epochs, ts_size, trainset.ordering, len(trainset.classes))\n",
    "\n",
    "hots_nohomeo.coding(trainloader, trainset.ordering, trainset.classes, training=True, verbose=False)\n",
    "\n",
    "train_path_nohomeo = f'../Records/output/train/{hots_nohomeo.name}_{num_sample_train}_{jitter}/'\n",
    "test_path_nohomeo = f'../Records/output/test/{hots_nohomeo.name}_{num_sample_test}_{jitter}/'\n",
    "\n",
    "trainset_output_nohomeo = HOTS_Dataset(train_path_nohomeo, trainset.sensor_size, trainset.classes, dtype=trainset.dtype, transform=type_transform)\n",
    "\n",
    "hots_nohomeo.coding(testloader, testset.ordering, testset.classes, training=False, jitter=jitter, verbose=False)\n",
    "testset_output_nohomeo = HOTS_Dataset(test_path_nohomeo, trainset.sensor_size, trainset.classes, dtype=trainset.dtype, transform=type_transform)"
   ]
  },
  {
   "cell_type": "markdown",
   "id": "d97301a0-bdce-4595-95f0-ae50fd56b372",
   "metadata": {},
   "source": [
    "## Online Inference (Figure 4-(b))"
   ]
  },
  {
   "cell_type": "code",
   "execution_count": null,
   "id": "e385305b-1b7a-4f42-91bb-d308dd5521ee",
   "metadata": {},
   "outputs": [
    {
     "name": "stderr",
     "output_type": "stream",
     "text": [
      " 54%|███████████████████████████████████████████████████████████████████████████████████████████████████████████████████████▉                                                                                                        | 5356/10000 [1:16:55<1:00:11,  1.29it/s]"
     ]
    }
   ],
   "source": [
    "likelihood, true_target, timestamps = predict_mlr(classif_layer, tau_cla, testoutputloader, results_path, ts_size, testset_output.ordering)\n",
    "score = make_histogram_classification(trainset_output, testset_output, N_neuronz[-1])\n",
    "score_nohomeo = make_histogram_classification(trainset_output_nohomeo, testset_output_nohomeo, N_neuronz[-1])"
   ]
  },
  {
   "cell_type": "code",
   "execution_count": null,
   "id": "f9f773c5-4455-435d-a44f-ac5ec1c0d77d",
   "metadata": {},
   "outputs": [],
   "source": [
    "mlr_threshold = None\n",
    "meanac, onlinac, lastac = score_classif_events(likelihood, true_target, n_classes, thres = mlr_threshold, original_accuracy = score, original_accuracy_nohomeo = score_nohomeo)#, figure_name = 'nmnist_online.pdf')"
   ]
  },
  {
   "cell_type": "code",
   "execution_count": null,
   "id": "4ed9d0a6-935a-4037-8c7b-08efa44dce07",
   "metadata": {},
   "outputs": [],
   "source": [
    "mlr_threshold = .65\n",
    "meanac_thres, onlinac_thres, lastac_thres = score_classif_events(likelihood, true_target, n_classes, thres = mlr_threshold, original_accuracy = score, original_accuracy_nohomeo = score_nohomeo)#, figure_name = 'nmnist_online.pdf')"
   ]
  },
  {
   "cell_type": "code",
   "execution_count": 8,
   "id": "722a9e76-8c53-4e52-8d5d-f41a69c13d47",
   "metadata": {},
   "outputs": [
    {
     "name": "stdout",
     "output_type": "stream",
     "text": [
      "Number of chance decisions: 0\n",
      "90th quantile for number of events: 5565.0\n",
      "Mean accuracy: 83.89999999999999%\n",
      "Last accuracy: 88.2%\n",
      "Highest probability accuracy: 88.0%\n"
     ]
    },
    {
     "data": {
      "image/png": "[encoded data removed]",
      "text/plain": [
       "<Figure size 432x288 with 1 Axes>"
      ]
     },
     "metadata": {
      "needs_background": "light"
     },
     "output_type": "display_data"
    }
   ],
   "source": [
    "meanac_thres, onlinac_thres, lastac_thres = score_classif_events(likelihood, true_target, n_classes, thres = None, online_acc = False, psycho=True)"
   ]
  },
  {
   "cell_type": "code",
   "execution_count": 9,
   "id": "2863d0cb-90d8-402a-8138-ee81c1aeee62",
   "metadata": {},
   "outputs": [
    {
     "name": "stdout",
     "output_type": "stream",
     "text": [
      "Number of chance decisions: 90\n",
      "90th quantile for number of events: 5565.0\n",
      "Mean accuracy: 92.80000000000001%\n",
      "Last accuracy: 87.7%\n",
      "Highest probability accuracy: 88.0%\n"
     ]
    },
    {
     "data": {
      "image/png": "[encoded data removed]",
      "text/plain": [
       "<Figure size 432x288 with 1 Axes>"
      ]
     },
     "metadata": {
      "needs_background": "light"
     },
     "output_type": "display_data"
    }
   ],
   "source": [
    "meanac_thres, onlinac_thres, lastac_thres = score_classif_events(likelihood, true_target, n_classes, thres = .65, online_acc = False, psycho=True)"
   ]
  },
  {
   "cell_type": "code",
   "execution_count": 22,
   "id": "f593f7f2-caaa-4826-a071-34791cb61900",
   "metadata": {},
   "outputs": [
    {
     "data": {
      "image/png": "[encoded data removed]",
      "text/plain": [
       "<Figure size 432x288 with 1 Axes>"
      ]
     },
     "metadata": {
      "needs_background": "light"
     },
     "output_type": "display_data"
    }
   ],
   "source": [
    "import matplotlib.pyplot as plt\n",
    "\n",
    "event_90th = 5565\n",
    "sampling = (np.logspace(0,np.log10(event_90th),100)).astype(int)\n",
    "\n",
    "fig, ax = plt.subplots()\n",
    "ax.semilogx(sampling[:-1],onlinac[sampling[:-1]]*100, '.', label='online HOTS (ours)');\n",
    "ax.semilogx(sampling[:-1],onlinac_thres[sampling[:-1]]*100, '.', label='online HOTS \\nwith threshold', alpha = .5);\n",
    "ax.hlines(1/n_classes*100,0,event_90th, linestyles='dashed', color='k', label='chance level')\n",
    "ax.hlines(score_nohomeo*100,0,event_90th, linestyles='dashed', color='r', label='original HOTS')\n",
    "ax.hlines(score*100,0,event_90th, linestyles='dashed', color='g', label='HOTS with homeostasis')\n",
    "ax.set_xlabel('Number of events', fontsize=16);\n",
    "ax.axis([1,event_90th,0,101]);\n",
    "#plt.title('LR classification results evolution as a function of the number of events');\n",
    "plt.setp(ax.get_xticklabels(),fontsize=12)\n",
    "#ax.set_yticks([])\n",
    "plt.setp(ax.get_yticklabels(),fontsize=12)\n",
    "ax.legend(fontsize=12, loc='lower right');\n",
    "ax.set_ylabel('Accuracy (in %)', fontsize=16);\n",
    "    #printfig(fig, figure_name)"
   ]
  },
  {
   "cell_type": "code",
   "execution_count": 23,
   "id": "54d83b6d-7cb9-4771-bd53-0e0211ef508b",
   "metadata": {},
   "outputs": [],
   "source": [
    "name = 'nmnist_online.pdf'\n",
    "\n",
    "dpi_exp = None\n",
    "bbox = 'tight'\n",
    "path = '../../manuscript/fig/'\n",
    "#path = '../../GrimaldiEtAl2020HOTS_clone_laurent/fig'\n",
    "fig.savefig(path+name, dpi = dpi_exp, bbox_inches=bbox, transparent=True)"
   ]
  },
  {
   "cell_type": "markdown",
   "id": "75378b6a-ba60-4813-afb9-cf7405f24043",
   "metadata": {},
   "source": [
    "## Robustness to spatial jitter (Figure 5-(b)-(up))"
   ]
  },
  {
   "cell_type": "code",
   "execution_count": 11,
   "id": "f2b0be4f-8598-4b5b-8245-6099f7f38ce8",
   "metadata": {},
   "outputs": [],
   "source": [
    "kfold_jitter = 10\n",
    "nb_trials = 7\n",
    "nb_points = 20\n",
    "mlr_threshold = .65\n",
    "\n",
    "trainset_output_jitter = HOTS_Dataset(train_path, trainset.sensor_size, trainset.classes, dtype=trainset.dtype, transform=type_transform)"
   ]
  },
  {
   "cell_type": "code",
   "execution_count": 13,
   "id": "6888bc1b-972b-4420-816f-f430673c7e64",
   "metadata": {},
   "outputs": [
    {
     "name": "stderr",
     "output_type": "stream",
     "text": [
      "  0%|                                                                                                                                                                                                                                                   | 0/7 [00:00<?, ?it/s]"
     ]
    },
    {
     "name": "stdout",
     "output_type": "stream",
     "text": [
      "../Records/LR_results/2022-06-15_nmnist_homeohots_True_[16, 32]_[20000.0, 160000.0]_[2, 4]_0_17000000.0_1000_0.005_(0.9, 0.999)_33_(None, None).pkl ../Records/output/test/2022-06-15_nmnist_homeohots_True_[16, 32]_[20000.0, 160000.0]_[2, 4]_0_1000_(None, None)/\n",
      "For spatial jitter equal to 0.0\n",
      "Online HOTS accuracy: 92.08574505831919 %\n",
      "Original HOTS accuracy: 94.3 %\n",
      "HOTS with homeostasis accuracy: 94.69999999999999 %\n",
      "../Records/LR_results/2022-06-15_nmnist_homeohots_True_[16, 32]_[20000.0, 160000.0]_[2, 4]_0_17000000.0_1000_0.005_(0.9, 0.999)_33_(0.27700831024930744, None).pkl ../Records/output/test/2022-06-15_nmnist_homeohots_True_[16, 32]_[20000.0, 160000.0]_[2, 4]_0_1000_(0.27700831024930744, None)/\n"
     ]
    },
    {
     "name": "stderr",
     "output_type": "stream",
     "text": [
      "/home/antoine/homhots/hotsline/hots/utils.py:487: RuntimeWarning: Mean of empty slice\n",
      "  onlinac = np.nanmean(matscor, axis=0)\n"
     ]
    },
    {
     "name": "stdout",
     "output_type": "stream",
     "text": [
      "For spatial jitter equal to 0.27700831024930744\n",
      "Online HOTS accuracy: 90.01776039023751 %\n",
      "Original HOTS accuracy: 91.4 %\n",
      "HOTS with homeostasis accuracy: 91.4 %\n",
      "../Records/LR_results/2022-06-15_nmnist_homeohots_True_[16, 32]_[20000.0, 160000.0]_[2, 4]_0_17000000.0_1000_0.005_(0.9, 0.999)_33_(1.1080332409972298, None).pkl ../Records/output/test/2022-06-15_nmnist_homeohots_True_[16, 32]_[20000.0, 160000.0]_[2, 4]_0_1000_(1.1080332409972298, None)/\n",
      "For spatial jitter equal to 1.1080332409972298\n",
      "Online HOTS accuracy: 86.95839719689778 %\n",
      "Original HOTS accuracy: 77.4 %\n",
      "HOTS with homeostasis accuracy: 74.5 %\n",
      "../Records/LR_results/2022-06-15_nmnist_homeohots_True_[16, 32]_[20000.0, 160000.0]_[2, 4]_0_17000000.0_1000_0.005_(0.9, 0.999)_33_(2.4930747922437675, None).pkl ../Records/output/test/2022-06-15_nmnist_homeohots_True_[16, 32]_[20000.0, 160000.0]_[2, 4]_0_1000_(2.4930747922437675, None)/\n"
     ]
    },
    {
     "name": "stderr",
     "output_type": "stream",
     "text": [
      "/home/antoine/homhots/hotsline/hots/utils.py:487: RuntimeWarning: Mean of empty slice\n",
      "  onlinac = np.nanmean(matscor, axis=0)\n"
     ]
    },
    {
     "name": "stdout",
     "output_type": "stream",
     "text": [
      "For spatial jitter equal to 2.4930747922437675\n",
      "Online HOTS accuracy: 81.7307464192379 %\n",
      "Original HOTS accuracy: 41.65781083953241 %\n",
      "HOTS with homeostasis accuracy: 33.2 %\n",
      "../Records/LR_results/2022-06-15_nmnist_homeohots_True_[16, 32]_[20000.0, 160000.0]_[2, 4]_0_17000000.0_1000_0.005_(0.9, 0.999)_33_(4.432132963988919, None).pkl ../Records/output/test/2022-06-15_nmnist_homeohots_True_[16, 32]_[20000.0, 160000.0]_[2, 4]_0_1000_(4.432132963988919, None)/\n"
     ]
    },
    {
     "name": "stderr",
     "output_type": "stream",
     "text": [
      "/home/antoine/homhots/hotsline/hots/utils.py:487: RuntimeWarning: Mean of empty slice\n",
      "  onlinac = np.nanmean(matscor, axis=0)\n"
     ]
    },
    {
     "name": "stdout",
     "output_type": "stream",
     "text": [
      "For spatial jitter equal to 4.432132963988919\n",
      "Online HOTS accuracy: 66.31404646837957 %\n",
      "Original HOTS accuracy: 16.7 %\n",
      "HOTS with homeostasis accuracy: 12.7 %\n",
      "../Records/LR_results/2022-06-15_nmnist_homeohots_True_[16, 32]_[20000.0, 160000.0]_[2, 4]_0_17000000.0_1000_0.005_(0.9, 0.999)_33_(6.925207756232686, None).pkl ../Records/output/test/2022-06-15_nmnist_homeohots_True_[16, 32]_[20000.0, 160000.0]_[2, 4]_0_1000_(6.925207756232686, None)/\n",
      "For spatial jitter equal to 6.925207756232686\n",
      "Online HOTS accuracy: 50.38511438351646 %\n",
      "Original HOTS accuracy: 12.4 %\n",
      "HOTS with homeostasis accuracy: 9.700000000000001 %\n",
      "../Records/LR_results/2022-06-15_nmnist_homeohots_True_[16, 32]_[20000.0, 160000.0]_[2, 4]_0_17000000.0_1000_0.005_(0.9, 0.999)_33_(9.97229916897507, None).pkl ../Records/output/test/2022-06-15_nmnist_homeohots_True_[16, 32]_[20000.0, 160000.0]_[2, 4]_0_1000_(9.97229916897507, None)/\n",
      "For spatial jitter equal to 9.97229916897507\n",
      "Online HOTS accuracy: 41.37223299054787 %\n",
      "Original HOTS accuracy: 12.3 %\n",
      "HOTS with homeostasis accuracy: 8.7 %\n",
      "../Records/LR_results/2022-06-15_nmnist_homeohots_True_[16, 32]_[20000.0, 160000.0]_[2, 4]_0_17000000.0_1000_0.005_(0.9, 0.999)_33_(13.573407202216066, None).pkl ../Records/output/test/2022-06-15_nmnist_homeohots_True_[16, 32]_[20000.0, 160000.0]_[2, 4]_0_1000_(13.573407202216066, None)/\n",
      "For spatial jitter equal to 13.573407202216066\n",
      "Online HOTS accuracy: 31.741201168904304 %\n",
      "Original HOTS accuracy: 12.5 %\n",
      "HOTS with homeostasis accuracy: 7.8 %\n",
      "../Records/LR_results/2022-06-15_nmnist_homeohots_True_[16, 32]_[20000.0, 160000.0]_[2, 4]_0_17000000.0_1000_0.005_(0.9, 0.999)_33_(17.728531855955676, None).pkl ../Records/output/test/2022-06-15_nmnist_homeohots_True_[16, 32]_[20000.0, 160000.0]_[2, 4]_0_1000_(17.728531855955676, None)/\n",
      "For spatial jitter equal to 17.728531855955676\n",
      "Online HOTS accuracy: 27.163474483077206 %\n",
      "Original HOTS accuracy: 11.899999999999999 %\n",
      "HOTS with homeostasis accuracy: 7.1 %\n",
      "../Records/LR_results/2022-06-15_nmnist_homeohots_True_[16, 32]_[20000.0, 160000.0]_[2, 4]_0_17000000.0_1000_0.005_(0.9, 0.999)_33_(22.437673130193904, None).pkl ../Records/output/test/2022-06-15_nmnist_homeohots_True_[16, 32]_[20000.0, 160000.0]_[2, 4]_0_1000_(22.437673130193904, None)/\n",
      "For spatial jitter equal to 22.437673130193904\n",
      "Online HOTS accuracy: 24.21148068751969 %\n",
      "Original HOTS accuracy: 12.5 %\n",
      "HOTS with homeostasis accuracy: 7.199999999999999 %\n",
      "../Records/LR_results/2022-06-15_nmnist_homeohots_True_[16, 32]_[20000.0, 160000.0]_[2, 4]_0_17000000.0_1000_0.005_(0.9, 0.999)_33_(27.700831024930743, None).pkl ../Records/output/test/2022-06-15_nmnist_homeohots_True_[16, 32]_[20000.0, 160000.0]_[2, 4]_0_1000_(27.700831024930743, None)/\n",
      "For spatial jitter equal to 27.700831024930743\n",
      "Online HOTS accuracy: 18.505936180512936 %\n",
      "Original HOTS accuracy: 11.700000000000001 %\n",
      "HOTS with homeostasis accuracy: 9.5 %\n",
      "../Records/LR_results/2022-06-15_nmnist_homeohots_True_[16, 32]_[20000.0, 160000.0]_[2, 4]_0_17000000.0_1000_0.005_(0.9, 0.999)_33_(33.5180055401662, None).pkl ../Records/output/test/2022-06-15_nmnist_homeohots_True_[16, 32]_[20000.0, 160000.0]_[2, 4]_0_1000_(33.5180055401662, None)/\n",
      "For spatial jitter equal to 33.5180055401662\n",
      "Online HOTS accuracy: 14.707275467978404 %\n",
      "Original HOTS accuracy: 11.700000000000001 %\n",
      "HOTS with homeostasis accuracy: 9.2 %\n",
      "../Records/LR_results/2022-06-15_nmnist_homeohots_True_[16, 32]_[20000.0, 160000.0]_[2, 4]_0_17000000.0_1000_0.005_(0.9, 0.999)_33_(39.88919667590028, None).pkl ../Records/output/test/2022-06-15_nmnist_homeohots_True_[16, 32]_[20000.0, 160000.0]_[2, 4]_0_1000_(39.88919667590028, None)/\n",
      "For spatial jitter equal to 39.88919667590028\n",
      "Online HOTS accuracy: 15.696995196905036 %\n",
      "Original HOTS accuracy: 12.9 %\n",
      "HOTS with homeostasis accuracy: 10.0 %\n",
      "../Records/LR_results/2022-06-15_nmnist_homeohots_True_[16, 32]_[20000.0, 160000.0]_[2, 4]_0_17000000.0_1000_0.005_(0.9, 0.999)_33_(46.81440443213296, None).pkl ../Records/output/test/2022-06-15_nmnist_homeohots_True_[16, 32]_[20000.0, 160000.0]_[2, 4]_0_1000_(46.81440443213296, None)/\n",
      "For spatial jitter equal to 46.81440443213296\n",
      "Online HOTS accuracy: 12.206571710109724 %\n",
      "Original HOTS accuracy: 10.299999999999999 %\n",
      "HOTS with homeostasis accuracy: 10.0 %\n",
      "../Records/LR_results/2022-06-15_nmnist_homeohots_True_[16, 32]_[20000.0, 160000.0]_[2, 4]_0_17000000.0_1000_0.005_(0.9, 0.999)_33_(54.29362880886426, None).pkl ../Records/output/test/2022-06-15_nmnist_homeohots_True_[16, 32]_[20000.0, 160000.0]_[2, 4]_0_1000_(54.29362880886426, None)/\n",
      "For spatial jitter equal to 54.29362880886426\n",
      "Online HOTS accuracy: 12.311747031512306 %\n",
      "Original HOTS accuracy: 11.700000000000001 %\n",
      "HOTS with homeostasis accuracy: 9.8 %\n",
      "../Records/LR_results/2022-06-15_nmnist_homeohots_True_[16, 32]_[20000.0, 160000.0]_[2, 4]_0_17000000.0_1000_0.005_(0.9, 0.999)_33_(62.32686980609418, None).pkl ../Records/output/test/2022-06-15_nmnist_homeohots_True_[16, 32]_[20000.0, 160000.0]_[2, 4]_0_1000_(62.32686980609418, None)/\n",
      "For spatial jitter equal to 62.32686980609418\n",
      "Online HOTS accuracy: 11.152927029041749 %\n",
      "Original HOTS accuracy: 10.9 %\n",
      "HOTS with homeostasis accuracy: 9.9 %\n",
      "../Records/LR_results/2022-06-15_nmnist_homeohots_True_[16, 32]_[20000.0, 160000.0]_[2, 4]_0_17000000.0_1000_0.005_(0.9, 0.999)_33_(70.9141274238227, None).pkl ../Records/output/test/2022-06-15_nmnist_homeohots_True_[16, 32]_[20000.0, 160000.0]_[2, 4]_0_1000_(70.9141274238227, None)/\n",
      "For spatial jitter equal to 70.9141274238227\n",
      "Online HOTS accuracy: 10.534837044102101 %\n",
      "Original HOTS accuracy: 10.2 %\n",
      "HOTS with homeostasis accuracy: 10.0 %\n",
      "../Records/LR_results/2022-06-15_nmnist_homeohots_True_[16, 32]_[20000.0, 160000.0]_[2, 4]_0_17000000.0_1000_0.005_(0.9, 0.999)_33_(80.05540166204986, None).pkl ../Records/output/test/2022-06-15_nmnist_homeohots_True_[16, 32]_[20000.0, 160000.0]_[2, 4]_0_1000_(80.05540166204986, None)/\n",
      "For spatial jitter equal to 80.05540166204986\n",
      "Online HOTS accuracy: 10.02440898134154 %\n",
      "Original HOTS accuracy: 9.8 %\n",
      "HOTS with homeostasis accuracy: 10.0 %\n",
      "../Records/LR_results/2022-06-15_nmnist_homeohots_True_[16, 32]_[20000.0, 160000.0]_[2, 4]_0_17000000.0_1000_0.005_(0.9, 0.999)_33_(89.75069252077562, None).pkl ../Records/output/test/2022-06-15_nmnist_homeohots_True_[16, 32]_[20000.0, 160000.0]_[2, 4]_0_1000_(89.75069252077562, None)/\n",
      "For spatial jitter equal to 89.75069252077562\n",
      "Online HOTS accuracy: 9.181243164593173 %\n",
      "Original HOTS accuracy: 8.1 %\n",
      "HOTS with homeostasis accuracy: 10.0 %\n",
      "../Records/LR_results/2022-06-15_nmnist_homeohots_True_[16, 32]_[20000.0, 160000.0]_[2, 4]_0_17000000.0_1000_0.005_(0.9, 0.999)_33_(100.0, None).pkl ../Records/output/test/2022-06-15_nmnist_homeohots_True_[16, 32]_[20000.0, 160000.0]_[2, 4]_0_1000_(100.0, None)/\n"
     ]
    },
    {
     "name": "stderr",
     "output_type": "stream",
     "text": [
      " 14%|████████████████████████████████▋                                                                                                                                                                                                    | 1/7 [1:25:04<8:30:29, 5104.90s/it]"
     ]
    },
    {
     "name": "stdout",
     "output_type": "stream",
     "text": [
      "For spatial jitter equal to 100.0\n",
      "Online HOTS accuracy: 8.908337659399841 %\n",
      "Original HOTS accuracy: 9.9 %\n",
      "HOTS with homeostasis accuracy: 9.9 %\n",
      "../Records/LR_results/2022-06-15_nmnist_homeohots_True_[16, 32]_[20000.0, 160000.0]_[2, 4]_1_17000000.0_1000_0.005_(0.9, 0.999)_33_(None, None).pkl ../Records/output/test/2022-06-15_nmnist_homeohots_True_[16, 32]_[20000.0, 160000.0]_[2, 4]_1_1000_(None, None)/\n",
      "For spatial jitter equal to 0.0\n",
      "Online HOTS accuracy: 92.08574505831919 %\n",
      "Original HOTS accuracy: 94.3 %\n",
      "HOTS with homeostasis accuracy: 94.69999999999999 %\n",
      "../Records/LR_results/2022-06-15_nmnist_homeohots_True_[16, 32]_[20000.0, 160000.0]_[2, 4]_1_17000000.0_1000_0.005_(0.9, 0.999)_33_(0.27700831024930744, None).pkl ../Records/output/test/2022-06-15_nmnist_homeohots_True_[16, 32]_[20000.0, 160000.0]_[2, 4]_1_1000_(0.27700831024930744, None)/\n",
      "For spatial jitter equal to 0.27700831024930744\n",
      "Online HOTS accuracy: 89.8544723402497 %\n",
      "Original HOTS accuracy: 91.5 %\n",
      "HOTS with homeostasis accuracy: 92.2 %\n",
      "../Records/LR_results/2022-06-15_nmnist_homeohots_True_[16, 32]_[20000.0, 160000.0]_[2, 4]_1_17000000.0_1000_0.005_(0.9, 0.999)_33_(1.1080332409972298, None).pkl ../Records/output/test/2022-06-15_nmnist_homeohots_True_[16, 32]_[20000.0, 160000.0]_[2, 4]_1_1000_(1.1080332409972298, None)/\n",
      "For spatial jitter equal to 1.1080332409972298\n",
      "Online HOTS accuracy: 86.53929324205188 %\n",
      "Original HOTS accuracy: 76.9 %\n",
      "HOTS with homeostasis accuracy: 75.5 %\n",
      "../Records/LR_results/2022-06-15_nmnist_homeohots_True_[16, 32]_[20000.0, 160000.0]_[2, 4]_1_17000000.0_1000_0.005_(0.9, 0.999)_33_(2.4930747922437675, None).pkl ../Records/output/test/2022-06-15_nmnist_homeohots_True_[16, 32]_[20000.0, 160000.0]_[2, 4]_1_1000_(2.4930747922437675, None)/\n"
     ]
    },
    {
     "name": "stderr",
     "output_type": "stream",
     "text": [
      "/home/antoine/homhots/hotsline/hots/utils.py:487: RuntimeWarning: Mean of empty slice\n",
      "  onlinac = np.nanmean(matscor, axis=0)\n"
     ]
    },
    {
     "name": "stdout",
     "output_type": "stream",
     "text": [
      "For spatial jitter equal to 2.4930747922437675\n",
      "Online HOTS accuracy: 80.0079627806257 %\n",
      "Original HOTS accuracy: 40.6 %\n",
      "HOTS with homeostasis accuracy: 33.0 %\n",
      "../Records/LR_results/2022-06-15_nmnist_homeohots_True_[16, 32]_[20000.0, 160000.0]_[2, 4]_1_17000000.0_1000_0.005_(0.9, 0.999)_33_(4.432132963988919, None).pkl ../Records/output/test/2022-06-15_nmnist_homeohots_True_[16, 32]_[20000.0, 160000.0]_[2, 4]_1_1000_(4.432132963988919, None)/\n"
     ]
    },
    {
     "name": "stderr",
     "output_type": "stream",
     "text": [
      "/home/antoine/homhots/hotsline/hots/utils.py:487: RuntimeWarning: Mean of empty slice\n",
      "  onlinac = np.nanmean(matscor, axis=0)\n"
     ]
    },
    {
     "name": "stdout",
     "output_type": "stream",
     "text": [
      "For spatial jitter equal to 4.432132963988919\n",
      "Online HOTS accuracy: 65.72332118828783 %\n",
      "Original HOTS accuracy: 16.3 %\n",
      "HOTS with homeostasis accuracy: 12.7 %\n",
      "../Records/LR_results/2022-06-15_nmnist_homeohots_True_[16, 32]_[20000.0, 160000.0]_[2, 4]_1_17000000.0_1000_0.005_(0.9, 0.999)_33_(6.925207756232686, None).pkl ../Records/output/test/2022-06-15_nmnist_homeohots_True_[16, 32]_[20000.0, 160000.0]_[2, 4]_1_1000_(6.925207756232686, None)/\n"
     ]
    },
    {
     "name": "stderr",
     "output_type": "stream",
     "text": [
      "/home/antoine/homhots/hotsline/hots/utils.py:487: RuntimeWarning: Mean of empty slice\n",
      "  onlinac = np.nanmean(matscor, axis=0)\n"
     ]
    },
    {
     "name": "stdout",
     "output_type": "stream",
     "text": [
      "For spatial jitter equal to 6.925207756232686\n",
      "Online HOTS accuracy: 51.62924901069782 %\n",
      "Original HOTS accuracy: 12.4 %\n",
      "HOTS with homeostasis accuracy: 9.5 %\n",
      "../Records/LR_results/2022-06-15_nmnist_homeohots_True_[16, 32]_[20000.0, 160000.0]_[2, 4]_1_17000000.0_1000_0.005_(0.9, 0.999)_33_(9.97229916897507, None).pkl ../Records/output/test/2022-06-15_nmnist_homeohots_True_[16, 32]_[20000.0, 160000.0]_[2, 4]_1_1000_(9.97229916897507, None)/\n",
      "For spatial jitter equal to 9.97229916897507\n",
      "Online HOTS accuracy: 39.64982542978587 %\n",
      "Original HOTS accuracy: 12.3 %\n",
      "HOTS with homeostasis accuracy: 8.799999999999999 %\n",
      "../Records/LR_results/2022-06-15_nmnist_homeohots_True_[16, 32]_[20000.0, 160000.0]_[2, 4]_1_17000000.0_1000_0.005_(0.9, 0.999)_33_(13.573407202216066, None).pkl ../Records/output/test/2022-06-15_nmnist_homeohots_True_[16, 32]_[20000.0, 160000.0]_[2, 4]_1_1000_(13.573407202216066, None)/\n"
     ]
    },
    {
     "name": "stderr",
     "output_type": "stream",
     "text": [
      "/home/antoine/homhots/hotsline/hots/utils.py:487: RuntimeWarning: Mean of empty slice\n",
      "  onlinac = np.nanmean(matscor, axis=0)\n"
     ]
    },
    {
     "name": "stdout",
     "output_type": "stream",
     "text": [
      "For spatial jitter equal to 13.573407202216066\n",
      "Online HOTS accuracy: 31.433406207097043 %\n",
      "Original HOTS accuracy: 11.799999999999999 %\n",
      "HOTS with homeostasis accuracy: 8.4 %\n",
      "../Records/LR_results/2022-06-15_nmnist_homeohots_True_[16, 32]_[20000.0, 160000.0]_[2, 4]_1_17000000.0_1000_0.005_(0.9, 0.999)_33_(17.728531855955676, None).pkl ../Records/output/test/2022-06-15_nmnist_homeohots_True_[16, 32]_[20000.0, 160000.0]_[2, 4]_1_1000_(17.728531855955676, None)/\n",
      "For spatial jitter equal to 17.728531855955676\n",
      "Online HOTS accuracy: 27.236576352156007 %\n",
      "Original HOTS accuracy: 12.3 %\n",
      "HOTS with homeostasis accuracy: 6.5 %\n",
      "../Records/LR_results/2022-06-15_nmnist_homeohots_True_[16, 32]_[20000.0, 160000.0]_[2, 4]_1_17000000.0_1000_0.005_(0.9, 0.999)_33_(22.437673130193904, None).pkl ../Records/output/test/2022-06-15_nmnist_homeohots_True_[16, 32]_[20000.0, 160000.0]_[2, 4]_1_1000_(22.437673130193904, None)/\n",
      "For spatial jitter equal to 22.437673130193904\n",
      "Online HOTS accuracy: 23.936225836026665 %\n",
      "Original HOTS accuracy: 12.2 %\n",
      "HOTS with homeostasis accuracy: 7.3 %\n",
      "../Records/LR_results/2022-06-15_nmnist_homeohots_True_[16, 32]_[20000.0, 160000.0]_[2, 4]_1_17000000.0_1000_0.005_(0.9, 0.999)_33_(27.700831024930743, None).pkl ../Records/output/test/2022-06-15_nmnist_homeohots_True_[16, 32]_[20000.0, 160000.0]_[2, 4]_1_1000_(27.700831024930743, None)/\n",
      "For spatial jitter equal to 27.700831024930743\n",
      "Online HOTS accuracy: 20.520013436101355 %\n",
      "Original HOTS accuracy: 13.100000000000001 %\n",
      "HOTS with homeostasis accuracy: 8.9 %\n",
      "../Records/LR_results/2022-06-15_nmnist_homeohots_True_[16, 32]_[20000.0, 160000.0]_[2, 4]_1_17000000.0_1000_0.005_(0.9, 0.999)_33_(33.5180055401662, None).pkl ../Records/output/test/2022-06-15_nmnist_homeohots_True_[16, 32]_[20000.0, 160000.0]_[2, 4]_1_1000_(33.5180055401662, None)/\n",
      "For spatial jitter equal to 33.5180055401662\n",
      "Online HOTS accuracy: 17.572144477504825 %\n",
      "Original HOTS accuracy: 11.4 %\n",
      "HOTS with homeostasis accuracy: 10.2 %\n",
      "../Records/LR_results/2022-06-15_nmnist_homeohots_True_[16, 32]_[20000.0, 160000.0]_[2, 4]_1_17000000.0_1000_0.005_(0.9, 0.999)_33_(39.88919667590028, None).pkl ../Records/output/test/2022-06-15_nmnist_homeohots_True_[16, 32]_[20000.0, 160000.0]_[2, 4]_1_1000_(39.88919667590028, None)/\n",
      "For spatial jitter equal to 39.88919667590028\n",
      "Online HOTS accuracy: 14.88306750127146 %\n",
      "Original HOTS accuracy: 13.8 %\n",
      "HOTS with homeostasis accuracy: 10.0 %\n",
      "../Records/LR_results/2022-06-15_nmnist_homeohots_True_[16, 32]_[20000.0, 160000.0]_[2, 4]_1_17000000.0_1000_0.005_(0.9, 0.999)_33_(46.81440443213296, None).pkl ../Records/output/test/2022-06-15_nmnist_homeohots_True_[16, 32]_[20000.0, 160000.0]_[2, 4]_1_1000_(46.81440443213296, None)/\n",
      "For spatial jitter equal to 46.81440443213296\n",
      "Online HOTS accuracy: 13.725609904313549 %\n",
      "Original HOTS accuracy: 11.200000000000001 %\n",
      "HOTS with homeostasis accuracy: 9.8 %\n",
      "../Records/LR_results/2022-06-15_nmnist_homeohots_True_[16, 32]_[20000.0, 160000.0]_[2, 4]_1_17000000.0_1000_0.005_(0.9, 0.999)_33_(54.29362880886426, None).pkl ../Records/output/test/2022-06-15_nmnist_homeohots_True_[16, 32]_[20000.0, 160000.0]_[2, 4]_1_1000_(54.29362880886426, None)/\n",
      "For spatial jitter equal to 54.29362880886426\n",
      "Online HOTS accuracy: 12.010713520969801 %\n",
      "Original HOTS accuracy: 12.6 %\n",
      "HOTS with homeostasis accuracy: 10.0 %\n",
      "../Records/LR_results/2022-06-15_nmnist_homeohots_True_[16, 32]_[20000.0, 160000.0]_[2, 4]_1_17000000.0_1000_0.005_(0.9, 0.999)_33_(62.32686980609418, None).pkl ../Records/output/test/2022-06-15_nmnist_homeohots_True_[16, 32]_[20000.0, 160000.0]_[2, 4]_1_1000_(62.32686980609418, None)/\n",
      "For spatial jitter equal to 62.32686980609418\n",
      "Online HOTS accuracy: 11.286158506500213 %\n",
      "Original HOTS accuracy: 11.200000000000001 %\n",
      "HOTS with homeostasis accuracy: 10.0 %\n",
      "../Records/LR_results/2022-06-15_nmnist_homeohots_True_[16, 32]_[20000.0, 160000.0]_[2, 4]_1_17000000.0_1000_0.005_(0.9, 0.999)_33_(70.9141274238227, None).pkl ../Records/output/test/2022-06-15_nmnist_homeohots_True_[16, 32]_[20000.0, 160000.0]_[2, 4]_1_1000_(70.9141274238227, None)/\n",
      "For spatial jitter equal to 70.9141274238227\n",
      "Online HOTS accuracy: 11.374695824846274 %\n",
      "Original HOTS accuracy: 11.4 %\n",
      "HOTS with homeostasis accuracy: 10.0 %\n",
      "../Records/LR_results/2022-06-15_nmnist_homeohots_True_[16, 32]_[20000.0, 160000.0]_[2, 4]_1_17000000.0_1000_0.005_(0.9, 0.999)_33_(80.05540166204986, None).pkl ../Records/output/test/2022-06-15_nmnist_homeohots_True_[16, 32]_[20000.0, 160000.0]_[2, 4]_1_1000_(80.05540166204986, None)/\n",
      "For spatial jitter equal to 80.05540166204986\n",
      "Online HOTS accuracy: 10.50598917698402 %\n",
      "Original HOTS accuracy: 10.100000000000001 %\n",
      "HOTS with homeostasis accuracy: 10.0 %\n",
      "../Records/LR_results/2022-06-15_nmnist_homeohots_True_[16, 32]_[20000.0, 160000.0]_[2, 4]_1_17000000.0_1000_0.005_(0.9, 0.999)_33_(89.75069252077562, None).pkl ../Records/output/test/2022-06-15_nmnist_homeohots_True_[16, 32]_[20000.0, 160000.0]_[2, 4]_1_1000_(89.75069252077562, None)/\n",
      "For spatial jitter equal to 89.75069252077562\n",
      "Online HOTS accuracy: 10.509693328142045 %\n",
      "Original HOTS accuracy: 11.1 %\n",
      "HOTS with homeostasis accuracy: 10.0 %\n",
      "../Records/LR_results/2022-06-15_nmnist_homeohots_True_[16, 32]_[20000.0, 160000.0]_[2, 4]_1_17000000.0_1000_0.005_(0.9, 0.999)_33_(100.0, None).pkl ../Records/output/test/2022-06-15_nmnist_homeohots_True_[16, 32]_[20000.0, 160000.0]_[2, 4]_1_1000_(100.0, None)/\n"
     ]
    },
    {
     "name": "stderr",
     "output_type": "stream",
     "text": [
      " 29%|█████████████████████████████████████████████████████████████████▍                                                                                                                                                                   | 2/7 [3:00:58<7:37:13, 5486.67s/it]"
     ]
    },
    {
     "name": "stdout",
     "output_type": "stream",
     "text": [
      "For spatial jitter equal to 100.0\n",
      "Online HOTS accuracy: 10.209422103901801 %\n",
      "Original HOTS accuracy: 9.8 %\n",
      "HOTS with homeostasis accuracy: 10.0 %\n",
      "../Records/LR_results/2022-06-15_nmnist_homeohots_True_[16, 32]_[20000.0, 160000.0]_[2, 4]_2_17000000.0_1000_0.005_(0.9, 0.999)_33_(None, None).pkl ../Records/output/test/2022-06-15_nmnist_homeohots_True_[16, 32]_[20000.0, 160000.0]_[2, 4]_2_1000_(None, None)/\n",
      "For spatial jitter equal to 0.0\n",
      "Online HOTS accuracy: 92.28503026114494 %\n",
      "Original HOTS accuracy: 94.3 %\n",
      "HOTS with homeostasis accuracy: 94.69999999999999 %\n",
      "../Records/LR_results/2022-06-15_nmnist_homeohots_True_[16, 32]_[20000.0, 160000.0]_[2, 4]_2_17000000.0_1000_0.005_(0.9, 0.999)_33_(0.27700831024930744, None).pkl ../Records/output/test/2022-06-15_nmnist_homeohots_True_[16, 32]_[20000.0, 160000.0]_[2, 4]_2_1000_(0.27700831024930744, None)/\n",
      "For spatial jitter equal to 0.27700831024930744\n",
      "Online HOTS accuracy: 89.29868830633254 %\n",
      "Original HOTS accuracy: 90.4 %\n",
      "HOTS with homeostasis accuracy: 92.4 %\n",
      "../Records/LR_results/2022-06-15_nmnist_homeohots_True_[16, 32]_[20000.0, 160000.0]_[2, 4]_2_17000000.0_1000_0.005_(0.9, 0.999)_33_(1.1080332409972298, None).pkl ../Records/output/test/2022-06-15_nmnist_homeohots_True_[16, 32]_[20000.0, 160000.0]_[2, 4]_2_1000_(1.1080332409972298, None)/\n",
      "For spatial jitter equal to 1.1080332409972298\n",
      "Online HOTS accuracy: 87.53082925286768 %\n",
      "Original HOTS accuracy: 74.9 %\n",
      "HOTS with homeostasis accuracy: 76.5 %\n",
      "../Records/LR_results/2022-06-15_nmnist_homeohots_True_[16, 32]_[20000.0, 160000.0]_[2, 4]_2_17000000.0_1000_0.005_(0.9, 0.999)_33_(2.4930747922437675, None).pkl ../Records/output/test/2022-06-15_nmnist_homeohots_True_[16, 32]_[20000.0, 160000.0]_[2, 4]_2_1000_(2.4930747922437675, None)/\n"
     ]
    },
    {
     "name": "stderr",
     "output_type": "stream",
     "text": [
      "/home/antoine/homhots/hotsline/hots/utils.py:487: RuntimeWarning: Mean of empty slice\n",
      "  onlinac = np.nanmean(matscor, axis=0)\n"
     ]
    },
    {
     "name": "stdout",
     "output_type": "stream",
     "text": [
      "For spatial jitter equal to 2.4930747922437675\n",
      "Online HOTS accuracy: 80.2298507592046 %\n",
      "Original HOTS accuracy: 39.2 %\n",
      "HOTS with homeostasis accuracy: 32.4 %\n",
      "../Records/LR_results/2022-06-15_nmnist_homeohots_True_[16, 32]_[20000.0, 160000.0]_[2, 4]_2_17000000.0_1000_0.005_(0.9, 0.999)_33_(4.432132963988919, None).pkl ../Records/output/test/2022-06-15_nmnist_homeohots_True_[16, 32]_[20000.0, 160000.0]_[2, 4]_2_1000_(4.432132963988919, None)/\n"
     ]
    },
    {
     "name": "stderr",
     "output_type": "stream",
     "text": [
      "/home/antoine/homhots/hotsline/hots/utils.py:487: RuntimeWarning: Mean of empty slice\n",
      "  onlinac = np.nanmean(matscor, axis=0)\n"
     ]
    },
    {
     "name": "stdout",
     "output_type": "stream",
     "text": [
      "For spatial jitter equal to 4.432132963988919\n",
      "Online HOTS accuracy: 66.80151065323257 %\n",
      "Original HOTS accuracy: 16.8 %\n",
      "HOTS with homeostasis accuracy: 12.6 %\n",
      "../Records/LR_results/2022-06-15_nmnist_homeohots_True_[16, 32]_[20000.0, 160000.0]_[2, 4]_2_17000000.0_1000_0.005_(0.9, 0.999)_33_(6.925207756232686, None).pkl ../Records/output/test/2022-06-15_nmnist_homeohots_True_[16, 32]_[20000.0, 160000.0]_[2, 4]_2_1000_(6.925207756232686, None)/\n",
      "For spatial jitter equal to 6.925207756232686\n",
      "Online HOTS accuracy: 52.44820285677727 %\n",
      "Original HOTS accuracy: 12.8 %\n",
      "HOTS with homeostasis accuracy: 9.8 %\n",
      "../Records/LR_results/2022-06-15_nmnist_homeohots_True_[16, 32]_[20000.0, 160000.0]_[2, 4]_2_17000000.0_1000_0.005_(0.9, 0.999)_33_(9.97229916897507, None).pkl ../Records/output/test/2022-06-15_nmnist_homeohots_True_[16, 32]_[20000.0, 160000.0]_[2, 4]_2_1000_(9.97229916897507, None)/\n"
     ]
    },
    {
     "name": "stderr",
     "output_type": "stream",
     "text": [
      "/home/antoine/homhots/hotsline/hots/utils.py:487: RuntimeWarning: Mean of empty slice\n",
      "  onlinac = np.nanmean(matscor, axis=0)\n"
     ]
    },
    {
     "name": "stdout",
     "output_type": "stream",
     "text": [
      "For spatial jitter equal to 9.97229916897507\n",
      "Online HOTS accuracy: 40.345263515654345 %\n",
      "Original HOTS accuracy: 12.2 %\n",
      "HOTS with homeostasis accuracy: 8.1 %\n",
      "../Records/LR_results/2022-06-15_nmnist_homeohots_True_[16, 32]_[20000.0, 160000.0]_[2, 4]_2_17000000.0_1000_0.005_(0.9, 0.999)_33_(13.573407202216066, None).pkl ../Records/output/test/2022-06-15_nmnist_homeohots_True_[16, 32]_[20000.0, 160000.0]_[2, 4]_2_1000_(13.573407202216066, None)/\n",
      "For spatial jitter equal to 13.573407202216066\n",
      "Online HOTS accuracy: 31.996740681068157 %\n",
      "Original HOTS accuracy: 11.5 %\n",
      "HOTS with homeostasis accuracy: 7.000000000000001 %\n",
      "../Records/LR_results/2022-06-15_nmnist_homeohots_True_[16, 32]_[20000.0, 160000.0]_[2, 4]_2_17000000.0_1000_0.005_(0.9, 0.999)_33_(17.728531855955676, None).pkl ../Records/output/test/2022-06-15_nmnist_homeohots_True_[16, 32]_[20000.0, 160000.0]_[2, 4]_2_1000_(17.728531855955676, None)/\n",
      "For spatial jitter equal to 17.728531855955676\n",
      "Online HOTS accuracy: 26.881404888424264 %\n",
      "Original HOTS accuracy: 12.5 %\n",
      "HOTS with homeostasis accuracy: 7.5 %\n",
      "../Records/LR_results/2022-06-15_nmnist_homeohots_True_[16, 32]_[20000.0, 160000.0]_[2, 4]_2_17000000.0_1000_0.005_(0.9, 0.999)_33_(22.437673130193904, None).pkl ../Records/output/test/2022-06-15_nmnist_homeohots_True_[16, 32]_[20000.0, 160000.0]_[2, 4]_2_1000_(22.437673130193904, None)/\n",
      "For spatial jitter equal to 22.437673130193904\n",
      "Online HOTS accuracy: 24.15715523411308 %\n",
      "Original HOTS accuracy: 12.1 %\n",
      "HOTS with homeostasis accuracy: 7.000000000000001 %\n",
      "../Records/LR_results/2022-06-15_nmnist_homeohots_True_[16, 32]_[20000.0, 160000.0]_[2, 4]_2_17000000.0_1000_0.005_(0.9, 0.999)_33_(27.700831024930743, None).pkl ../Records/output/test/2022-06-15_nmnist_homeohots_True_[16, 32]_[20000.0, 160000.0]_[2, 4]_2_1000_(27.700831024930743, None)/\n",
      "For spatial jitter equal to 27.700831024930743\n",
      "Online HOTS accuracy: 19.350042033117468 %\n",
      "Original HOTS accuracy: 13.0 %\n",
      "HOTS with homeostasis accuracy: 8.200000000000001 %\n",
      "../Records/LR_results/2022-06-15_nmnist_homeohots_True_[16, 32]_[20000.0, 160000.0]_[2, 4]_2_17000000.0_1000_0.005_(0.9, 0.999)_33_(33.5180055401662, None).pkl ../Records/output/test/2022-06-15_nmnist_homeohots_True_[16, 32]_[20000.0, 160000.0]_[2, 4]_2_1000_(33.5180055401662, None)/\n",
      "For spatial jitter equal to 33.5180055401662\n",
      "Online HOTS accuracy: 16.34328341959548 %\n",
      "Original HOTS accuracy: 13.3 %\n",
      "HOTS with homeostasis accuracy: 9.1 %\n",
      "../Records/LR_results/2022-06-15_nmnist_homeohots_True_[16, 32]_[20000.0, 160000.0]_[2, 4]_2_17000000.0_1000_0.005_(0.9, 0.999)_33_(39.88919667590028, None).pkl ../Records/output/test/2022-06-15_nmnist_homeohots_True_[16, 32]_[20000.0, 160000.0]_[2, 4]_2_1000_(39.88919667590028, None)/\n",
      "For spatial jitter equal to 39.88919667590028\n",
      "Online HOTS accuracy: 13.267738615698354 %\n",
      "Original HOTS accuracy: 12.2 %\n",
      "HOTS with homeostasis accuracy: 9.4 %\n",
      "../Records/LR_results/2022-06-15_nmnist_homeohots_True_[16, 32]_[20000.0, 160000.0]_[2, 4]_2_17000000.0_1000_0.005_(0.9, 0.999)_33_(46.81440443213296, None).pkl ../Records/output/test/2022-06-15_nmnist_homeohots_True_[16, 32]_[20000.0, 160000.0]_[2, 4]_2_1000_(46.81440443213296, None)/\n",
      "For spatial jitter equal to 46.81440443213296\n",
      "Online HOTS accuracy: 13.030104809506515 %\n",
      "Original HOTS accuracy: 12.7 %\n",
      "HOTS with homeostasis accuracy: 9.9 %\n",
      "../Records/LR_results/2022-06-15_nmnist_homeohots_True_[16, 32]_[20000.0, 160000.0]_[2, 4]_2_17000000.0_1000_0.005_(0.9, 0.999)_33_(54.29362880886426, None).pkl ../Records/output/test/2022-06-15_nmnist_homeohots_True_[16, 32]_[20000.0, 160000.0]_[2, 4]_2_1000_(54.29362880886426, None)/\n",
      "For spatial jitter equal to 54.29362880886426\n",
      "Online HOTS accuracy: 13.08199699676307 %\n",
      "Original HOTS accuracy: 12.9 %\n",
      "HOTS with homeostasis accuracy: 10.0 %\n",
      "../Records/LR_results/2022-06-15_nmnist_homeohots_True_[16, 32]_[20000.0, 160000.0]_[2, 4]_2_17000000.0_1000_0.005_(0.9, 0.999)_33_(62.32686980609418, None).pkl ../Records/output/test/2022-06-15_nmnist_homeohots_True_[16, 32]_[20000.0, 160000.0]_[2, 4]_2_1000_(62.32686980609418, None)/\n",
      "For spatial jitter equal to 62.32686980609418\n",
      "Online HOTS accuracy: 10.647983288113146 %\n",
      "Original HOTS accuracy: 10.2 %\n",
      "HOTS with homeostasis accuracy: 10.0 %\n",
      "../Records/LR_results/2022-06-15_nmnist_homeohots_True_[16, 32]_[20000.0, 160000.0]_[2, 4]_2_17000000.0_1000_0.005_(0.9, 0.999)_33_(70.9141274238227, None).pkl ../Records/output/test/2022-06-15_nmnist_homeohots_True_[16, 32]_[20000.0, 160000.0]_[2, 4]_2_1000_(70.9141274238227, None)/\n"
     ]
    },
    {
     "name": "stderr",
     "output_type": "stream",
     "text": [
      " 29%|█████████████████████████████████████████████████████████████████▏                                                                                                                                                                  | 2/7 [4:31:29<11:18:42, 8144.52s/it]\n"
     ]
    },
    {
     "ename": "KeyboardInterrupt",
     "evalue": "",
     "output_type": "error",
     "traceback": [
      "\u001b[0;31m---------------------------------------------------------------------------\u001b[0m",
      "\u001b[0;31mKeyboardInterrupt\u001b[0m                         Traceback (most recent call last)",
      "Input \u001b[0;32mIn [13]\u001b[0m, in \u001b[0;36m<module>\u001b[0;34m\u001b[0m\n\u001b[1;32m      3\u001b[0m standard_spatial_jitter_min \u001b[38;5;241m=\u001b[39m \u001b[38;5;241m0\u001b[39m\n\u001b[1;32m      4\u001b[0m standard_spatial_jitter_max \u001b[38;5;241m=\u001b[39m \u001b[38;5;241m10\u001b[39m\n\u001b[0;32m----> 5\u001b[0m \u001b[43mapply_jitter\u001b[49m\u001b[43m(\u001b[49m\u001b[43mstandard_spatial_jitter_min\u001b[49m\u001b[43m,\u001b[49m\u001b[43m \u001b[49m\u001b[43mstandard_spatial_jitter_max\u001b[49m\u001b[43m,\u001b[49m\u001b[43m \u001b[49m\u001b[38;5;124;43m'\u001b[39;49m\u001b[38;5;124;43mspatial\u001b[39;49m\u001b[38;5;124;43m'\u001b[39;49m\u001b[43m,\u001b[49m\u001b[43m \u001b[49m\u001b[43mhots\u001b[49m\u001b[43m,\u001b[49m\u001b[43m \u001b[49m\u001b[43mhots_nohomeo\u001b[49m\u001b[43m,\u001b[49m\u001b[43m \u001b[49m\u001b[43mclassif_layer\u001b[49m\u001b[43m,\u001b[49m\u001b[43m \u001b[49m\u001b[43mtau_cla\u001b[49m\u001b[43m,\u001b[49m\u001b[43m \u001b[49m\u001b[43mdataset_name\u001b[49m\u001b[43m,\u001b[49m\u001b[43m \u001b[49m\u001b[43mtrainset_output_jitter\u001b[49m\u001b[43m,\u001b[49m\u001b[43m \u001b[49m\u001b[43mtrainset_output_nohomeo\u001b[49m\u001b[43m,\u001b[49m\u001b[43m \u001b[49m\u001b[43mlearning_rate\u001b[49m\u001b[43m \u001b[49m\u001b[43m,\u001b[49m\u001b[43mbetas\u001b[49m\u001b[43m \u001b[49m\u001b[43m,\u001b[49m\u001b[43mnum_epochs\u001b[49m\u001b[43m,\u001b[49m\u001b[43m \u001b[49m\u001b[43mfiltering_threshold\u001b[49m\u001b[43m \u001b[49m\u001b[38;5;241;43m=\u001b[39;49m\u001b[43m \u001b[49m\u001b[43mfiltering_threshold\u001b[49m\u001b[43m,\u001b[49m\u001b[43m \u001b[49m\u001b[43mkfold\u001b[49m\u001b[43m \u001b[49m\u001b[38;5;241;43m=\u001b[39;49m\u001b[43m \u001b[49m\u001b[43mkfold_jitter\u001b[49m\u001b[43m,\u001b[49m\u001b[43m \u001b[49m\u001b[43mnb_trials\u001b[49m\u001b[43m \u001b[49m\u001b[38;5;241;43m=\u001b[39;49m\u001b[43m \u001b[49m\u001b[43mnb_trials\u001b[49m\u001b[43m,\u001b[49m\u001b[43m \u001b[49m\u001b[43mnb_points\u001b[49m\u001b[43m \u001b[49m\u001b[38;5;241;43m=\u001b[39;49m\u001b[43m \u001b[49m\u001b[43mnb_points\u001b[49m\u001b[43m,\u001b[49m\u001b[43m \u001b[49m\u001b[43mmlr_threshold\u001b[49m\u001b[43m \u001b[49m\u001b[38;5;241;43m=\u001b[39;49m\u001b[43m \u001b[49m\u001b[43mmlr_threshold\u001b[49m\u001b[43m,\u001b[49m\u001b[43m \u001b[49m\u001b[43mfitting\u001b[49m\u001b[43m \u001b[49m\u001b[38;5;241;43m=\u001b[39;49m\u001b[43m \u001b[49m\u001b[38;5;28;43;01mTrue\u001b[39;49;00m\u001b[43m,\u001b[49m\u001b[43m \u001b[49m\u001b[43mverbose\u001b[49m\u001b[43m \u001b[49m\u001b[38;5;241;43m=\u001b[39;49m\u001b[43m \u001b[49m\u001b[38;5;28;43;01mTrue\u001b[39;49;00m\u001b[43m)\u001b[49m\n",
      "File \u001b[0;32m~/homhots/hotsline/hots/utils.py:706\u001b[0m, in \u001b[0;36mapply_jitter\u001b[0;34m(min_jitter, max_jitter, jitter_type, hots, hots_nohomeo, classif_layer, tau_cla, dataset_name, trainset_output, trainset_output_nohomeo, learning_rate, betas, num_epochs, filtering_threshold, kfold, nb_trials, nb_points, mlr_threshold, fitting, figure_name, verbose)\u001b[0m\n\u001b[1;32m    704\u001b[0m test_path_nohomeo \u001b[38;5;241m=\u001b[39m \u001b[38;5;124mf\u001b[39m\u001b[38;5;124m'\u001b[39m\u001b[38;5;124m../Records/output/test/\u001b[39m\u001b[38;5;132;01m{\u001b[39;00mhots_nohomeo\u001b[38;5;241m.\u001b[39mname\u001b[38;5;132;01m}\u001b[39;00m\u001b[38;5;124m_\u001b[39m\u001b[38;5;132;01m{\u001b[39;00mnum_sample_test\u001b[38;5;132;01m}\u001b[39;00m\u001b[38;5;124m_\u001b[39m\u001b[38;5;132;01m{\u001b[39;00mjitter\u001b[38;5;132;01m}\u001b[39;00m\u001b[38;5;124m/\u001b[39m\u001b[38;5;124m'\u001b[39m\n\u001b[1;32m    705\u001b[0m testset_output_nohomeo \u001b[38;5;241m=\u001b[39m HOTS_Dataset(test_path_nohomeo, trainset_output\u001b[38;5;241m.\u001b[39msensor_size, trainset_output\u001b[38;5;241m.\u001b[39mclasses, dtype\u001b[38;5;241m=\u001b[39mtrainset_output\u001b[38;5;241m.\u001b[39mdtype, transform\u001b[38;5;241m=\u001b[39mtype_transform)\n\u001b[0;32m--> 706\u001b[0m scores_jit_histo_nohomeo[trial,ind_jit] \u001b[38;5;241m=\u001b[39m \u001b[43mmake_histogram_classification\u001b[49m\u001b[43m(\u001b[49m\u001b[43mtrainset_output_nohomeo\u001b[49m\u001b[43m,\u001b[49m\u001b[43m \u001b[49m\u001b[43mtestset_output_nohomeo\u001b[49m\u001b[43m,\u001b[49m\u001b[43m \u001b[49m\u001b[43mn_output_neurons\u001b[49m\u001b[43m)\u001b[49m\n\u001b[1;32m    708\u001b[0m \u001b[38;5;28;01mif\u001b[39;00m verbose: \n\u001b[1;32m    709\u001b[0m     \u001b[38;5;28mprint\u001b[39m(\u001b[38;5;124mf\u001b[39m\u001b[38;5;124m'\u001b[39m\u001b[38;5;124mFor \u001b[39m\u001b[38;5;132;01m{\u001b[39;00mjitter_type\u001b[38;5;132;01m}\u001b[39;00m\u001b[38;5;124m jitter equal to \u001b[39m\u001b[38;5;132;01m{\u001b[39;00mjitter_val\u001b[38;5;132;01m}\u001b[39;00m\u001b[38;5;124m'\u001b[39m)\n",
      "File \u001b[0;32m~/homhots/hotsline/hots/utils.py:237\u001b[0m, in \u001b[0;36mmake_histogram_classification\u001b[0;34m(trainset, testset, nb_output_pola, k)\u001b[0m\n\u001b[1;32m    234\u001b[0m score \u001b[38;5;241m=\u001b[39m \u001b[38;5;241m0\u001b[39m\n\u001b[1;32m    236\u001b[0m \u001b[38;5;28;01mfor\u001b[39;00m sample \u001b[38;5;129;01min\u001b[39;00m \u001b[38;5;28mrange\u001b[39m(\u001b[38;5;28mlen\u001b[39m(trainset)):\n\u001b[0;32m--> 237\u001b[0m     events, label \u001b[38;5;241m=\u001b[39m \u001b[43mtrainset\u001b[49m\u001b[43m[\u001b[49m\u001b[43msample\u001b[49m\u001b[43m]\u001b[49m\n\u001b[1;32m    238\u001b[0m     histo \u001b[38;5;241m=\u001b[39m torch\u001b[38;5;241m.\u001b[39mbincount(torch\u001b[38;5;241m.\u001b[39mtensor(events[:,p_index], device \u001b[38;5;241m=\u001b[39m device))\n\u001b[1;32m    239\u001b[0m     train_histo_map[sample,:\u001b[38;5;28mlen\u001b[39m(histo)] \u001b[38;5;241m=\u001b[39m histo\u001b[38;5;241m/\u001b[39mhisto\u001b[38;5;241m.\u001b[39msum()\n",
      "File \u001b[0;32m~/homhots/hotsline/hots/utils.py:212\u001b[0m, in \u001b[0;36mHOTS_Dataset.__getitem__\u001b[0;34m(self, index)\u001b[0m\n\u001b[1;32m    207\u001b[0m \u001b[38;5;28;01mdef\u001b[39;00m \u001b[38;5;21m__getitem__\u001b[39m(\u001b[38;5;28mself\u001b[39m, index):\n\u001b[1;32m    208\u001b[0m     \u001b[38;5;124;03m\"\"\"\u001b[39;00m\n\u001b[1;32m    209\u001b[0m \u001b[38;5;124;03m    Returns:\u001b[39;00m\n\u001b[1;32m    210\u001b[0m \u001b[38;5;124;03m        a tuple of (events, target) where target is the index of the target class.\u001b[39;00m\n\u001b[1;32m    211\u001b[0m \u001b[38;5;124;03m    \"\"\"\u001b[39;00m\n\u001b[0;32m--> 212\u001b[0m     events, target \u001b[38;5;241m=\u001b[39m \u001b[43mnp\u001b[49m\u001b[38;5;241;43m.\u001b[39;49m\u001b[43mload\u001b[49m\u001b[43m(\u001b[49m\u001b[38;5;28;43mself\u001b[39;49m\u001b[38;5;241;43m.\u001b[39;49m\u001b[43mdata\u001b[49m\u001b[43m[\u001b[49m\u001b[43mindex\u001b[49m\u001b[43m]\u001b[49m\u001b[43m)\u001b[49m, \u001b[38;5;28mself\u001b[39m\u001b[38;5;241m.\u001b[39mtargets[index]\n\u001b[1;32m    213\u001b[0m     \u001b[38;5;28;01mwhile\u001b[39;00m \u001b[38;5;28mlen\u001b[39m(events\u001b[38;5;241m.\u001b[39mshape)\u001b[38;5;241m>\u001b[39m\u001b[38;5;241m2\u001b[39m:\n\u001b[1;32m    214\u001b[0m         events \u001b[38;5;241m=\u001b[39m events\u001b[38;5;241m.\u001b[39msqueeze(\u001b[38;5;241m0\u001b[39m)\n",
      "File \u001b[0;32m~/.local/lib/python3.8/site-packages/numpy/lib/npyio.py:440\u001b[0m, in \u001b[0;36mload\u001b[0;34m(file, mmap_mode, allow_pickle, fix_imports, encoding)\u001b[0m\n\u001b[1;32m    438\u001b[0m         \u001b[38;5;28;01mreturn\u001b[39;00m \u001b[38;5;28mformat\u001b[39m\u001b[38;5;241m.\u001b[39mopen_memmap(file, mode\u001b[38;5;241m=\u001b[39mmmap_mode)\n\u001b[1;32m    439\u001b[0m     \u001b[38;5;28;01melse\u001b[39;00m:\n\u001b[0;32m--> 440\u001b[0m         \u001b[38;5;28;01mreturn\u001b[39;00m \u001b[38;5;28;43mformat\u001b[39;49m\u001b[38;5;241;43m.\u001b[39;49m\u001b[43mread_array\u001b[49m\u001b[43m(\u001b[49m\u001b[43mfid\u001b[49m\u001b[43m,\u001b[49m\u001b[43m \u001b[49m\u001b[43mallow_pickle\u001b[49m\u001b[38;5;241;43m=\u001b[39;49m\u001b[43mallow_pickle\u001b[49m\u001b[43m,\u001b[49m\n\u001b[1;32m    441\u001b[0m \u001b[43m                                 \u001b[49m\u001b[43mpickle_kwargs\u001b[49m\u001b[38;5;241;43m=\u001b[39;49m\u001b[43mpickle_kwargs\u001b[49m\u001b[43m)\u001b[49m\n\u001b[1;32m    442\u001b[0m \u001b[38;5;28;01melse\u001b[39;00m:\n\u001b[1;32m    443\u001b[0m     \u001b[38;5;66;03m# Try a pickle\u001b[39;00m\n\u001b[1;32m    444\u001b[0m     \u001b[38;5;28;01mif\u001b[39;00m \u001b[38;5;129;01mnot\u001b[39;00m allow_pickle:\n",
      "File \u001b[0;32m~/.local/lib/python3.8/site-packages/numpy/lib/format.py:757\u001b[0m, in \u001b[0;36mread_array\u001b[0;34m(fp, allow_pickle, pickle_kwargs)\u001b[0m\n\u001b[1;32m    754\u001b[0m \u001b[38;5;28;01melse\u001b[39;00m:\n\u001b[1;32m    755\u001b[0m     \u001b[38;5;28;01mif\u001b[39;00m isfileobj(fp):\n\u001b[1;32m    756\u001b[0m         \u001b[38;5;66;03m# We can use the fast fromfile() function.\u001b[39;00m\n\u001b[0;32m--> 757\u001b[0m         array \u001b[38;5;241m=\u001b[39m \u001b[43mnumpy\u001b[49m\u001b[38;5;241;43m.\u001b[39;49m\u001b[43mfromfile\u001b[49m\u001b[43m(\u001b[49m\u001b[43mfp\u001b[49m\u001b[43m,\u001b[49m\u001b[43m \u001b[49m\u001b[43mdtype\u001b[49m\u001b[38;5;241;43m=\u001b[39;49m\u001b[43mdtype\u001b[49m\u001b[43m,\u001b[49m\u001b[43m \u001b[49m\u001b[43mcount\u001b[49m\u001b[38;5;241;43m=\u001b[39;49m\u001b[43mcount\u001b[49m\u001b[43m)\u001b[49m\n\u001b[1;32m    758\u001b[0m     \u001b[38;5;28;01melse\u001b[39;00m:\n\u001b[1;32m    759\u001b[0m         \u001b[38;5;66;03m# This is not a real file. We have to read it the\u001b[39;00m\n\u001b[1;32m    760\u001b[0m         \u001b[38;5;66;03m# memory-intensive way.\u001b[39;00m\n\u001b[0;32m   (...)\u001b[0m\n\u001b[1;32m    768\u001b[0m         \u001b[38;5;66;03m# not correctly instantiate zero-width string dtypes; see\u001b[39;00m\n\u001b[1;32m    769\u001b[0m         \u001b[38;5;66;03m# https://github.com/numpy/numpy/pull/6430\u001b[39;00m\n\u001b[1;32m    770\u001b[0m         array \u001b[38;5;241m=\u001b[39m numpy\u001b[38;5;241m.\u001b[39mndarray(count, dtype\u001b[38;5;241m=\u001b[39mdtype)\n",
      "\u001b[0;31mKeyboardInterrupt\u001b[0m: "
     ]
    }
   ],
   "source": [
    "hots.name = initial_name\n",
    "hots_nohomeo.name = initial_name_nohomeo\n",
    "standard_spatial_jitter_min = 0\n",
    "standard_spatial_jitter_max = 10\n",
    "apply_jitter(standard_spatial_jitter_min, standard_spatial_jitter_max, 'spatial', hots, hots_nohomeo, classif_layer, tau_cla, dataset_name, trainset_output_jitter, trainset_output_nohomeo, learning_rate ,betas ,num_epochs, filtering_threshold = filtering_threshold, kfold = kfold_jitter, nb_trials = nb_trials, nb_points = nb_points, mlr_threshold = mlr_threshold, fitting = True, verbose = True);"
   ]
  },
  {
   "cell_type": "markdown",
   "id": "29ccb161-5b0b-4d03-bb0e-4baa38e4f443",
   "metadata": {},
   "source": [
    "## Robustness to temporal jitter (Figure 5-(b)-(down))"
   ]
  },
  {
   "cell_type": "code",
   "execution_count": null,
   "id": "fb81605f-0301-4d62-b098-5c9e70c0d9ec",
   "metadata": {},
   "outputs": [],
   "source": [
    "hots.name = initial_name\n",
    "hots_nohomeo.name = initial_name_nohomeo\n",
    "standard_temporal_jitter_min = 3\n",
    "standard_temporal_jitter_max = 7\n",
    "apply_jitter(standard_temporal_jitter_min, standard_temporal_jitter_max, 'temporal', hots, hots_nohomeo, classif_layer, tau_cla, dataset_name, trainset_output_jitter, trainset_output_nohomeo, learning_rate ,betas ,num_epochs, filtering_threshold = filtering_threshold, kfold = kfold_jitter, nb_trials = nb_trials, nb_points = nb_points, mlr_threshold = mlr_threshold, fitting = True, verbose = True);"
   ]
  },
  {
   "cell_type": "code",
   "execution_count": null,
   "id": "86f132db-1fb2-4f56-8d1b-cbc806248b85",
   "metadata": {},
   "outputs": [],
   "source": []
  }
 ],
 "metadata": {
  "kernelspec": {
   "display_name": "Python 3 (ipykernel)",
   "language": "python",
   "name": "python3"
  },
  "language_info": {
   "codemirror_mode": {
    "name": "ipython",
    "version": 3
   },
   "file_extension": ".py",
   "mimetype": "text/x-python",
   "name": "python",
   "nbconvert_exporter": "python",
   "pygments_lexer": "ipython3",
   "version": "3.8.10"
  }
 },
 "nbformat": 4,
 "nbformat_minor": 5
}
