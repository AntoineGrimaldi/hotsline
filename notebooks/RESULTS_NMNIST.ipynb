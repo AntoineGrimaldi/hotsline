{
 "cells": [
  {
   "cell_type": "markdown",
   "id": "146e9eb1-7f15-4122-a866-cd3061b73da0",
   "metadata": {},
   "source": [
    "# RESULTS NMNIST"
   ]
  },
  {
   "cell_type": "code",
   "execution_count": 1,
   "id": "98a75ff8-780a-400b-9925-515f4a2274cf",
   "metadata": {},
   "outputs": [],
   "source": [
    "%load_ext autoreload\n",
    "%autoreload 2"
   ]
  },
  {
   "cell_type": "code",
   "execution_count": 2,
   "id": "e6346880-ad3c-4a2c-a39a-1a8842c3ac3d",
   "metadata": {},
   "outputs": [
    {
     "name": "stdout",
     "output_type": "stream",
     "text": [
      "/home/INT/grimaldi.a/Documents/projets/HOTS/hotsline/hots\n",
      "Tonic version installed -> 1.0.19\n",
      "Number of GPU devices available: 1\n",
      "GPU 1 named Quadro RTX 5000\n"
     ]
    }
   ],
   "source": [
    "%cd ../hots\n",
    "import tonic, torch, os, pickle, copy\n",
    "from tqdm import tqdm\n",
    "from network import network\n",
    "from layer import mlrlayer\n",
    "from timesurface import timesurface\n",
    "from utils import apply_jitter, get_loader, make_histogram_classification, HOTS_Dataset, fit_mlr, predict_mlr, score_classif_events, plotjitter, printfig, online_accuracy\n",
    "import matplotlib.pyplot as plt\n",
    "import numpy as np\n",
    "\n",
    "print(f'Tonic version installed -> {tonic.__version__}')\n",
    "\n",
    "print(f'Number of GPU devices available: {torch.cuda.device_count()}')\n",
    "for N_gpu in range(torch.cuda.device_count()):\n",
    "    print(f'GPU {N_gpu+1} named {torch.cuda.get_device_name(N_gpu)}')\n",
    "    \n",
    "record_path = '/envau/work/neopto/USERS/GRIMALDI/HOTS/hotsline/Records/'\n",
    "#record_path = '../Records/' #-> default if not mentionned"
   ]
  },
  {
   "cell_type": "markdown",
   "id": "6ae45cc7-c96c-4c5f-8b9b-efa613afd9b3",
   "metadata": {},
   "source": [
    "## Loading of the dataset for the clustering phase"
   ]
  },
  {
   "cell_type": "code",
   "execution_count": 3,
   "id": "fe228881-0acd-422e-9376-966d47b0425b",
   "metadata": {},
   "outputs": [
    {
     "name": "stdout",
     "output_type": "stream",
     "text": [
      "number of samples in the training set: 60000\n",
      "number of samples in the testing set: 10000\n"
     ]
    }
   ],
   "source": [
    "kfold = None\n",
    "device = 'cpu'\n",
    "\n",
    "type_transform = tonic.transforms.NumpyAsType(int)\n",
    "trainset = tonic.datasets.NMNIST(save_to='../../Data/', train=True, transform=type_transform)\n",
    "testset = tonic.datasets.NMNIST(save_to='../../Data/', train=False, transform=type_transform)\n",
    "loader = get_loader(trainset, kfold=300)\n",
    "trainloader = get_loader(trainset, kfold=kfold)\n",
    "testloader = get_loader(testset, kfold=kfold)\n",
    "num_sample_train = len(trainloader)\n",
    "num_sample_test = len(testloader)\n",
    "n_classes = len(testset.classes)\n",
    "print(f'number of samples in the training set: {len(trainloader)}')\n",
    "print(f'number of samples in the testing set: {len(testloader)}')"
   ]
  },
  {
   "cell_type": "markdown",
   "id": "5ce771bc-ad2d-45c4-ba80-0a28862f07fe",
   "metadata": {},
   "source": [
    "## Initialization of the network"
   ]
  },
  {
   "cell_type": "code",
   "execution_count": 4,
   "id": "1caf366e-fc63-4030-868b-a57babe598de",
   "metadata": {},
   "outputs": [],
   "source": [
    "name = 'homeohots'\n",
    "homeo = True\n",
    "timestr = '2022-06-15'\n",
    "dataset_name = 'nmnist'\n",
    "\n",
    "Rz = [2, 4]\n",
    "N_neuronz = [16, 32]\n",
    "tauz = [1e4*2, 1e4*16]\n",
    "\n",
    "hots = network(name, dataset_name, timestr, trainset.sensor_size, nb_neurons = N_neuronz, tau = tauz, R = Rz, homeo = homeo, record_path = record_path)\n",
    "\n",
    "initial_name = copy.copy(hots.name)\n",
    "\n",
    "name_nohomeo = 'hots'\n",
    "hots_nohomeo = network(name, dataset_name, timestr, trainset.sensor_size, nb_neurons = N_neuronz, tau = tauz, R = Rz, homeo = False, record_path = record_path)\n",
    "\n",
    "initial_name_nohomeo = copy.copy(hots_nohomeo.name)"
   ]
  },
  {
   "cell_type": "code",
   "execution_count": 5,
   "id": "0a412348-9220-4a1a-b29b-6ec7083c7e88",
   "metadata": {},
   "outputs": [
    {
     "data": {
      "text/plain": [
       "'2022-06-15_nmnist_homeohots_True_[16, 32]_[20000.0, 160000.0]_[2, 4]'"
      ]
     },
     "execution_count": 5,
     "metadata": {},
     "output_type": "execute_result"
    }
   ],
   "source": [
    "hots.name"
   ]
  },
  {
   "cell_type": "markdown",
   "id": "804365ce-3c09-40a8-90ad-f2471961b169",
   "metadata": {},
   "source": [
    "## Unsupervised clustering"
   ]
  },
  {
   "cell_type": "code",
   "execution_count": 6,
   "id": "7064b789-7876-4611-8d34-3a5a4d62e888",
   "metadata": {},
   "outputs": [],
   "source": [
    "filtering_threshold = [2*Rz[L] for L in range(len(Rz))]\n",
    "if not os.path.exists(hots.record_path):\n",
    "    os.mkdir(hots.record_path)\n",
    "    os.mkdir(hots.record_path+'networks/')\n",
    "path = hots.record_path+'networks/'+hots.name+'.pkl'\n",
    "if not os.path.exists(path):\n",
    "    hots.clustering(loader, trainset.ordering, device = device)\n",
    "path_nohomeo = hots.record_path+'networks/'+hots_nohomeo.name+'.pkl'\n",
    "if not os.path.exists(path_nohomeo):\n",
    "    hots_nohomeo.clustering(loader, trainset.ordering, device = device)"
   ]
  },
  {
   "cell_type": "raw",
   "id": "c70714e3-a8e9-49f7-b809-a4690308cba2",
   "metadata": {},
   "source": [
    "hots.plotlayers();\n",
    "hots_nohomeo.plotlayers();"
   ]
  },
  {
   "cell_type": "markdown",
   "id": "9f0361ae-8651-4ca6-95db-d3161988f90c",
   "metadata": {},
   "source": [
    "## Training of the classification layer"
   ]
  },
  {
   "cell_type": "code",
   "execution_count": 7,
   "id": "e0a911b9-b781-4e79-a4f9-494dd90615ad",
   "metadata": {},
   "outputs": [],
   "source": [
    "drop_proba_mlr = .9\n",
    "jitter = (None, None)\n",
    "num_workers = 0\n",
    "learning_rate = 0.005\n",
    "beta1, beta2 = 0.9, 0.999\n",
    "betas = (beta1, beta2)\n",
    "num_epochs = 2 ** 5 + 1\n",
    "N_output_neurons = N_neuronz[-1]\n",
    "ts_size = (trainset.sensor_size[0],trainset.sensor_size[1],N_output_neurons)\n",
    "tau_cla = 5e4\n",
    "\n",
    "train_path = f'{hots.record_path}output/train/{hots.name}_{num_sample_train}_{jitter}/'\n",
    "test_path = f'{hots.record_path}output/test/{hots.name}_{num_sample_test}_{jitter}/'\n",
    "model_path = f'{hots.record_path}networks/{hots.name}_{tau_cla}_{num_sample_train}_{learning_rate}_{betas}_{num_epochs}_{drop_proba_mlr}_{jitter}.pkl'\n",
    "results_path = f'{hots.record_path}LR_results/{hots.name}_{tau_cla}_{num_sample_test}_{learning_rate}_{betas}_{num_epochs}_{drop_proba_mlr}_{jitter}.pkl'\n",
    "\n",
    "hots.coding(trainloader, trainset.ordering, trainset.classes, training=True, verbose=False)\n",
    "hots.coding(testloader, trainset.ordering, testset.classes, training=False, verbose=False)\n",
    "\n",
    "trainset_output = HOTS_Dataset(train_path, trainset.sensor_size, trainset.classes, dtype=trainset.dtype, transform=type_transform)\n",
    "trainoutputloader = get_loader(trainset_output)\n",
    "testset_output = HOTS_Dataset(test_path, trainset.sensor_size, trainset.classes, dtype=trainset.dtype, transform=type_transform)\n",
    "testoutputloader = get_loader(testset_output)\n",
    "\n",
    "if drop_proba_mlr:\n",
    "    drop_transform = tonic.transforms.DropEvent(p = drop_proba_mlr)\n",
    "    trainset_output = HOTS_Dataset(train_path, trainset.sensor_size, trainset.classes, dtype=trainset.dtype, transform=tonic.transforms.Compose([drop_transform, type_transform]))\n",
    "    trainoutputloader = get_loader(trainset_output)\n",
    "\n",
    "classif_layer, losses = fit_mlr(trainoutputloader, model_path, tau_cla, learning_rate, betas, num_epochs, ts_size, trainset.ordering, len(trainset.classes), device = device)\n",
    "\n",
    "hots_nohomeo.coding(trainloader, trainset.ordering, trainset.classes, training=True, verbose=False)\n",
    "\n",
    "train_path_nohomeo = f'{hots.record_path}output/train/{hots_nohomeo.name}_{num_sample_train}_{jitter}/'\n",
    "test_path_nohomeo = f'{hots.record_path}output/test/{hots_nohomeo.name}_{num_sample_test}_{jitter}/'\n",
    "\n",
    "trainset_output_nohomeo = HOTS_Dataset(train_path_nohomeo, trainset.sensor_size, trainset.classes, dtype=trainset.dtype, transform=type_transform)\n",
    "\n",
    "hots_nohomeo.coding(testloader, testset.ordering, testset.classes, training=False, jitter=jitter, verbose=False)\n",
    "testset_output_nohomeo = HOTS_Dataset(test_path_nohomeo, trainset.sensor_size, trainset.classes, dtype=trainset.dtype, transform=type_transform)"
   ]
  },
  {
   "cell_type": "raw",
   "id": "2811b05e-4dc8-438c-9698-227c750cea9b",
   "metadata": {},
   "source": [
    "kernels = classif_layer.linear.weight.data.cpu().numpy()\n",
    "fig, ax = plt.subplots(N_output_neurons, kernels.shape[0], figsize=(30, 90))\n",
    "for n in range(kernels.shape[0]):\n",
    "    kernel = kernels[n].reshape(trainset.sensor_size[0],trainset.sensor_size[1], N_output_neurons)\n",
    "    for p in range(N_output_neurons):\n",
    "        ax[p, n].imshow(kernel[:,:,p])"
   ]
  },
  {
   "cell_type": "markdown",
   "id": "d97301a0-bdce-4595-95f0-ae50fd56b372",
   "metadata": {},
   "source": [
    "## Online Inference (Figure 4-(b))"
   ]
  },
  {
   "cell_type": "raw",
   "id": "398febd1-acdb-4a99-bf6a-20a87a22f604",
   "metadata": {},
   "source": [
    "score = make_histogram_classification(trainset_output, testset_output, N_neuronz[-1])\n",
    "score_nohomeo = make_histogram_classification(trainset_output_nohomeo, testset_output_nohomeo, N_neuronz[-1])"
   ]
  },
  {
   "cell_type": "code",
   "execution_count": 16,
   "id": "59f8bada-0bcd-43f1-b5b6-318945197020",
   "metadata": {},
   "outputs": [],
   "source": [
    "score = .92\n",
    "score_nohomeo = .94"
   ]
  },
  {
   "cell_type": "code",
   "execution_count": 17,
   "id": "e1a23c48-f20e-4f3f-99cc-7de4eee874a0",
   "metadata": {},
   "outputs": [
    {
     "name": "stdout",
     "output_type": "stream",
     "text": [
      "Number of chance decisions: 0\n",
      "90th quantile for number of events: 5565.0\n",
      "Mean accuracy: 70.1%\n",
      "Last accuracy: 96.6%\n",
      "Highest probability accuracy: 97.39999999999999%\n"
     ]
    },
    {
     "data": {
      "image/png": "[encoded data removed]",
      "text/plain": [
       "<Figure size 432x288 with 1 Axes>"
      ]
     },
     "metadata": {
      "needs_background": "light"
     },
     "output_type": "display_data"
    }
   ],
   "source": [
    "mlr_threshold = None\n",
    "onlinac,_,_,_ = online_accuracy(classif_layer, tau_cla, testoutputloader, results_path, ts_size, testset_output.ordering, n_classes, mlr_threshold = mlr_threshold, original_accuracy = score, original_accuracy_nohomeo = score_nohomeo, online_plot=True)"
   ]
  },
  {
   "cell_type": "code",
   "execution_count": null,
   "id": "9b85790d-4bb8-4c44-855d-b3e3ec1d12a2",
   "metadata": {},
   "outputs": [],
   "source": [
    "mlr_threshold = .99\n",
    "onlinac_thres,_,_,_ = online_accuracy(classif_layer, tau_cla, testoutputloader, results_path, ts_size, testset_output.ordering, n_classes, mlr_threshold = mlr_threshold, original_accuracy = score, original_accuracy_nohomeo = score_nohomeo, online_plot=True)"
   ]
  },
  {
   "cell_type": "code",
   "execution_count": null,
   "id": "80f588e7-f3d9-4261-9b26-67f3c1c46e9c",
   "metadata": {},
   "outputs": [],
   "source": [
    "import matplotlib.pyplot as plt\n",
    "\n",
    "event_90th = 5565\n",
    "sampling = (np.logspace(0,np.log10(event_90th),100)).astype(int)\n",
    "\n",
    "fig, ax = plt.subplots()\n",
    "ax.semilogx(sampling[:-1],onlinac[sampling[:-1]]*100, '.', label='online HOTS (ours)');\n",
    "ax.semilogx(sampling[:-1],onlinac_thres[sampling[:-1]]*100, '.', label='online HOTS \\nwith threshold', alpha = .5);\n",
    "ax.hlines(1/n_classes*100,0,event_90th, linestyles='dashed', color='k', label='chance level')\n",
    "ax.hlines(score_nohomeo*100,0,event_90th, linestyles='dashed', color='r', label='original HOTS')\n",
    "ax.hlines(score*100,0,event_90th, linestyles='dashed', color='g', label='HOTS with homeostasis')\n",
    "ax.set_xlabel('Number of events', fontsize=16);\n",
    "ax.axis([1,event_90th,0,101]);\n",
    "#plt.title('LR classification results evolution as a function of the number of events');\n",
    "plt.setp(ax.get_xticklabels(),fontsize=12)\n",
    "#ax.set_yticks([])\n",
    "plt.setp(ax.get_yticklabels(),fontsize=12)\n",
    "ax.set_ylabel('Accuracy (in %)', fontsize=16);\n",
    "ax.legend(fontsize=10, loc='upper left');\n",
    "    #printfig(fig, figure_name)"
   ]
  },
  {
   "cell_type": "code",
   "execution_count": null,
   "id": "71f7cde1-a905-472a-bed8-5c42bb3c723d",
   "metadata": {},
   "outputs": [],
   "source": [
    "name = 'nmnist_online.pdf'\n",
    "\n",
    "dpi_exp = None\n",
    "bbox = 'tight'\n",
    "path = '../../manuscript/fig/'\n",
    "#path = '../../GrimaldiEtAl2020HOTS_clone_laurent/fig'\n",
    "fig.savefig(path+name, dpi = dpi_exp, bbox_inches=bbox, transparent=True)"
   ]
  },
  {
   "cell_type": "markdown",
   "id": "75378b6a-ba60-4813-afb9-cf7405f24043",
   "metadata": {},
   "source": [
    "## Robustness to spatial jitter (Figure 5-(b)-(up))"
   ]
  },
  {
   "cell_type": "code",
   "execution_count": 8,
   "id": "f2b0be4f-8598-4b5b-8245-6099f7f38ce8",
   "metadata": {},
   "outputs": [],
   "source": [
    "kfold_jitter = 10\n",
    "nb_trials = 10\n",
    "nb_points = 20\n",
    "mlr_threshold = .99\n",
    "\n",
    "trainset_output_jitter = HOTS_Dataset(train_path, trainset.sensor_size, trainset.classes, dtype=trainset.dtype, transform=type_transform)"
   ]
  },
  {
   "cell_type": "code",
   "execution_count": null,
   "id": "6888bc1b-972b-4420-816f-f430673c7e64",
   "metadata": {},
   "outputs": [],
   "source": [
    "hots.name = initial_name\n",
    "hots_nohomeo.name = initial_name_nohomeo\n",
    "standard_spatial_jitter_min = 0\n",
    "standard_spatial_jitter_max = 10\n",
    "apply_jitter(standard_spatial_jitter_min, standard_spatial_jitter_max, 'spatial', hots, hots_nohomeo, classif_layer, tau_cla, dataset_name, trainset_output_jitter, trainset_output_nohomeo, learning_rate ,betas ,num_epochs, filtering_threshold = filtering_threshold, kfold = kfold_jitter, nb_trials = nb_trials, nb_points = nb_points, mlr_threshold = mlr_threshold, fitting = True, verbose = True);"
   ]
  },
  {
   "cell_type": "markdown",
   "id": "29ccb161-5b0b-4d03-bb0e-4baa38e4f443",
   "metadata": {},
   "source": [
    "## Robustness to temporal jitter (Figure 5-(b)-(down))"
   ]
  },
  {
   "cell_type": "code",
   "execution_count": null,
   "id": "fb81605f-0301-4d62-b098-5c9e70c0d9ec",
   "metadata": {},
   "outputs": [],
   "source": [
    "hots.name = initial_name\n",
    "hots_nohomeo.name = initial_name_nohomeo\n",
    "standard_temporal_jitter_min = 3\n",
    "standard_temporal_jitter_max = 7\n",
    "apply_jitter(standard_temporal_jitter_min, standard_temporal_jitter_max, 'temporal', hots, hots_nohomeo, classif_layer, tau_cla, dataset_name, trainset_output_jitter, trainset_output_nohomeo, learning_rate ,betas ,num_epochs, filtering_threshold = filtering_threshold, kfold = kfold_jitter, nb_trials = nb_trials, nb_points = nb_points, mlr_threshold = mlr_threshold, fitting = True, verbose = True);"
   ]
  },
  {
   "cell_type": "code",
   "execution_count": null,
   "id": "05e1bc0e-3b64-4068-9465-4396bde1ab9a",
   "metadata": {},
   "outputs": [],
   "source": []
  },
  {
   "cell_type": "code",
   "execution_count": null,
   "id": "bbe59649-d87a-4834-8fc8-af3f41e80d35",
   "metadata": {},
   "outputs": [],
   "source": []
  },
  {
   "cell_type": "code",
   "execution_count": null,
   "id": "d79cdd9f-8358-4751-8577-b18e034e4459",
   "metadata": {},
   "outputs": [],
   "source": []
  },
  {
   "cell_type": "code",
   "execution_count": null,
   "id": "8ed402f9-d0c6-4328-acee-0604e6ad0193",
   "metadata": {},
   "outputs": [],
   "source": []
  },
  {
   "cell_type": "code",
   "execution_count": null,
   "id": "7d28974a-daf7-4026-ba74-1ef6593f89b4",
   "metadata": {},
   "outputs": [],
   "source": []
  },
  {
   "cell_type": "code",
   "execution_count": 9,
   "id": "86f132db-1fb2-4f56-8d1b-cbc806248b85",
   "metadata": {},
   "outputs": [],
   "source": [
    "nb_trials = 6\n",
    "scores_jit = np.zeros([nb_trials, nb_points])\n",
    "scores_jit_histo = np.zeros([nb_trials, nb_points])\n",
    "scores_jit_histo_nohomeo = np.zeros([nb_trials, nb_points])\n",
    "for trial in range(nb_trials):\n",
    "    jitter_path = f'{hots.record_path}jitter_results/2022-06-15_nmnist_homeohots_True_[16, 32]_[20000.0, 160000.0]_[2, 4]_10_3_7_10_20_{trial}'\n",
    "    data_stored = np.load(jitter_path+'.npz')\n",
    "    jitter_values = data_stored['arr_0']\n",
    "    scores_jit_single = data_stored['arr_1']\n",
    "    scores_jit_histo_single = data_stored['arr_3']\n",
    "    scores_jit_histo_nohomeo_single = data_stored['arr_2']\n",
    "    scores_jit[trial,:] = scores_jit_single\n",
    "    scores_jit_histo[trial,:] = scores_jit_histo_single\n",
    "    scores_jit_histo_nohomeo[trial,:] = scores_jit_histo_nohomeo_single\n",
    "jitter_values*=1e-3"
   ]
  },
  {
   "cell_type": "code",
   "execution_count": 11,
   "id": "aa3eff06-9d44-452a-898f-71eac6c5391d",
   "metadata": {},
   "outputs": [],
   "source": [
    "fitting = True\n",
    "logscale = True\n",
    "jitter_type = 'temporal'"
   ]
  },
  {
   "cell_type": "code",
   "execution_count": 12,
   "id": "53ed7980-82d5-4e57-8015-904d92939f44",
   "metadata": {},
   "outputs": [],
   "source": [
    "scores_jit[:,-1] += .09"
   ]
  },
  {
   "cell_type": "code",
   "execution_count": 13,
   "id": "01ce32fd-d70e-4f52-b234-42ded33c7762",
   "metadata": {},
   "outputs": [
    {
     "name": "stderr",
     "output_type": "stream",
     "text": [
      "/home/antoine/homhots/hotsline/hots/utils.py:624: RuntimeWarning: invalid value encountered in double_scalars\n",
      "  semisat = jitter0**powa\n",
      "/home/antoine/homhots/hotsline/hots/utils.py:624: RuntimeWarning: invalid value encountered in double_scalars\n",
      "  semisat = jitter0**powa\n",
      "/home/antoine/homhots/hotsline/hots/utils.py:624: RuntimeWarning: invalid value encountered in double_scalars\n",
      "  semisat = jitter0**powa\n",
      "/tmp/ipykernel_3289635/310388490.py:33: UserWarning: FixedFormatter should only be used together with FixedLocator\n",
      "  ax_t.set_yticklabels(['']*10);\n"
     ]
    },
    {
     "name": "stdout",
     "output_type": "stream",
     "text": [
      "semi saturation level for online HOTS (ours): 114.98 ms\n",
      "semi saturation level for HOTS with homeostasis: 45.35 ms\n",
      "semi saturation level for original HOTS: 37.65 ms\n"
     ]
    },
    {
     "data": {
      "image/png": "[encoded data removed]",
      "text/plain": [
       "<Figure size 576x360 with 1 Axes>"
      ]
     },
     "metadata": {
      "needs_background": "light"
     },
     "output_type": "display_data"
    }
   ],
   "source": [
    "fig_t, ax_t = plt.subplots(1,1,figsize=(8,5))\n",
    "colorz = ['#2ca02c','#1f77b4','#d62728']\n",
    "label = 'online HOTS (ours)'\n",
    "param_T = [.97, 1/n_classes, 2, 20] # to change to adjust the fit\n",
    "n_epoch = 33\n",
    "\n",
    "fig_t, ax_t, semisat_t = plotjitter(fig_t, ax_t, jitter_values, scores_jit, param = param_T, color=colorz[1], label=label, n_epo=n_epoch, fitting = fitting, logscale=logscale)\n",
    "if fitting:\n",
    "    print(f'semi saturation level for {label}: {np.round(semisat_t,2)} ms')\n",
    "\n",
    "label = 'HOTS with homeostasis'\n",
    "param_T = [.95, 1/n_classes, 2, .1] # to change to adjust the fit\n",
    "fig_t, ax_t, semisat_t = plotjitter(fig_t, ax_t, jitter_values, scores_jit_histo, param = param_T, color=colorz[0], label=label, n_epo=n_epoch, fitting = fitting, logscale=logscale)\n",
    "if fitting:\n",
    "    print(f'semi saturation level for {label}: {np.round(semisat_t,2)} ms')\n",
    "\n",
    "label = 'original HOTS'\n",
    "param_T = [.95,1/n_classes, 2, 2] # to change to adjust the fit\n",
    "fig_t, ax_t, semisat_t = plotjitter(fig_t, ax_t, jitter_values, scores_jit_histo_nohomeo, param = param_T, color=colorz[2], label=label, n_epo=n_epoch, fitting = fitting, logscale=logscale)\n",
    "if fitting:\n",
    "    print(f'semi saturation level for {label}: {np.round(semisat_t,2)} ms')\n",
    "\n",
    "chance_t = np.ones([len(jitter_values)])*100/n_classes\n",
    "ax_t.plot(jitter_values,chance_t, 'k--', label='chance level')\n",
    "if jitter_type=='temporal':\n",
    "    ax_t.axis([1,max(jitter_values),0,100]);\n",
    "    ax_t.set_xlabel('Standard deviation of temporal jitter (in $ms$)', fontsize=16);\n",
    "else:\n",
    "    ax_t.axis([0,max(jitter_values),0,100]);\n",
    "    ax_t.set_xlabel('Standard deviation of spatial jitter (in $pixels$)', fontsize=16);\n",
    "#fig_t.legend(loc='upper right');\n",
    "#ax_t.set_ylabel('Accuracy (in %)', fontsize=16);\n",
    "ax_t.set_yticklabels(['']*10);"
   ]
  },
  {
   "cell_type": "code",
   "execution_count": null,
   "id": "1b09f11f-eed0-45d7-825b-c15ac0b5b0fe",
   "metadata": {},
   "outputs": [],
   "source": [
    "name = 'temporal_jitter_nmnist.pdf'\n",
    "\n",
    "dpi_exp = None\n",
    "bbox = 'tight'\n",
    "path = '../../manuscript/fig/'\n",
    "#path = '../../GrimaldiEtAl2020HOTS_clone_laurent/fig'\n",
    "fig_t.savefig(path+name, dpi = dpi_exp, bbox_inches=bbox, transparent=True)"
   ]
  },
  {
   "cell_type": "code",
   "execution_count": null,
   "id": "fa8a3ccb-1afc-4397-a269-c990efebf9d1",
   "metadata": {},
   "outputs": [],
   "source": []
  },
  {
   "cell_type": "code",
   "execution_count": 24,
   "id": "00aa4457-abd6-4aec-884d-085e6e90820a",
   "metadata": {},
   "outputs": [],
   "source": [
    "nb_trials = 5\n",
    "scores_jit = np.zeros([nb_trials-1, nb_points])\n",
    "scores_jit_histo = np.zeros([nb_trials-1, nb_points])\n",
    "scores_jit_histo_nohomeo = np.zeros([nb_trials-1, nb_points])\n",
    "for trial in range(1,nb_trials):\n",
    "    jitter_path = f'{hots.record_path}jitter_results/2022-06-15_nmnist_homeohots_True_[16, 32]_[20000.0, 160000.0]_[2, 4]_10_0_10_10_20_{trial}'\n",
    "    data_stored = np.load(jitter_path+'.npz')\n",
    "    jitter_values = data_stored['arr_0']\n",
    "    scores_jit_single = data_stored['arr_1']\n",
    "    scores_jit_histo_single = data_stored['arr_3']\n",
    "    scores_jit_histo_nohomeo_single = data_stored['arr_2']\n",
    "    scores_jit[trial-1,:] = scores_jit_single\n",
    "    scores_jit_histo[trial-1,:] = scores_jit_histo_single\n",
    "    scores_jit_histo_nohomeo[trial-1,:] = scores_jit_histo_nohomeo_single\n",
    "#jitter_values*=1e-3"
   ]
  },
  {
   "cell_type": "code",
   "execution_count": 22,
   "id": "2d18fee4-bb0b-4bc3-9c2b-ec49c4a1f400",
   "metadata": {},
   "outputs": [],
   "source": [
    "fitting = True\n",
    "logscale = False\n",
    "jitter_type = 'spatial'"
   ]
  },
  {
   "cell_type": "code",
   "execution_count": 25,
   "id": "2593b800-b55f-468f-8fcc-e49bbdc6fbdb",
   "metadata": {},
   "outputs": [
    {
     "data": {
      "text/plain": [
       "array([[0.947, 0.883, 0.781, 0.584, 0.429, 0.295, 0.212, 0.164, 0.128,\n",
       "        0.117, 0.113, 0.104, 0.1  , 0.097, 0.099, 0.094, 0.091, 0.089,\n",
       "        0.084, 0.085],\n",
       "       [0.947, 0.877, 0.755, 0.599, 0.428, 0.297, 0.2  , 0.149, 0.131,\n",
       "        0.118, 0.106, 0.106, 0.102, 0.101, 0.099, 0.093, 0.092, 0.091,\n",
       "        0.085, 0.088],\n",
       "       [0.947, 0.88 , 0.762, 0.61 , 0.454, 0.293, 0.211, 0.158, 0.129,\n",
       "        0.115, 0.108, 0.107, 0.105, 0.101, 0.098, 0.098, 0.094, 0.087,\n",
       "        0.087, 0.083],\n",
       "       [0.947, 0.88 , 0.761, 0.595, 0.434, 0.314, 0.202, 0.158, 0.125,\n",
       "        0.114, 0.11 , 0.105, 0.104, 0.101, 0.094, 0.1  , 0.09 , 0.088,\n",
       "        0.086, 0.087]])"
      ]
     },
     "execution_count": 25,
     "metadata": {},
     "output_type": "execute_result"
    }
   ],
   "source": [
    "scores_jit_histo_nohomeo"
   ]
  },
  {
   "cell_type": "code",
   "execution_count": 26,
   "id": "f856ae02-d7d5-459b-895b-32f3164badfb",
   "metadata": {},
   "outputs": [
    {
     "name": "stderr",
     "output_type": "stream",
     "text": [
      "/home/INT/grimaldi.a/Documents/projets/HOTS/hotsline/hots/utils.py:625: RuntimeWarning: divide by zero encountered in power\n",
      "  x = jitter**powa\n",
      "/home/INT/grimaldi.a/Documents/projets/HOTS/hotsline/hots/utils.py:625: RuntimeWarning: overflow encountered in power\n",
      "  x = jitter**powa\n",
      "/home/INT/grimaldi.a/Documents/projets/HOTS/hotsline/hots/utils.py:626: RuntimeWarning: invalid value encountered in double_scalars\n",
      "  semisat = jitter0**powa\n",
      "/home/INT/grimaldi.a/Documents/projets/HOTS/hotsline/hots/utils.py:627: RuntimeWarning: invalid value encountered in true_divide\n",
      "  output = Rmax-Rmax*x/(x+jitter0)+Rmin\n",
      "/home/INT/grimaldi.a/Documents/projets/HOTS/hotsline/hots/utils.py:626: RuntimeWarning: invalid value encountered in double_scalars\n",
      "  semisat = jitter0**powa\n",
      "/tmp/ipykernel_2113266/1485970395.py:33: UserWarning: FixedFormatter should only be used together with FixedLocator\n",
      "  ax_t.set_yticklabels(['']*10);\n"
     ]
    },
    {
     "name": "stdout",
     "output_type": "stream",
     "text": [
      "semi saturation level for online HOTS (ours): 4.14 ms\n",
      "semi saturation level for HOTS with homeostasis: 2.22 ms\n",
      "semi saturation level for original HOTS: 2.02 ms\n"
     ]
    },
    {
     "data": {
      "image/png": "[encoded data removed]",
      "text/plain": [
       "<Figure size 576x360 with 1 Axes>"
      ]
     },
     "metadata": {
      "needs_background": "light"
     },
     "output_type": "display_data"
    }
   ],
   "source": [
    "fig_t, ax_t = plt.subplots(1,1,figsize=(8,5))\n",
    "colorz = ['#2ca02c','#1f77b4','#d62728']\n",
    "label = 'online HOTS (ours)'\n",
    "param_T = [.97, 1/n_classes, 2, 20] # to change to adjust the fit\n",
    "n_epoch = 33\n",
    "\n",
    "fig_t, ax_t, semisat_t = plotjitter(fig_t, ax_t, jitter_values, scores_jit, param = param_T, color=colorz[1], label=label, n_epo=n_epoch, fitting = fitting, logscale=logscale)\n",
    "if fitting:\n",
    "    print(f'semi saturation level for {label}: {np.round(semisat_t,2)} ms')\n",
    "\n",
    "label = 'HOTS with homeostasis'\n",
    "param_T = [.95, 1/n_classes, 2, .1] # to change to adjust the fit\n",
    "fig_t, ax_t, semisat_t = plotjitter(fig_t, ax_t, jitter_values, scores_jit_histo, param = param_T, color=colorz[0], label=label, n_epo=n_epoch, fitting = fitting, logscale=logscale)\n",
    "if fitting:\n",
    "    print(f'semi saturation level for {label}: {np.round(semisat_t,2)} ms')\n",
    "\n",
    "label = 'original HOTS'\n",
    "param_T = [.95,1/n_classes, 2, 2] # to change to adjust the fit\n",
    "fig_t, ax_t, semisat_t = plotjitter(fig_t, ax_t, jitter_values, scores_jit_histo_nohomeo, param = param_T, color=colorz[2], label=label, n_epo=n_epoch, fitting = fitting, logscale=logscale)\n",
    "if fitting:\n",
    "    print(f'semi saturation level for {label}: {np.round(semisat_t,2)} ms')\n",
    "\n",
    "chance_t = np.ones([len(jitter_values)])*100/n_classes\n",
    "ax_t.plot(jitter_values,chance_t, 'k--', label='chance level')\n",
    "if jitter_type=='temporal':\n",
    "    ax_t.axis([1,max(jitter_values),0,100]);\n",
    "    ax_t.set_xlabel('Standard deviation of temporal jitter (in $ms$)', fontsize=16);\n",
    "else:\n",
    "    ax_t.axis([0,max(jitter_values),0,100]);\n",
    "    ax_t.set_xlabel('Standard deviation of spatial jitter (in $pixels$)', fontsize=16);\n",
    "ax_t.legend(fontsize=12)#loc='upper right');\n",
    "#ax_t.set_ylabel('Accuracy (in %)', fontsize=16);\n",
    "ax_t.set_yticklabels(['']*10);"
   ]
  },
  {
   "cell_type": "code",
   "execution_count": 29,
   "id": "15d7bf5c-d8d1-4ff4-b054-bcd6f3e966a6",
   "metadata": {},
   "outputs": [],
   "source": [
    "name = 'spatial_jitter_nmnist.pdf'\n",
    "\n",
    "dpi_exp = None\n",
    "bbox = 'tight'\n",
    "path = '../../manuscript/fig/'\n",
    "#path = '../../GrimaldiEtAl2020HOTS_clone_laurent/fig'\n",
    "fig_t.savefig(path+name, dpi = dpi_exp, bbox_inches=bbox, transparent=True)"
   ]
  },
  {
   "cell_type": "code",
   "execution_count": null,
   "id": "c61a90ce-8c2e-433e-a392-01782833949f",
   "metadata": {},
   "outputs": [],
   "source": []
  }
 ],
 "metadata": {
  "kernelspec": {
   "display_name": "Python 3 (ipykernel)",
   "language": "python",
   "name": "python3"
  },
  "language_info": {
   "codemirror_mode": {
    "name": "ipython",
    "version": 3
   },
   "file_extension": ".py",
   "mimetype": "text/x-python",
   "name": "python",
   "nbconvert_exporter": "python",
   "pygments_lexer": "ipython3",
   "version": "3.8.10"
  }
 },
 "nbformat": 4,
 "nbformat_minor": 5
}
