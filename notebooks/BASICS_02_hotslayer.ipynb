{
 "cells": [
  {
   "cell_type": "markdown",
   "id": "146e9eb1-7f15-4122-a866-cd3061b73da0",
   "metadata": {},
   "source": [
    "# BASICS 02 - One layer of HOTS in PyTorch"
   ]
  },
  {
   "cell_type": "code",
   "execution_count": 1,
   "id": "98a75ff8-780a-400b-9925-515f4a2274cf",
   "metadata": {},
   "outputs": [],
   "source": [
    "%load_ext autoreload\n",
    "%autoreload 2"
   ]
  },
  {
   "cell_type": "code",
   "execution_count": 4,
   "id": "e6346880-ad3c-4a2c-a39a-1a8842c3ac3d",
   "metadata": {},
   "outputs": [
    {
     "name": "stdout",
     "output_type": "stream",
     "text": [
      " Tonic version installed -> 1.0.15\n"
     ]
    }
   ],
   "source": [
    "import tonic, torch\n",
    "from utils import timesurface, get_loader, get_dataset_info\n",
    "import matplotlib.pyplot as plt\n",
    "from tqdm import tqdm\n",
    "\n",
    "print(f' Tonic version installed -> {tonic.__version__}')"
   ]
  },
  {
   "cell_type": "code",
   "execution_count": 5,
   "id": "1dcbdeff-9a63-4aed-a950-073d75af4132",
   "metadata": {},
   "outputs": [],
   "source": [
    "transform = tonic.transforms.NumpyAsType(int)\n",
    "dataset = tonic.datasets.NMNIST(save_to='../../Data/', train=True, transform=transform)\n",
    "loader = get_loader(dataset, shuffle=True)\n",
    "#get_dataset_info(dataset, properties = ['time', 'mean_isi', 'nb_events']);"
   ]
  },
  {
   "cell_type": "code",
   "execution_count": 67,
   "id": "a90e0933-87c0-4d98-855c-ed4ad5098c3f",
   "metadata": {},
   "outputs": [],
   "source": [
    "R = 4\n",
    "ts_size = (2*R+1)\n",
    "tau = 5e3#7e2\n",
    "\n",
    "transform = tonic.transforms.Compose([tonic.transforms.ToTimesurface(sensor_size=dataset.sensor_size, tau=tau, decay='exp', surface_dimensions=(ts_size,ts_size))])\n",
    "dataset = tonic.datasets.NMNIST(save_to='../../Data/', train=True, transform=transform)\n",
    "loader = get_loader(dataset, shuffle=True, batch_size=None, kfold=600)"
   ]
  },
  {
   "cell_type": "code",
   "execution_count": 69,
   "id": "101ed100-61ae-4c77-96b9-fd7d2b177a75",
   "metadata": {},
   "outputs": [],
   "source": [
    "class hotslayer(torch.nn.Module):\n",
    "    def __init__(self, ts_size, n_neurons, bias=False, homeostasis = True, device=\"cpu\"):\n",
    "        super(hotslayer, self).__init__()\n",
    "        self.synapses = torch.nn.Linear(ts_size, n_neurons, bias=bias)\n",
    "        torch.nn.init.uniform_(self.synapses.weight, a=0, b=1)\n",
    "        self.cumhisto = torch.ones([n_neurons]).to(device)\n",
    "        self.learning_flag = True\n",
    "        self.homeo_flag = homeostasis\n",
    "        \n",
    "    def homeo_gain(self):\n",
    "        lambda_homeo = .25\n",
    "        gain = torch.exp(lambda_homeo*(1-self.cumhisto.size(dim=0)*self.cumhisto/self.cumhisto.sum()))\n",
    "        return gain\n",
    "\n",
    "    def forward(self, all_ts):\n",
    "        if self.learning_flag:\n",
    "            for iev in range(len(all_ts)):\n",
    "                ts = all_ts[iev].ravel()\n",
    "                ts = ts/torch.linalg.norm(ts)\n",
    "                beta = self.synapses(ts)/(torch.linalg.norm(self.synapses.weight.data, dim=1))\n",
    "                if self.homeo_flag:\n",
    "                    beta_homeo = self.homeo_gain()*(self.synapses(ts)/(torch.linalg.norm(self.synapses.weight.data, dim=1)))\n",
    "                    n_star = torch.argmax(beta_homeo)\n",
    "                else:\n",
    "                    n_star = torch.argmax(beta)\n",
    "\n",
    "                Ck = self.synapses.weight.data[n_star,:]\n",
    "                alpha = 0.01/(1+self.cumhisto[n_star]/20000)\n",
    "                self.synapses.weight.data[n_star,:] = Ck + alpha*beta[n_star]*(ts - Ck)\n",
    "                #self.synapses.weight.data[n_star,:] /= torch.linalg.norm(self.synapses.weight.data[n_star,:])\n",
    "                # learning rule from Lagorce 2017\n",
    "                #self.synapses[:,n_star] = Ck + alpha*(TS - simil[closest_proto_idx]*Ck)\n",
    "                self.cumhisto[n_star] += 1\n",
    "        else:\n",
    "            all_ts = torch.flatten(all_ts, start_dim=1, end_dim=- 1)\n",
    "            all_ts = all_ts/torch.linalg.norm(all_ts, dim=0)\n",
    "            beta = self.synapses(all_ts)/(torch.linalg.norm(self.synapses.weight.data, dim=1))\n",
    "            n_star = torch.argmax(beta, dim=1)\n",
    "        return n_star"
   ]
  },
  {
   "cell_type": "code",
   "execution_count": 70,
   "id": "e43405e6-0758-4ece-b1c1-e7a6f692699f",
   "metadata": {},
   "outputs": [
    {
     "name": "stdout",
     "output_type": "stream",
     "text": [
      "device -> cuda\n"
     ]
    },
    {
     "name": "stderr",
     "output_type": "stream",
     "text": [
      "100%|███████████████████████████████████████████████████████████████████████████████████████████████████████████████████████████████████████████████████████████████████████████████████████████████████████████████████████████████████████| 100/100 [02:51<00:00,  1.72s/it]\n"
     ]
    }
   ],
   "source": [
    "R = 4\n",
    "n_pola = 2\n",
    "ts_size = (2*R+1)**2*n_pola\n",
    "n_neurons = 16\n",
    "tau = 5e3#7e2\n",
    "verbose = True\n",
    "\n",
    "device = torch.device(\"cuda\" if torch.cuda.is_available() else \"cpu\")\n",
    "if verbose: print(f'device -> {device}')\n",
    "\n",
    "torch.set_default_tensor_type(\"torch.DoubleTensor\")\n",
    "\n",
    "with torch.no_grad():\n",
    "    output_pola = []\n",
    "    layer = hotslayer(ts_size, n_neurons, device=device)\n",
    "    #layer.learning_flag = False\n",
    "    layer = layer.to(device)\n",
    "    for all_ts, target in tqdm(loader):\n",
    "        n_star = layer(all_ts.to(device).squeeze(0))\n",
    "        output_pola.append(n_star)\n",
    "layer = layer.to(\"cpu\")"
   ]
  },
  {
   "cell_type": "code",
   "execution_count": 73,
   "id": "32fbe81a-665d-4511-9e1e-ac83360bc94d",
   "metadata": {},
   "outputs": [
    {
     "data": {
      "image/png": "[encoded data removed]",
      "text/plain": [
       "<Figure size 1080x360 with 32 Axes>"
      ]
     },
     "metadata": {
      "needs_background": "light"
     },
     "output_type": "display_data"
    }
   ],
   "source": [
    "plot_kernels(layer, n_pola, R)"
   ]
  },
  {
   "cell_type": "code",
   "execution_count": 75,
   "id": "7a35d916-deb4-470c-a3ee-cdeb997d4abe",
   "metadata": {},
   "outputs": [
    {
     "data": {
      "image/png": "[encoded data removed]",
      "text/plain": [
       "<Figure size 864x432 with 2 Axes>"
      ]
     },
     "metadata": {
      "needs_background": "light"
     },
     "output_type": "display_data"
    }
   ],
   "source": [
    "plot_weight_distribution(layer)"
   ]
  },
  {
   "cell_type": "code",
   "execution_count": 72,
   "id": "66273b94-d321-43f6-95be-5ed5f934f3a0",
   "metadata": {},
   "outputs": [],
   "source": [
    "import numpy as np\n",
    "def plot_kernels(layer, pola, R):\n",
    "    fig = plt.figure(figsize=(15,5))\n",
    "    kernel = layer.synapses.weight.data.T\n",
    "    for n in range(len(kernel[0,:])):\n",
    "        for p in range(pola):\n",
    "            sub = fig.add_subplot(pola,len(kernel[0,:]),n+len(kernel[0,:])*p+1)\n",
    "            dico = np.reshape(kernel[p*(2*R+1)**2:(p+1)*(2*R+1)**2,n], [int(np.sqrt(len(kernel)/pola)), int(np.sqrt(len(kernel)/pola))])\n",
    "            sub.imshow((dico))\n",
    "            sub.axes.get_xaxis().set_visible(False)\n",
    "            sub.axes.get_yaxis().set_visible(False)\n",
    "    plt.show()\n",
    "    \n",
    "def plot_weight_distribution(layer, bins=np.linspace(0, 1, 50)):\n",
    "    kernels = layer.synapses.weight.data\n",
    "    fig, axs = plt.subplots(1,2, figsize=(12, 6))\n",
    "    n_neurons = kernels.size(dim=0)\n",
    "    ts_size = int(kernels.size(dim=1)/2)\n",
    "    for k in range (n_neurons):\n",
    "        pos_kernels = kernels[k][ts_size:]\n",
    "        neg_kernels = kernels[k][:ts_size]\n",
    "        axs[0].hist(neg_kernels, bins=bins, alpha=.1)\n",
    "        axs[0].set_xlabel('OFF polarities', fontsize=16)\n",
    "        axs[1].hist(pos_kernels, bins=bins, alpha=.1)\n",
    "        axs[1].set_xlabel('ON polarities', fontsize=16)\n",
    "    plt.show()\n",
    "    \n",
    "def plot_loss(df_train):\n",
    "    fig_width, phi = 15, np.sqrt(5)/2 + 1/2\n",
    "    fig, axs = plt.subplots(figsize=(fig_width, fig_width/phi/2))\n",
    "    ax = df_train['loss'].plot(lw=2, marker='.', markersize=10)\n",
    "    ax.set_xlabel(\"Epoch\", size=18)\n",
    "    ax.set_ylabel(\"Loss\", size=18)\n",
    "    ax.spines['left'].set_position(('axes', -0.01))\n",
    "    ax.grid(which='both')\n",
    "    for side in ['top', 'right']: ax.spines[side].set_visible(False)\n",
    "    ax.set_ylim(0.);\n",
    "    plt.show()"
   ]
  },
  {
   "cell_type": "code",
   "execution_count": null,
   "id": "9ce0134b-1529-4a91-9906-57c1288c698e",
   "metadata": {},
   "outputs": [],
   "source": []
  }
 ],
 "metadata": {
  "kernelspec": {
   "display_name": "Python 3 (ipykernel)",
   "language": "python",
   "name": "python3"
  },
  "language_info": {
   "codemirror_mode": {
    "name": "ipython",
    "version": 3
   },
   "file_extension": ".py",
   "mimetype": "text/x-python",
   "name": "python",
   "nbconvert_exporter": "python",
   "pygments_lexer": "ipython3",
   "version": "3.8.10"
  }
 },
 "nbformat": 4,
 "nbformat_minor": 5
}
