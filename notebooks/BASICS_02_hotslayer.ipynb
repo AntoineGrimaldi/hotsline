{
 "cells": [
  {
   "cell_type": "markdown",
   "id": "146e9eb1-7f15-4122-a866-cd3061b73da0",
   "metadata": {},
   "source": [
    "# BASICS 02 - A layer of HOTS in PyTorch"
   ]
  },
  {
   "cell_type": "code",
   "execution_count": 1,
   "id": "98a75ff8-780a-400b-9925-515f4a2274cf",
   "metadata": {},
   "outputs": [],
   "source": [
    "%load_ext autoreload\n",
    "%autoreload 2"
   ]
  },
  {
   "cell_type": "code",
   "execution_count": 13,
   "id": "e6346880-ad3c-4a2c-a39a-1a8842c3ac3d",
   "metadata": {},
   "outputs": [],
   "source": [
    "import tonic, torch\n",
    "from utils import timesurface, get_loader\n",
    "import matplotlib.pyplot as plt"
   ]
  },
  {
   "cell_type": "code",
   "execution_count": 11,
   "id": "1dcbdeff-9a63-4aed-a950-073d75af4132",
   "metadata": {},
   "outputs": [],
   "source": [
    "transform = tonic.transforms.NumpyAsType(int)\n",
    "dataset = tonic.datasets.POKERDVS(save_to='../../Data/', train=True,transform=transform)\n",
    "loader = get_loader(dataset, shuffle=True)"
   ]
  },
  {
   "cell_type": "code",
   "execution_count": 12,
   "id": "c84e966d-34b6-4e9b-b3b7-abccab8f126b",
   "metadata": {},
   "outputs": [],
   "source": [
    "events, target = next(iter(loader))"
   ]
  },
  {
   "cell_type": "code",
   "execution_count": 114,
   "id": "101ed100-61ae-4c77-96b9-fd7d2b177a75",
   "metadata": {},
   "outputs": [],
   "source": [
    "class hotslayer(torch.nn.Module):\n",
    "    def __init__(self, ts_size, n_neurons, bias=False, homeostasis = True):\n",
    "        super(hotslayer, self).__init__()\n",
    "        self.synapses = torch.nn.Linear(ts_size, n_neurons, bias=bias)\n",
    "        torch.nn.init.uniform_(self.synapses.weight, a=0, b=1)\n",
    "        self.cumhisto = torch.ones([n_neurons])\n",
    "        self.learning_flag = True\n",
    "        self.homeo_flag = homeostasis\n",
    "        \n",
    "    def homeo_gain(self):\n",
    "        lambda_homeo = .25\n",
    "        gain = torch.exp(lambda_homeo*(self.cumhisto.size(dim=0)*self.cumhisto/self.cumhisto.sum()-1))\n",
    "        return gain\n",
    "\n",
    "    def forward(self, ts):\n",
    "        beta = self.synapses(ts.ravel())/torch.linalg.norm(self.synapses.weight.data, dim=1)\n",
    "        if self.homeo_flag:\n",
    "            beta = self.homeo_gain()*beta\n",
    "        n_star = torch.argmax(beta)\n",
    "        #if learning_flag:\n",
    "            \n",
    "        return n_star\n",
    "    \n",
    "    #def learning_rule(self, ts):"
   ]
  },
  {
   "cell_type": "code",
   "execution_count": 115,
   "id": "e43405e6-0758-4ece-b1c1-e7a6f692699f",
   "metadata": {},
   "outputs": [
    {
     "name": "stdout",
     "output_type": "stream",
     "text": [
      "tensor([1., 1., 1., 1.]) tensor([1.8937, 1.8110, 1.8568, 1.8534], grad_fn=<DivBackward0>)\n"
     ]
    }
   ],
   "source": [
    "n_neurons = 4\n",
    "all_ts = timesurface(events.squeeze(), dataset.sensor_size, dataset.ordering)\n",
    "ts_size = torch.tensor(all_ts[0].shape).prod()\n",
    "layer = hotslayer(ts_size, n_neurons)\n",
    "n_star = layer(all_ts[10])"
   ]
  },
  {
   "cell_type": "code",
   "execution_count": 87,
   "id": "32fbe81a-665d-4511-9e1e-ac83360bc94d",
   "metadata": {},
   "outputs": [
    {
     "data": {
      "text/plain": [
       "4"
      ]
     },
     "execution_count": 87,
     "metadata": {},
     "output_type": "execute_result"
    }
   ],
   "source": [
    "layer.cumhisto.size(dim=0)"
   ]
  },
  {
   "cell_type": "code",
   "execution_count": null,
   "id": "cebdded3-cae6-46b4-8c8d-5ca5e219bbf0",
   "metadata": {},
   "outputs": [],
   "source": []
  }
 ],
 "metadata": {
  "kernelspec": {
   "display_name": "Python 3 (ipykernel)",
   "language": "python",
   "name": "python3"
  },
  "language_info": {
   "codemirror_mode": {
    "name": "ipython",
    "version": 3
   },
   "file_extension": ".py",
   "mimetype": "text/x-python",
   "name": "python",
   "nbconvert_exporter": "python",
   "pygments_lexer": "ipython3",
   "version": "3.8.10"
  }
 },
 "nbformat": 4,
 "nbformat_minor": 5
}
