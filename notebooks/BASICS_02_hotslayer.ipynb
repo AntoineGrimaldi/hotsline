{
 "cells": [
  {
   "cell_type": "markdown",
   "id": "146e9eb1-7f15-4122-a866-cd3061b73da0",
   "metadata": {},
   "source": [
    "# BASICS 02 - One layer of HOTS in PyTorch"
   ]
  },
  {
   "cell_type": "code",
   "execution_count": 1,
   "id": "98a75ff8-780a-400b-9925-515f4a2274cf",
   "metadata": {},
   "outputs": [],
   "source": [
    "%load_ext autoreload\n",
    "%autoreload 2"
   ]
  },
  {
   "cell_type": "code",
   "execution_count": 2,
   "id": "e6346880-ad3c-4a2c-a39a-1a8842c3ac3d",
   "metadata": {},
   "outputs": [
    {
     "name": "stdout",
     "output_type": "stream",
     "text": [
      "/home/antoine/homhots/hotsline/hots\n",
      " Tonic version installed -> 1.0.15\n"
     ]
    }
   ],
   "source": [
    "import tonic, torch\n",
    "from utils import timesurface, get_loader, get_dataset_info, plot_kernels, plot_weight_distribution\n",
    "import matplotlib.pyplot as plt\n",
    "from tqdm import tqdm\n",
    "%cd ../hots\n",
    "from layer import hotslayer\n",
    "\n",
    "print(f' Tonic version installed -> {tonic.__version__}')"
   ]
  },
  {
   "cell_type": "code",
   "execution_count": 3,
   "id": "1dcbdeff-9a63-4aed-a950-073d75af4132",
   "metadata": {},
   "outputs": [],
   "source": [
    "transform = tonic.transforms.NumpyAsType(int)\n",
    "dataset = tonic.datasets.NMNIST(save_to='../../Data/', train=True, transform=transform)\n",
    "loader = get_loader(dataset, shuffle=True)\n",
    "#get_dataset_info(dataset, properties = ['time', 'mean_isi', 'nb_events']);"
   ]
  },
  {
   "cell_type": "code",
   "execution_count": 4,
   "id": "a90e0933-87c0-4d98-855c-ed4ad5098c3f",
   "metadata": {},
   "outputs": [],
   "source": [
    "R = 4\n",
    "ts_size = (2*R+1)\n",
    "tau = 5e3#7e2\n",
    "\n",
    "transform = tonic.transforms.Compose([tonic.transforms.ToTimesurface(sensor_size=dataset.sensor_size, tau=tau, decay='exp', surface_dimensions=(ts_size,ts_size))])\n",
    "dataset = tonic.datasets.NMNIST(save_to='../../Data/', train=True, transform=transform)\n",
    "loader = get_loader(dataset, shuffle=True, batch_size=None, kfold=300)"
   ]
  },
  {
   "cell_type": "code",
   "execution_count": 5,
   "id": "e43405e6-0758-4ece-b1c1-e7a6f692699f",
   "metadata": {},
   "outputs": [
    {
     "name": "stdout",
     "output_type": "stream",
     "text": [
      "device -> cuda\n"
     ]
    },
    {
     "name": "stderr",
     "output_type": "stream",
     "text": [
      "100%|███████████████████████████████████████████████████████████████████████████████████████████████████████████████████████████████████████████████████████████████████████████████████████████████████████████████████████████████████████| 200/200 [05:46<00:00,  1.73s/it]\n"
     ]
    }
   ],
   "source": [
    "R = 4\n",
    "n_pola = 2\n",
    "ts_size = (2*R+1)**2*n_pola\n",
    "n_neurons = 32\n",
    "tau = 5e3#7e2\n",
    "verbose = True\n",
    "\n",
    "device = torch.device(\"cuda\" if torch.cuda.is_available() else \"cpu\")\n",
    "if verbose: print(f'device -> {device}')\n",
    "\n",
    "torch.set_default_tensor_type(\"torch.DoubleTensor\")\n",
    "\n",
    "with torch.no_grad():\n",
    "    output_pola = []\n",
    "    layer = hotslayer(ts_size, n_neurons, device=device)\n",
    "    #layer.learning_flag = False\n",
    "    layer = layer.to(device)\n",
    "    for all_ts, target in tqdm(loader):\n",
    "        n_star = layer(all_ts.to(device).squeeze(0))\n",
    "        output_pola.append(n_star)\n",
    "layer = layer.to(\"cpu\")"
   ]
  },
  {
   "cell_type": "code",
   "execution_count": null,
   "id": "32fbe81a-665d-4511-9e1e-ac83360bc94d",
   "metadata": {},
   "outputs": [],
   "source": [
    "plot_kernels(layer, n_pola, R, width = 30)"
   ]
  },
  {
   "cell_type": "code",
   "execution_count": 92,
   "id": "7a35d916-deb4-470c-a3ee-cdeb997d4abe",
   "metadata": {},
   "outputs": [
    {
     "data": {
      "image/png": "[encoded data removed]",
      "text/plain": [
       "<Figure size 864x432 with 2 Axes>"
      ]
     },
     "metadata": {
      "needs_background": "light"
     },
     "output_type": "display_data"
    }
   ],
   "source": [
    "plot_weight_distribution(layer)"
   ]
  },
  {
   "cell_type": "markdown",
   "id": "d57cadc7-ca7f-4e64-95f4-aabb02eaf89d",
   "metadata": {},
   "source": [
    "# TODO: check for loss diminution"
   ]
  },
  {
   "cell_type": "code",
   "execution_count": null,
   "id": "0d54cb20-2630-47fc-a4ff-e609a8a18855",
   "metadata": {},
   "outputs": [],
   "source": []
  }
 ],
 "metadata": {
  "kernelspec": {
   "display_name": "Python 3 (ipykernel)",
   "language": "python",
   "name": "python3"
  },
  "language_info": {
   "codemirror_mode": {
    "name": "ipython",
    "version": 3
   },
   "file_extension": ".py",
   "mimetype": "text/x-python",
   "name": "python",
   "nbconvert_exporter": "python",
   "pygments_lexer": "ipython3",
   "version": "3.8.10"
  }
 },
 "nbformat": 4,
 "nbformat_minor": 5
}
