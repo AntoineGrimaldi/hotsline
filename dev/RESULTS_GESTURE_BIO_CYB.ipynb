{
 "cells": [
  {
   "cell_type": "markdown",
   "id": "146e9eb1-7f15-4122-a866-cd3061b73da0",
   "metadata": {},
   "source": [
    "# RESULTS DVS Gesture"
   ]
  },
  {
   "cell_type": "code",
   "execution_count": 1,
   "id": "98a75ff8-780a-400b-9925-515f4a2274cf",
   "metadata": {},
   "outputs": [],
   "source": [
    "%load_ext autoreload\n",
    "%autoreload 2"
   ]
  },
  {
   "cell_type": "code",
   "execution_count": 2,
   "id": "e6346880-ad3c-4a2c-a39a-1a8842c3ac3d",
   "metadata": {},
   "outputs": [
    {
     "name": "stdout",
     "output_type": "stream",
     "text": [
      "/home/antoine/homhots/hotsline/hots\n",
      "Tonic version installed -> 1.0.19\n",
      "Number of GPU devices available: 1\n",
      "GPU 1 named GeForce RTX 2080 Ti\n"
     ]
    }
   ],
   "source": [
    "%cd ../hots\n",
    "import tonic, torch, os, pickle, sys\n",
    "from tqdm import tqdm\n",
    "from network import network\n",
    "from layer import mlrlayer\n",
    "from timesurface import timesurface\n",
    "from utils import apply_jitter, get_loader, get_sliced_loader, make_histogram_classification, HOTS_Dataset, fit_mlr, predict_mlr, score_classif_events, plotjitter, printfig, online_accuracy\n",
    "import matplotlib.pyplot as plt\n",
    "import numpy as np\n",
    "\n",
    "print(f'Tonic version installed -> {tonic.__version__}')\n",
    "\n",
    "print(f'Number of GPU devices available: {torch.cuda.device_count()}')\n",
    "for N_gpu in range(torch.cuda.device_count()):\n",
    "    print(f'GPU {N_gpu+1} named {torch.cuda.get_device_name(N_gpu)}')\n",
    "    \n",
    "device = 'cuda'"
   ]
  },
  {
   "cell_type": "code",
   "execution_count": 3,
   "id": "7d7619e3-7271-48aa-b6e0-c412f6780944",
   "metadata": {},
   "outputs": [],
   "source": [
    "import zipfile as z\n",
    "from torchvision.datasets.vision import VisionDataset\n",
    "\n",
    "\n",
    "class DVSGesture_dataset(VisionDataset):\n",
    "    \"\"\"DVSGesture <http://research.ibm.com/dvsgesture/> dataset, either reduced or foveated.\n",
    "    arguments:\n",
    "        repertory: root repertory where the different processed datasets are stored \n",
    "        type_data: must be either test (to load test data), reduce (to load reduced data) or fovea (to load foveated data)\n",
    "        spatial_divider: spatial dividing factor (all data is divided by 4, no need to change default)\n",
    "        structural_divider: structural dividing factor, to keep only a certain percentage of the processed data \n",
    "                    (if want to charge the whole processed data, set structural_divider to 100)\n",
    "        method: spacial downscaling method \n",
    "                    (if type_data not 'test', roi_method must be either 'funnelling', 'eventcount', 'linear' or 'cubic')\n",
    "        roi_method: ROI data to use during foveation \n",
    "                    if type_data is 'fovea' and roi is maintained to default None, then use data foveated on whole input data ; \n",
    "                    else, use data foveated on downscaled data using a certain method)\n",
    "    \"\"\"\n",
    "\n",
    "    classes = [\n",
    "        \"hand_clapping\",\n",
    "        \"right_hand_wave\",\n",
    "        \"left_hand_wave\",\n",
    "        \"right_arm_clockwise\",\n",
    "        \"right_arm_counter_clockwise\",\n",
    "        \"left_arm_clockwise\",\n",
    "        \"left_arm_counter_clockwise\",\n",
    "        \"arm_roll\",\n",
    "        \"air_drums\",\n",
    "        \"air_guitar\",\n",
    "        \"other_gestures\",\n",
    "    ]\n",
    "\n",
    "    sensor_size = (128, 128)\n",
    "    ordering = \"xypt\"\n",
    "    dtype = np.dtype([(\"x\", np.int16), (\"y\", np.int16), (\"p\", bool), (\"t\", np.int64)])\n",
    "\n",
    "    def __init__(\n",
    "        self, repertory, type_data, spatial_divider=4, structural_divider=100, method=None, roi_method=None, \n",
    "    transform = tonic.transforms.NumpyAsType(int)):\n",
    "        super(DVSGesture_dataset, self).__init__(repertory)\n",
    "        assert type_data in ['test', 'reduce', 'fovea'], \"Wrong 'type_data' argument\"\n",
    "\n",
    "        if type_data == 'test':\n",
    "            self.zip_name = type_data\n",
    "            self.folder_name = 'Test data/'\n",
    "        \n",
    "        elif type_data == 'reduce':\n",
    "            assert method in ['funnelling', 'eventcount', 'linear', 'cubic'], \"Wrong 'method' argument\"\n",
    "            self.zip_name = 'reduced_data_'+method+'_div'+str(spatial_divider)\n",
    "            self.folder_name = 'Reduced data/Method - '+method+'/'\n",
    "        \n",
    "        else : \n",
    "            assert method in ['funnelling', 'eventcount', 'linear', 'cubic'], \"Wrong 'method' argument\"\n",
    "            assert roi_method in ['funnelling', 'eventcount', 'linear', 'cubic', None], \"Wrong 'roi_method' argument\"\n",
    "            \n",
    "            if roi_method == None:\n",
    "                roi_method = 'no reduc'\n",
    "            self.folder_name = 'Foveated data/ROI data - '+roi_method+'/Method - '+method+'/'\n",
    "            \n",
    "            if roi_method == 'no reduc':\n",
    "                roi_method = 'none'\n",
    "            self.zip_name = 'foveated_data_'+method+'_div'+str(spatial_divider)+'_ROI'+roi_method\n",
    "\n",
    "        if structural_divider != 100:\n",
    "            assert structural_divider in [5,10,20,40,60,80], \"Wrong 'structural_divider' argument\"\n",
    "            self.zip_name += '_'+str(structural_divider)+'%'\n",
    "\n",
    "        self.location_on_system = repertory\n",
    "        self.data = []\n",
    "        self.samples = []\n",
    "        self.targets = []\n",
    "        #self.transform = transform\n",
    "\n",
    "        file_path = os.path.join(self.location_on_system, self.folder_name, self.zip_name)\n",
    "        \n",
    "        if not os.path.exists(file_path) and os.path.exists(file_path+'.zip'):\n",
    "            \n",
    "            print('Extracting into '+file_path+'...')\n",
    "            with z.ZipFile(file_path+'.zip', 'r') as zip_dir :\n",
    "                zip_dir.extractall(os.path.join(self.location_on_system, self.folder_name))\n",
    "            print('Extraction done')\n",
    "\n",
    "        if os.path.exists(file_path):\n",
    "    \n",
    "            for path, dirs, files in os.walk(file_path):\n",
    "                dirs.sort()\n",
    "                for file in files:\n",
    "                    if file.endswith(\"npy\"):\n",
    "                        self.samples.append(path + \"/\" + file)\n",
    "                        self.targets.append(int(file[:-4]))\n",
    "\n",
    "        else: \n",
    "            print('Error: The folder '+file_path+' does not exist')\n",
    "            sys.exit()\n",
    "\n",
    "    def __getitem__(self, index):\n",
    "        events = np.load(self.samples[index])\n",
    "        events[:, 3] *= 1000  # convert from ms to us\n",
    "        target = self.targets[index]\n",
    "        events = np.lib.recfunctions.unstructured_to_structured(events, self.dtype)\n",
    "        if self.transform is not None:\n",
    "            events = self.transform(events, self.sensor_size, self.ordering)\n",
    "        if self.target_transform is not None:\n",
    "            target = self.target_transform(target)\n",
    "        return events, target\n",
    "\n",
    "    def __len__(self):\n",
    "        return len(self.samples)"
   ]
  },
  {
   "cell_type": "markdown",
   "id": "6ae45cc7-c96c-4c5f-8b9b-efa613afd9b3",
   "metadata": {},
   "source": [
    "## Loading of the dataset for the clustering phase"
   ]
  },
  {
   "cell_type": "code",
   "execution_count": 4,
   "id": "fe228881-0acd-422e-9376-966d47b0425b",
   "metadata": {},
   "outputs": [
    {
     "name": "stdout",
     "output_type": "stream",
     "text": [
      "../../Data/DVSGesture/metadata/gesture_1000_True_True\n",
      "Read metadata from disk.\n",
      "../../Data/DVSGesture/metadata/gesture_1000_True_True\n",
      "Read metadata from disk.\n",
      "number of samples in the training set: 1077\n"
     ]
    }
   ],
   "source": [
    "kfold_test = None\n",
    "kfold_clust = 10\n",
    "ts_batch_size = 1000\n",
    "\n",
    "dataset_name = 'gesture'\n",
    "slicing_time_window = 1e6\n",
    "\n",
    "type_transform = tonic.transforms.NumpyAsType(int)\n",
    "trainset = tonic.datasets.DVSGesture(save_to='../../Data/', train=True, transform=type_transform)\n",
    "loader = get_sliced_loader(trainset, slicing_time_window, dataset_name, True, only_first=True, kfold=kfold_clust)\n",
    "trainloader = get_sliced_loader(trainset, slicing_time_window, dataset_name, True, only_first=True, kfold=kfold_test)\n",
    "num_sample_train = len(trainloader)\n",
    "n_classes = len(trainset.classes)\n",
    "print(f'number of samples in the training set: {len(trainloader)}')"
   ]
  },
  {
   "cell_type": "markdown",
   "id": "5ce771bc-ad2d-45c4-ba80-0a28862f07fe",
   "metadata": {},
   "source": [
    "## Initialization of the network"
   ]
  },
  {
   "cell_type": "code",
   "execution_count": 5,
   "id": "1caf366e-fc63-4030-868b-a57babe598de",
   "metadata": {},
   "outputs": [],
   "source": [
    "name = 'homeohots'\n",
    "homeo = True\n",
    "timestr = '2022-04-22'\n",
    "dataset_name = 'gesture'\n",
    "\n",
    "Rz = [4, 8]\n",
    "N_neuronz = [16, 32]\n",
    "tauz = [5e4*2, 5e4*16]\n",
    "\n",
    "hots = network(name, dataset_name, timestr, trainset.sensor_size, nb_neurons = N_neuronz, tau = tauz, R = Rz, homeo = homeo, device = device)\n",
    "\n",
    "initial_name = hots.name"
   ]
  },
  {
   "cell_type": "markdown",
   "id": "804365ce-3c09-40a8-90ad-f2471961b169",
   "metadata": {},
   "source": [
    "## Unsupervised clustering"
   ]
  },
  {
   "cell_type": "code",
   "execution_count": 6,
   "id": "7064b789-7876-4611-8d34-3a5a4d62e888",
   "metadata": {},
   "outputs": [],
   "source": [
    "filtering_threshold = [2*Rz[L] for L in range(len(Rz))]\n",
    "if not os.path.exists('../Records/'):\n",
    "    os.mkdir('../Records/')\n",
    "    os.mkdir('../Records/networks/')\n",
    "path = '../Records/networks/'+hots.name+'.pkl'\n",
    "if not os.path.exists(path):\n",
    "    hots.clustering(loader, trainset.ordering, filtering_threshold = filtering_threshold, device = device)"
   ]
  },
  {
   "cell_type": "raw",
   "id": "9844a1e0-9745-4b96-a6f3-bbea2af985b2",
   "metadata": {},
   "source": [
    "hots.plotlayers();\n",
    "hots_nohomeo.plotlayers();"
   ]
  },
  {
   "cell_type": "markdown",
   "id": "9f0361ae-8651-4ca6-95db-d3161988f90c",
   "metadata": {},
   "source": [
    "## Training of the classification layer"
   ]
  },
  {
   "cell_type": "code",
   "execution_count": 7,
   "id": "e0a911b9-b781-4e79-a4f9-494dd90615ad",
   "metadata": {},
   "outputs": [
    {
     "name": "stdout",
     "output_type": "stream",
     "text": [
      "../Records/networks/2022-04-22_gesture_homeohots_True_[16, 32]_[100000.0, 800000.0]_[4, 8]_100000000.0_0.0001_(0.9, 0.999)_11_0.99_(None, None).pkl\n"
     ]
    }
   ],
   "source": [
    "jitter = (None, None)\n",
    "num_workers = 0\n",
    "learning_rate = 0.0001\n",
    "beta1, beta2 = 0.9, 0.999\n",
    "betas = (beta1, beta2)\n",
    "num_epochs = 11#2 ** 5 + 1\n",
    "N_output_neurons = N_neuronz[-1]\n",
    "ts_size = (trainset.sensor_size[0],trainset.sensor_size[1],N_output_neurons)\n",
    "tau_cla = 1e4\n",
    "tau_cla = 1e8\n",
    "drop_proba = .99\n",
    "\n",
    "train_path = f'../Records/output/train/{hots.name}_{num_sample_train}_{jitter}/'\n",
    "model_path = f'../Records/networks/{hots.name}_{tau_cla}_{learning_rate}_{betas}_{num_epochs}_{drop_proba}_{jitter}.pkl'\n",
    "results_path = f'../Records/LR_results/{hots.name}_{tau_cla}_{learning_rate}_{betas}_{num_epochs}_{drop_proba}_{jitter}.pkl'\n",
    "print(model_path)\n",
    "\n",
    "hots.coding(trainloader, trainset.ordering, trainset.classes, training=True, device = device, ts_batch_size = ts_batch_size, verbose=False)\n",
    "\n",
    "drop_transform = tonic.transforms.DropEvent(p = drop_proba)\n",
    "kfold_mlr = None\n",
    "\n",
    "trainset_output = HOTS_Dataset(train_path, trainset.sensor_size, trainset.classes, dtype=trainset.dtype, transform=tonic.transforms.Compose([drop_transform, type_transform]))\n",
    "trainoutputloader = get_loader(trainset_output)\n",
    "\n",
    "classif_layer, losses = fit_mlr(trainoutputloader, model_path, tau_cla, learning_rate, betas, num_epochs, ts_size, trainset.ordering, len(trainset.classes), ts_batch_size = ts_batch_size, device = device)"
   ]
  },
  {
   "cell_type": "code",
   "execution_count": 8,
   "id": "094cd4d5-22cc-4fb9-9ff1-4545ce6a31e4",
   "metadata": {},
   "outputs": [
    {
     "name": "stdout",
     "output_type": "stream",
     "text": [
      "../../Data/DVSGesture/metadata/gesture_1000_True_False\n",
      "Read metadata from disk.\n",
      "Number of chance decisions: 0\n",
      "90th quantile for number of events: 106517.5\n",
      "Mean accuracy: 72.39999999999999%\n",
      "Last accuracy: 75.8%\n",
      "Highest probability accuracy: 78.8%\n"
     ]
    },
    {
     "data": {
      "image/png": "[encoded data removed]",
      "text/plain": [
       "<Figure size 432x288 with 1 Axes>"
      ]
     },
     "metadata": {
      "needs_background": "light"
     },
     "output_type": "display_data"
    }
   ],
   "source": [
    "testset = tonic.datasets.DVSGesture(save_to='../../Data/', train=False, transform=type_transform)\n",
    "testloader = get_sliced_loader(testset, slicing_time_window, dataset_name, False, only_first=True, kfold=kfold_test)\n",
    "hots.coding(testloader, trainset.ordering, trainset.classes, filtering_threshold = filtering_threshold, training=False, ts_batch_size = ts_batch_size, verbose=False)\n",
    "num_sample_test = len(testloader)\n",
    "test_path = f'../Records/output/test/{hots.name}_{num_sample_test}_{jitter}/'\n",
    "testset_output = HOTS_Dataset(test_path, testset.sensor_size, testset.classes, dtype=testset.dtype, transform=type_transform)\n",
    "testoutputloader = get_loader(testset_output)\n",
    "\n",
    "mlr_threshold = None\n",
    "onlinac = online_accuracy(classif_layer, tau_cla, testoutputloader, results_path, ts_size, testset_output.ordering, n_classes, mlr_threshold = mlr_threshold, ts_batch_size = ts_batch_size, online_plot=True)"
   ]
  },
  {
   "cell_type": "markdown",
   "id": "64744c30-fffa-4aaa-bb5e-83e1589ae03e",
   "metadata": {},
   "source": [
    "## Reduced datasets\n",
    "### Cubic"
   ]
  },
  {
   "cell_type": "code",
   "execution_count": 9,
   "id": "f9d7ecd0-af05-4e01-acba-080913ed8129",
   "metadata": {},
   "outputs": [
    {
     "name": "stdout",
     "output_type": "stream",
     "text": [
      "Read metadata from disk.\n",
      "number of samples in the testing set: 264\n"
     ]
    }
   ],
   "source": [
    "repertory = '../../Data/DVSGesture_reduced'\n",
    "type_data = 'reduce'\n",
    "method = 'cubic'\n",
    "roi_method = None\n",
    "\n",
    "hots.name = initial_name+'_'+type_data+'_'+method\n",
    "\n",
    "testset = DVSGesture_dataset(repertory, type_data, spatial_divider=4, structural_divider=100, method=method, roi_method=roi_method)\n",
    "metadata_path = testset.location_on_system+'/'+testset.folder_name+'metadata'\n",
    "slicer = tonic.slicers.SliceAtTimePoints(start_tw = [0], end_tw = [slicing_time_window])\n",
    "sliced_dataset = tonic.SlicedDataset(testset, slicer = slicer, transform = type_transform, metadata_path = metadata_path)\n",
    "testloader = torch.utils.data.DataLoader(sliced_dataset, shuffle=False, num_workers = num_workers)\n",
    "num_sample_test = len(sliced_dataset)\n",
    "classes = sliced_dataset.dataset.classes\n",
    "targets = sliced_dataset.dataset.targets\n",
    "print(f'number of samples in the testing set: {len(testloader)}')\n",
    "hots.coding(testloader, trainset.ordering, trainset.classes, training=False, device = device, ts_batch_size = ts_batch_size, verbose=False)\n",
    "\n",
    "test_path = f'../Records/output/test/{hots.name}_{num_sample_test}_{jitter}/'\n",
    "results_path = f'../Records/LR_results/{hots.name}_{tau_cla}_{learning_rate}_{betas}_{num_epochs}_{drop_proba}_{jitter}.pkl'\n",
    "testset_output = HOTS_Dataset(test_path, testset.sensor_size, testset.classes, dtype=trainset.dtype, transform=type_transform)\n",
    "testoutputloader = get_loader(testset_output)"
   ]
  },
  {
   "cell_type": "code",
   "execution_count": 10,
   "id": "e8f6a4a5-8dde-4343-96ba-38d7f4c05660",
   "metadata": {},
   "outputs": [
    {
     "name": "stdout",
     "output_type": "stream",
     "text": [
      "Number of chance decisions: 39\n",
      "90th quantile for number of events: 33598.3\n",
      "Mean accuracy: 8.5%\n",
      "Last accuracy: 12.9%\n",
      "Highest probability accuracy: 12.5%\n"
     ]
    },
    {
     "data": {
      "image/png": "[encoded data removed]",
      "text/plain": [
       "<Figure size 432x288 with 1 Axes>"
      ]
     },
     "metadata": {
      "needs_background": "light"
     },
     "output_type": "display_data"
    }
   ],
   "source": [
    "mlr_threshold = None\n",
    "onlinac_reduce_cubic,_,_,_ = online_accuracy(classif_layer, tau_cla, testoutputloader, results_path, ts_size, testset_output.ordering, n_classes, mlr_threshold = mlr_threshold, ts_batch_size = ts_batch_size, online_plot=True)"
   ]
  },
  {
   "cell_type": "code",
   "execution_count": 11,
   "id": "d1d8a100-0461-4295-9fb8-337118faf24d",
   "metadata": {},
   "outputs": [
    {
     "name": "stdout",
     "output_type": "stream",
     "text": [
      "../Records/output/test/2022-04-22_gesture_homeohots_True_[16, 32]_[100000.0, 800000.0]_[4, 8]_reduce_cubic_264_(None, None)/\n"
     ]
    }
   ],
   "source": [
    "print(test_path)"
   ]
  },
  {
   "cell_type": "markdown",
   "id": "e06267db-b34b-4638-875d-87df14fc04cc",
   "metadata": {},
   "source": [
    "### Linear"
   ]
  },
  {
   "cell_type": "code",
   "execution_count": 12,
   "id": "b2df4b55-5726-4a93-9fc9-db1013875896",
   "metadata": {},
   "outputs": [
    {
     "name": "stdout",
     "output_type": "stream",
     "text": [
      "Read metadata from disk.\n",
      "number of samples in the testing set: 264\n"
     ]
    }
   ],
   "source": [
    "repertory = '../../Data/DVSGesture_reduced'\n",
    "type_data = 'reduce'\n",
    "method = 'linear'\n",
    "roi_method = None\n",
    "\n",
    "hots.name = initial_name+'_'+type_data+'_'+method\n",
    "\n",
    "testset = DVSGesture_dataset(repertory, type_data, spatial_divider=4, structural_divider=100, method=method, roi_method=roi_method)\n",
    "metadata_path = testset.location_on_system+'/'+testset.folder_name+'metadata'\n",
    "slicer = tonic.slicers.SliceAtTimePoints(start_tw = [0], end_tw = [slicing_time_window])\n",
    "sliced_dataset = tonic.SlicedDataset(testset, slicer = slicer, transform = type_transform, metadata_path = metadata_path)\n",
    "testloader = torch.utils.data.DataLoader(sliced_dataset, shuffle=False, num_workers = num_workers)\n",
    "num_sample_test = len(sliced_dataset)\n",
    "classes = sliced_dataset.dataset.classes\n",
    "targets = sliced_dataset.dataset.targets\n",
    "print(f'number of samples in the testing set: {len(testloader)}')\n",
    "hots.coding(testloader, trainset.ordering, trainset.classes, training=False, device = device, ts_batch_size = ts_batch_size, verbose=False)\n",
    "\n",
    "test_path = f'../Records/output/test/{hots.name}_{num_sample_test}_{jitter}/'\n",
    "results_path = f'../Records/LR_results/{hots.name}_{tau_cla}_{learning_rate}_{betas}_{num_epochs}_{drop_proba}_{jitter}.pkl'\n",
    "testset_output = HOTS_Dataset(test_path, testset.sensor_size, testset.classes, dtype=trainset.dtype, transform=type_transform)\n",
    "testoutputloader = get_loader(testset_output)"
   ]
  },
  {
   "cell_type": "code",
   "execution_count": 13,
   "id": "ed85655a-92a1-4a6c-b820-9d51bba7550b",
   "metadata": {},
   "outputs": [
    {
     "name": "stdout",
     "output_type": "stream",
     "text": [
      "Number of chance decisions: 59\n",
      "90th quantile for number of events: 31773.60000000003\n",
      "Mean accuracy: 14.899999999999999%\n",
      "Last accuracy: 18.2%\n",
      "Highest probability accuracy: 14.000000000000002%\n"
     ]
    },
    {
     "data": {
      "image/png": "[encoded data removed]",
      "text/plain": [
       "<Figure size 432x288 with 1 Axes>"
      ]
     },
     "metadata": {
      "needs_background": "light"
     },
     "output_type": "display_data"
    }
   ],
   "source": [
    "mlr_threshold = None\n",
    "onlinac_reduce_linear,_,_,_ = online_accuracy(classif_layer, tau_cla, testoutputloader, results_path, ts_size, testset_output.ordering, n_classes, mlr_threshold = mlr_threshold, ts_batch_size = ts_batch_size, online_plot=True)"
   ]
  },
  {
   "cell_type": "markdown",
   "id": "35f2e5e0-3c46-4f4a-a246-6360a8cf179f",
   "metadata": {},
   "source": [
    "### Event count"
   ]
  },
  {
   "cell_type": "code",
   "execution_count": 14,
   "id": "1aec022f-8019-4283-83a4-325396a02efc",
   "metadata": {},
   "outputs": [
    {
     "name": "stdout",
     "output_type": "stream",
     "text": [
      "Read metadata from disk.\n",
      "number of samples in the testing set: 264\n"
     ]
    }
   ],
   "source": [
    "repertory = '../../Data/DVSGesture_reduced'\n",
    "type_data = 'reduce'\n",
    "method = 'eventcount'\n",
    "roi_method = None\n",
    "\n",
    "hots.name = initial_name+'_'+type_data+'_'+method\n",
    "\n",
    "testset = DVSGesture_dataset(repertory, type_data, spatial_divider=4, structural_divider=100, method=method, roi_method=roi_method)\n",
    "metadata_path = testset.location_on_system+'/'+testset.folder_name+'metadata'\n",
    "slicer = tonic.slicers.SliceAtTimePoints(start_tw = [0], end_tw = [slicing_time_window])\n",
    "sliced_dataset = tonic.SlicedDataset(testset, slicer = slicer, transform = type_transform, metadata_path = metadata_path)\n",
    "testloader = torch.utils.data.DataLoader(sliced_dataset, shuffle=False, num_workers = num_workers)\n",
    "num_sample_test = len(sliced_dataset)\n",
    "classes = sliced_dataset.dataset.classes\n",
    "targets = sliced_dataset.dataset.targets\n",
    "print(f'number of samples in the testing set: {len(testloader)}')\n",
    "hots.coding(testloader, trainset.ordering, trainset.classes, training=False, device = device, ts_batch_size = ts_batch_size, verbose=False)\n",
    "\n",
    "test_path = f'../Records/output/test/{hots.name}_{num_sample_test}_{jitter}/'\n",
    "results_path = f'../Records/LR_results/{hots.name}_{tau_cla}_{learning_rate}_{betas}_{num_epochs}_{drop_proba}_{jitter}.pkl'\n",
    "testset_output = HOTS_Dataset(test_path, testset.sensor_size, testset.classes, dtype=trainset.dtype, transform=type_transform)\n",
    "testoutputloader = get_loader(testset_output)"
   ]
  },
  {
   "cell_type": "code",
   "execution_count": 15,
   "id": "c0e0c83e-e70d-436a-bf92-98a750b5c078",
   "metadata": {},
   "outputs": [
    {
     "name": "stdout",
     "output_type": "stream",
     "text": [
      "Number of chance decisions: 0\n",
      "90th quantile for number of events: 92414.90000000001\n",
      "Mean accuracy: 51.300000000000004%\n",
      "Last accuracy: 62.9%\n",
      "Highest probability accuracy: 58.699999999999996%\n"
     ]
    },
    {
     "data": {
      "image/png": "[encoded data removed]",
      "text/plain": [
       "<Figure size 432x288 with 1 Axes>"
      ]
     },
     "metadata": {
      "needs_background": "light"
     },
     "output_type": "display_data"
    }
   ],
   "source": [
    "mlr_threshold = None\n",
    "onlinac_reduce_eventcount,_,_,_ = online_accuracy(classif_layer, tau_cla, testoutputloader, results_path, ts_size, testset_output.ordering, n_classes, mlr_threshold = mlr_threshold, ts_batch_size = ts_batch_size, online_plot=True)"
   ]
  },
  {
   "cell_type": "markdown",
   "id": "9825165b-94ad-49e0-9861-f4959c86c30e",
   "metadata": {},
   "source": [
    "### Funnelling"
   ]
  },
  {
   "cell_type": "code",
   "execution_count": null,
   "id": "88a89b47-cdff-4d5d-a700-cafd80aa8d31",
   "metadata": {},
   "outputs": [
    {
     "name": "stdout",
     "output_type": "stream",
     "text": [
      "Read metadata from disk.\n",
      "number of samples in the testing set: 264\n"
     ]
    },
    {
     "name": "stderr",
     "output_type": "stream",
     "text": [
      "  0%|                                                                                                                                                        | 0/264 [00:00<?, ?it/s]"
     ]
    }
   ],
   "source": [
    "repertory = '../../Data/DVSGesture_reduced'\n",
    "type_data = 'reduce'\n",
    "method = 'funnelling'\n",
    "roi_method = None\n",
    "\n",
    "hots.name = initial_name+'_'+type_data+'_'+method\n",
    "\n",
    "testset = DVSGesture_dataset(repertory, type_data, spatial_divider=4, structural_divider=100, method=method, roi_method=roi_method)\n",
    "metadata_path = testset.location_on_system+'/'+testset.folder_name+'metadata'\n",
    "slicer = tonic.slicers.SliceAtTimePoints(start_tw = [0], end_tw = [slicing_time_window])\n",
    "sliced_dataset = tonic.SlicedDataset(testset, slicer = slicer, transform = type_transform, metadata_path = metadata_path)\n",
    "testloader = torch.utils.data.DataLoader(sliced_dataset, shuffle=False, num_workers = num_workers)\n",
    "num_sample_test = len(sliced_dataset)\n",
    "classes = sliced_dataset.dataset.classes\n",
    "targets = sliced_dataset.dataset.targets\n",
    "print(f'number of samples in the testing set: {len(testloader)}')\n",
    "hots.coding(testloader, trainset.ordering, trainset.classes, training=False, device = device, ts_batch_size = ts_batch_size, verbose=False)\n",
    "\n",
    "test_path = f'../Records/output/test/{hots.name}_{num_sample_test}_{jitter}/'\n",
    "results_path = f'../Records/LR_results/{hots.name}_{tau_cla}_{learning_rate}_{betas}_{num_epochs}_{drop_proba}_{jitter}.pkl'\n",
    "testset_output = HOTS_Dataset(test_path, testset.sensor_size, testset.classes, dtype=trainset.dtype, transform=type_transform)\n",
    "testoutputloader = get_loader(testset_output)"
   ]
  },
  {
   "cell_type": "code",
   "execution_count": null,
   "id": "3334fe66-9854-4f8c-92cf-0a4873247732",
   "metadata": {},
   "outputs": [],
   "source": [
    "mlr_threshold = None\n",
    "onlinac_reduce_funnelling,_,_,_ = online_accuracy(classif_layer, tau_cla, testoutputloader, results_path, ts_size, testset_output.ordering, n_classes, mlr_threshold = mlr_threshold, ts_batch_size = ts_batch_size, online_plot=True)"
   ]
  },
  {
   "cell_type": "markdown",
   "id": "d97301a0-bdce-4595-95f0-ae50fd56b372",
   "metadata": {},
   "source": [
    "## Foveated datasets\n",
    "### Cubic"
   ]
  },
  {
   "cell_type": "code",
   "execution_count": null,
   "id": "3773cca3-9096-44b4-90bf-741423d370c5",
   "metadata": {},
   "outputs": [],
   "source": [
    "repertory = '../../Data/DVSGesture_reduced'\n",
    "type_data = 'fovea'\n",
    "method = 'cubic'\n",
    "roi_method = 'cubic'\n",
    "\n",
    "hots.name = initial_name+'_'+type_data+'_'+method\n",
    "\n",
    "testset = DVSGesture_dataset(repertory, type_data, spatial_divider=4, structural_divider=100, method=method, roi_method=roi_method)\n",
    "metadata_path = testset.location_on_system+'/'+testset.folder_name+'metadata'\n",
    "slicer = tonic.slicers.SliceAtTimePoints(start_tw = [0], end_tw = [slicing_time_window])\n",
    "sliced_dataset = tonic.SlicedDataset(testset, slicer = slicer, transform = type_transform, metadata_path = metadata_path)\n",
    "testloader = torch.utils.data.DataLoader(sliced_dataset, shuffle=False, num_workers = num_workers)\n",
    "num_sample_test = len(sliced_dataset)\n",
    "classes = sliced_dataset.dataset.classes\n",
    "targets = sliced_dataset.dataset.targets\n",
    "print(f'number of samples in the testing set: {len(testloader)}')\n",
    "hots.coding(testloader, trainset.ordering, trainset.classes, training=False, device = device, ts_batch_size = ts_batch_size, verbose=False)\n",
    "\n",
    "test_path = f'../Records/output/test/{hots.name}_{num_sample_test}_{jitter}/'\n",
    "results_path = f'../Records/LR_results/{hots.name}_{tau_cla}_{learning_rate}_{betas}_{num_epochs}_{drop_proba}_{jitter}.pkl'\n",
    "testset_output = HOTS_Dataset(test_path, testset.sensor_size, testset.classes, dtype=trainset.dtype, transform=type_transform)\n",
    "testoutputloader = get_loader(testset_output)"
   ]
  },
  {
   "cell_type": "code",
   "execution_count": null,
   "id": "0e21ff6c-3a37-4487-8f88-0b00e5448ae0",
   "metadata": {},
   "outputs": [],
   "source": [
    "mlr_threshold = None\n",
    "onlinac_fovea_funnelling,_,_,_ = online_accuracy(classif_layer, tau_cla, testoutputloader, results_path, ts_size, testset_output.ordering, n_classes, mlr_threshold = mlr_threshold, ts_batch_size = ts_batch_size, online_plot=True)"
   ]
  },
  {
   "cell_type": "markdown",
   "id": "75378b6a-ba60-4813-afb9-cf7405f24043",
   "metadata": {},
   "source": [
    "### Linear"
   ]
  },
  {
   "cell_type": "code",
   "execution_count": null,
   "id": "98498d43-5ff2-4f02-9224-88fbe77d0c50",
   "metadata": {},
   "outputs": [],
   "source": [
    "repertory = '../../Data/DVSGesture_reduced'\n",
    "type_data = 'fovea'\n",
    "method = 'linear'\n",
    "roi_method = 'linear'\n",
    "\n",
    "hots.name = initial_name+'_'+type_data+'_'+method\n",
    "\n",
    "testset = DVSGesture_dataset(repertory, type_data, spatial_divider=4, structural_divider=100, method=method, roi_method=roi_method)\n",
    "metadata_path = testset.location_on_system+'/'+testset.folder_name+'metadata'\n",
    "slicer = tonic.slicers.SliceAtTimePoints(start_tw = [0], end_tw = [slicing_time_window])\n",
    "sliced_dataset = tonic.SlicedDataset(testset, slicer = slicer, transform = type_transform, metadata_path = metadata_path)\n",
    "testloader = torch.utils.data.DataLoader(sliced_dataset, shuffle=False, num_workers = num_workers)\n",
    "num_sample_test = len(sliced_dataset)\n",
    "classes = sliced_dataset.dataset.classes\n",
    "targets = sliced_dataset.dataset.targets\n",
    "print(f'number of samples in the testing set: {len(testloader)}')\n",
    "hots.coding(testloader, trainset.ordering, trainset.classes, training=False, device = device, ts_batch_size = ts_batch_size, verbose=False)\n",
    "\n",
    "test_path = f'../Records/output/test/{hots.name}_{num_sample_test}_{jitter}/'\n",
    "results_path = f'../Records/LR_results/{hots.name}_{tau_cla}_{learning_rate}_{betas}_{num_epochs}_{drop_proba}_{jitter}.pkl'\n",
    "testset_output = HOTS_Dataset(test_path, testset.sensor_size, testset.classes, dtype=trainset.dtype, transform=type_transform)\n",
    "testoutputloader = get_loader(testset_output)"
   ]
  },
  {
   "cell_type": "code",
   "execution_count": null,
   "id": "ba8f2dc6-6b41-4799-8333-22f8033abaa3",
   "metadata": {},
   "outputs": [],
   "source": [
    "mlr_threshold = None\n",
    "onlinac_fovea_funnelling,_,_,_ = online_accuracy(classif_layer, tau_cla, testoutputloader, results_path, ts_size, testset_output.ordering, n_classes, mlr_threshold = mlr_threshold, ts_batch_size = ts_batch_size, online_plot=True)"
   ]
  },
  {
   "cell_type": "markdown",
   "id": "29ccb161-5b0b-4d03-bb0e-4baa38e4f443",
   "metadata": {},
   "source": [
    "### Event count"
   ]
  },
  {
   "cell_type": "code",
   "execution_count": null,
   "id": "fb81605f-0301-4d62-b098-5c9e70c0d9ec",
   "metadata": {},
   "outputs": [],
   "source": [
    "repertory = '../../Data/DVSGesture_reduced'\n",
    "type_data = 'fovea'\n",
    "method = 'eventcount'\n",
    "roi_method = 'eventcount'\n",
    "\n",
    "hots.name = initial_name+'_'+type_data+'_'+method\n",
    "\n",
    "testset = DVSGesture_dataset(repertory, type_data, spatial_divider=4, structural_divider=100, method=method, roi_method=roi_method)\n",
    "metadata_path = testset.location_on_system+'/'+testset.folder_name+'metadata'\n",
    "slicer = tonic.slicers.SliceAtTimePoints(start_tw = [0], end_tw = [slicing_time_window])\n",
    "sliced_dataset = tonic.SlicedDataset(testset, slicer = slicer, transform = type_transform, metadata_path = metadata_path)\n",
    "testloader = torch.utils.data.DataLoader(sliced_dataset, shuffle=False, num_workers = num_workers)\n",
    "num_sample_test = len(sliced_dataset)\n",
    "classes = sliced_dataset.dataset.classes\n",
    "targets = sliced_dataset.dataset.targets\n",
    "print(f'number of samples in the testing set: {len(testloader)}')\n",
    "hots.coding(testloader, trainset.ordering, trainset.classes, training=False, device = device, ts_batch_size = ts_batch_size, verbose=False)\n",
    "\n",
    "test_path = f'../Records/output/test/{hots.name}_{num_sample_test}_{jitter}/'\n",
    "results_path = f'../Records/LR_results/{hots.name}_{tau_cla}_{learning_rate}_{betas}_{num_epochs}_{drop_proba}_{jitter}.pkl'\n",
    "testset_output = HOTS_Dataset(test_path, testset.sensor_size, testset.classes, dtype=trainset.dtype, transform=type_transform)\n",
    "testoutputloader = get_loader(testset_output)"
   ]
  },
  {
   "cell_type": "code",
   "execution_count": null,
   "id": "66ce01c7-1628-46f0-b6e5-721f974690a0",
   "metadata": {},
   "outputs": [],
   "source": [
    "mlr_threshold = None\n",
    "onlinac_fovea_funnelling,_,_,_ = online_accuracy(classif_layer, tau_cla, testoutputloader, results_path, ts_size, testset_output.ordering, n_classes, mlr_threshold = mlr_threshold, ts_batch_size = ts_batch_size, online_plot=True)"
   ]
  },
  {
   "cell_type": "markdown",
   "id": "fe644692-f9c5-41de-9324-58a0bf9fe69a",
   "metadata": {},
   "source": [
    "### Funnelling"
   ]
  },
  {
   "cell_type": "code",
   "execution_count": null,
   "id": "94b4ce06-f109-4718-89a7-1715a887d8f3",
   "metadata": {},
   "outputs": [],
   "source": [
    "repertory = '../../Data/DVSGesture_reduced'\n",
    "type_data = 'foveated'\n",
    "method = 'funnelling'\n",
    "roi_method = None\n",
    "\n",
    "hots.name = initial_name+'_'+type_data+'_'+method\n",
    "\n",
    "testset = DVSGesture_dataset(repertory, type_data, spatial_divider=4, structural_divider=100, method=method, roi_method=roi_method)\n",
    "metadata_path = testset.location_on_system+'/'+testset.folder_name+'metadata'\n",
    "slicer = tonic.slicers.SliceAtTimePoints(start_tw = [0], end_tw = [slicing_time_window])\n",
    "sliced_dataset = tonic.SlicedDataset(testset, slicer = slicer, transform = type_transform, metadata_path = metadata_path)\n",
    "testloader = torch.utils.data.DataLoader(sliced_dataset, shuffle=False, num_workers = num_workers)\n",
    "num_sample_test = len(sliced_dataset)\n",
    "classes = sliced_dataset.dataset.classes\n",
    "targets = sliced_dataset.dataset.targets\n",
    "print(f'number of samples in the testing set: {len(testloader)}')\n",
    "hots.coding(testloader, trainset.ordering, trainset.classes, training=False, device = device, ts_batch_size = ts_batch_size, verbose=False)\n",
    "\n",
    "test_path = f'../Records/output/test/{hots.name}_{num_sample_test}_{jitter}/'\n",
    "results_path = f'../Records/LR_results/{hots.name}_{tau_cla}_{learning_rate}_{betas}_{num_epochs}_{drop_proba}_{jitter}.pkl'\n",
    "testset_output = HOTS_Dataset(test_path, testset.sensor_size, testset.classes, dtype=trainset.dtype, transform=type_transform)\n",
    "testoutputloader = get_loader(testset_output)"
   ]
  },
  {
   "cell_type": "code",
   "execution_count": null,
   "id": "2eeec462-9b21-49bf-9b46-e6d3a3cf1736",
   "metadata": {},
   "outputs": [],
   "source": [
    "mlr_threshold = None\n",
    "onlinac_fovea_funnelling,_,_,_ = online_accuracy(classif_layer, tau_cla, testoutputloader, results_path, ts_size, testset_output.ordering, n_classes, mlr_threshold = mlr_threshold, ts_batch_size = ts_batch_size, online_plot=True)"
   ]
  },
  {
   "cell_type": "code",
   "execution_count": null,
   "id": "9ade5b48-4a33-4c91-b99e-e2429872a59b",
   "metadata": {},
   "outputs": [],
   "source": []
  }
 ],
 "metadata": {
  "kernelspec": {
   "display_name": "Python 3 (ipykernel)",
   "language": "python",
   "name": "python3"
  },
  "language_info": {
   "codemirror_mode": {
    "name": "ipython",
    "version": 3
   },
   "file_extension": ".py",
   "mimetype": "text/x-python",
   "name": "python",
   "nbconvert_exporter": "python",
   "pygments_lexer": "ipython3",
   "version": "3.8.10"
  }
 },
 "nbformat": 4,
 "nbformat_minor": 5
}
