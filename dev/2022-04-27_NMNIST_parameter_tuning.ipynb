{
 "cells": [
  {
   "cell_type": "markdown",
   "id": "1323e1fd-cd1d-4b6f-8de6-0a71f2d7a0b8",
   "metadata": {},
   "source": [
    "# [hotsline](https://github.com/AntoineGrimaldi/hotsline) algorithm to replicate results from [this paper](https://www.techrxiv.org/articles/preprint/A_robust_event-driven_approach_to_always-on_object_recognition/18003077/1)\n",
    "## Load events of the NMNIST dataset with [Tonic](https://tonic.readthedocs.io/en/latest/index.html)"
   ]
  },
  {
   "cell_type": "code",
   "execution_count": 3,
   "id": "41e167bc-5794-4989-8b83-eb671436db30",
   "metadata": {},
   "outputs": [
    {
     "name": "stdout",
     "output_type": "stream",
     "text": [
      "/home/antoine/homhots/hotsline/hots\n",
      " Tonic version installed -> 1.0.15\n",
      "number of samples in the dataset: 60000\n"
     ]
    }
   ],
   "source": [
    "import tonic, torch, os\n",
    "%cd ../hots\n",
    "from utils import get_loader, get_dataset_info, HOTS_Dataset, make_histogram_classification\n",
    "from network import network\n",
    "from timesurface import timesurface\n",
    "\n",
    "print(f' Tonic version installed -> {tonic.__version__}')\n",
    "\n",
    "transform = tonic.transforms.NumpyAsType(int)\n",
    "dataset = tonic.datasets.NMNIST(save_to='../../Data/', train=True, transform=transform)\n",
    "#get_dataset_info(dataset, properties = ['time', 'mean_isi', 'nb_events']);\n",
    "print(f'number of samples in the dataset: {len(dataset)}')"
   ]
  },
  {
   "cell_type": "code",
   "execution_count": 18,
   "id": "8f9ffb72-8ff3-4daf-a619-00e8c9208674",
   "metadata": {},
   "outputs": [
    {
     "name": "stdout",
     "output_type": "stream",
     "text": [
      "device -> cuda\n",
      "2022-04-22_nmnist_homeohots_True_[16, 32]_[20000.0, 160000.0]_[2, 4]\n",
      "this dataset have already been processed, check at: \n",
      " ../Records/output/train/2022-04-22_nmnist_homeohots_True_[16, 32]_[20000.0, 160000.0]_[2, 4]_1000_(None, None)/\n",
      "this dataset have already been processed, check at: \n",
      " ../Records/output/test/2022-04-22_nmnist_homeohots_True_[16, 32]_[20000.0, 160000.0]_[2, 4]_160_(None, None)/\n"
     ]
    },
    {
     "name": "stderr",
     "output_type": "stream",
     "text": [
      "100%|██████████████████████████████████████████████████████████████████████████████████████████████████████████████████████████████████████████| 1000/1000 [00:00<00:00, 1984.42it/s]\n",
      "100%|█████████████████████████████████████████████████████████████████████████████████████████████████████████████████████████████████████████████| 160/160 [00:00<00:00, 820.89it/s]\n"
     ]
    }
   ],
   "source": [
    "transform = tonic.transforms.NumpyAsType(int)\n",
    "trainset = tonic.datasets.NMNIST(save_to='../../Data/', train=True, transform=transform, first_saccade_only=True)\n",
    "testset = tonic.datasets.NMNIST(save_to='../../Data/', train=False, transform=transform, first_saccade_only=True)\n",
    "\n",
    "name = 'homeohots'\n",
    "homeo = True\n",
    "timestr = '2022-04-22'\n",
    "dataset_name = 'nmnist'\n",
    "\n",
    "R_first = [2]\n",
    "N_layers = [2]\n",
    "n_first = [16]\n",
    "tau_first = [1e4]\n",
    "\n",
    "scores, parameters = [], []\n",
    "\n",
    "for lay in N_layers:\n",
    "    for R in R_first:\n",
    "        for tau in tau_first:\n",
    "            for N_neuron in n_first:\n",
    "                Rz = [R*2**Nl for Nl in range(lay)]\n",
    "                N_neuronz = [N_neuron*2**Nl for Nl in range(lay)]\n",
    "                N_pola = N_neuronz.copy()\n",
    "                N_pola.insert(0,2)\n",
    "                tauz = [tau*N_pola[Nl] for Nl in range(lay)]\n",
    "                hots = network(name, dataset_name, timestr, trainset.sensor_size, nb_neurons = N_neuronz, tau = tauz, R = Rz, homeo = homeo)\n",
    "                print(hots.name)\n",
    "                filtering_threshold = [2*Rz[L] for L in range(len(Rz))]\n",
    "                #clustering\n",
    "                loader = get_loader(trainset, kfold = 300)\n",
    "                hots.clustering(loader, trainset.ordering, filtering_threshold)\n",
    "                #training\n",
    "                loader = get_loader(trainset, kfold = 60)\n",
    "                num_sample_train = len(loader)\n",
    "                hots.coding(loader, trainset.ordering, trainset.classes, filtering_threshold, training=True)\n",
    "                #testing\n",
    "                loader = get_loader(testset, kfold = 60)\n",
    "                num_sample_test = len(loader)\n",
    "                hots.coding(loader, trainset.ordering, trainset.classes, filtering_threshold, training=False)\n",
    "                jitter = (None, None)\n",
    "\n",
    "                train_path = f'../Records/output/train/{hots.name}_{num_sample_train}_{jitter}/'\n",
    "                test_path = f'../Records/output/test/{hots.name}_{num_sample_test}_{jitter}/'\n",
    "\n",
    "                testset_output = HOTS_Dataset(test_path, trainset.sensor_size, transform=transform, dtype=trainset.dtype)\n",
    "                trainset_output = HOTS_Dataset(train_path, trainset.sensor_size, transform=transform, dtype=trainset.dtype)\n",
    "                \n",
    "                score = make_histogram_classification(trainset_output, testset_output, N_neuronz[-1]) \n",
    "                \n",
    "                scores.append(score)\n",
    "                parameters.append([lay, R, tau, N_neuron])"
   ]
  },
  {
   "cell_type": "code",
   "execution_count": 15,
   "id": "d4950206-7429-4e86-8138-6f112f591156",
   "metadata": {},
   "outputs": [],
   "source": [
    "import matplotlib.pyplot as plt\n",
    "import copy\n",
    "\n",
    "def plot_accuracy(scores, parameters, param_to_plot):\n",
    "    paramlist = ['number of layers', 'R', 'tau', 'number of neurons']\n",
    "    fig, ax = plt.subplots(figsize=(10,6))\n",
    "    score_previous = 0\n",
    "    for ind in range(len(scores)):\n",
    "        score, tau, n_layer, R, n_neurons = scores[ind], parameters[ind][2], parameters[ind][0], parameters[ind][1], parameters[ind][3]\n",
    "        if param_to_plot=='tau':\n",
    "            x = copy.copy(tau)\n",
    "        elif param_to_plot=='R':\n",
    "            x = copy.copy(R)\n",
    "        elif param_to_plot=='neuron':\n",
    "            x = copy.copy(n_neurons)\n",
    "        elif param_to_plot=='layer':\n",
    "            x = copy.copy(n_layer)\n",
    "        \n",
    "        ax.plot(x, score, '*', color='blue')\n",
    "        if n_layer==2 and R==2:\n",
    "            ax.plot(x, score, '*', color='red')\n",
    "        if n_layer==2 and R==4:\n",
    "            ax.plot(x, score, '*', color='green')\n",
    "        if n_layer==2 and R==3:\n",
    "            ax.plot(x, score, '*', color='orange')\n",
    "\n",
    "        ax.set_xlabel(param_to_plot)\n",
    "        ax.set_ylabel('accuracy')\n",
    "        if score>score_previous:\n",
    "            score_previous=score\n",
    "            parameters_previous=parameters[ind]\n",
    "    print(score_previous, parameters_previous)\n",
    "    \n",
    "def plot_accuracy_multi_param(scores, parameters):\n",
    "    fig = plt.figure(figsize=(30,10))\n",
    "    sub1 = fig.add_subplot(1,3,1, projection=\"3d\")\n",
    "    sub2 = fig.add_subplot(1,3,2, projection=\"3d\")\n",
    "    sub3 = fig.add_subplot(1,3,3, projection=\"3d\")\n",
    "    score_previous = 0\n",
    "    colormap = plt.cm.get_cmap('summer_r', 10);\n",
    "    for ind in range(len(scores)):\n",
    "        score, lay, n_neuron, R = scores[ind], parameters[ind][0], parameters[ind][3], parameters[ind][1]\n",
    "        sub1.scatter(n_neuron, lay, score, color=colormap(R/4), alpha=0.5)\n",
    "        sub2.scatter(R, lay, score, color=colormap(n_neuron/16), alpha=0.5)\n",
    "        sub3.scatter(n_neuron, R, score, color=colormap(lay/4), alpha=0.5)\n",
    "        sub1.set_xlabel('neuron number')\n",
    "        sub2.set_xlabel('R')\n",
    "        sub3.set_xlabel('neuron number')\n",
    "        sub1.set_ylabel('layer number')\n",
    "        sub2.set_ylabel('layer number')\n",
    "        sub3.set_ylabel('R')\n",
    "        #sub1.view_init(10,-40)"
   ]
  },
  {
   "cell_type": "code",
   "execution_count": 17,
   "id": "7d8b077d-facd-4841-b906-c49643ebf245",
   "metadata": {},
   "outputs": [
    {
     "name": "stdout",
     "output_type": "stream",
     "text": [
      "0.83125 [2, 2, 10000.0, 16]\n",
      "0.83125 [2, 2, 10000.0, 16]\n",
      "0.83125 [2, 2, 10000.0, 16]\n",
      "0.83125 [2, 2, 10000.0, 16]\n"
     ]
    },
    {
     "data": {
      "image/png": "[encoded data removed]",
      "text/plain": [
       "<Figure size 720x432 with 1 Axes>"
      ]
     },
     "metadata": {
      "needs_background": "light"
     },
     "output_type": "display_data"
    },
    {
     "data": {
      "image/png": "[encoded data removed]",
      "text/plain": [
       "<Figure size 720x432 with 1 Axes>"
      ]
     },
     "metadata": {
      "needs_background": "light"
     },
     "output_type": "display_data"
    },
    {
     "data": {
      "image/png": "[encoded data removed]",
      "text/plain": [
       "<Figure size 720x432 with 1 Axes>"
      ]
     },
     "metadata": {
      "needs_background": "light"
     },
     "output_type": "display_data"
    },
    {
     "data": {
      "image/png": "[encoded data removed]",
      "text/plain": [
       "<Figure size 720x432 with 1 Axes>"
      ]
     },
     "metadata": {
      "needs_background": "light"
     },
     "output_type": "display_data"
    }
   ],
   "source": [
    "plot_accuracy(scores, parameters, 'tau')\n",
    "plot_accuracy(scores, parameters, 'R')\n",
    "plot_accuracy(scores, parameters, 'layer')\n",
    "plot_accuracy(scores, parameters, 'neuron')"
   ]
  },
  {
   "cell_type": "code",
   "execution_count": null,
   "id": "3dc6ef67-582c-473d-be02-a93885437f31",
   "metadata": {},
   "outputs": [],
   "source": []
  }
 ],
 "metadata": {
  "kernelspec": {
   "display_name": "Python 3 (ipykernel)",
   "language": "python",
   "name": "python3"
  },
  "language_info": {
   "codemirror_mode": {
    "name": "ipython",
    "version": 3
   },
   "file_extension": ".py",
   "mimetype": "text/x-python",
   "name": "python",
   "nbconvert_exporter": "python",
   "pygments_lexer": "ipython3",
   "version": "3.8.10"
  }
 },
 "nbformat": 4,
 "nbformat_minor": 5
}
