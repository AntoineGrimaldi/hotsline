{
 "cells": [
  {
   "cell_type": "markdown",
   "id": "8fb9d661-5db6-495f-83bf-c3eed8da6dce",
   "metadata": {},
   "source": [
    "# Method to find the parameters of the HOTS algorithm\n",
    "## Parameters of the time surfaces\n",
    "We want to build time surfaces that will be as informative as possible. For this, we can play with 2 parameters: \n",
    "- its spatial size defined by $R$\n",
    "- its time constant $\\tau$"
   ]
  },
  {
   "cell_type": "markdown",
   "id": "1d448e39-3890-4751-b608-87e7ac943cb8",
   "metadata": {},
   "source": [
    "Empirically, we did not observed a large impact of $R$, let's set it to 4 for the first layer such that time surfaces will be 9x9x2 matrices"
   ]
  },
  {
   "cell_type": "markdown",
   "id": "5e012e3a-7d12-48d9-9cf6-f6ed57da465c",
   "metadata": {},
   "source": [
    "Then, we can define $\\tau$ as a function of the Inter-Spike-Interval (ISI) that is defined on different datasets: \n",
    "- Poker DVS: mean ISI -> $6.87 \\mu s$\n",
    "- N-MNIST: mean ISI -> $82.4 \\mu s$\n",
    "- DVS Gesture: mean ISI -> $26.3 \\mu s$"
   ]
  },
  {
   "cell_type": "markdown",
   "id": "5433cd5b-598a-4d27-a5e3-07059b38632d",
   "metadata": {},
   "source": [
    "Empirically, optimal $\\tau$s that were found are: \n",
    "- Poker DVS: $\\tau = .5 m s \\cdot 2$\n",
    "- N-MNIST: $\\tau = 10 m s \\cdot 2$\n",
    "- DVS Gesture: $\\tau = 3 m s \\cdot 2$"
   ]
  },
  {
   "cell_type": "code",
   "execution_count": 1,
   "id": "1fb71d10-b9ae-451f-a650-d285313dd951",
   "metadata": {},
   "outputs": [
    {
     "name": "stdout",
     "output_type": "stream",
     "text": [
      "72.78020378457059 121.35922330097087 114.06844106463879\n"
     ]
    }
   ],
   "source": [
    "print(.5/6.87*1e3, 10/82.4*1e3, 3/26.3*1e3)"
   ]
  },
  {
   "cell_type": "markdown",
   "id": "6827586b-9b16-4023-a9ea-6f24dd268a78",
   "metadata": {},
   "source": [
    "Seems like you want: $\\frac{\\tau}{\\mu_{ISI}} \\approx 100$\n",
    "\n",
    "We want to confirm this by studying the entropy of time surfaces when we vary $\\tau$"
   ]
  },
  {
   "cell_type": "code",
   "execution_count": 1,
   "id": "0073e987-3489-4645-9234-9f738415df20",
   "metadata": {},
   "outputs": [],
   "source": [
    "def timesurfaces_entropy(all_ts):\n",
    "    def entropy(timesurface):\n",
    "        hist = torch.histc(timesurface, bins = 256, min = 0, max = 1)\n",
    "        return -torch.nansum(hist*torch.log2(hist))\n",
    "    \n",
    "    ent_by_ev = torch.zeros([all_ts.shape[0]])\n",
    "    for event_indice in range(all_ts.shape[0]):\n",
    "        ent = entropy(all_ts[event_indice,:,:,:])\n",
    "        ent_by_ev[event_indice] = ent\n",
    "    return ent_by_ev"
   ]
  },
  {
   "cell_type": "code",
   "execution_count": 2,
   "id": "2488238e-cd38-47d4-8990-53db5a2de3b9",
   "metadata": {},
   "outputs": [],
   "source": [
    "import tonic, torch\n",
    "from hots.timesurface import timesurface\n",
    "from hots.utils import get_loader, get_dataset_info\n",
    "import matplotlib.pyplot as plt\n",
    "from tqdm.notebook import tqdm"
   ]
  },
  {
   "cell_type": "code",
   "execution_count": 3,
   "id": "7b6776c9-cfd3-4676-9346-3326fe5b6b3c",
   "metadata": {},
   "outputs": [
    {
     "name": "stdout",
     "output_type": "stream",
     "text": [
      "44\n"
     ]
    }
   ],
   "source": [
    "transform = tonic.transforms.NumpyAsType(int)\n",
    "dataset = tonic.datasets.DVSGesture(save_to='../../Data/', train=True,transform=transform)\n",
    "loader = get_loader(dataset,kfold = 20)\n",
    "print(len(loader))\n",
    "#get_dataset_info(dataset,dataset, properties = ['time', 'mean_isi', 'nb_events']);"
   ]
  },
  {
   "cell_type": "code",
   "execution_count": 5,
   "id": "efeb5cee-7840-4b6b-8a95-9198fbf2078e",
   "metadata": {},
   "outputs": [],
   "source": [
    "ts_batch_size = 1000\n",
    "tauz = [1, 5, 10, 100, 1000, 10000, 1e5, 1e6]"
   ]
  },
  {
   "cell_type": "code",
   "execution_count": 13,
   "id": "a33534b2-8010-4d7e-8e2e-0b6c48c2e537",
   "metadata": {},
   "outputs": [
    {
     "data": {
      "application/vnd.jupyter.widget-view+json": {
       "model_id": "492095d176d34486b155d4e2095c3af5",
       "version_major": 2,
       "version_minor": 0
      },
      "text/plain": [
       "0it [00:00, ?it/s]"
      ]
     },
     "metadata": {},
     "output_type": "display_data"
    },
    {
     "data": {
      "image/png": "[encoded data removed]",
      "text/plain": [
       "<Figure size 640x480 with 1 Axes>"
      ]
     },
     "metadata": {},
     "output_type": "display_data"
    }
   ],
   "source": [
    "entropy_by_tau_None = torch.zeros([len(tauz)])\n",
    "for indice, tau in tqdm(enumerate(tauz)):\n",
    "    entropy_for_loader = 0\n",
    "    for events, target in loader:\n",
    "        nb_batch = len(events)//ts_batch_size+1\n",
    "        previous_timestamp = []\n",
    "        for load_nb in range(nb_batch):\n",
    "            ts, ind_filtered, previous_timestamp = timesurface(events.squeeze(), dataset.sensor_size, dataset.ordering, tau = tau, ts_batch_size = ts_batch_size, load_number = load_nb, previous_timestamp = previous_timestamp)\n",
    "            ent_by_ev = timesurfaces_entropy(ts)\n",
    "        entropy_for_loader += torch.mean(ent_by_ev)\n",
    "    entropy_by_tau_None[indice] = entropy_for_loader/len(loader)\n",
    "plt.semilogx(tauz,entropy_by_tau_None, 'o');"
   ]
  },
  {
   "cell_type": "code",
   "execution_count": 11,
   "id": "f4c193fe-4642-4c9e-b75e-6fd4f7c30a7f",
   "metadata": {},
   "outputs": [
    {
     "data": {
      "application/vnd.jupyter.widget-view+json": {
       "model_id": "e7b2b0e9434a43d1905feeba94220638",
       "version_major": 2,
       "version_minor": 0
      },
      "text/plain": [
       "0it [00:00, ?it/s]"
      ]
     },
     "metadata": {},
     "output_type": "display_data"
    },
    {
     "data": {
      "image/png": "[encoded data removed]",
      "text/plain": [
       "<Figure size 640x480 with 1 Axes>"
      ]
     },
     "metadata": {},
     "output_type": "display_data"
    }
   ],
   "source": [
    "R = 4\n",
    "\n",
    "surface_dimensions=[2*R+1,2*R+1]\n",
    "\n",
    "entropy_by_tau_2 = torch.zeros([len(tauz)])\n",
    "for indice, tau in tqdm(enumerate(tauz)):\n",
    "    entropy_for_loader = 0\n",
    "    for events, target in loader:\n",
    "        nb_batch = len(events)//ts_batch_size+1\n",
    "        previous_timestamp = []\n",
    "        for load_nb in range(nb_batch):\n",
    "            ts, ind_filtered, previous_timestamp = timesurface(events.squeeze(), dataset.sensor_size, dataset.ordering, tau = tau, ts_batch_size = ts_batch_size, load_number = load_nb, previous_timestamp = previous_timestamp, surface_dimensions = surface_dimensions)\n",
    "            ent_by_ev = timesurfaces_entropy(ts)\n",
    "            entropy_for_loader += torch.mean(ent_by_ev)\n",
    "    entropy_by_tau_2[indice] = entropy_for_loader/len(loader)\n",
    "plt.semilogx(tauz,entropy_by_tau_2, 'o');"
   ]
  },
  {
   "cell_type": "code",
   "execution_count": 54,
   "id": "4579d56d-b4f6-4567-aacc-63814585a82b",
   "metadata": {},
   "outputs": [
    {
     "data": {
      "application/vnd.jupyter.widget-view+json": {
       "model_id": "a608f9b8bb4a48c1a6ade626a962da2b",
       "version_major": 2,
       "version_minor": 0
      },
      "text/plain": [
       "0it [00:00, ?it/s]"
      ]
     },
     "metadata": {},
     "output_type": "display_data"
    },
    {
     "data": {
      "image/png": "[encoded data removed]",
      "text/plain": [
       "<Figure size 640x480 with 1 Axes>"
      ]
     },
     "metadata": {},
     "output_type": "display_data"
    }
   ],
   "source": [
    "R = 4\n",
    "\n",
    "surface_dimensions=[2*R+1,2*R+1]\n",
    "\n",
    "entropy_by_tau_4 = torch.zeros([len(tauz)])\n",
    "for indice, tau in tqdm(enumerate(tauz)):\n",
    "    entropy_for_loader = 0\n",
    "    for events, target in loader:\n",
    "        nb_batch = len(events)//ts_batch_size+1\n",
    "        previous_timestamp = []\n",
    "        for load_nb in range(nb_batch):\n",
    "            ts, ind_filtered, previous_timestamp = timesurface(events.squeeze(), dataset.sensor_size, dataset.ordering, tau = tau, ts_batch_size = ts_batch_size, load_number = load_nb, previous_timestamp = previous_timestamp)\n",
    "            ent_by_ev = timesurfaces_entropy(ts)\n",
    "    entropy_by_tau_4[indice] = entropy_for_loader/len(loader)\n",
    "plt.semilogx(tauz,entropy_by_tau_4, 'o');"
   ]
  },
  {
   "cell_type": "markdown",
   "id": "c594aeaf-95ee-4ca6-b243-1605f12faf13",
   "metadata": {},
   "source": [
    "For the shannon entropy it seems that there is an optimal $\\tau$ to define timesurfaces independant of the timesurface radius."
   ]
  },
  {
   "cell_type": "code",
   "execution_count": null,
   "id": "e67169e9-726f-4e16-a140-66408cb87bbd",
   "metadata": {},
   "outputs": [],
   "source": []
  }
 ],
 "metadata": {
  "kernelspec": {
   "display_name": "Python 3 (ipykernel)",
   "language": "python",
   "name": "python3"
  },
  "language_info": {
   "codemirror_mode": {
    "name": "ipython",
    "version": 3
   },
   "file_extension": ".py",
   "mimetype": "text/x-python",
   "name": "python",
   "nbconvert_exporter": "python",
   "pygments_lexer": "ipython3",
   "version": "3.8.10"
  }
 },
 "nbformat": 4,
 "nbformat_minor": 5
}
