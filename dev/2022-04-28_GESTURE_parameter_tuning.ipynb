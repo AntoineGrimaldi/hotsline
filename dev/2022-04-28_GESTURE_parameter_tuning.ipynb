{
 "cells": [
  {
   "cell_type": "markdown",
   "id": "1323e1fd-cd1d-4b6f-8de6-0a71f2d7a0b8",
   "metadata": {},
   "source": [
    "# [hotsline](https://github.com/AntoineGrimaldi/hotsline) algorithm to replicate results from [this paper](https://www.techrxiv.org/articles/preprint/A_robust_event-driven_approach_to_always-on_object_recognition/18003077/1)\n",
    "## Load events of the NMNIST dataset with [Tonic](https://tonic.readthedocs.io/en/latest/index.html)"
   ]
  },
  {
   "cell_type": "code",
   "execution_count": 1,
   "id": "41e167bc-5794-4989-8b83-eb671436db30",
   "metadata": {},
   "outputs": [
    {
     "name": "stdout",
     "output_type": "stream",
     "text": [
      "/home/INT/grimaldi.a/Documents/projets/HOTS/hotsline/hots\n",
      " Tonic version installed -> 1.0.19\n",
      "number of samples in the dataset: 1077\n"
     ]
    }
   ],
   "source": [
    "import tonic, torch, os\n",
    "%cd ../hots\n",
    "from utils import get_loader, get_sliced_loader, get_dataset_info, HOTS_Dataset, make_histogram_classification\n",
    "from network import network\n",
    "from timesurface import timesurface\n",
    "\n",
    "print(f' Tonic version installed -> {tonic.__version__}')\n",
    "\n",
    "transform = tonic.transforms.NumpyAsType(int)\n",
    "dataset = tonic.datasets.DVSGesture(save_to='../../Data/', train=True, transform=transform)\n",
    "#get_dataset_info(dataset, properties = ['time', 'mean_isi', 'nb_events']);\n",
    "print(f'number of samples in the dataset: {len(dataset)}')"
   ]
  },
  {
   "cell_type": "code",
   "execution_count": 3,
   "id": "8f9ffb72-8ff3-4daf-a619-00e8c9208674",
   "metadata": {},
   "outputs": [
    {
     "name": "stdout",
     "output_type": "stream",
     "text": [
      "Read metadata from disk.\n",
      "Read metadata from disk.\n",
      "Read metadata from disk.\n",
      "device -> cuda\n",
      "clustering\n",
      "Read metadata from disk.\n",
      "training\n",
      "this dataset have already been processed, check at: \n",
      " ../Records/output/train/2022-04-22_gesture_homeohots_True_[16, 32]_[20000.0, 160000.0]_[4, 8]_99_(None, None)/\n",
      "testing\n"
     ]
    },
    {
     "name": "stderr",
     "output_type": "stream",
     "text": [
      "  1%|█▍                                                                                                                                               | 1/99 [00:25<41:37, 25.49s/it]\n"
     ]
    },
    {
     "ename": "KeyboardInterrupt",
     "evalue": "",
     "output_type": "error",
     "traceback": [
      "\u001b[0;31m---------------------------------------------------------------------------\u001b[0m",
      "\u001b[0;31mKeyboardInterrupt\u001b[0m                         Traceback (most recent call last)",
      "\u001b[0;32m/tmp/ipykernel_885999/3817773736.py\u001b[0m in \u001b[0;36m<module>\u001b[0;34m\u001b[0m\n\u001b[1;32m     44\u001b[0m                 \u001b[0;31m#loader = get_sliced_loader(testset, slicing_time_window, dataset_name, False, only_first=True, kfold=2)\u001b[0m\u001b[0;34m\u001b[0m\u001b[0;34m\u001b[0m\u001b[0;34m\u001b[0m\u001b[0m\n\u001b[1;32m     45\u001b[0m                 \u001b[0;31m#num_sample_test = len(loader)\u001b[0m\u001b[0;34m\u001b[0m\u001b[0;34m\u001b[0m\u001b[0;34m\u001b[0m\u001b[0m\n\u001b[0;32m---> 46\u001b[0;31m                 \u001b[0mhots\u001b[0m\u001b[0;34m.\u001b[0m\u001b[0mcoding\u001b[0m\u001b[0;34m(\u001b[0m\u001b[0mloader\u001b[0m\u001b[0;34m,\u001b[0m \u001b[0mtrainset\u001b[0m\u001b[0;34m.\u001b[0m\u001b[0mordering\u001b[0m\u001b[0;34m,\u001b[0m \u001b[0mtrainset\u001b[0m\u001b[0;34m.\u001b[0m\u001b[0mclasses\u001b[0m\u001b[0;34m,\u001b[0m \u001b[0mtraining\u001b[0m\u001b[0;34m=\u001b[0m\u001b[0;32mFalse\u001b[0m\u001b[0;34m,\u001b[0m \u001b[0mfiltering_threshold\u001b[0m \u001b[0;34m=\u001b[0m \u001b[0mfiltering_threshold\u001b[0m\u001b[0;34m)\u001b[0m\u001b[0;34m\u001b[0m\u001b[0;34m\u001b[0m\u001b[0m\n\u001b[0m\u001b[1;32m     47\u001b[0m \u001b[0;34m\u001b[0m\u001b[0m\n\u001b[1;32m     48\u001b[0m                 \u001b[0mjitter\u001b[0m \u001b[0;34m=\u001b[0m \u001b[0;34m(\u001b[0m\u001b[0;32mNone\u001b[0m\u001b[0;34m,\u001b[0m \u001b[0;32mNone\u001b[0m\u001b[0;34m)\u001b[0m\u001b[0;34m\u001b[0m\u001b[0;34m\u001b[0m\u001b[0m\n",
      "\u001b[0;32m~/Documents/projets/HOTS/hotsline/hots/network.py\u001b[0m in \u001b[0;36mcoding\u001b[0;34m(self, loader, ordering, classes, training, filtering_threshold, jitter, verbose)\u001b[0m\n\u001b[1;32m    119\u001b[0m                 \u001b[0;32mfor\u001b[0m \u001b[0mevents\u001b[0m\u001b[0;34m,\u001b[0m \u001b[0mtarget\u001b[0m \u001b[0;32min\u001b[0m \u001b[0mtqdm\u001b[0m\u001b[0;34m(\u001b[0m\u001b[0mloader\u001b[0m\u001b[0;34m)\u001b[0m\u001b[0;34m:\u001b[0m\u001b[0;34m\u001b[0m\u001b[0;34m\u001b[0m\u001b[0m\n\u001b[1;32m    120\u001b[0m                     \u001b[0;32mfor\u001b[0m \u001b[0mL\u001b[0m \u001b[0;32min\u001b[0m \u001b[0mrange\u001b[0m\u001b[0;34m(\u001b[0m\u001b[0mlen\u001b[0m\u001b[0;34m(\u001b[0m\u001b[0mself\u001b[0m\u001b[0;34m.\u001b[0m\u001b[0mtau\u001b[0m\u001b[0;34m)\u001b[0m\u001b[0;34m)\u001b[0m\u001b[0;34m:\u001b[0m\u001b[0;34m\u001b[0m\u001b[0;34m\u001b[0m\u001b[0m\n\u001b[0;32m--> 121\u001b[0;31m                         \u001b[0mall_ts\u001b[0m\u001b[0;34m,\u001b[0m \u001b[0mind_filtered\u001b[0m \u001b[0;34m=\u001b[0m \u001b[0mtimesurface\u001b[0m\u001b[0;34m(\u001b[0m\u001b[0mevents\u001b[0m\u001b[0;34m.\u001b[0m\u001b[0msqueeze\u001b[0m\u001b[0;34m(\u001b[0m\u001b[0;36m0\u001b[0m\u001b[0;34m)\u001b[0m\u001b[0;34m,\u001b[0m \u001b[0;34m(\u001b[0m\u001b[0mself\u001b[0m\u001b[0;34m.\u001b[0m\u001b[0msensor_size\u001b[0m\u001b[0;34m[\u001b[0m\u001b[0;36m0\u001b[0m\u001b[0;34m]\u001b[0m\u001b[0;34m,\u001b[0m \u001b[0mself\u001b[0m\u001b[0;34m.\u001b[0m\u001b[0msensor_size\u001b[0m\u001b[0;34m[\u001b[0m\u001b[0;36m1\u001b[0m\u001b[0;34m]\u001b[0m\u001b[0;34m,\u001b[0m \u001b[0mself\u001b[0m\u001b[0;34m.\u001b[0m\u001b[0mn_pola\u001b[0m\u001b[0;34m[\u001b[0m\u001b[0mL\u001b[0m\u001b[0;34m]\u001b[0m\u001b[0;34m)\u001b[0m\u001b[0;34m,\u001b[0m \u001b[0mordering\u001b[0m\u001b[0;34m,\u001b[0m \u001b[0mtau\u001b[0m \u001b[0;34m=\u001b[0m \u001b[0mself\u001b[0m\u001b[0;34m.\u001b[0m\u001b[0mtau\u001b[0m\u001b[0;34m[\u001b[0m\u001b[0mL\u001b[0m\u001b[0;34m]\u001b[0m\u001b[0;34m,\u001b[0m \u001b[0msurface_dimensions\u001b[0m\u001b[0;34m=\u001b[0m\u001b[0;34m[\u001b[0m\u001b[0;36m2\u001b[0m\u001b[0;34m*\u001b[0m\u001b[0mself\u001b[0m\u001b[0;34m.\u001b[0m\u001b[0mR\u001b[0m\u001b[0;34m[\u001b[0m\u001b[0mL\u001b[0m\u001b[0;34m]\u001b[0m\u001b[0;34m+\u001b[0m\u001b[0;36m1\u001b[0m\u001b[0;34m,\u001b[0m\u001b[0;36m2\u001b[0m\u001b[0;34m*\u001b[0m\u001b[0mself\u001b[0m\u001b[0;34m.\u001b[0m\u001b[0mR\u001b[0m\u001b[0;34m[\u001b[0m\u001b[0mL\u001b[0m\u001b[0;34m]\u001b[0m\u001b[0;34m+\u001b[0m\u001b[0;36m1\u001b[0m\u001b[0;34m]\u001b[0m\u001b[0;34m,\u001b[0m \u001b[0mfiltering_threshold\u001b[0m \u001b[0;34m=\u001b[0m \u001b[0mfiltering_threshold\u001b[0m\u001b[0;34m[\u001b[0m\u001b[0mL\u001b[0m\u001b[0;34m]\u001b[0m\u001b[0;34m,\u001b[0m \u001b[0mdevice\u001b[0m\u001b[0;34m=\u001b[0m\u001b[0mdevice\u001b[0m\u001b[0;34m)\u001b[0m\u001b[0;34m\u001b[0m\u001b[0;34m\u001b[0m\u001b[0m\n\u001b[0m\u001b[1;32m    122\u001b[0m                         \u001b[0mn_star\u001b[0m \u001b[0;34m=\u001b[0m \u001b[0mself\u001b[0m\u001b[0;34m.\u001b[0m\u001b[0mlayers\u001b[0m\u001b[0;34m[\u001b[0m\u001b[0mL\u001b[0m\u001b[0;34m]\u001b[0m\u001b[0;34m(\u001b[0m\u001b[0mall_ts\u001b[0m\u001b[0;34m,\u001b[0m \u001b[0;32mFalse\u001b[0m\u001b[0;34m)\u001b[0m\u001b[0;34m\u001b[0m\u001b[0;34m\u001b[0m\u001b[0m\n\u001b[1;32m    123\u001b[0m                         \u001b[0;32mif\u001b[0m \u001b[0mind_filtered\u001b[0m \u001b[0;32mis\u001b[0m \u001b[0;32mnot\u001b[0m \u001b[0;32mNone\u001b[0m\u001b[0;34m:\u001b[0m\u001b[0;34m\u001b[0m\u001b[0;34m\u001b[0m\u001b[0m\n",
      "\u001b[0;32m~/Documents/projets/HOTS/hotsline/hots/timesurface.py\u001b[0m in \u001b[0;36mtimesurface\u001b[0;34m(events, sensor_size, ordering, surface_dimensions, tau, decay, filtering_threshold, device, dtype)\u001b[0m\n\u001b[1;32m     47\u001b[0m         \u001b[0;32melif\u001b[0m \u001b[0mdecay\u001b[0m \u001b[0;34m==\u001b[0m \u001b[0;34m\"exp\"\u001b[0m\u001b[0;34m:\u001b[0m\u001b[0;34m\u001b[0m\u001b[0;34m\u001b[0m\u001b[0m\n\u001b[1;32m     48\u001b[0m             \u001b[0mtimesurface\u001b[0m \u001b[0;34m=\u001b[0m \u001b[0mtorch\u001b[0m\u001b[0;34m.\u001b[0m\u001b[0mexp\u001b[0m\u001b[0;34m(\u001b[0m\u001b[0mtimestamp_context\u001b[0m \u001b[0;34m/\u001b[0m \u001b[0mtau\u001b[0m\u001b[0;34m)\u001b[0m\u001b[0;34m\u001b[0m\u001b[0;34m\u001b[0m\u001b[0m\n\u001b[0;32m---> 49\u001b[0;31m             \u001b[0mtimesurface\u001b[0m\u001b[0;34m[\u001b[0m\u001b[0mtimesurface\u001b[0m\u001b[0;34m<\u001b[0m\u001b[0mtorch\u001b[0m\u001b[0;34m.\u001b[0m\u001b[0mexp\u001b[0m\u001b[0;34m(\u001b[0m\u001b[0mtorch\u001b[0m\u001b[0;34m.\u001b[0m\u001b[0mtensor\u001b[0m\u001b[0;34m(\u001b[0m\u001b[0;34m-\u001b[0m\u001b[0;36m5\u001b[0m\u001b[0;34m)\u001b[0m\u001b[0;34m)\u001b[0m\u001b[0;34m]\u001b[0m \u001b[0;34m=\u001b[0m \u001b[0;36m0\u001b[0m\u001b[0;34m\u001b[0m\u001b[0;34m\u001b[0m\u001b[0m\n\u001b[0m\u001b[1;32m     50\u001b[0m         \u001b[0mall_surfaces\u001b[0m\u001b[0;34m[\u001b[0m\u001b[0mindex\u001b[0m\u001b[0;34m,\u001b[0m \u001b[0;34m:\u001b[0m\u001b[0;34m,\u001b[0m \u001b[0;34m:\u001b[0m\u001b[0;34m,\u001b[0m \u001b[0;34m:\u001b[0m\u001b[0;34m]\u001b[0m \u001b[0;34m=\u001b[0m \u001b[0mtimesurface\u001b[0m\u001b[0;34m\u001b[0m\u001b[0;34m\u001b[0m\u001b[0m\n\u001b[1;32m     51\u001b[0m     \u001b[0mindices\u001b[0m \u001b[0;34m=\u001b[0m \u001b[0;32mNone\u001b[0m\u001b[0;34m\u001b[0m\u001b[0;34m\u001b[0m\u001b[0m\n",
      "\u001b[0;31mKeyboardInterrupt\u001b[0m: "
     ]
    }
   ],
   "source": [
    "trainset = tonic.datasets.DVSGesture(save_to='../../Data/', train=True)\n",
    "testset = tonic.datasets.DVSGesture(save_to='../../Data/', train=False)\n",
    "\n",
    "transform = tonic.transforms.NumpyAsType(int)\n",
    "\n",
    "name = 'homeohots'\n",
    "homeo = True\n",
    "timestr = '2022-04-22'\n",
    "dataset_name = 'gesture'\n",
    "\n",
    "R_first = [4]#[2,4,8]\n",
    "N_layers = [2]#,3,4]\n",
    "n_first = [16]#[8,16]\n",
    "tau_first = [1e4,1.5e4,2e4]#[.1e3,.2e3,.5e3,1e3,2e3,5e3,1e4]\n",
    "\n",
    "slicing_time_window = 1e6\n",
    "\n",
    "loader = get_sliced_loader(trainset, slicing_time_window, dataset_name, True, only_first=True, kfold=10)\n",
    "trainloader = get_sliced_loader(trainset, slicing_time_window, dataset_name, True, only_first=True, kfold=2)\n",
    "num_sample_train = len(trainloader)\n",
    "testloader = get_sliced_loader(testset, slicing_time_window, dataset_name, False, only_first=True, kfold=2)\n",
    "num_sample_test = len(testloader)\n",
    "\n",
    "for lay in N_layers:\n",
    "    for R in R_first:\n",
    "        for tau in tau_first:\n",
    "            for N_neuron in n_first:\n",
    "                Rz = [R*2**Nl for Nl in range(lay)]\n",
    "                N_neuronz = [N_neuron*2**Nl for Nl in range(lay)]\n",
    "                N_pola = N_neuronz.copy()\n",
    "                N_pola.insert(0,2)\n",
    "                tauz = [tau*N_pola[Nl] for Nl in range(lay)]\n",
    "                hots = network(name, dataset_name, timestr, trainset.sensor_size, nb_neurons = N_neuronz, tau = tauz, R = Rz, homeo = homeo)\n",
    "                filtering_threshold = [2*Rz[L] for L in range(len(Rz))]\n",
    "                #clustering\n",
    "                print('clustering')\n",
    "                loader = get_sliced_loader(trainset, slicing_time_window, dataset_name, True, only_first=True, kfold=10)\n",
    "                hots.clustering(loader, trainset.ordering, filtering_threshold)\n",
    "                #training\n",
    "                print('training')\n",
    "                hots.coding(trainloader, trainset.ordering, trainset.classes, training=True, filtering_threshold = filtering_threshold)\n",
    "                #testing\n",
    "                print('testing')\n",
    "                #loader = get_sliced_loader(testset, slicing_time_window, dataset_name, False, only_first=True, kfold=2)\n",
    "                #num_sample_test = len(loader)\n",
    "                hots.coding(testloader, trainset.ordering, trainset.classes, training=False, filtering_threshold = filtering_threshold)\n",
    "                \n",
    "                jitter = (None, None)\n",
    "                train_path = f'../Records/output/train/{hots.name}_{num_sample_train}_{jitter}/'\n",
    "                test_path = f'../Records/output/test/{hots.name}_{num_sample_test}_{jitter}/'\n",
    "\n",
    "                testset_output = HOTS_Dataset(test_path, trainset.sensor_size, trainset.classes, trainset.dtype, transform=transform)\n",
    "                trainset_output = HOTS_Dataset(train_path, trainset.sensor_size, trainset.classes, trainset.dtype, transform=transform)\n",
    "                \n",
    "                score = make_histogram_classification(trainset_output, testset_output, N_neuronz[-1]) \n",
    "                print(f'Parameters -> tau:{tau} - n_layers:{lay} - R:{R} - n_neurons:{N_neuron}')\n",
    "                print(f' Accuracy: {score*100}%')"
   ]
  },
  {
   "cell_type": "code",
   "execution_count": null,
   "id": "d4950206-7429-4e86-8138-6f112f591156",
   "metadata": {},
   "outputs": [],
   "source": [
    "import matplotlib.pyplot as plt\n",
    "import copy\n",
    "\n",
    "def plot_accuracy(scores, parameters, param_to_plot):\n",
    "    paramlist = ['number of layers', 'R', 'tau', 'number of neurons']\n",
    "    fig, ax = plt.subplots(figsize=(10,6))\n",
    "    score_previous = 0\n",
    "    for ind in range(len(scores)):\n",
    "        score, tau, n_layer, R, n_neurons = scores[ind], parameters[ind][2], parameters[ind][0], parameters[ind][1], parameters[ind][3]\n",
    "        if param_to_plot=='tau':\n",
    "            x = copy.copy(tau)\n",
    "        elif param_to_plot=='R':\n",
    "            x = copy.copy(R)\n",
    "        elif param_to_plot=='neuron':\n",
    "            x = copy.copy(n_neurons)\n",
    "        elif param_to_plot=='layer':\n",
    "            x = copy.copy(n_layer)\n",
    "        \n",
    "        ax.plot(x, score, '*', color='blue')\n",
    "        if n_layer==2 and R==2:\n",
    "            ax.plot(x, score, '*', color='red')\n",
    "        if n_layer==2 and R==4:\n",
    "            ax.plot(x, score, '*', color='green')\n",
    "        if n_layer==2 and R==3:\n",
    "            ax.plot(x, score, '*', color='orange')\n",
    "\n",
    "        ax.set_xlabel(param_to_plot)\n",
    "        ax.set_ylabel('accuracy')\n",
    "        if score>score_previous:\n",
    "            score_previous=score\n",
    "            parameters_previous=parameters[ind]\n",
    "    print(score_previous, parameters_previous)\n",
    "    \n",
    "def plot_accuracy_multi_param(scores, parameters):\n",
    "    fig = plt.figure(figsize=(30,10))\n",
    "    sub1 = fig.add_subplot(1,3,1, projection=\"3d\")\n",
    "    sub2 = fig.add_subplot(1,3,2, projection=\"3d\")\n",
    "    sub3 = fig.add_subplot(1,3,3, projection=\"3d\")\n",
    "    score_previous = 0\n",
    "    colormap = plt.cm.get_cmap('summer_r', 10);\n",
    "    for ind in range(len(scores)):\n",
    "        score, lay, n_neuron, R = scores[ind], parameters[ind][0], parameters[ind][3], parameters[ind][1]\n",
    "        sub1.scatter(n_neuron, lay, score, color=colormap(R/4), alpha=0.5)\n",
    "        sub2.scatter(R, lay, score, color=colormap(n_neuron/16), alpha=0.5)\n",
    "        sub3.scatter(n_neuron, R, score, color=colormap(lay/4), alpha=0.5)\n",
    "        sub1.set_xlabel('neuron number')\n",
    "        sub2.set_xlabel('R')\n",
    "        sub3.set_xlabel('neuron number')\n",
    "        sub1.set_ylabel('layer number')\n",
    "        sub2.set_ylabel('layer number')\n",
    "        sub3.set_ylabel('R')\n",
    "        #sub1.view_init(10,-40)"
   ]
  },
  {
   "cell_type": "code",
   "execution_count": null,
   "id": "7d8b077d-facd-4841-b906-c49643ebf245",
   "metadata": {},
   "outputs": [],
   "source": [
    "plot_accuracy(scores, parameters, 'tau')\n",
    "plot_accuracy(scores, parameters, 'R')\n",
    "plot_accuracy(scores, parameters, 'layer')\n",
    "plot_accuracy(scores, parameters, 'neuron')"
   ]
  },
  {
   "cell_type": "code",
   "execution_count": null,
   "id": "3dc6ef67-582c-473d-be02-a93885437f31",
   "metadata": {},
   "outputs": [],
   "source": []
  }
 ],
 "metadata": {
  "kernelspec": {
   "display_name": "Python 3 (ipykernel)",
   "language": "python",
   "name": "python3"
  },
  "language_info": {
   "codemirror_mode": {
    "name": "ipython",
    "version": 3
   },
   "file_extension": ".py",
   "mimetype": "text/x-python",
   "name": "python",
   "nbconvert_exporter": "python",
   "pygments_lexer": "ipython3",
   "version": "3.8.10"
  }
 },
 "nbformat": 4,
 "nbformat_minor": 5
}
