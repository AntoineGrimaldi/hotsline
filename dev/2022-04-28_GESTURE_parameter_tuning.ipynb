{
 "cells": [
  {
   "cell_type": "markdown",
   "id": "1323e1fd-cd1d-4b6f-8de6-0a71f2d7a0b8",
   "metadata": {},
   "source": [
    "# [hotsline](https://github.com/AntoineGrimaldi/hotsline) algorithm to replicate results from [this paper](https://www.techrxiv.org/articles/preprint/A_robust_event-driven_approach_to_always-on_object_recognition/18003077/1)\n",
    "## Load events of the NMNIST dataset with [Tonic](https://tonic.readthedocs.io/en/latest/index.html)"
   ]
  },
  {
   "cell_type": "code",
   "execution_count": 1,
   "id": "41e167bc-5794-4989-8b83-eb671436db30",
   "metadata": {},
   "outputs": [
    {
     "name": "stdout",
     "output_type": "stream",
     "text": [
      "/home/antoine/homhots/hotsline/hots\n",
      " Tonic version installed -> 1.0.19\n",
      "number of samples in the dataset: 1077\n"
     ]
    }
   ],
   "source": [
    "import tonic, torch, os\n",
    "%cd ../hots\n",
    "from utils import get_loader, get_sliced_loader, get_dataset_info, HOTS_Dataset, make_histogram_classification\n",
    "from network import network\n",
    "from timesurface import timesurface\n",
    "\n",
    "print(f' Tonic version installed -> {tonic.__version__}')\n",
    "\n",
    "transform = tonic.transforms.NumpyAsType(int)\n",
    "dataset = tonic.datasets.DVSGesture(save_to='../../Data/', train=True, transform=transform)\n",
    "#get_dataset_info(dataset, properties = ['time', 'mean_isi', 'nb_events']);\n",
    "print(f'number of samples in the dataset: {len(dataset)}')"
   ]
  },
  {
   "cell_type": "code",
   "execution_count": null,
   "id": "8f9ffb72-8ff3-4daf-a619-00e8c9208674",
   "metadata": {},
   "outputs": [
    {
     "name": "stdout",
     "output_type": "stream",
     "text": [
      "device -> cuda\n",
      "clustering\n",
      "Read metadata from disk.\n",
      "training\n",
      "Read metadata from disk.\n",
      "this dataset have already been processed, check at: \n",
      " ../Records/output/train/2022-04-22_gesture_homeohots_True_[8, 16]_[200.0, 800.0]_[2, 4]_528_(None, None)/\n",
      "testing\n",
      "Read metadata from disk.\n",
      "this dataset have already been processed, check at: \n",
      " ../Records/output/test/2022-04-22_gesture_homeohots_True_[8, 16]_[200.0, 800.0]_[2, 4]_132_(None, None)/\n"
     ]
    },
    {
     "name": "stderr",
     "output_type": "stream",
     "text": [
      "100%|████████████████████████████████████████████████████████████████████████████████████████████████████████████████████████████████████████████| 528/528 [00:00<00:00, 2753.80it/s]\n",
      "100%|████████████████████████████████████████████████████████████████████████████████████████████████████████████████████████████████████████████| 132/132 [00:00<00:00, 1148.03it/s]\n"
     ]
    },
    {
     "name": "stdout",
     "output_type": "stream",
     "text": [
      " Accuracy: 8.333333333333332%\n",
      "device -> cuda\n",
      "clustering\n",
      "Read metadata from disk.\n",
      "training\n",
      "Read metadata from disk.\n",
      "this dataset have already been processed, check at: \n",
      " ../Records/output/train/2022-04-22_gesture_homeohots_True_[16, 32]_[200.0, 1600.0]_[2, 4]_528_(None, None)/\n",
      "testing\n",
      "Read metadata from disk.\n",
      "this dataset have already been processed, check at: \n",
      " ../Records/output/test/2022-04-22_gesture_homeohots_True_[16, 32]_[200.0, 1600.0]_[2, 4]_132_(None, None)/\n"
     ]
    },
    {
     "name": "stderr",
     "output_type": "stream",
     "text": [
      "100%|████████████████████████████████████████████████████████████████████████████████████████████████████████████████████████████████████████████| 528/528 [00:00<00:00, 2717.39it/s]\n",
      "100%|████████████████████████████████████████████████████████████████████████████████████████████████████████████████████████████████████████████| 132/132 [00:00<00:00, 1160.62it/s]\n"
     ]
    },
    {
     "name": "stdout",
     "output_type": "stream",
     "text": [
      " Accuracy: 7.575757575757576%\n",
      "device -> cuda\n",
      "clustering\n",
      "Read metadata from disk.\n",
      "training\n",
      "Read metadata from disk.\n",
      "this dataset have already been processed, check at: \n",
      " ../Records/output/train/2022-04-22_gesture_homeohots_True_[8, 16]_[400.0, 1600.0]_[2, 4]_528_(None, None)/\n",
      "testing\n",
      "Read metadata from disk.\n",
      "this dataset have already been processed, check at: \n",
      " ../Records/output/test/2022-04-22_gesture_homeohots_True_[8, 16]_[400.0, 1600.0]_[2, 4]_132_(None, None)/\n"
     ]
    },
    {
     "name": "stderr",
     "output_type": "stream",
     "text": [
      "100%|████████████████████████████████████████████████████████████████████████████████████████████████████████████████████████████████████████████| 528/528 [00:00<00:00, 1613.72it/s]\n",
      "100%|█████████████████████████████████████████████████████████████████████████████████████████████████████████████████████████████████████████████| 132/132 [00:00<00:00, 910.38it/s]\n"
     ]
    },
    {
     "name": "stdout",
     "output_type": "stream",
     "text": [
      " Accuracy: 15.909090909090908%\n",
      "device -> cuda\n",
      "clustering\n",
      "Read metadata from disk.\n",
      "training\n",
      "Read metadata from disk.\n",
      "this dataset have already been processed, check at: \n",
      " ../Records/output/train/2022-04-22_gesture_homeohots_True_[16, 32]_[400.0, 3200.0]_[2, 4]_528_(None, None)/\n",
      "testing\n",
      "Read metadata from disk.\n",
      "this dataset have already been processed, check at: \n",
      " ../Records/output/test/2022-04-22_gesture_homeohots_True_[16, 32]_[400.0, 3200.0]_[2, 4]_132_(None, None)/\n"
     ]
    },
    {
     "name": "stderr",
     "output_type": "stream",
     "text": [
      "100%|████████████████████████████████████████████████████████████████████████████████████████████████████████████████████████████████████████████| 528/528 [00:00<00:00, 1494.84it/s]\n",
      "100%|█████████████████████████████████████████████████████████████████████████████████████████████████████████████████████████████████████████████| 132/132 [00:00<00:00, 865.63it/s]\n"
     ]
    },
    {
     "name": "stdout",
     "output_type": "stream",
     "text": [
      " Accuracy: 19.696969696969695%\n",
      "device -> cuda\n",
      "clustering\n",
      "Read metadata from disk.\n",
      "training\n",
      "Read metadata from disk.\n",
      "this dataset have already been processed, check at: \n",
      " ../Records/output/train/2022-04-22_gesture_homeohots_True_[8, 16]_[1000.0, 4000.0]_[2, 4]_528_(None, None)/\n",
      "testing\n",
      "Read metadata from disk.\n",
      "this dataset have already been processed, check at: \n",
      " ../Records/output/test/2022-04-22_gesture_homeohots_True_[8, 16]_[1000.0, 4000.0]_[2, 4]_132_(None, None)/\n"
     ]
    },
    {
     "name": "stderr",
     "output_type": "stream",
     "text": [
      "100%|█████████████████████████████████████████████████████████████████████████████████████████████████████████████████████████████████████████████| 528/528 [00:01<00:00, 412.96it/s]\n",
      "100%|█████████████████████████████████████████████████████████████████████████████████████████████████████████████████████████████████████████████| 132/132 [00:00<00:00, 416.41it/s]\n"
     ]
    },
    {
     "name": "stdout",
     "output_type": "stream",
     "text": [
      " Accuracy: 40.15151515151515%\n",
      "device -> cuda\n",
      "clustering\n",
      "Read metadata from disk.\n",
      "training\n",
      "Read metadata from disk.\n",
      "this dataset have already been processed, check at: \n",
      " ../Records/output/train/2022-04-22_gesture_homeohots_True_[16, 32]_[1000.0, 8000.0]_[2, 4]_528_(None, None)/\n",
      "testing\n",
      "Read metadata from disk.\n",
      "this dataset have already been processed, check at: \n",
      " ../Records/output/test/2022-04-22_gesture_homeohots_True_[16, 32]_[1000.0, 8000.0]_[2, 4]_132_(None, None)/\n"
     ]
    },
    {
     "name": "stderr",
     "output_type": "stream",
     "text": [
      "100%|█████████████████████████████████████████████████████████████████████████████████████████████████████████████████████████████████████████████| 528/528 [00:01<00:00, 433.54it/s]\n",
      "100%|█████████████████████████████████████████████████████████████████████████████████████████████████████████████████████████████████████████████| 132/132 [00:00<00:00, 422.44it/s]\n"
     ]
    },
    {
     "name": "stdout",
     "output_type": "stream",
     "text": [
      " Accuracy: 49.24242424242424%\n",
      "device -> cuda\n",
      "clustering\n",
      "Read metadata from disk.\n",
      "training\n",
      "Read metadata from disk.\n",
      "this dataset have already been processed, check at: \n",
      " ../Records/output/train/2022-04-22_gesture_homeohots_True_[8, 16]_[2000.0, 8000.0]_[2, 4]_528_(None, None)/\n",
      "testing\n",
      "Read metadata from disk.\n",
      "this dataset have already been processed, check at: \n",
      " ../Records/output/test/2022-04-22_gesture_homeohots_True_[8, 16]_[2000.0, 8000.0]_[2, 4]_132_(None, None)/\n"
     ]
    },
    {
     "name": "stderr",
     "output_type": "stream",
     "text": [
      "100%|█████████████████████████████████████████████████████████████████████████████████████████████████████████████████████████████████████████████| 528/528 [00:02<00:00, 197.57it/s]\n",
      "100%|█████████████████████████████████████████████████████████████████████████████████████████████████████████████████████████████████████████████| 132/132 [00:00<00:00, 166.15it/s]\n"
     ]
    },
    {
     "name": "stdout",
     "output_type": "stream",
     "text": [
      " Accuracy: 44.696969696969695%\n",
      "device -> cuda\n",
      "clustering\n",
      "Read metadata from disk.\n",
      "training\n",
      "Read metadata from disk.\n",
      "this dataset have already been processed, check at: \n",
      " ../Records/output/train/2022-04-22_gesture_homeohots_True_[16, 32]_[2000.0, 16000.0]_[2, 4]_528_(None, None)/\n",
      "testing\n",
      "Read metadata from disk.\n",
      "this dataset have already been processed, check at: \n",
      " ../Records/output/test/2022-04-22_gesture_homeohots_True_[16, 32]_[2000.0, 16000.0]_[2, 4]_132_(None, None)/\n"
     ]
    },
    {
     "name": "stderr",
     "output_type": "stream",
     "text": [
      "100%|█████████████████████████████████████████████████████████████████████████████████████████████████████████████████████████████████████████████| 528/528 [00:02<00:00, 195.48it/s]\n",
      "100%|█████████████████████████████████████████████████████████████████████████████████████████████████████████████████████████████████████████████| 132/132 [00:00<00:00, 153.37it/s]\n"
     ]
    },
    {
     "name": "stdout",
     "output_type": "stream",
     "text": [
      " Accuracy: 66.66666666666666%\n",
      "device -> cuda\n",
      "clustering\n",
      "Read metadata from disk.\n",
      "training\n",
      "Read metadata from disk.\n",
      "this dataset have already been processed, check at: \n",
      " ../Records/output/train/2022-04-22_gesture_homeohots_True_[8, 16]_[4000.0, 16000.0]_[2, 4]_528_(None, None)/\n",
      "testing\n",
      "Read metadata from disk.\n",
      "this dataset have already been processed, check at: \n",
      " ../Records/output/test/2022-04-22_gesture_homeohots_True_[8, 16]_[4000.0, 16000.0]_[2, 4]_132_(None, None)/\n"
     ]
    },
    {
     "name": "stderr",
     "output_type": "stream",
     "text": [
      "100%|█████████████████████████████████████████████████████████████████████████████████████████████████████████████████████████████████████████████| 528/528 [00:04<00:00, 129.21it/s]\n",
      "100%|█████████████████████████████████████████████████████████████████████████████████████████████████████████████████████████████████████████████| 132/132 [00:01<00:00, 117.00it/s]\n"
     ]
    },
    {
     "name": "stdout",
     "output_type": "stream",
     "text": [
      " Accuracy: 48.484848484848484%\n",
      "device -> cuda\n",
      "clustering\n",
      "Read metadata from disk.\n",
      "training\n",
      "Read metadata from disk.\n",
      "this dataset have already been processed, check at: \n",
      " ../Records/output/train/2022-04-22_gesture_homeohots_True_[16, 32]_[4000.0, 32000.0]_[2, 4]_528_(None, None)/\n",
      "testing\n",
      "Read metadata from disk.\n",
      "this dataset have already been processed, check at: \n",
      " ../Records/output/test/2022-04-22_gesture_homeohots_True_[16, 32]_[4000.0, 32000.0]_[2, 4]_132_(None, None)/\n"
     ]
    },
    {
     "name": "stderr",
     "output_type": "stream",
     "text": [
      "100%|█████████████████████████████████████████████████████████████████████████████████████████████████████████████████████████████████████████████| 528/528 [00:04<00:00, 123.32it/s]\n",
      "100%|█████████████████████████████████████████████████████████████████████████████████████████████████████████████████████████████████████████████| 132/132 [00:01<00:00, 116.33it/s]\n"
     ]
    },
    {
     "name": "stdout",
     "output_type": "stream",
     "text": [
      " Accuracy: 67.42424242424242%\n",
      "device -> cuda\n",
      "clustering\n",
      "Read metadata from disk.\n",
      "training\n",
      "Read metadata from disk.\n",
      "this dataset have already been processed, check at: \n",
      " ../Records/output/train/2022-04-22_gesture_homeohots_True_[8, 16]_[10000.0, 40000.0]_[2, 4]_528_(None, None)/\n",
      "testing\n",
      "Read metadata from disk.\n",
      "this dataset have already been processed, check at: \n",
      " ../Records/output/test/2022-04-22_gesture_homeohots_True_[8, 16]_[10000.0, 40000.0]_[2, 4]_132_(None, None)/\n"
     ]
    },
    {
     "name": "stderr",
     "output_type": "stream",
     "text": [
      "100%|██████████████████████████████████████████████████████████████████████████████████████████████████████████████████████████████████████████████| 528/528 [00:05<00:00, 90.87it/s]\n",
      "100%|██████████████████████████████████████████████████████████████████████████████████████████████████████████████████████████████████████████████| 132/132 [00:01<00:00, 89.58it/s]\n"
     ]
    },
    {
     "name": "stdout",
     "output_type": "stream",
     "text": [
      " Accuracy: 53.78787878787878%\n",
      "device -> cuda\n",
      "clustering\n",
      "Read metadata from disk.\n",
      "training\n",
      "Read metadata from disk.\n",
      "this dataset have already been processed, check at: \n",
      " ../Records/output/train/2022-04-22_gesture_homeohots_True_[16, 32]_[10000.0, 80000.0]_[2, 4]_528_(None, None)/\n",
      "testing\n",
      "Read metadata from disk.\n",
      "this dataset have already been processed, check at: \n",
      " ../Records/output/test/2022-04-22_gesture_homeohots_True_[16, 32]_[10000.0, 80000.0]_[2, 4]_132_(None, None)/\n"
     ]
    },
    {
     "name": "stderr",
     "output_type": "stream",
     "text": [
      "100%|██████████████████████████████████████████████████████████████████████████████████████████████████████████████████████████████████████████████| 528/528 [00:05<00:00, 97.58it/s]\n",
      "100%|██████████████████████████████████████████████████████████████████████████████████████████████████████████████████████████████████████████████| 132/132 [00:01<00:00, 90.33it/s]\n"
     ]
    },
    {
     "name": "stdout",
     "output_type": "stream",
     "text": [
      " Accuracy: 71.96969696969697%\n",
      "device -> cuda\n",
      "clustering\n",
      "Read metadata from disk.\n",
      "training\n",
      "Read metadata from disk.\n",
      "this dataset have already been processed, check at: \n",
      " ../Records/output/train/2022-04-22_gesture_homeohots_True_[8, 16]_[20000.0, 80000.0]_[2, 4]_528_(None, None)/\n",
      "testing\n",
      "Read metadata from disk.\n",
      "this dataset have already been processed, check at: \n",
      " ../Records/output/test/2022-04-22_gesture_homeohots_True_[8, 16]_[20000.0, 80000.0]_[2, 4]_132_(None, None)/\n"
     ]
    },
    {
     "name": "stderr",
     "output_type": "stream",
     "text": [
      "100%|██████████████████████████████████████████████████████████████████████████████████████████████████████████████████████████████████████████████| 528/528 [00:06<00:00, 79.68it/s]\n",
      "100%|██████████████████████████████████████████████████████████████████████████████████████████████████████████████████████████████████████████████| 132/132 [00:02<00:00, 65.99it/s]\n"
     ]
    },
    {
     "name": "stdout",
     "output_type": "stream",
     "text": [
      " Accuracy: 56.81818181818182%\n",
      "device -> cuda\n",
      "clustering\n",
      "Read metadata from disk.\n",
      "training\n",
      "Read metadata from disk.\n",
      "this dataset have already been processed, check at: \n",
      " ../Records/output/train/2022-04-22_gesture_homeohots_True_[16, 32]_[20000.0, 160000.0]_[2, 4]_528_(None, None)/\n",
      "testing\n",
      "Read metadata from disk.\n",
      "this dataset have already been processed, check at: \n",
      " ../Records/output/test/2022-04-22_gesture_homeohots_True_[16, 32]_[20000.0, 160000.0]_[2, 4]_132_(None, None)/\n"
     ]
    },
    {
     "name": "stderr",
     "output_type": "stream",
     "text": [
      "100%|████████████████████████████████████████████████████████████████████████████████████████████████████████████████████████████████████████████████| 86/86 [00:01<00:00, 74.64it/s]\n",
      "100%|██████████████████████████████████████████████████████████████████████████████████████████████████████████████████████████████████████████████| 132/132 [00:02<00:00, 65.68it/s]\n"
     ]
    },
    {
     "name": "stdout",
     "output_type": "stream",
     "text": [
      " Accuracy: 48.484848484848484%\n",
      "device -> cuda\n",
      "clustering\n",
      "Read metadata from disk.\n",
      "training\n",
      "Read metadata from disk.\n",
      "this dataset have already been processed, check at: \n",
      " ../Records/output/train/2022-04-22_gesture_homeohots_True_[8, 16]_[200.0, 800.0]_[4, 8]_528_(None, None)/\n",
      "testing\n",
      "Read metadata from disk.\n",
      "this dataset have already been processed, check at: \n",
      " ../Records/output/test/2022-04-22_gesture_homeohots_True_[8, 16]_[200.0, 800.0]_[4, 8]_132_(None, None)/\n"
     ]
    },
    {
     "name": "stderr",
     "output_type": "stream",
     "text": [
      "100%|████████████████████████████████████████████████████████████████████████████████████████████████████████████████████████████████████████████| 528/528 [00:00<00:00, 1750.13it/s]\n",
      "100%|█████████████████████████████████████████████████████████████████████████████████████████████████████████████████████████████████████████████| 132/132 [00:00<00:00, 859.17it/s]\n"
     ]
    },
    {
     "name": "stdout",
     "output_type": "stream",
     "text": [
      " Accuracy: 8.333333333333332%\n",
      "device -> cuda\n",
      "clustering\n",
      "Read metadata from disk.\n",
      "training\n",
      "Read metadata from disk.\n",
      "this dataset have already been processed, check at: \n",
      " ../Records/output/train/2022-04-22_gesture_homeohots_True_[16, 32]_[200.0, 1600.0]_[4, 8]_528_(None, None)/\n",
      "testing\n",
      "Read metadata from disk.\n",
      "this dataset have already been processed, check at: \n",
      " ../Records/output/test/2022-04-22_gesture_homeohots_True_[16, 32]_[200.0, 1600.0]_[4, 8]_132_(None, None)/\n"
     ]
    },
    {
     "name": "stderr",
     "output_type": "stream",
     "text": [
      "100%|████████████████████████████████████████████████████████████████████████████████████████████████████████████████████████████████████████████| 528/528 [00:00<00:00, 1883.62it/s]\n",
      "100%|█████████████████████████████████████████████████████████████████████████████████████████████████████████████████████████████████████████████| 132/132 [00:00<00:00, 923.15it/s]\n"
     ]
    },
    {
     "name": "stdout",
     "output_type": "stream",
     "text": [
      " Accuracy: 8.333333333333332%\n",
      "device -> cuda\n",
      "clustering\n",
      "Read metadata from disk.\n",
      "training\n",
      "Read metadata from disk.\n",
      "this dataset have already been processed, check at: \n",
      " ../Records/output/train/2022-04-22_gesture_homeohots_True_[8, 16]_[400.0, 1600.0]_[4, 8]_528_(None, None)/\n",
      "testing\n",
      "Read metadata from disk.\n",
      "this dataset have already been processed, check at: \n",
      " ../Records/output/test/2022-04-22_gesture_homeohots_True_[8, 16]_[400.0, 1600.0]_[4, 8]_132_(None, None)/\n"
     ]
    },
    {
     "name": "stderr",
     "output_type": "stream",
     "text": [
      "100%|████████████████████████████████████████████████████████████████████████████████████████████████████████████████████████████████████████████| 528/528 [00:00<00:00, 1214.27it/s]\n",
      "100%|█████████████████████████████████████████████████████████████████████████████████████████████████████████████████████████████████████████████| 132/132 [00:00<00:00, 843.81it/s]\n"
     ]
    },
    {
     "name": "stdout",
     "output_type": "stream",
     "text": [
      " Accuracy: 16.666666666666664%\n",
      "device -> cuda\n",
      "clustering\n",
      "Read metadata from disk.\n",
      "training\n",
      "Read metadata from disk.\n",
      "this dataset have already been processed, check at: \n",
      " ../Records/output/train/2022-04-22_gesture_homeohots_True_[16, 32]_[400.0, 3200.0]_[4, 8]_528_(None, None)/\n",
      "testing\n",
      "Read metadata from disk.\n",
      "this dataset have already been processed, check at: \n",
      " ../Records/output/test/2022-04-22_gesture_homeohots_True_[16, 32]_[400.0, 3200.0]_[4, 8]_132_(None, None)/\n"
     ]
    },
    {
     "name": "stderr",
     "output_type": "stream",
     "text": [
      "100%|████████████████████████████████████████████████████████████████████████████████████████████████████████████████████████████████████████████| 528/528 [00:00<00:00, 1220.41it/s]\n",
      "100%|█████████████████████████████████████████████████████████████████████████████████████████████████████████████████████████████████████████████| 132/132 [00:00<00:00, 839.42it/s]\n"
     ]
    },
    {
     "name": "stdout",
     "output_type": "stream",
     "text": [
      " Accuracy: 20.454545454545457%\n",
      "device -> cuda\n",
      "clustering\n",
      "Read metadata from disk.\n",
      "training\n",
      "Read metadata from disk.\n",
      "this dataset have already been processed, check at: \n",
      " ../Records/output/train/2022-04-22_gesture_homeohots_True_[8, 16]_[1000.0, 4000.0]_[4, 8]_528_(None, None)/\n",
      "testing\n",
      "Read metadata from disk.\n",
      "this dataset have already been processed, check at: \n",
      " ../Records/output/test/2022-04-22_gesture_homeohots_True_[8, 16]_[1000.0, 4000.0]_[4, 8]_132_(None, None)/\n"
     ]
    },
    {
     "name": "stderr",
     "output_type": "stream",
     "text": [
      "100%|█████████████████████████████████████████████████████████████████████████████████████████████████████████████████████████████████████████████| 528/528 [00:01<00:00, 306.75it/s]\n",
      "100%|█████████████████████████████████████████████████████████████████████████████████████████████████████████████████████████████████████████████| 132/132 [00:00<00:00, 369.39it/s]\n"
     ]
    },
    {
     "name": "stdout",
     "output_type": "stream",
     "text": [
      " Accuracy: 37.121212121212125%\n",
      "device -> cuda\n",
      "clustering\n",
      "Read metadata from disk.\n",
      "training\n",
      "Read metadata from disk.\n",
      "this dataset have already been processed, check at: \n",
      " ../Records/output/train/2022-04-22_gesture_homeohots_True_[16, 32]_[1000.0, 8000.0]_[4, 8]_528_(None, None)/\n",
      "testing\n",
      "Read metadata from disk.\n",
      "this dataset have already been processed, check at: \n",
      " ../Records/output/test/2022-04-22_gesture_homeohots_True_[16, 32]_[1000.0, 8000.0]_[4, 8]_132_(None, None)/\n"
     ]
    },
    {
     "name": "stderr",
     "output_type": "stream",
     "text": [
      "100%|█████████████████████████████████████████████████████████████████████████████████████████████████████████████████████████████████████████████| 528/528 [00:01<00:00, 303.14it/s]\n",
      "100%|█████████████████████████████████████████████████████████████████████████████████████████████████████████████████████████████████████████████| 132/132 [00:00<00:00, 338.94it/s]\n"
     ]
    },
    {
     "name": "stdout",
     "output_type": "stream",
     "text": [
      " Accuracy: 53.78787878787878%\n",
      "device -> cuda\n",
      "clustering\n",
      "Read metadata from disk.\n",
      "training\n",
      "Read metadata from disk.\n",
      "this dataset have already been processed, check at: \n",
      " ../Records/output/train/2022-04-22_gesture_homeohots_True_[8, 16]_[2000.0, 8000.0]_[4, 8]_528_(None, None)/\n",
      "testing\n",
      "Read metadata from disk.\n",
      "this dataset have already been processed, check at: \n",
      " ../Records/output/test/2022-04-22_gesture_homeohots_True_[8, 16]_[2000.0, 8000.0]_[4, 8]_132_(None, None)/\n"
     ]
    },
    {
     "name": "stderr",
     "output_type": "stream",
     "text": [
      "100%|█████████████████████████████████████████████████████████████████████████████████████████████████████████████████████████████████████████████| 528/528 [00:03<00:00, 145.94it/s]\n",
      "100%|█████████████████████████████████████████████████████████████████████████████████████████████████████████████████████████████████████████████| 132/132 [00:01<00:00, 131.18it/s]\n"
     ]
    },
    {
     "name": "stdout",
     "output_type": "stream",
     "text": [
      " Accuracy: 52.27272727272727%\n",
      "device -> cuda\n",
      "clustering\n",
      "Read metadata from disk.\n",
      "training\n",
      "Read metadata from disk.\n",
      "this dataset have already been processed, check at: \n",
      " ../Records/output/train/2022-04-22_gesture_homeohots_True_[16, 32]_[2000.0, 16000.0]_[4, 8]_528_(None, None)/\n",
      "testing\n",
      "Read metadata from disk.\n",
      "this dataset have already been processed, check at: \n",
      " ../Records/output/test/2022-04-22_gesture_homeohots_True_[16, 32]_[2000.0, 16000.0]_[4, 8]_132_(None, None)/\n"
     ]
    },
    {
     "name": "stderr",
     "output_type": "stream",
     "text": [
      "100%|█████████████████████████████████████████████████████████████████████████████████████████████████████████████████████████████████████████████| 528/528 [00:03<00:00, 145.59it/s]\n",
      "100%|█████████████████████████████████████████████████████████████████████████████████████████████████████████████████████████████████████████████| 132/132 [00:01<00:00, 130.13it/s]\n"
     ]
    },
    {
     "name": "stdout",
     "output_type": "stream",
     "text": [
      " Accuracy: 63.63636363636363%\n",
      "device -> cuda\n",
      "clustering\n",
      "Read metadata from disk.\n",
      "training\n",
      "Read metadata from disk.\n",
      "this dataset have already been processed, check at: \n",
      " ../Records/output/train/2022-04-22_gesture_homeohots_True_[8, 16]_[4000.0, 16000.0]_[4, 8]_528_(None, None)/\n",
      "testing\n",
      "Read metadata from disk.\n",
      "this dataset have already been processed, check at: \n",
      " ../Records/output/test/2022-04-22_gesture_homeohots_True_[8, 16]_[4000.0, 16000.0]_[4, 8]_132_(None, None)/\n"
     ]
    },
    {
     "name": "stderr",
     "output_type": "stream",
     "text": [
      "100%|██████████████████████████████████████████████████████████████████████████████████████████████████████████████████████████████████████████████| 528/528 [00:05<00:00, 99.74it/s]\n",
      "100%|██████████████████████████████████████████████████████████████████████████████████████████████████████████████████████████████████████████████| 132/132 [00:01<00:00, 86.32it/s]\n"
     ]
    },
    {
     "name": "stdout",
     "output_type": "stream",
     "text": [
      " Accuracy: 50.75757575757576%\n",
      "device -> cuda\n",
      "clustering\n",
      "Read metadata from disk.\n",
      "training\n",
      "Read metadata from disk.\n",
      "this dataset have already been processed, check at: \n",
      " ../Records/output/train/2022-04-22_gesture_homeohots_True_[16, 32]_[4000.0, 32000.0]_[4, 8]_528_(None, None)/\n",
      "testing\n",
      "Read metadata from disk.\n",
      "this dataset have already been processed, check at: \n",
      " ../Records/output/test/2022-04-22_gesture_homeohots_True_[16, 32]_[4000.0, 32000.0]_[4, 8]_132_(None, None)/\n"
     ]
    },
    {
     "name": "stderr",
     "output_type": "stream",
     "text": [
      "100%|█████████████████████████████████████████████████████████████████████████████████████████████████████████████████████████████████████████████| 528/528 [00:04<00:00, 114.76it/s]\n",
      "100%|█████████████████████████████████████████████████████████████████████████████████████████████████████████████████████████████████████████████| 132/132 [00:01<00:00, 101.62it/s]\n"
     ]
    },
    {
     "name": "stdout",
     "output_type": "stream",
     "text": [
      " Accuracy: 71.21212121212122%\n",
      "device -> cuda\n",
      "clustering\n",
      "Read metadata from disk.\n",
      "training\n",
      "Read metadata from disk.\n",
      "this dataset have already been processed, check at: \n",
      " ../Records/output/train/2022-04-22_gesture_homeohots_True_[8, 16]_[10000.0, 40000.0]_[4, 8]_528_(None, None)/\n",
      "testing\n",
      "Read metadata from disk.\n",
      "this dataset have already been processed, check at: \n",
      " ../Records/output/test/2022-04-22_gesture_homeohots_True_[8, 16]_[10000.0, 40000.0]_[4, 8]_132_(None, None)/\n"
     ]
    },
    {
     "name": "stderr",
     "output_type": "stream",
     "text": [
      "100%|██████████████████████████████████████████████████████████████████████████████████████████████████████████████████████████████████████████████| 528/528 [00:05<00:00, 88.79it/s]\n",
      "100%|██████████████████████████████████████████████████████████████████████████████████████████████████████████████████████████████████████████████| 132/132 [00:01<00:00, 79.70it/s]\n"
     ]
    },
    {
     "name": "stdout",
     "output_type": "stream",
     "text": [
      " Accuracy: 65.9090909090909%\n",
      "device -> cuda\n",
      "clustering\n",
      "Read metadata from disk.\n"
     ]
    },
    {
     "name": "stderr",
     "output_type": "stream",
     "text": [
      "  5%|███████▏                                                                                                                                      | 5/99 [08:29<2:45:57, 105.93s/it]"
     ]
    }
   ],
   "source": [
    "trainset = tonic.datasets.DVSGesture(save_to='../../Data/', train=True)\n",
    "testset = tonic.datasets.DVSGesture(save_to='../../Data/', train=False)\n",
    "\n",
    "transform = tonic.transforms.NumpyAsType(int)\n",
    "\n",
    "name = 'homeohots'\n",
    "homeo = True\n",
    "timestr = '2022-04-22'\n",
    "dataset_name = 'gesture'\n",
    "\n",
    "R_first = [2, 4, 8]\n",
    "N_layers = [2,3,4]\n",
    "n_first = [8,16]\n",
    "tau_first = [.1e3,.2e3,.5e3,1e3,2e3,5e3,1e4]\n",
    "\n",
    "slicing_time_window = 1e6\n",
    "\n",
    "for lay in N_layers:\n",
    "    for R in R_first:\n",
    "        for tau in tau_first:\n",
    "            for N_neuron in n_first:\n",
    "                Rz = [R*2**Nl for Nl in range(lay)]\n",
    "                N_neuronz = [N_neuron*2**Nl for Nl in range(lay)]\n",
    "                N_pola = N_neuronz.copy()\n",
    "                N_pola.insert(0,2)\n",
    "                tauz = [tau*N_pola[Nl] for Nl in range(lay)]\n",
    "                hots = network(name, dataset_name, timestr, trainset.sensor_size, nb_neurons = N_neuronz, tau = tauz, R = Rz, homeo = homeo)\n",
    "                filtering_threshold = [2*Rz[L] for L in range(len(Rz))]\n",
    "                #clustering\n",
    "                print('clustering')\n",
    "                loader = get_sliced_loader(trainset, slicing_time_window, dataset_name, True, only_first=True, kfold=10)\n",
    "                hots.clustering(loader, trainset.ordering, filtering_threshold)\n",
    "                #training\n",
    "                print('training')\n",
    "                loader = get_sliced_loader(trainset, slicing_time_window, dataset_name, True, only_first=True, kfold=2)\n",
    "                num_sample_train = len(loader)\n",
    "                hots.coding(loader, trainset.ordering, trainset.classes, filtering_threshold, training=True)\n",
    "                #testing\n",
    "                print('testing')\n",
    "                loader = get_sliced_loader(testset, slicing_time_window, dataset_name, False, only_first=True, kfold=2)\n",
    "                num_sample_test = len(loader)\n",
    "                hots.coding(loader, trainset.ordering, trainset.classes, filtering_threshold, training=False)\n",
    "                \n",
    "                jitter = (None, None)\n",
    "                train_path = f'../Records/output/train/{hots.name}_{num_sample_train}_{jitter}/'\n",
    "                test_path = f'../Records/output/test/{hots.name}_{num_sample_test}_{jitter}/'\n",
    "\n",
    "                testset_output = HOTS_Dataset(test_path, trainset.sensor_size, transform=transform, dtype=trainset.dtype)\n",
    "                trainset_output = HOTS_Dataset(train_path, trainset.sensor_size, transform=transform, dtype=trainset.dtype)\n",
    "                \n",
    "                score = make_histogram_classification(trainset_output, testset_output, N_neuronz[-1]) \n",
    "                print(f' Accuracy: {score*100}%')"
   ]
  },
  {
   "cell_type": "code",
   "execution_count": null,
   "id": "d4950206-7429-4e86-8138-6f112f591156",
   "metadata": {},
   "outputs": [],
   "source": [
    "import matplotlib.pyplot as plt\n",
    "import copy\n",
    "\n",
    "def plot_accuracy(scores, parameters, param_to_plot):\n",
    "    paramlist = ['number of layers', 'R', 'tau', 'number of neurons']\n",
    "    fig, ax = plt.subplots(figsize=(10,6))\n",
    "    score_previous = 0\n",
    "    for ind in range(len(scores)):\n",
    "        score, tau, n_layer, R, n_neurons = scores[ind], parameters[ind][2], parameters[ind][0], parameters[ind][1], parameters[ind][3]\n",
    "        if param_to_plot=='tau':\n",
    "            x = copy.copy(tau)\n",
    "        elif param_to_plot=='R':\n",
    "            x = copy.copy(R)\n",
    "        elif param_to_plot=='neuron':\n",
    "            x = copy.copy(n_neurons)\n",
    "        elif param_to_plot=='layer':\n",
    "            x = copy.copy(n_layer)\n",
    "        \n",
    "        ax.plot(x, score, '*', color='blue')\n",
    "        if n_layer==2 and R==2:\n",
    "            ax.plot(x, score, '*', color='red')\n",
    "        if n_layer==2 and R==4:\n",
    "            ax.plot(x, score, '*', color='green')\n",
    "        if n_layer==2 and R==3:\n",
    "            ax.plot(x, score, '*', color='orange')\n",
    "\n",
    "        ax.set_xlabel(param_to_plot)\n",
    "        ax.set_ylabel('accuracy')\n",
    "        if score>score_previous:\n",
    "            score_previous=score\n",
    "            parameters_previous=parameters[ind]\n",
    "    print(score_previous, parameters_previous)\n",
    "    \n",
    "def plot_accuracy_multi_param(scores, parameters):\n",
    "    fig = plt.figure(figsize=(30,10))\n",
    "    sub1 = fig.add_subplot(1,3,1, projection=\"3d\")\n",
    "    sub2 = fig.add_subplot(1,3,2, projection=\"3d\")\n",
    "    sub3 = fig.add_subplot(1,3,3, projection=\"3d\")\n",
    "    score_previous = 0\n",
    "    colormap = plt.cm.get_cmap('summer_r', 10);\n",
    "    for ind in range(len(scores)):\n",
    "        score, lay, n_neuron, R = scores[ind], parameters[ind][0], parameters[ind][3], parameters[ind][1]\n",
    "        sub1.scatter(n_neuron, lay, score, color=colormap(R/4), alpha=0.5)\n",
    "        sub2.scatter(R, lay, score, color=colormap(n_neuron/16), alpha=0.5)\n",
    "        sub3.scatter(n_neuron, R, score, color=colormap(lay/4), alpha=0.5)\n",
    "        sub1.set_xlabel('neuron number')\n",
    "        sub2.set_xlabel('R')\n",
    "        sub3.set_xlabel('neuron number')\n",
    "        sub1.set_ylabel('layer number')\n",
    "        sub2.set_ylabel('layer number')\n",
    "        sub3.set_ylabel('R')\n",
    "        #sub1.view_init(10,-40)"
   ]
  },
  {
   "cell_type": "code",
   "execution_count": null,
   "id": "7d8b077d-facd-4841-b906-c49643ebf245",
   "metadata": {},
   "outputs": [],
   "source": [
    "plot_accuracy(scores, parameters, 'tau')\n",
    "plot_accuracy(scores, parameters, 'R')\n",
    "plot_accuracy(scores, parameters, 'layer')\n",
    "plot_accuracy(scores, parameters, 'neuron')"
   ]
  },
  {
   "cell_type": "code",
   "execution_count": null,
   "id": "3dc6ef67-582c-473d-be02-a93885437f31",
   "metadata": {},
   "outputs": [],
   "source": []
  }
 ],
 "metadata": {
  "kernelspec": {
   "display_name": "Python 3 (ipykernel)",
   "language": "python",
   "name": "python3"
  },
  "language_info": {
   "codemirror_mode": {
    "name": "ipython",
    "version": 3
   },
   "file_extension": ".py",
   "mimetype": "text/x-python",
   "name": "python",
   "nbconvert_exporter": "python",
   "pygments_lexer": "ipython3",
   "version": "3.8.10"
  }
 },
 "nbformat": 4,
 "nbformat_minor": 5
}
