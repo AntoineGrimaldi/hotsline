{
 "cells": [
  {
   "cell_type": "markdown",
   "id": "1323e1fd-cd1d-4b6f-8de6-0a71f2d7a0b8",
   "metadata": {},
   "source": [
    "# [hotsline](https://github.com/AntoineGrimaldi/hotsline) algorithm to replicate results from [this paper](https://www.techrxiv.org/articles/preprint/A_robust_event-driven_approach_to_always-on_object_recognition/18003077/1)\n",
    "## Load events of the NMNIST dataset with [Tonic](https://tonic.readthedocs.io/en/latest/index.html)"
   ]
  },
  {
   "cell_type": "code",
   "execution_count": 1,
   "id": "41e167bc-5794-4989-8b83-eb671436db30",
   "metadata": {},
   "outputs": [
    {
     "name": "stdout",
     "output_type": "stream",
     "text": [
      "/home/antoine/homhots/hotsline/hots\n",
      " Tonic version installed -> 1.0.15\n",
      "number of samples in the dataset: 1077\n"
     ]
    }
   ],
   "source": [
    "import tonic, torch, os\n",
    "%cd ../hots\n",
    "from utils import get_loader, get_sliced_loader, get_dataset_info, HOTS_Dataset, make_histogram_classification\n",
    "from network import network\n",
    "from timesurface import timesurface\n",
    "\n",
    "print(f' Tonic version installed -> {tonic.__version__}')\n",
    "\n",
    "transform = tonic.transforms.NumpyAsType(int)\n",
    "dataset = tonic.datasets.DVSGesture(save_to='../../Data/', train=True, transform=transform)\n",
    "#get_dataset_info(dataset, properties = ['time', 'mean_isi', 'nb_events']);\n",
    "print(f'number of samples in the dataset: {len(dataset)}')"
   ]
  },
  {
   "cell_type": "code",
   "execution_count": 2,
   "id": "8f9ffb72-8ff3-4daf-a619-00e8c9208674",
   "metadata": {},
   "outputs": [
    {
     "name": "stdout",
     "output_type": "stream",
     "text": [
      "device -> cuda\n",
      "clustering\n",
      "Read metadata from disk.\n",
      "training\n",
      "Read metadata from disk.\n",
      "this dataset have already been processed, check at: \n",
      " ../Records/output/train/2022-04-22_gesture_homeohots_True_[8, 16]_[200.0, 800.0]_[2, 4]_528_(None, None)/\n",
      "testing\n",
      "Read metadata from disk.\n",
      "this dataset have already been processed, check at: \n",
      " ../Records/output/test/2022-04-22_gesture_homeohots_True_[8, 16]_[200.0, 800.0]_[2, 4]_132_(None, None)/\n"
     ]
    },
    {
     "name": "stderr",
     "output_type": "stream",
     "text": [
      "100%|████████████████████████████████████████████████████████████████████████████████████████████████████████████████████████████████████████████| 528/528 [00:00<00:00, 2845.13it/s]\n",
      "100%|████████████████████████████████████████████████████████████████████████████████████████████████████████████████████████████████████████████| 132/132 [00:00<00:00, 1210.96it/s]\n"
     ]
    },
    {
     "name": "stdout",
     "output_type": "stream",
     "text": [
      " Accuracy: 8.333333333333332%\n",
      "device -> cuda\n",
      "clustering\n",
      "Read metadata from disk.\n",
      "training\n",
      "Read metadata from disk.\n",
      "this dataset have already been processed, check at: \n",
      " ../Records/output/train/2022-04-22_gesture_homeohots_True_[16, 32]_[200.0, 1600.0]_[2, 4]_528_(None, None)/\n",
      "testing\n",
      "Read metadata from disk.\n",
      "this dataset have already been processed, check at: \n",
      " ../Records/output/test/2022-04-22_gesture_homeohots_True_[16, 32]_[200.0, 1600.0]_[2, 4]_132_(None, None)/\n"
     ]
    },
    {
     "name": "stderr",
     "output_type": "stream",
     "text": [
      "100%|████████████████████████████████████████████████████████████████████████████████████████████████████████████████████████████████████████████| 528/528 [00:00<00:00, 2947.05it/s]\n",
      "100%|████████████████████████████████████████████████████████████████████████████████████████████████████████████████████████████████████████████| 132/132 [00:00<00:00, 1245.81it/s]\n"
     ]
    },
    {
     "name": "stdout",
     "output_type": "stream",
     "text": [
      " Accuracy: 7.575757575757576%\n",
      "device -> cuda\n",
      "clustering\n",
      "Read metadata from disk.\n",
      "training\n",
      "Read metadata from disk.\n",
      "this dataset have already been processed, check at: \n",
      " ../Records/output/train/2022-04-22_gesture_homeohots_True_[8, 16]_[400.0, 1600.0]_[2, 4]_528_(None, None)/\n",
      "testing\n",
      "Read metadata from disk.\n",
      "this dataset have already been processed, check at: \n",
      " ../Records/output/test/2022-04-22_gesture_homeohots_True_[8, 16]_[400.0, 1600.0]_[2, 4]_132_(None, None)/\n"
     ]
    },
    {
     "name": "stderr",
     "output_type": "stream",
     "text": [
      "100%|████████████████████████████████████████████████████████████████████████████████████████████████████████████████████████████████████████████| 528/528 [00:00<00:00, 1669.27it/s]\n",
      "100%|█████████████████████████████████████████████████████████████████████████████████████████████████████████████████████████████████████████████| 132/132 [00:00<00:00, 929.59it/s]\n"
     ]
    },
    {
     "name": "stdout",
     "output_type": "stream",
     "text": [
      " Accuracy: 15.909090909090908%\n",
      "device -> cuda\n",
      "clustering\n",
      "Read metadata from disk.\n",
      "training\n",
      "Read metadata from disk.\n",
      "this dataset have already been processed, check at: \n",
      " ../Records/output/train/2022-04-22_gesture_homeohots_True_[16, 32]_[400.0, 3200.0]_[2, 4]_528_(None, None)/\n",
      "testing\n",
      "Read metadata from disk.\n",
      "this dataset have already been processed, check at: \n",
      " ../Records/output/test/2022-04-22_gesture_homeohots_True_[16, 32]_[400.0, 3200.0]_[2, 4]_132_(None, None)/\n"
     ]
    },
    {
     "name": "stderr",
     "output_type": "stream",
     "text": [
      "100%|████████████████████████████████████████████████████████████████████████████████████████████████████████████████████████████████████████████| 528/528 [00:00<00:00, 1621.73it/s]\n",
      "100%|█████████████████████████████████████████████████████████████████████████████████████████████████████████████████████████████████████████████| 132/132 [00:00<00:00, 875.99it/s]\n"
     ]
    },
    {
     "name": "stdout",
     "output_type": "stream",
     "text": [
      " Accuracy: 19.696969696969695%\n",
      "device -> cuda\n",
      "clustering\n",
      "Read metadata from disk.\n",
      "training\n",
      "Read metadata from disk.\n",
      "this dataset have already been processed, check at: \n",
      " ../Records/output/train/2022-04-22_gesture_homeohots_True_[8, 16]_[1000.0, 4000.0]_[2, 4]_528_(None, None)/\n",
      "testing\n",
      "Read metadata from disk.\n",
      "this dataset have already been processed, check at: \n",
      " ../Records/output/test/2022-04-22_gesture_homeohots_True_[8, 16]_[1000.0, 4000.0]_[2, 4]_132_(None, None)/\n"
     ]
    },
    {
     "name": "stderr",
     "output_type": "stream",
     "text": [
      "100%|█████████████████████████████████████████████████████████████████████████████████████████████████████████████████████████████████████████████| 528/528 [00:01<00:00, 393.04it/s]\n",
      "100%|█████████████████████████████████████████████████████████████████████████████████████████████████████████████████████████████████████████████| 132/132 [00:00<00:00, 417.92it/s]\n"
     ]
    },
    {
     "name": "stdout",
     "output_type": "stream",
     "text": [
      " Accuracy: 40.15151515151515%\n",
      "device -> cuda\n",
      "clustering\n",
      "Read metadata from disk.\n",
      "training\n",
      "Read metadata from disk.\n",
      "this dataset have already been processed, check at: \n",
      " ../Records/output/train/2022-04-22_gesture_homeohots_True_[16, 32]_[1000.0, 8000.0]_[2, 4]_528_(None, None)/\n",
      "testing\n",
      "Read metadata from disk.\n",
      "this dataset have already been processed, check at: \n",
      " ../Records/output/test/2022-04-22_gesture_homeohots_True_[16, 32]_[1000.0, 8000.0]_[2, 4]_132_(None, None)/\n"
     ]
    },
    {
     "name": "stderr",
     "output_type": "stream",
     "text": [
      "100%|█████████████████████████████████████████████████████████████████████████████████████████████████████████████████████████████████████████████| 528/528 [00:01<00:00, 362.37it/s]\n",
      "100%|█████████████████████████████████████████████████████████████████████████████████████████████████████████████████████████████████████████████| 132/132 [00:00<00:00, 401.11it/s]\n"
     ]
    },
    {
     "name": "stdout",
     "output_type": "stream",
     "text": [
      " Accuracy: 49.24242424242424%\n",
      "device -> cuda\n",
      "clustering\n",
      "Read metadata from disk.\n",
      "training\n",
      "Read metadata from disk.\n",
      "this dataset have already been processed, check at: \n",
      " ../Records/output/train/2022-04-22_gesture_homeohots_True_[8, 16]_[2000.0, 8000.0]_[2, 4]_528_(None, None)/\n",
      "testing\n",
      "Read metadata from disk.\n",
      "this dataset have already been processed, check at: \n",
      " ../Records/output/test/2022-04-22_gesture_homeohots_True_[8, 16]_[2000.0, 8000.0]_[2, 4]_132_(None, None)/\n"
     ]
    },
    {
     "name": "stderr",
     "output_type": "stream",
     "text": [
      "100%|█████████████████████████████████████████████████████████████████████████████████████████████████████████████████████████████████████████████| 528/528 [00:03<00:00, 173.40it/s]\n",
      "100%|█████████████████████████████████████████████████████████████████████████████████████████████████████████████████████████████████████████████| 132/132 [00:00<00:00, 150.34it/s]\n"
     ]
    },
    {
     "name": "stdout",
     "output_type": "stream",
     "text": [
      " Accuracy: 44.696969696969695%\n",
      "device -> cuda\n",
      "clustering\n",
      "Read metadata from disk.\n",
      "training\n",
      "Read metadata from disk.\n",
      "this dataset have already been processed, check at: \n",
      " ../Records/output/train/2022-04-22_gesture_homeohots_True_[16, 32]_[2000.0, 16000.0]_[2, 4]_528_(None, None)/\n",
      "testing\n",
      "Read metadata from disk.\n",
      "this dataset have already been processed, check at: \n",
      " ../Records/output/test/2022-04-22_gesture_homeohots_True_[16, 32]_[2000.0, 16000.0]_[2, 4]_132_(None, None)/\n"
     ]
    },
    {
     "name": "stderr",
     "output_type": "stream",
     "text": [
      "100%|█████████████████████████████████████████████████████████████████████████████████████████████████████████████████████████████████████████████| 528/528 [00:02<00:00, 197.62it/s]\n",
      "100%|█████████████████████████████████████████████████████████████████████████████████████████████████████████████████████████████████████████████| 132/132 [00:00<00:00, 147.46it/s]\n"
     ]
    },
    {
     "name": "stdout",
     "output_type": "stream",
     "text": [
      " Accuracy: 66.66666666666666%\n",
      "device -> cuda\n",
      "clustering\n",
      "Read metadata from disk.\n",
      "training\n",
      "Read metadata from disk.\n",
      "this dataset have already been processed, check at: \n",
      " ../Records/output/train/2022-04-22_gesture_homeohots_True_[8, 16]_[4000.0, 16000.0]_[2, 4]_528_(None, None)/\n",
      "testing\n",
      "Read metadata from disk.\n",
      "this dataset have already been processed, check at: \n",
      " ../Records/output/test/2022-04-22_gesture_homeohots_True_[8, 16]_[4000.0, 16000.0]_[2, 4]_132_(None, None)/\n"
     ]
    },
    {
     "name": "stderr",
     "output_type": "stream",
     "text": [
      "100%|█████████████████████████████████████████████████████████████████████████████████████████████████████████████████████████████████████████████| 528/528 [00:04<00:00, 105.72it/s]\n",
      "100%|██████████████████████████████████████████████████████████████████████████████████████████████████████████████████████████████████████████████| 132/132 [00:01<00:00, 99.24it/s]\n"
     ]
    },
    {
     "name": "stdout",
     "output_type": "stream",
     "text": [
      " Accuracy: 48.484848484848484%\n",
      "device -> cuda\n",
      "clustering\n",
      "Read metadata from disk.\n",
      "training\n",
      "Read metadata from disk.\n",
      "this dataset have already been processed, check at: \n",
      " ../Records/output/train/2022-04-22_gesture_homeohots_True_[16, 32]_[4000.0, 32000.0]_[2, 4]_528_(None, None)/\n",
      "testing\n",
      "Read metadata from disk.\n",
      "this dataset have already been processed, check at: \n",
      " ../Records/output/test/2022-04-22_gesture_homeohots_True_[16, 32]_[4000.0, 32000.0]_[2, 4]_132_(None, None)/\n"
     ]
    },
    {
     "name": "stderr",
     "output_type": "stream",
     "text": [
      "100%|█████████████████████████████████████████████████████████████████████████████████████████████████████████████████████████████████████████████| 528/528 [00:05<00:00, 102.04it/s]\n",
      "100%|██████████████████████████████████████████████████████████████████████████████████████████████████████████████████████████████████████████████| 132/132 [00:01<00:00, 96.60it/s]\n"
     ]
    },
    {
     "name": "stdout",
     "output_type": "stream",
     "text": [
      " Accuracy: 67.42424242424242%\n",
      "device -> cuda\n",
      "clustering\n",
      "Read metadata from disk.\n",
      "training\n",
      "Read metadata from disk.\n",
      "this dataset have already been processed, check at: \n",
      " ../Records/output/train/2022-04-22_gesture_homeohots_True_[8, 16]_[10000.0, 40000.0]_[2, 4]_528_(None, None)/\n",
      "testing\n",
      "Read metadata from disk.\n",
      "this dataset have already been processed, check at: \n",
      " ../Records/output/test/2022-04-22_gesture_homeohots_True_[8, 16]_[10000.0, 40000.0]_[2, 4]_132_(None, None)/\n"
     ]
    },
    {
     "name": "stderr",
     "output_type": "stream",
     "text": [
      "100%|█████████████████████████████████████████████████████████████████████████████████████████████████████████████████████████████████████████████| 528/528 [00:05<00:00, 104.58it/s]\n",
      "100%|██████████████████████████████████████████████████████████████████████████████████████████████████████████████████████████████████████████████| 132/132 [00:01<00:00, 78.15it/s]\n"
     ]
    },
    {
     "name": "stdout",
     "output_type": "stream",
     "text": [
      " Accuracy: 53.78787878787878%\n",
      "device -> cuda\n",
      "clustering\n",
      "Read metadata from disk.\n",
      "training\n",
      "Read metadata from disk.\n",
      "this dataset have already been processed, check at: \n",
      " ../Records/output/train/2022-04-22_gesture_homeohots_True_[16, 32]_[10000.0, 80000.0]_[2, 4]_528_(None, None)/\n",
      "testing\n",
      "Read metadata from disk.\n",
      "this dataset have already been processed, check at: \n",
      " ../Records/output/test/2022-04-22_gesture_homeohots_True_[16, 32]_[10000.0, 80000.0]_[2, 4]_132_(None, None)/\n"
     ]
    },
    {
     "name": "stderr",
     "output_type": "stream",
     "text": [
      "100%|██████████████████████████████████████████████████████████████████████████████████████████████████████████████████████████████████████████████| 528/528 [00:06<00:00, 79.46it/s]\n",
      "100%|██████████████████████████████████████████████████████████████████████████████████████████████████████████████████████████████████████████████| 132/132 [00:01<00:00, 79.91it/s]\n"
     ]
    },
    {
     "name": "stdout",
     "output_type": "stream",
     "text": [
      " Accuracy: 71.96969696969697%\n",
      "device -> cuda\n",
      "clustering\n",
      "Read metadata from disk.\n",
      "training\n",
      "Read metadata from disk.\n",
      "this dataset have already been processed, check at: \n",
      " ../Records/output/train/2022-04-22_gesture_homeohots_True_[8, 16]_[20000.0, 80000.0]_[2, 4]_528_(None, None)/\n",
      "testing\n",
      "Read metadata from disk.\n",
      "this dataset have already been processed, check at: \n",
      " ../Records/output/test/2022-04-22_gesture_homeohots_True_[8, 16]_[20000.0, 80000.0]_[2, 4]_132_(None, None)/\n"
     ]
    },
    {
     "name": "stderr",
     "output_type": "stream",
     "text": [
      "100%|██████████████████████████████████████████████████████████████████████████████████████████████████████████████████████████████████████████████| 528/528 [00:07<00:00, 73.43it/s]\n",
      "100%|██████████████████████████████████████████████████████████████████████████████████████████████████████████████████████████████████████████████| 132/132 [00:02<00:00, 62.09it/s]\n"
     ]
    },
    {
     "name": "stdout",
     "output_type": "stream",
     "text": [
      " Accuracy: 56.81818181818182%\n",
      "device -> cuda\n",
      "clustering\n",
      "Read metadata from disk.\n",
      "training\n",
      "Read metadata from disk.\n",
      "this dataset have already been processed, check at: \n",
      " ../Records/output/train/2022-04-22_gesture_homeohots_True_[16, 32]_[20000.0, 160000.0]_[2, 4]_528_(None, None)/\n",
      "testing\n",
      "Read metadata from disk.\n",
      "this dataset have already been processed, check at: \n",
      " ../Records/output/test/2022-04-22_gesture_homeohots_True_[16, 32]_[20000.0, 160000.0]_[2, 4]_132_(None, None)/\n"
     ]
    },
    {
     "name": "stderr",
     "output_type": "stream",
     "text": [
      "100%|████████████████████████████████████████████████████████████████████████████████████████████████████████████████████████████████████████████████| 86/86 [00:01<00:00, 69.72it/s]\n",
      "100%|██████████████████████████████████████████████████████████████████████████████████████████████████████████████████████████████████████████████| 132/132 [00:02<00:00, 63.85it/s]\n"
     ]
    },
    {
     "name": "stdout",
     "output_type": "stream",
     "text": [
      " Accuracy: 48.484848484848484%\n",
      "device -> cuda\n",
      "clustering\n",
      "Read metadata from disk.\n",
      "training\n",
      "Read metadata from disk.\n",
      "this dataset have already been processed, check at: \n",
      " ../Records/output/train/2022-04-22_gesture_homeohots_True_[8, 16]_[200.0, 800.0]_[4, 8]_528_(None, None)/\n",
      "testing\n",
      "Read metadata from disk.\n",
      "this dataset have already been processed, check at: \n",
      " ../Records/output/test/2022-04-22_gesture_homeohots_True_[8, 16]_[200.0, 800.0]_[4, 8]_132_(None, None)/\n"
     ]
    },
    {
     "name": "stderr",
     "output_type": "stream",
     "text": [
      "100%|████████████████████████████████████████████████████████████████████████████████████████████████████████████████████████████████████████████| 528/528 [00:00<00:00, 1738.85it/s]\n",
      "100%|█████████████████████████████████████████████████████████████████████████████████████████████████████████████████████████████████████████████| 132/132 [00:00<00:00, 941.31it/s]\n"
     ]
    },
    {
     "name": "stdout",
     "output_type": "stream",
     "text": [
      " Accuracy: 8.333333333333332%\n",
      "device -> cuda\n",
      "clustering\n",
      "Read metadata from disk.\n",
      "training\n",
      "Read metadata from disk.\n",
      "this dataset have already been processed, check at: \n",
      " ../Records/output/train/2022-04-22_gesture_homeohots_True_[16, 32]_[200.0, 1600.0]_[4, 8]_528_(None, None)/\n",
      "testing\n",
      "Read metadata from disk.\n",
      "this dataset have already been processed, check at: \n",
      " ../Records/output/test/2022-04-22_gesture_homeohots_True_[16, 32]_[200.0, 1600.0]_[4, 8]_132_(None, None)/\n"
     ]
    },
    {
     "name": "stderr",
     "output_type": "stream",
     "text": [
      "100%|████████████████████████████████████████████████████████████████████████████████████████████████████████████████████████████████████████████| 528/528 [00:00<00:00, 1860.48it/s]\n",
      "100%|█████████████████████████████████████████████████████████████████████████████████████████████████████████████████████████████████████████████| 132/132 [00:00<00:00, 973.61it/s]\n"
     ]
    },
    {
     "name": "stdout",
     "output_type": "stream",
     "text": [
      " Accuracy: 8.333333333333332%\n",
      "device -> cuda\n",
      "clustering\n",
      "Read metadata from disk.\n",
      "training\n",
      "Read metadata from disk.\n",
      "this dataset have already been processed, check at: \n",
      " ../Records/output/train/2022-04-22_gesture_homeohots_True_[8, 16]_[400.0, 1600.0]_[4, 8]_528_(None, None)/\n",
      "testing\n",
      "Read metadata from disk.\n",
      "this dataset have already been processed, check at: \n",
      " ../Records/output/test/2022-04-22_gesture_homeohots_True_[8, 16]_[400.0, 1600.0]_[4, 8]_132_(None, None)/\n"
     ]
    },
    {
     "name": "stderr",
     "output_type": "stream",
     "text": [
      "100%|████████████████████████████████████████████████████████████████████████████████████████████████████████████████████████████████████████████| 528/528 [00:00<00:00, 1291.29it/s]\n",
      "100%|█████████████████████████████████████████████████████████████████████████████████████████████████████████████████████████████████████████████| 132/132 [00:00<00:00, 859.24it/s]\n"
     ]
    },
    {
     "name": "stdout",
     "output_type": "stream",
     "text": [
      " Accuracy: 16.666666666666664%\n",
      "device -> cuda\n",
      "clustering\n",
      "Read metadata from disk.\n",
      "training\n",
      "Read metadata from disk.\n",
      "this dataset have already been processed, check at: \n",
      " ../Records/output/train/2022-04-22_gesture_homeohots_True_[16, 32]_[400.0, 3200.0]_[4, 8]_528_(None, None)/\n",
      "testing\n",
      "Read metadata from disk.\n",
      "this dataset have already been processed, check at: \n",
      " ../Records/output/test/2022-04-22_gesture_homeohots_True_[16, 32]_[400.0, 3200.0]_[4, 8]_132_(None, None)/\n"
     ]
    },
    {
     "name": "stderr",
     "output_type": "stream",
     "text": [
      "100%|████████████████████████████████████████████████████████████████████████████████████████████████████████████████████████████████████████████| 528/528 [00:00<00:00, 1316.07it/s]\n",
      "100%|█████████████████████████████████████████████████████████████████████████████████████████████████████████████████████████████████████████████| 132/132 [00:00<00:00, 822.63it/s]\n"
     ]
    },
    {
     "name": "stdout",
     "output_type": "stream",
     "text": [
      " Accuracy: 20.454545454545457%\n",
      "device -> cuda\n",
      "clustering\n",
      "Read metadata from disk.\n",
      "training\n",
      "Read metadata from disk.\n",
      "this dataset have already been processed, check at: \n",
      " ../Records/output/train/2022-04-22_gesture_homeohots_True_[8, 16]_[1000.0, 4000.0]_[4, 8]_528_(None, None)/\n",
      "testing\n",
      "Read metadata from disk.\n",
      "this dataset have already been processed, check at: \n",
      " ../Records/output/test/2022-04-22_gesture_homeohots_True_[8, 16]_[1000.0, 4000.0]_[4, 8]_132_(None, None)/\n"
     ]
    },
    {
     "name": "stderr",
     "output_type": "stream",
     "text": [
      "100%|█████████████████████████████████████████████████████████████████████████████████████████████████████████████████████████████████████████████| 528/528 [00:01<00:00, 490.03it/s]\n",
      "100%|█████████████████████████████████████████████████████████████████████████████████████████████████████████████████████████████████████████████| 132/132 [00:00<00:00, 376.21it/s]\n"
     ]
    },
    {
     "name": "stdout",
     "output_type": "stream",
     "text": [
      " Accuracy: 37.121212121212125%\n",
      "device -> cuda\n",
      "clustering\n",
      "Read metadata from disk.\n",
      "training\n",
      "Read metadata from disk.\n",
      "this dataset have already been processed, check at: \n",
      " ../Records/output/train/2022-04-22_gesture_homeohots_True_[16, 32]_[1000.0, 8000.0]_[4, 8]_528_(None, None)/\n",
      "testing\n",
      "Read metadata from disk.\n",
      "this dataset have already been processed, check at: \n",
      " ../Records/output/test/2022-04-22_gesture_homeohots_True_[16, 32]_[1000.0, 8000.0]_[4, 8]_132_(None, None)/\n"
     ]
    },
    {
     "name": "stderr",
     "output_type": "stream",
     "text": [
      "100%|█████████████████████████████████████████████████████████████████████████████████████████████████████████████████████████████████████████████| 528/528 [00:01<00:00, 305.44it/s]\n",
      "100%|█████████████████████████████████████████████████████████████████████████████████████████████████████████████████████████████████████████████| 132/132 [00:00<00:00, 354.63it/s]\n"
     ]
    },
    {
     "name": "stdout",
     "output_type": "stream",
     "text": [
      " Accuracy: 53.78787878787878%\n",
      "device -> cuda\n",
      "clustering\n",
      "Read metadata from disk.\n",
      "training\n",
      "Read metadata from disk.\n",
      "this dataset have already been processed, check at: \n",
      " ../Records/output/train/2022-04-22_gesture_homeohots_True_[8, 16]_[2000.0, 8000.0]_[4, 8]_528_(None, None)/\n",
      "testing\n",
      "Read metadata from disk.\n",
      "this dataset have already been processed, check at: \n",
      " ../Records/output/test/2022-04-22_gesture_homeohots_True_[8, 16]_[2000.0, 8000.0]_[4, 8]_132_(None, None)/\n"
     ]
    },
    {
     "name": "stderr",
     "output_type": "stream",
     "text": [
      "100%|█████████████████████████████████████████████████████████████████████████████████████████████████████████████████████████████████████████████| 528/528 [00:02<00:00, 189.10it/s]\n",
      "100%|█████████████████████████████████████████████████████████████████████████████████████████████████████████████████████████████████████████████| 132/132 [00:00<00:00, 149.11it/s]\n"
     ]
    },
    {
     "name": "stdout",
     "output_type": "stream",
     "text": [
      " Accuracy: 52.27272727272727%\n",
      "device -> cuda\n",
      "clustering\n",
      "Read metadata from disk.\n",
      "training\n",
      "Read metadata from disk.\n",
      "this dataset have already been processed, check at: \n",
      " ../Records/output/train/2022-04-22_gesture_homeohots_True_[16, 32]_[2000.0, 16000.0]_[4, 8]_528_(None, None)/\n",
      "testing\n",
      "Read metadata from disk.\n",
      "this dataset have already been processed, check at: \n",
      " ../Records/output/test/2022-04-22_gesture_homeohots_True_[16, 32]_[2000.0, 16000.0]_[4, 8]_132_(None, None)/\n"
     ]
    },
    {
     "name": "stderr",
     "output_type": "stream",
     "text": [
      "100%|█████████████████████████████████████████████████████████████████████████████████████████████████████████████████████████████████████████████| 528/528 [00:03<00:00, 143.71it/s]\n",
      "100%|█████████████████████████████████████████████████████████████████████████████████████████████████████████████████████████████████████████████| 132/132 [00:00<00:00, 151.70it/s]\n"
     ]
    },
    {
     "name": "stdout",
     "output_type": "stream",
     "text": [
      " Accuracy: 63.63636363636363%\n",
      "device -> cuda\n",
      "clustering\n",
      "Read metadata from disk.\n",
      "training\n",
      "Read metadata from disk.\n",
      "this dataset have already been processed, check at: \n",
      " ../Records/output/train/2022-04-22_gesture_homeohots_True_[8, 16]_[4000.0, 16000.0]_[4, 8]_528_(None, None)/\n",
      "testing\n",
      "Read metadata from disk.\n"
     ]
    },
    {
     "name": "stderr",
     "output_type": "stream",
     "text": [
      "  2%|██▏                                                                                                                                             | 2/132 [00:21<23:04, 10.65s/it]\n"
     ]
    },
    {
     "ename": "KeyboardInterrupt",
     "evalue": "",
     "output_type": "error",
     "traceback": [
      "\u001b[0;31m---------------------------------------------------------------------------\u001b[0m",
      "\u001b[0;31mKeyboardInterrupt\u001b[0m                         Traceback (most recent call last)",
      "Input \u001b[0;32mIn [2]\u001b[0m, in \u001b[0;36m<module>\u001b[0;34m\u001b[0m\n\u001b[1;32m     40\u001b[0m loader \u001b[38;5;241m=\u001b[39m get_sliced_loader(testset, slicing_time_window, dataset_name, \u001b[38;5;28;01mFalse\u001b[39;00m, only_first\u001b[38;5;241m=\u001b[39m\u001b[38;5;28;01mTrue\u001b[39;00m, kfold\u001b[38;5;241m=\u001b[39m\u001b[38;5;241m2\u001b[39m)\n\u001b[1;32m     41\u001b[0m num_sample_test \u001b[38;5;241m=\u001b[39m \u001b[38;5;28mlen\u001b[39m(loader)\n\u001b[0;32m---> 42\u001b[0m \u001b[43mhots\u001b[49m\u001b[38;5;241;43m.\u001b[39;49m\u001b[43mcoding\u001b[49m\u001b[43m(\u001b[49m\u001b[43mloader\u001b[49m\u001b[43m,\u001b[49m\u001b[43m \u001b[49m\u001b[43mtrainset\u001b[49m\u001b[38;5;241;43m.\u001b[39;49m\u001b[43mordering\u001b[49m\u001b[43m,\u001b[49m\u001b[43m \u001b[49m\u001b[43mtrainset\u001b[49m\u001b[38;5;241;43m.\u001b[39;49m\u001b[43mclasses\u001b[49m\u001b[43m,\u001b[49m\u001b[43m \u001b[49m\u001b[43mfiltering_threshold\u001b[49m\u001b[43m,\u001b[49m\u001b[43m \u001b[49m\u001b[43mtraining\u001b[49m\u001b[38;5;241;43m=\u001b[39;49m\u001b[38;5;28;43;01mFalse\u001b[39;49;00m\u001b[43m)\u001b[49m\n\u001b[1;32m     44\u001b[0m jitter \u001b[38;5;241m=\u001b[39m (\u001b[38;5;28;01mNone\u001b[39;00m, \u001b[38;5;28;01mNone\u001b[39;00m)\n\u001b[1;32m     45\u001b[0m train_path \u001b[38;5;241m=\u001b[39m \u001b[38;5;124mf\u001b[39m\u001b[38;5;124m'\u001b[39m\u001b[38;5;124m../Records/output/train/\u001b[39m\u001b[38;5;132;01m{\u001b[39;00mhots\u001b[38;5;241m.\u001b[39mname\u001b[38;5;132;01m}\u001b[39;00m\u001b[38;5;124m_\u001b[39m\u001b[38;5;132;01m{\u001b[39;00mnum_sample_train\u001b[38;5;132;01m}\u001b[39;00m\u001b[38;5;124m_\u001b[39m\u001b[38;5;132;01m{\u001b[39;00mjitter\u001b[38;5;132;01m}\u001b[39;00m\u001b[38;5;124m/\u001b[39m\u001b[38;5;124m'\u001b[39m\n",
      "File \u001b[0;32m~/homhots/hotsline/hots/network.py:114\u001b[0m, in \u001b[0;36mnetwork.coding\u001b[0;34m(self, loader, ordering, classes, filtering_threshold, training, jitter)\u001b[0m\n\u001b[1;32m    112\u001b[0m \u001b[38;5;28;01mfor\u001b[39;00m events, target \u001b[38;5;129;01min\u001b[39;00m tqdm(loader):\n\u001b[1;32m    113\u001b[0m     \u001b[38;5;28;01mfor\u001b[39;00m L \u001b[38;5;129;01min\u001b[39;00m \u001b[38;5;28mrange\u001b[39m(\u001b[38;5;28mlen\u001b[39m(\u001b[38;5;28mself\u001b[39m\u001b[38;5;241m.\u001b[39mtau)):\n\u001b[0;32m--> 114\u001b[0m         all_ts, ind_filtered \u001b[38;5;241m=\u001b[39m \u001b[43mtimesurface\u001b[49m\u001b[43m(\u001b[49m\u001b[43mevents\u001b[49m\u001b[38;5;241;43m.\u001b[39;49m\u001b[43msqueeze\u001b[49m\u001b[43m(\u001b[49m\u001b[38;5;241;43m0\u001b[39;49m\u001b[43m)\u001b[49m\u001b[43m,\u001b[49m\u001b[43m \u001b[49m\u001b[43m(\u001b[49m\u001b[38;5;28;43mself\u001b[39;49m\u001b[38;5;241;43m.\u001b[39;49m\u001b[43msensor_size\u001b[49m\u001b[43m[\u001b[49m\u001b[38;5;241;43m0\u001b[39;49m\u001b[43m]\u001b[49m\u001b[43m,\u001b[49m\u001b[43m \u001b[49m\u001b[38;5;28;43mself\u001b[39;49m\u001b[38;5;241;43m.\u001b[39;49m\u001b[43msensor_size\u001b[49m\u001b[43m[\u001b[49m\u001b[38;5;241;43m1\u001b[39;49m\u001b[43m]\u001b[49m\u001b[43m,\u001b[49m\u001b[43m \u001b[49m\u001b[38;5;28;43mself\u001b[39;49m\u001b[38;5;241;43m.\u001b[39;49m\u001b[43mn_pola\u001b[49m\u001b[43m[\u001b[49m\u001b[43mL\u001b[49m\u001b[43m]\u001b[49m\u001b[43m)\u001b[49m\u001b[43m,\u001b[49m\u001b[43m \u001b[49m\u001b[43mordering\u001b[49m\u001b[43m,\u001b[49m\u001b[43m \u001b[49m\u001b[43mtau\u001b[49m\u001b[43m \u001b[49m\u001b[38;5;241;43m=\u001b[39;49m\u001b[43m \u001b[49m\u001b[38;5;28;43mself\u001b[39;49m\u001b[38;5;241;43m.\u001b[39;49m\u001b[43mtau\u001b[49m\u001b[43m[\u001b[49m\u001b[43mL\u001b[49m\u001b[43m]\u001b[49m\u001b[43m,\u001b[49m\u001b[43m \u001b[49m\u001b[43msurface_dimensions\u001b[49m\u001b[38;5;241;43m=\u001b[39;49m\u001b[43m[\u001b[49m\u001b[38;5;241;43m2\u001b[39;49m\u001b[38;5;241;43m*\u001b[39;49m\u001b[38;5;28;43mself\u001b[39;49m\u001b[38;5;241;43m.\u001b[39;49m\u001b[43mR\u001b[49m\u001b[43m[\u001b[49m\u001b[43mL\u001b[49m\u001b[43m]\u001b[49m\u001b[38;5;241;43m+\u001b[39;49m\u001b[38;5;241;43m1\u001b[39;49m\u001b[43m,\u001b[49m\u001b[38;5;241;43m2\u001b[39;49m\u001b[38;5;241;43m*\u001b[39;49m\u001b[38;5;28;43mself\u001b[39;49m\u001b[38;5;241;43m.\u001b[39;49m\u001b[43mR\u001b[49m\u001b[43m[\u001b[49m\u001b[43mL\u001b[49m\u001b[43m]\u001b[49m\u001b[38;5;241;43m+\u001b[39;49m\u001b[38;5;241;43m1\u001b[39;49m\u001b[43m]\u001b[49m\u001b[43m,\u001b[49m\u001b[43m \u001b[49m\u001b[43mfiltering_threshold\u001b[49m\u001b[43m \u001b[49m\u001b[38;5;241;43m=\u001b[39;49m\u001b[43m \u001b[49m\u001b[43mfiltering_threshold\u001b[49m\u001b[43m[\u001b[49m\u001b[43mL\u001b[49m\u001b[43m]\u001b[49m\u001b[43m,\u001b[49m\u001b[43m \u001b[49m\u001b[43mdevice\u001b[49m\u001b[38;5;241;43m=\u001b[39;49m\u001b[43mdevice\u001b[49m\u001b[43m)\u001b[49m\n\u001b[1;32m    115\u001b[0m         n_star \u001b[38;5;241m=\u001b[39m \u001b[38;5;28mself\u001b[39m\u001b[38;5;241m.\u001b[39mlayers[L](all_ts, \u001b[38;5;28;01mFalse\u001b[39;00m)\n\u001b[1;32m    116\u001b[0m         \u001b[38;5;28;01mif\u001b[39;00m ind_filtered \u001b[38;5;129;01mis\u001b[39;00m \u001b[38;5;129;01mnot\u001b[39;00m \u001b[38;5;28;01mNone\u001b[39;00m:\n",
      "File \u001b[0;32m~/homhots/hotsline/hots/timesurface.py:50\u001b[0m, in \u001b[0;36mtimesurface\u001b[0;34m(events, sensor_size, ordering, surface_dimensions, tau, decay, filtering_threshold, device)\u001b[0m\n\u001b[1;32m     48\u001b[0m         timesurface \u001b[38;5;241m=\u001b[39m torch\u001b[38;5;241m.\u001b[39mexp(timestamp_context \u001b[38;5;241m/\u001b[39m tau)\n\u001b[1;32m     49\u001b[0m         timesurface[timesurface\u001b[38;5;241m<\u001b[39mtorch\u001b[38;5;241m.\u001b[39mexp(torch\u001b[38;5;241m.\u001b[39mtensor(\u001b[38;5;241m-\u001b[39m\u001b[38;5;241m5\u001b[39m))] \u001b[38;5;241m=\u001b[39m \u001b[38;5;241m0\u001b[39m\n\u001b[0;32m---> 50\u001b[0m     all_surfaces[index, :, :, :] \u001b[38;5;241m=\u001b[39m timesurface\n\u001b[1;32m     51\u001b[0m     indices \u001b[38;5;241m=\u001b[39m \u001b[38;5;28;01mNone\u001b[39;00m\n\u001b[1;32m     52\u001b[0m \u001b[38;5;28;01mif\u001b[39;00m filtering_threshold:\n",
      "\u001b[0;31mKeyboardInterrupt\u001b[0m: "
     ]
    }
   ],
   "source": [
    "trainset = tonic.datasets.DVSGesture(save_to='../../Data/', train=True)\n",
    "testset = tonic.datasets.DVSGesture(save_to='../../Data/', train=False)\n",
    "\n",
    "transform = tonic.transforms.NumpyAsType(int)\n",
    "\n",
    "name = 'homeohots'\n",
    "homeo = True\n",
    "timestr = '2022-04-22'\n",
    "dataset_name = 'gesture'\n",
    "\n",
    "R_first = [2, 4, 8]\n",
    "N_layers = [2,3,4]\n",
    "n_first = [8,16]\n",
    "tau_first = [.1e3,.2e3,.5e3,1e3,2e3,5e3,1e4]\n",
    "\n",
    "slicing_time_window = 1e6\n",
    "\n",
    "for lay in N_layers:\n",
    "    for R in R_first:\n",
    "        for tau in tau_first:\n",
    "            for N_neuron in n_first:\n",
    "                Rz = [R*2**Nl for Nl in range(lay)]\n",
    "                N_neuronz = [N_neuron*2**Nl for Nl in range(lay)]\n",
    "                N_pola = N_neuronz.copy()\n",
    "                N_pola.insert(0,2)\n",
    "                tauz = [tau*N_pola[Nl] for Nl in range(lay)]\n",
    "                hots = network(name, dataset_name, timestr, trainset.sensor_size, nb_neurons = N_neuronz, tau = tauz, R = Rz, homeo = homeo)\n",
    "                filtering_threshold = [2*Rz[L] for L in range(len(Rz))]\n",
    "                #clustering\n",
    "                print('clustering')\n",
    "                loader = get_sliced_loader(trainset, slicing_time_window, dataset_name, True, only_first=True, kfold=10)\n",
    "                hots.clustering(loader, trainset.ordering, filtering_threshold)\n",
    "                #training\n",
    "                print('training')\n",
    "                loader = get_sliced_loader(trainset, slicing_time_window, dataset_name, True, only_first=True, kfold=2)\n",
    "                num_sample_train = len(loader)\n",
    "                hots.coding(loader, trainset.ordering, trainset.classes, filtering_threshold, training=True)\n",
    "                #testing\n",
    "                print('testing')\n",
    "                loader = get_sliced_loader(testset, slicing_time_window, dataset_name, False, only_first=True, kfold=2)\n",
    "                num_sample_test = len(loader)\n",
    "                hots.coding(loader, trainset.ordering, trainset.classes, filtering_threshold, training=False)\n",
    "                \n",
    "                jitter = (None, None)\n",
    "                train_path = f'../Records/output/train/{hots.name}_{num_sample_train}_{jitter}/'\n",
    "                test_path = f'../Records/output/test/{hots.name}_{num_sample_test}_{jitter}/'\n",
    "\n",
    "                testset_output = HOTS_Dataset(test_path, trainset.sensor_size, transform=transform, dtype=trainset.dtype)\n",
    "                trainset_output = HOTS_Dataset(train_path, trainset.sensor_size, transform=transform, dtype=trainset.dtype)\n",
    "                \n",
    "                score = make_histogram_classification(trainset_output, testset_output, N_neuronz[-1]) \n",
    "                print(f' Accuracy: {score*100}%')"
   ]
  },
  {
   "cell_type": "code",
   "execution_count": null,
   "id": "d4950206-7429-4e86-8138-6f112f591156",
   "metadata": {},
   "outputs": [],
   "source": [
    "import matplotlib.pyplot as plt\n",
    "import copy\n",
    "\n",
    "def plot_accuracy(scores, parameters, param_to_plot):\n",
    "    paramlist = ['number of layers', 'R', 'tau', 'number of neurons']\n",
    "    fig, ax = plt.subplots(figsize=(10,6))\n",
    "    score_previous = 0\n",
    "    for ind in range(len(scores)):\n",
    "        score, tau, n_layer, R, n_neurons = scores[ind], parameters[ind][2], parameters[ind][0], parameters[ind][1], parameters[ind][3]\n",
    "        if param_to_plot=='tau':\n",
    "            x = copy.copy(tau)\n",
    "        elif param_to_plot=='R':\n",
    "            x = copy.copy(R)\n",
    "        elif param_to_plot=='neuron':\n",
    "            x = copy.copy(n_neurons)\n",
    "        elif param_to_plot=='layer':\n",
    "            x = copy.copy(n_layer)\n",
    "        \n",
    "        ax.plot(x, score, '*', color='blue')\n",
    "        if n_layer==2 and R==2:\n",
    "            ax.plot(x, score, '*', color='red')\n",
    "        if n_layer==2 and R==4:\n",
    "            ax.plot(x, score, '*', color='green')\n",
    "        if n_layer==2 and R==3:\n",
    "            ax.plot(x, score, '*', color='orange')\n",
    "\n",
    "        ax.set_xlabel(param_to_plot)\n",
    "        ax.set_ylabel('accuracy')\n",
    "        if score>score_previous:\n",
    "            score_previous=score\n",
    "            parameters_previous=parameters[ind]\n",
    "    print(score_previous, parameters_previous)\n",
    "    \n",
    "def plot_accuracy_multi_param(scores, parameters):\n",
    "    fig = plt.figure(figsize=(30,10))\n",
    "    sub1 = fig.add_subplot(1,3,1, projection=\"3d\")\n",
    "    sub2 = fig.add_subplot(1,3,2, projection=\"3d\")\n",
    "    sub3 = fig.add_subplot(1,3,3, projection=\"3d\")\n",
    "    score_previous = 0\n",
    "    colormap = plt.cm.get_cmap('summer_r', 10);\n",
    "    for ind in range(len(scores)):\n",
    "        score, lay, n_neuron, R = scores[ind], parameters[ind][0], parameters[ind][3], parameters[ind][1]\n",
    "        sub1.scatter(n_neuron, lay, score, color=colormap(R/4), alpha=0.5)\n",
    "        sub2.scatter(R, lay, score, color=colormap(n_neuron/16), alpha=0.5)\n",
    "        sub3.scatter(n_neuron, R, score, color=colormap(lay/4), alpha=0.5)\n",
    "        sub1.set_xlabel('neuron number')\n",
    "        sub2.set_xlabel('R')\n",
    "        sub3.set_xlabel('neuron number')\n",
    "        sub1.set_ylabel('layer number')\n",
    "        sub2.set_ylabel('layer number')\n",
    "        sub3.set_ylabel('R')\n",
    "        #sub1.view_init(10,-40)"
   ]
  },
  {
   "cell_type": "code",
   "execution_count": null,
   "id": "7d8b077d-facd-4841-b906-c49643ebf245",
   "metadata": {},
   "outputs": [],
   "source": [
    "plot_accuracy(scores, parameters, 'tau')\n",
    "plot_accuracy(scores, parameters, 'R')\n",
    "plot_accuracy(scores, parameters, 'layer')\n",
    "plot_accuracy(scores, parameters, 'neuron')"
   ]
  },
  {
   "cell_type": "code",
   "execution_count": null,
   "id": "3dc6ef67-582c-473d-be02-a93885437f31",
   "metadata": {},
   "outputs": [],
   "source": []
  }
 ],
 "metadata": {
  "kernelspec": {
   "display_name": "Python 3 (ipykernel)",
   "language": "python",
   "name": "python3"
  },
  "language_info": {
   "codemirror_mode": {
    "name": "ipython",
    "version": 3
   },
   "file_extension": ".py",
   "mimetype": "text/x-python",
   "name": "python",
   "nbconvert_exporter": "python",
   "pygments_lexer": "ipython3",
   "version": "3.8.10"
  }
 },
 "nbformat": 4,
 "nbformat_minor": 5
}
