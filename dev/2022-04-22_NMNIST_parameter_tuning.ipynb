{
 "cells": [
  {
   "cell_type": "markdown",
   "id": "1323e1fd-cd1d-4b6f-8de6-0a71f2d7a0b8",
   "metadata": {},
   "source": [
    "# [hotsline](https://github.com/AntoineGrimaldi/hotsline) algorithm to replicate results from [this paper](https://www.techrxiv.org/articles/preprint/A_robust_event-driven_approach_to_always-on_object_recognition/18003077/1)\n",
    "## Load events of the NMNIST dataset with [Tonic](https://tonic.readthedocs.io/en/latest/index.html)"
   ]
  },
  {
   "cell_type": "code",
   "execution_count": 8,
   "id": "ff9198cb-e9ce-4b8b-8613-c3f74a4990f7",
   "metadata": {},
   "outputs": [
    {
     "name": "stdout",
     "output_type": "stream",
     "text": [
      "The autoreload extension is already loaded. To reload it, use:\n",
      "  %reload_ext autoreload\n"
     ]
    }
   ],
   "source": [
    "%load_ext autoreload\n",
    "%autoreload 2"
   ]
  },
  {
   "cell_type": "code",
   "execution_count": 9,
   "id": "41e167bc-5794-4989-8b83-eb671436db30",
   "metadata": {},
   "outputs": [
    {
     "name": "stdout",
     "output_type": "stream",
     "text": [
      "/home/antoine/homhots/hotsline/hots\n",
      " Tonic version installed -> 1.0.15\n",
      "number of samples in the dataset: 60000\n"
     ]
    }
   ],
   "source": [
    "import tonic, torch, os\n",
    "%cd ../hots\n",
    "from utils import get_loader, get_dataset_info\n",
    "from utils import make_histogram_classification, HOTS_Dataset\n",
    "from network import network\n",
    "from timesurface import timesurface\n",
    "\n",
    "print(f' Tonic version installed -> {tonic.__version__}')\n",
    "\n",
    "transform = tonic.transforms.NumpyAsType(int)\n",
    "dataset = tonic.datasets.NMNIST(save_to='../../Data/', train=True, transform=transform)\n",
    "#get_dataset_info(dataset, properties = ['time', 'mean_isi', 'nb_events']);\n",
    "print(f'number of samples in the dataset: {len(dataset)}')"
   ]
  },
  {
   "cell_type": "code",
   "execution_count": 10,
   "id": "9d5df955-3276-4615-9cd8-d8de57bb5462",
   "metadata": {},
   "outputs": [],
   "source": [
    "import matplotlib.pyplot as plt\n",
    "\n",
    "def plot_accuracy(scores, parameters, ind_param):\n",
    "    paramlist = ['number of layers', 'R', 'tau', 'number of neurons']\n",
    "    fig, ax = plt.subplots(figsize=(10,6))\n",
    "    score_previous = 0\n",
    "    for ind in range(len(scores)):\n",
    "        score, tau = scores[ind], parameters[ind][ind_param]\n",
    "        ax.plot(tau, score, '*', color='blue')\n",
    "        ax.set_xlabel(paramlist[ind_param])\n",
    "        ax.set_ylabel('accuracy')\n",
    "        if score>score_previous:\n",
    "            score_previous=score\n",
    "            parameters_previous=parameters[ind]\n",
    "    print(score_previous, parameters_previous)"
   ]
  },
  {
   "cell_type": "code",
   "execution_count": 11,
   "id": "6a0a8ba7-2896-48a0-8899-4cb8bbf8a69e",
   "metadata": {},
   "outputs": [],
   "source": [
    "def plot_accuracy_multi_param(scores, parameters):\n",
    "    fig = plt.figure(figsize=(30,10))\n",
    "    sub1 = fig.add_subplot(1,3,1, projection=\"3d\")\n",
    "    sub2 = fig.add_subplot(1,3,2, projection=\"3d\")\n",
    "    sub3 = fig.add_subplot(1,3,3, projection=\"3d\")\n",
    "    score_previous = 0\n",
    "    colormap = plt.cm.get_cmap('summer_r', 10);\n",
    "    for ind in range(len(scores)):\n",
    "        score, lay, n_neuron, R = scores[ind], parameters[ind][0], parameters[ind][3], parameters[ind][1]\n",
    "        sub1.scatter(n_neuron, lay, score, color=colormap(R/4), alpha=0.5)\n",
    "        sub2.scatter(R, lay, score, color=colormap(n_neuron/16), alpha=0.5)\n",
    "        sub3.scatter(n_neuron, R, score, color=colormap(lay/4), alpha=0.5)\n",
    "        sub1.set_xlabel('neuron number')\n",
    "        sub2.set_xlabel('R')\n",
    "        sub3.set_xlabel('neuron number')\n",
    "        sub1.set_ylabel('layer number')\n",
    "        sub2.set_ylabel('layer number')\n",
    "        sub3.set_ylabel('R')\n",
    "        #sub1.view_init(10,-40)"
   ]
  },
  {
   "cell_type": "code",
   "execution_count": 5,
   "id": "d2151972-6edb-45e7-b8be-2865029b36d9",
   "metadata": {},
   "outputs": [
    {
     "ename": "NameError",
     "evalue": "name 'scores' is not defined",
     "output_type": "error",
     "traceback": [
      "\u001b[0;31m---------------------------------------------------------------------------\u001b[0m",
      "\u001b[0;31mNameError\u001b[0m                                 Traceback (most recent call last)",
      "Input \u001b[0;32mIn [5]\u001b[0m, in \u001b[0;36m<module>\u001b[0;34m\u001b[0m\n\u001b[0;32m----> 1\u001b[0m plot_accuracy_multi_param(\u001b[43mscores\u001b[49m, parameters)\n",
      "\u001b[0;31mNameError\u001b[0m: name 'scores' is not defined"
     ]
    }
   ],
   "source": [
    "plot_accuracy_multi_param(scores, parameters)"
   ]
  },
  {
   "cell_type": "code",
   "execution_count": 13,
   "id": "99551d7f-ac32-4133-816c-fbe43df8b90c",
   "metadata": {},
   "outputs": [
    {
     "name": "stdout",
     "output_type": "stream",
     "text": [
      "0.85625 [2, 2, 10000.0, 16]\n"
     ]
    },
    {
     "data": {
      "image/png": "[encoded data removed]",
      "text/plain": [
       "<Figure size 720x432 with 1 Axes>"
      ]
     },
     "metadata": {
      "needs_background": "light"
     },
     "output_type": "display_data"
    }
   ],
   "source": [
    "plot_accuracy(scores, parameters, 2)"
   ]
  },
  {
   "cell_type": "code",
   "execution_count": 14,
   "id": "310d7a0c-63b5-4fab-9c7e-eff3b58b521a",
   "metadata": {},
   "outputs": [
    {
     "name": "stdout",
     "output_type": "stream",
     "text": [
      "1\n"
     ]
    }
   ],
   "source": [
    "N_layers = [1]\n",
    "for lay in N_layers:\n",
    "    print(lay)"
   ]
  },
  {
   "cell_type": "markdown",
   "id": "c3003c09-348b-4e6b-ad09-e3999f7f4839",
   "metadata": {},
   "source": [
    "## Parameter tuning"
   ]
  },
  {
   "cell_type": "code",
   "execution_count": 7,
   "id": "48bec689-4e76-4f94-88a4-17d944720b27",
   "metadata": {},
   "outputs": [
    {
     "name": "stderr",
     "output_type": "stream",
     "text": [
      "  0%|█▏                                                                                                                                                                                                                                       | 1/200 [00:04<14:05,  4.25s/it]\n"
     ]
    },
    {
     "ename": "KeyboardInterrupt",
     "evalue": "",
     "output_type": "error",
     "traceback": [
      "\u001b[0;31m---------------------------------------------------------------------------\u001b[0m",
      "\u001b[0;31mKeyboardInterrupt\u001b[0m                         Traceback (most recent call last)",
      "Input \u001b[0;32mIn [7]\u001b[0m, in \u001b[0;36m<module>\u001b[0;34m\u001b[0m\n\u001b[1;32m     32\u001b[0m \u001b[38;5;66;03m#clustering\u001b[39;00m\n\u001b[1;32m     33\u001b[0m loader \u001b[38;5;241m=\u001b[39m get_loader(trainset, kfold \u001b[38;5;241m=\u001b[39m \u001b[38;5;241m300\u001b[39m)\n\u001b[0;32m---> 34\u001b[0m \u001b[43mhots\u001b[49m\u001b[38;5;241;43m.\u001b[39;49m\u001b[43mclustering\u001b[49m\u001b[43m(\u001b[49m\u001b[43mloader\u001b[49m\u001b[43m,\u001b[49m\u001b[43m \u001b[49m\u001b[43mtrainset\u001b[49m\u001b[38;5;241;43m.\u001b[39;49m\u001b[43mordering\u001b[49m\u001b[43m,\u001b[49m\u001b[43m \u001b[49m\u001b[43mfiltering_threshold\u001b[49m\u001b[43m)\u001b[49m\n\u001b[1;32m     35\u001b[0m \u001b[38;5;66;03m#training\u001b[39;00m\n\u001b[1;32m     36\u001b[0m loader \u001b[38;5;241m=\u001b[39m get_loader(trainset, kfold \u001b[38;5;241m=\u001b[39m \u001b[38;5;241m60\u001b[39m)\n",
      "File \u001b[0;32m~/homhots/hotsline/hots/network.py:59\u001b[0m, in \u001b[0;36mnetwork.clustering\u001b[0;34m(self, loader, ordering, filtering_threshold, record)\u001b[0m\n\u001b[1;32m     57\u001b[0m \u001b[38;5;28;01mfor\u001b[39;00m L \u001b[38;5;129;01min\u001b[39;00m \u001b[38;5;28mrange\u001b[39m(\u001b[38;5;28mlen\u001b[39m(\u001b[38;5;28mself\u001b[39m\u001b[38;5;241m.\u001b[39mtau)):\n\u001b[1;32m     58\u001b[0m     all_ts, ind_filtered \u001b[38;5;241m=\u001b[39m timesurface(events\u001b[38;5;241m.\u001b[39msqueeze(\u001b[38;5;241m0\u001b[39m), (\u001b[38;5;28mself\u001b[39m\u001b[38;5;241m.\u001b[39msensor_size[\u001b[38;5;241m0\u001b[39m], \u001b[38;5;28mself\u001b[39m\u001b[38;5;241m.\u001b[39msensor_size[\u001b[38;5;241m1\u001b[39m], \u001b[38;5;28mself\u001b[39m\u001b[38;5;241m.\u001b[39mn_pola[L]), ordering, tau \u001b[38;5;241m=\u001b[39m \u001b[38;5;28mself\u001b[39m\u001b[38;5;241m.\u001b[39mtau[L], surface_dimensions\u001b[38;5;241m=\u001b[39m[\u001b[38;5;241m2\u001b[39m\u001b[38;5;241m*\u001b[39m\u001b[38;5;28mself\u001b[39m\u001b[38;5;241m.\u001b[39mR[L]\u001b[38;5;241m+\u001b[39m\u001b[38;5;241m1\u001b[39m,\u001b[38;5;241m2\u001b[39m\u001b[38;5;241m*\u001b[39m\u001b[38;5;28mself\u001b[39m\u001b[38;5;241m.\u001b[39mR[L]\u001b[38;5;241m+\u001b[39m\u001b[38;5;241m1\u001b[39m], filtering_threshold \u001b[38;5;241m=\u001b[39m filtering_threshold[L], device\u001b[38;5;241m=\u001b[39mdevice)\n\u001b[0;32m---> 59\u001b[0m     n_star \u001b[38;5;241m=\u001b[39m \u001b[38;5;28;43mself\u001b[39;49m\u001b[38;5;241;43m.\u001b[39;49m\u001b[43mlayers\u001b[49m\u001b[43m[\u001b[49m\u001b[43mL\u001b[49m\u001b[43m]\u001b[49m\u001b[43m(\u001b[49m\u001b[43mall_ts\u001b[49m\u001b[43m,\u001b[49m\u001b[43m \u001b[49m\u001b[38;5;28;43;01mTrue\u001b[39;49;00m\u001b[43m)\u001b[49m\n\u001b[1;32m     60\u001b[0m     \u001b[38;5;28;01mif\u001b[39;00m ind_filtered \u001b[38;5;129;01mis\u001b[39;00m \u001b[38;5;129;01mnot\u001b[39;00m \u001b[38;5;28;01mNone\u001b[39;00m:\n\u001b[1;32m     61\u001b[0m         events \u001b[38;5;241m=\u001b[39m events[:,ind_filtered,:]\n",
      "File \u001b[0;32m~/.local/lib/python3.8/site-packages/torch/nn/modules/module.py:1110\u001b[0m, in \u001b[0;36mModule._call_impl\u001b[0;34m(self, *input, **kwargs)\u001b[0m\n\u001b[1;32m   1106\u001b[0m \u001b[38;5;66;03m# If we don't have any hooks, we want to skip the rest of the logic in\u001b[39;00m\n\u001b[1;32m   1107\u001b[0m \u001b[38;5;66;03m# this function, and just call forward.\u001b[39;00m\n\u001b[1;32m   1108\u001b[0m \u001b[38;5;28;01mif\u001b[39;00m \u001b[38;5;129;01mnot\u001b[39;00m (\u001b[38;5;28mself\u001b[39m\u001b[38;5;241m.\u001b[39m_backward_hooks \u001b[38;5;129;01mor\u001b[39;00m \u001b[38;5;28mself\u001b[39m\u001b[38;5;241m.\u001b[39m_forward_hooks \u001b[38;5;129;01mor\u001b[39;00m \u001b[38;5;28mself\u001b[39m\u001b[38;5;241m.\u001b[39m_forward_pre_hooks \u001b[38;5;129;01mor\u001b[39;00m _global_backward_hooks\n\u001b[1;32m   1109\u001b[0m         \u001b[38;5;129;01mor\u001b[39;00m _global_forward_hooks \u001b[38;5;129;01mor\u001b[39;00m _global_forward_pre_hooks):\n\u001b[0;32m-> 1110\u001b[0m     \u001b[38;5;28;01mreturn\u001b[39;00m \u001b[43mforward_call\u001b[49m\u001b[43m(\u001b[49m\u001b[38;5;241;43m*\u001b[39;49m\u001b[38;5;28;43minput\u001b[39;49m\u001b[43m,\u001b[49m\u001b[43m \u001b[49m\u001b[38;5;241;43m*\u001b[39;49m\u001b[38;5;241;43m*\u001b[39;49m\u001b[43mkwargs\u001b[49m\u001b[43m)\u001b[49m\n\u001b[1;32m   1111\u001b[0m \u001b[38;5;66;03m# Do not call functions when jit is used\u001b[39;00m\n\u001b[1;32m   1112\u001b[0m full_backward_hooks, non_full_backward_hooks \u001b[38;5;241m=\u001b[39m [], []\n",
      "File \u001b[0;32m~/homhots/hotsline/hots/layer.py:31\u001b[0m, in \u001b[0;36mhotslayer.forward\u001b[0;34m(self, all_ts, clustering_flag)\u001b[0m\n\u001b[1;32m     29\u001b[0m Ck \u001b[38;5;241m=\u001b[39m \u001b[38;5;28mself\u001b[39m\u001b[38;5;241m.\u001b[39msynapses\u001b[38;5;241m.\u001b[39mweight\u001b[38;5;241m.\u001b[39mdata[n_star_ev,:]\n\u001b[1;32m     30\u001b[0m alpha \u001b[38;5;241m=\u001b[39m \u001b[38;5;241m0.01\u001b[39m\u001b[38;5;241m/\u001b[39m(\u001b[38;5;241m1\u001b[39m\u001b[38;5;241m+\u001b[39m\u001b[38;5;28mself\u001b[39m\u001b[38;5;241m.\u001b[39mcumhisto[n_star_ev]\u001b[38;5;241m/\u001b[39m\u001b[38;5;241m20000\u001b[39m)\n\u001b[0;32m---> 31\u001b[0m \u001b[38;5;28mself\u001b[39m\u001b[38;5;241m.\u001b[39msynapses\u001b[38;5;241m.\u001b[39mweight\u001b[38;5;241m.\u001b[39mdata[n_star_ev,:] \u001b[38;5;241m=\u001b[39m Ck \u001b[38;5;241m+\u001b[39m \u001b[43malpha\u001b[49m\u001b[38;5;241;43m*\u001b[39;49m\u001b[43mbeta\u001b[49m\u001b[43m[\u001b[49m\u001b[43mn_star_ev\u001b[49m\u001b[43m]\u001b[49m\u001b[38;5;241m*\u001b[39m(ts \u001b[38;5;241m-\u001b[39m Ck)\n\u001b[1;32m     32\u001b[0m \u001b[38;5;66;03m# learning rule from Lagorce 2017\u001b[39;00m\n\u001b[1;32m     33\u001b[0m \u001b[38;5;66;03m#self.synapses[:,n_star] = Ck + alpha*(TS - simil[closest_proto_idx]*Ck)\u001b[39;00m\n\u001b[1;32m     34\u001b[0m \u001b[38;5;28mself\u001b[39m\u001b[38;5;241m.\u001b[39mcumhisto[n_star_ev] \u001b[38;5;241m+\u001b[39m\u001b[38;5;241m=\u001b[39m \u001b[38;5;241m1\u001b[39m\n",
      "\u001b[0;31mKeyboardInterrupt\u001b[0m: "
     ]
    }
   ],
   "source": [
    "transform = tonic.transforms.NumpyAsType(int)\n",
    "trainset = tonic.datasets.NMNIST(save_to='../../Data/', train=True, transform=transform, first_saccade_only=True)\n",
    "testset = tonic.datasets.NMNIST(save_to='../../Data/', train=False, transform=transform, first_saccade_only=True)\n",
    "\n",
    "name = 'homeohots'\n",
    "homeo = True\n",
    "timestr = '2022-04-22'\n",
    "dataset_name = 'nmnist'\n",
    "\n",
    "R_first = (2, 4)\n",
    "N_layers = (2,3)#,4)\n",
    "n_first = (4,8,16)\n",
    "tau_first = (.5e3,1e3,2e3,3e3,4e3,5e3,5e3,6e3,7e3,8e3,9e3)#,1e4)\n",
    "\n",
    "tau = 8e3\n",
    "\n",
    "parameters = []\n",
    "scores = []\n",
    "\n",
    "for lay in N_layers:\n",
    "    for R in R_first:\n",
    "        #for tau in tau_first:\n",
    "        for N_neuron in n_first:\n",
    "            Rz = [R*2**Nl for Nl in range(lay)]\n",
    "            N_neuronz = [N_neuron*2**Nl for Nl in range(lay)]\n",
    "            N_pola = N_neuronz.copy()\n",
    "            N_pola.insert(0,2)\n",
    "            tauz = [tau*N_pola[Nl+1]/N_pola[Nl] for Nl in range(lay-1)]\n",
    "            tauz.insert(0,tau*2)\n",
    "            hots = network(name, dataset_name, timestr, trainset.sensor_size, nb_neurons = N_neuronz, tau = tauz, R = Rz, homeo = homeo)\n",
    "            filtering_threshold = [2*Rz[L] for L in range(len(Rz))]\n",
    "            #clustering\n",
    "            loader = get_loader(trainset, kfold = 300)\n",
    "            hots.clustering(loader, trainset.ordering, filtering_threshold)\n",
    "            #training\n",
    "            loader = get_loader(trainset, kfold = 60)\n",
    "            num_sample_train = len(loader)\n",
    "            hots.coding(loader, trainset.ordering, trainset.classes, filtering_threshold, training=True)\n",
    "            #testing\n",
    "            loader = get_loader(testset, kfold = 60)\n",
    "            num_sample_test = len(loader)\n",
    "            hots.coding(loader, trainset.ordering, trainset.classes, filtering_threshold, training=False)\n",
    "            jitter = (None, None)\n",
    "\n",
    "            train_path = f'../Records/output/train/{hots.name}_{num_sample_train}_{jitter}/'\n",
    "            test_path = f'../Records/output/test/{hots.name}_{num_sample_test}_{jitter}/'\n",
    "\n",
    "            testset_output = HOTS_Dataset(test_path, trainset.sensor_size, transform=tonic.transforms.NumpyAsType(int))\n",
    "            trainset_output = HOTS_Dataset(train_path, trainset.sensor_size, transform=tonic.transforms.NumpyAsType(int))\n",
    "\n",
    "            score = make_histogram_classification(trainset_output, testset_output, N_neuronz[-1])\n",
    "            print(f' Accuracy: {score*100}%')\n",
    "\n",
    "            parameters.append([lay, R, tau, N_neuron])\n",
    "            scores.append(score)"
   ]
  },
  {
   "cell_type": "code",
   "execution_count": 12,
   "id": "93504ddf-c444-4494-becb-a6b3b9b516f5",
   "metadata": {},
   "outputs": [
    {
     "name": "stdout",
     "output_type": "stream",
     "text": [
      "this dataset have already been processed, check at: \n",
      " ../Records/output/train/2022-04-22_nmnist_homeohots_True_[16, 32]_[1000.0, 4000.0]_[2, 4]_1000_(None, None)/\n",
      "this dataset have already been processed, check at: \n",
      " ../Records/output/test/2022-04-22_nmnist_homeohots_True_[16, 32]_[1000.0, 4000.0]_[2, 4]_160_(None, None)/\n",
      "['4 - four', '9 - nine', '0 - zero', '1 - one', '5 - five', '6 - six', '8 - eight', '7 - seven', '3 - three', '2 - two'] ['4 - four', '9 - nine', '0 - zero', '1 - one', '5 - five', '6 - six', '8 - eight', '7 - seven', '3 - three', '2 - two']\n"
     ]
    },
    {
     "name": "stderr",
     "output_type": "stream",
     "text": [
      "100%|███████████████████████████████████████████████████████████████████████████████████████████████████████████████████████████████████████████████████████████████████████████████████████████████████████████████████████████████████| 1000/1000 [00:00<00:00, 1009.44it/s]\n",
      "100%|██████████████████████████████████████████████████████████████████████████████████████████████████████████████████████████████████████████████████████████████████████████████████████████████████████████████████████████████████████| 160/160 [00:00<00:00, 672.44it/s]\n"
     ]
    },
    {
     "name": "stdout",
     "output_type": "stream",
     "text": [
      " Accuracy: 10.0%\n",
      "this dataset have already been processed, check at: \n",
      " ../Records/output/train/2022-04-22_nmnist_homeohots_True_[16, 32]_[2000.0, 8000.0]_[2, 4]_1000_(None, None)/\n",
      "this dataset have already been processed, check at: \n",
      " ../Records/output/test/2022-04-22_nmnist_homeohots_True_[16, 32]_[2000.0, 8000.0]_[2, 4]_160_(None, None)/\n",
      "['4 - four', '9 - nine', '0 - zero', '1 - one', '5 - five', '6 - six', '8 - eight', '7 - seven', '3 - three', '2 - two'] ['4 - four', '9 - nine', '0 - zero', '1 - one', '5 - five', '6 - six', '8 - eight', '7 - seven', '3 - three', '2 - two']\n"
     ]
    },
    {
     "name": "stderr",
     "output_type": "stream",
     "text": [
      "100%|████████████████████████████████████████████████████████████████████████████████████████████████████████████████████████████████████████████████████████████████████████████████████████████████████████████████████████████████████| 1000/1000 [00:01<00:00, 979.39it/s]\n",
      "100%|██████████████████████████████████████████████████████████████████████████████████████████████████████████████████████████████████████████████████████████████████████████████████████████████████████████████████████████████████████| 160/160 [00:00<00:00, 658.92it/s]\n"
     ]
    },
    {
     "name": "stdout",
     "output_type": "stream",
     "text": [
      " Accuracy: 38.125%\n",
      "this dataset have already been processed, check at: \n",
      " ../Records/output/train/2022-04-22_nmnist_homeohots_True_[16, 32]_[4000.0, 16000.0]_[2, 4]_1000_(None, None)/\n",
      "this dataset have already been processed, check at: \n",
      " ../Records/output/test/2022-04-22_nmnist_homeohots_True_[16, 32]_[4000.0, 16000.0]_[2, 4]_160_(None, None)/\n",
      "['4 - four', '9 - nine', '0 - zero', '1 - one', '5 - five', '6 - six', '8 - eight', '7 - seven', '3 - three', '2 - two'] ['4 - four', '9 - nine', '0 - zero', '1 - one', '5 - five', '6 - six', '8 - eight', '7 - seven', '3 - three', '2 - two']\n"
     ]
    },
    {
     "name": "stderr",
     "output_type": "stream",
     "text": [
      "100%|███████████████████████████████████████████████████████████████████████████████████████████████████████████████████████████████████████████████████████████████████████████████████████████████████████████████████████████████████| 1000/1000 [00:00<00:00, 1062.66it/s]\n",
      "100%|██████████████████████████████████████████████████████████████████████████████████████████████████████████████████████████████████████████████████████████████████████████████████████████████████████████████████████████████████████| 160/160 [00:00<00:00, 659.63it/s]\n"
     ]
    },
    {
     "name": "stdout",
     "output_type": "stream",
     "text": [
      " Accuracy: 70.625%\n",
      "this dataset have already been processed, check at: \n",
      " ../Records/output/train/2022-04-22_nmnist_homeohots_True_[16, 32]_[6000.0, 24000.0]_[2, 4]_1000_(None, None)/\n",
      "this dataset have already been processed, check at: \n",
      " ../Records/output/test/2022-04-22_nmnist_homeohots_True_[16, 32]_[6000.0, 24000.0]_[2, 4]_160_(None, None)/\n",
      "['4 - four', '9 - nine', '0 - zero', '1 - one', '5 - five', '6 - six', '8 - eight', '7 - seven', '3 - three', '2 - two'] ['4 - four', '9 - nine', '0 - zero', '1 - one', '5 - five', '6 - six', '8 - eight', '7 - seven', '3 - three', '2 - two']\n"
     ]
    },
    {
     "name": "stderr",
     "output_type": "stream",
     "text": [
      "100%|███████████████████████████████████████████████████████████████████████████████████████████████████████████████████████████████████████████████████████████████████████████████████████████████████████████████████████████████████| 1000/1000 [00:00<00:00, 1045.52it/s]\n",
      "100%|██████████████████████████████████████████████████████████████████████████████████████████████████████████████████████████████████████████████████████████████████████████████████████████████████████████████████████████████████████| 160/160 [00:00<00:00, 680.34it/s]\n"
     ]
    },
    {
     "name": "stdout",
     "output_type": "stream",
     "text": [
      " Accuracy: 75.625%\n",
      "this dataset have already been processed, check at: \n",
      " ../Records/output/train/2022-04-22_nmnist_homeohots_True_[16, 32]_[8000.0, 32000.0]_[2, 4]_1000_(None, None)/\n",
      "this dataset have already been processed, check at: \n",
      " ../Records/output/test/2022-04-22_nmnist_homeohots_True_[16, 32]_[8000.0, 32000.0]_[2, 4]_160_(None, None)/\n",
      "['4 - four', '9 - nine', '0 - zero', '1 - one', '5 - five', '6 - six', '8 - eight', '7 - seven', '3 - three', '2 - two'] ['4 - four', '9 - nine', '0 - zero', '1 - one', '5 - five', '6 - six', '8 - eight', '7 - seven', '3 - three', '2 - two']\n"
     ]
    },
    {
     "name": "stderr",
     "output_type": "stream",
     "text": [
      "100%|███████████████████████████████████████████████████████████████████████████████████████████████████████████████████████████████████████████████████████████████████████████████████████████████████████████████████████████████████| 1000/1000 [00:00<00:00, 1038.06it/s]\n",
      "100%|██████████████████████████████████████████████████████████████████████████████████████████████████████████████████████████████████████████████████████████████████████████████████████████████████████████████████████████████████████| 160/160 [00:00<00:00, 675.64it/s]\n"
     ]
    },
    {
     "name": "stdout",
     "output_type": "stream",
     "text": [
      " Accuracy: 71.875%\n",
      "this dataset have already been processed, check at: \n",
      " ../Records/output/train/2022-04-22_nmnist_homeohots_True_[16, 32]_[10000.0, 40000.0]_[2, 4]_1000_(None, None)/\n",
      "this dataset have already been processed, check at: \n",
      " ../Records/output/test/2022-04-22_nmnist_homeohots_True_[16, 32]_[10000.0, 40000.0]_[2, 4]_160_(None, None)/\n",
      "['4 - four', '9 - nine', '0 - zero', '1 - one', '5 - five', '6 - six', '8 - eight', '7 - seven', '3 - three', '2 - two'] ['4 - four', '9 - nine', '0 - zero', '1 - one', '5 - five', '6 - six', '8 - eight', '7 - seven', '3 - three', '2 - two']\n"
     ]
    },
    {
     "name": "stderr",
     "output_type": "stream",
     "text": [
      "100%|███████████████████████████████████████████████████████████████████████████████████████████████████████████████████████████████████████████████████████████████████████████████████████████████████████████████████████████████████| 1000/1000 [00:00<00:00, 1031.85it/s]\n",
      "100%|██████████████████████████████████████████████████████████████████████████████████████████████████████████████████████████████████████████████████████████████████████████████████████████████████████████████████████████████████████| 160/160 [00:00<00:00, 696.97it/s]\n"
     ]
    },
    {
     "name": "stdout",
     "output_type": "stream",
     "text": [
      " Accuracy: 76.25%\n",
      "this dataset have already been processed, check at: \n",
      " ../Records/output/train/2022-04-22_nmnist_homeohots_True_[16, 32]_[10000.0, 40000.0]_[2, 4]_1000_(None, None)/\n",
      "this dataset have already been processed, check at: \n",
      " ../Records/output/test/2022-04-22_nmnist_homeohots_True_[16, 32]_[10000.0, 40000.0]_[2, 4]_160_(None, None)/\n",
      "['4 - four', '9 - nine', '0 - zero', '1 - one', '5 - five', '6 - six', '8 - eight', '7 - seven', '3 - three', '2 - two'] ['4 - four', '9 - nine', '0 - zero', '1 - one', '5 - five', '6 - six', '8 - eight', '7 - seven', '3 - three', '2 - two']\n"
     ]
    },
    {
     "name": "stderr",
     "output_type": "stream",
     "text": [
      "100%|███████████████████████████████████████████████████████████████████████████████████████████████████████████████████████████████████████████████████████████████████████████████████████████████████████████████████████████████████| 1000/1000 [00:00<00:00, 1026.70it/s]\n",
      "100%|██████████████████████████████████████████████████████████████████████████████████████████████████████████████████████████████████████████████████████████████████████████████████████████████████████████████████████████████████████| 160/160 [00:00<00:00, 675.60it/s]\n"
     ]
    },
    {
     "name": "stdout",
     "output_type": "stream",
     "text": [
      " Accuracy: 76.25%\n",
      "this dataset have already been processed, check at: \n",
      " ../Records/output/train/2022-04-22_nmnist_homeohots_True_[16, 32]_[12000.0, 48000.0]_[2, 4]_1000_(None, None)/\n",
      "this dataset have already been processed, check at: \n",
      " ../Records/output/test/2022-04-22_nmnist_homeohots_True_[16, 32]_[12000.0, 48000.0]_[2, 4]_160_(None, None)/\n",
      "['4 - four', '9 - nine', '0 - zero', '1 - one', '5 - five', '6 - six', '8 - eight', '7 - seven', '3 - three', '2 - two'] ['4 - four', '9 - nine', '0 - zero', '1 - one', '5 - five', '6 - six', '8 - eight', '7 - seven', '3 - three', '2 - two']\n"
     ]
    },
    {
     "name": "stderr",
     "output_type": "stream",
     "text": [
      "100%|███████████████████████████████████████████████████████████████████████████████████████████████████████████████████████████████████████████████████████████████████████████████████████████████████████████████████████████████████| 1000/1000 [00:00<00:00, 1061.09it/s]\n",
      "100%|██████████████████████████████████████████████████████████████████████████████████████████████████████████████████████████████████████████████████████████████████████████████████████████████████████████████████████████████████████| 160/160 [00:00<00:00, 668.42it/s]\n"
     ]
    },
    {
     "name": "stdout",
     "output_type": "stream",
     "text": [
      " Accuracy: 76.25%\n",
      "this dataset have already been processed, check at: \n",
      " ../Records/output/train/2022-04-22_nmnist_homeohots_True_[16, 32]_[14000.0, 56000.0]_[2, 4]_1000_(None, None)/\n",
      "this dataset have already been processed, check at: \n",
      " ../Records/output/test/2022-04-22_nmnist_homeohots_True_[16, 32]_[14000.0, 56000.0]_[2, 4]_160_(None, None)/\n",
      "['4 - four', '9 - nine', '0 - zero', '1 - one', '5 - five', '6 - six', '8 - eight', '7 - seven', '3 - three', '2 - two'] ['4 - four', '9 - nine', '0 - zero', '1 - one', '5 - five', '6 - six', '8 - eight', '7 - seven', '3 - three', '2 - two']\n"
     ]
    },
    {
     "name": "stderr",
     "output_type": "stream",
     "text": [
      "100%|███████████████████████████████████████████████████████████████████████████████████████████████████████████████████████████████████████████████████████████████████████████████████████████████████████████████████████████████████| 1000/1000 [00:00<00:00, 1017.59it/s]\n",
      "100%|██████████████████████████████████████████████████████████████████████████████████████████████████████████████████████████████████████████████████████████████████████████████████████████████████████████████████████████████████████| 160/160 [00:00<00:00, 672.69it/s]\n"
     ]
    },
    {
     "name": "stdout",
     "output_type": "stream",
     "text": [
      " Accuracy: 76.875%\n",
      "this dataset have already been processed, check at: \n",
      " ../Records/output/train/2022-04-22_nmnist_homeohots_True_[16, 32]_[16000.0, 64000.0]_[2, 4]_1000_(None, None)/\n",
      "this dataset have already been processed, check at: \n",
      " ../Records/output/test/2022-04-22_nmnist_homeohots_True_[16, 32]_[16000.0, 64000.0]_[2, 4]_160_(None, None)/\n",
      "['4 - four', '9 - nine', '0 - zero', '1 - one', '5 - five', '6 - six', '8 - eight', '7 - seven', '3 - three', '2 - two'] ['4 - four', '9 - nine', '0 - zero', '1 - one', '5 - five', '6 - six', '8 - eight', '7 - seven', '3 - three', '2 - two']\n"
     ]
    },
    {
     "name": "stderr",
     "output_type": "stream",
     "text": [
      "100%|███████████████████████████████████████████████████████████████████████████████████████████████████████████████████████████████████████████████████████████████████████████████████████████████████████████████████████████████████| 1000/1000 [00:00<00:00, 1018.22it/s]\n",
      "100%|██████████████████████████████████████████████████████████████████████████████████████████████████████████████████████████████████████████████████████████████████████████████████████████████████████████████████████████████████████| 160/160 [00:00<00:00, 672.13it/s]\n"
     ]
    },
    {
     "name": "stdout",
     "output_type": "stream",
     "text": [
      " Accuracy: 80.625%\n",
      "this dataset have already been processed, check at: \n",
      " ../Records/output/train/2022-04-22_nmnist_homeohots_True_[16, 32]_[18000.0, 72000.0]_[2, 4]_1000_(None, None)/\n",
      "this dataset have already been processed, check at: \n",
      " ../Records/output/test/2022-04-22_nmnist_homeohots_True_[16, 32]_[18000.0, 72000.0]_[2, 4]_160_(None, None)/\n",
      "['4 - four', '9 - nine', '0 - zero', '1 - one', '5 - five', '6 - six', '8 - eight', '7 - seven', '3 - three', '2 - two'] ['4 - four', '9 - nine', '0 - zero', '1 - one', '5 - five', '6 - six', '8 - eight', '7 - seven', '3 - three', '2 - two']\n"
     ]
    },
    {
     "name": "stderr",
     "output_type": "stream",
     "text": [
      "100%|███████████████████████████████████████████████████████████████████████████████████████████████████████████████████████████████████████████████████████████████████████████████████████████████████████████████████████████████████| 1000/1000 [00:00<00:00, 1033.47it/s]\n",
      "100%|██████████████████████████████████████████████████████████████████████████████████████████████████████████████████████████████████████████████████████████████████████████████████████████████████████████████████████████████████████| 160/160 [00:00<00:00, 667.05it/s]\n"
     ]
    },
    {
     "name": "stdout",
     "output_type": "stream",
     "text": [
      " Accuracy: 82.5%\n",
      "this dataset have already been processed, check at: \n",
      " ../Records/output/train/2022-04-22_nmnist_homeohots_True_[16, 32]_[20000.0, 80000.0]_[2, 4]_1000_(None, None)/\n",
      "this dataset have already been processed, check at: \n",
      " ../Records/output/test/2022-04-22_nmnist_homeohots_True_[16, 32]_[20000.0, 80000.0]_[2, 4]_160_(None, None)/\n",
      "['4 - four', '9 - nine', '0 - zero', '1 - one', '5 - five', '6 - six', '8 - eight', '7 - seven', '3 - three', '2 - two'] ['4 - four', '9 - nine', '0 - zero', '1 - one', '5 - five', '6 - six', '8 - eight', '7 - seven', '3 - three', '2 - two']\n"
     ]
    },
    {
     "name": "stderr",
     "output_type": "stream",
     "text": [
      "100%|███████████████████████████████████████████████████████████████████████████████████████████████████████████████████████████████████████████████████████████████████████████████████████████████████████████████████████████████████| 1000/1000 [00:00<00:00, 1056.52it/s]\n",
      "100%|██████████████████████████████████████████████████████████████████████████████████████████████████████████████████████████████████████████████████████████████████████████████████████████████████████████████████████████████████████| 160/160 [00:00<00:00, 643.87it/s]\n"
     ]
    },
    {
     "name": "stdout",
     "output_type": "stream",
     "text": [
      " Accuracy: 85.625%\n",
      "this dataset have already been processed, check at: \n",
      " ../Records/output/train/2022-04-22_nmnist_homeohots_True_[16, 32]_[30000.0, 120000.0]_[2, 4]_1000_(None, None)/\n",
      "this dataset have already been processed, check at: \n",
      " ../Records/output/test/2022-04-22_nmnist_homeohots_True_[16, 32]_[30000.0, 120000.0]_[2, 4]_160_(None, None)/\n",
      "['4 - four', '9 - nine', '0 - zero', '1 - one', '5 - five', '6 - six', '8 - eight', '7 - seven', '3 - three', '2 - two'] ['4 - four', '9 - nine', '0 - zero', '1 - one', '5 - five', '6 - six', '8 - eight', '7 - seven', '3 - three', '2 - two']\n"
     ]
    },
    {
     "name": "stderr",
     "output_type": "stream",
     "text": [
      "100%|███████████████████████████████████████████████████████████████████████████████████████████████████████████████████████████████████████████████████████████████████████████████████████████████████████████████████████████████████| 1000/1000 [00:00<00:00, 1041.24it/s]\n",
      "100%|██████████████████████████████████████████████████████████████████████████████████████████████████████████████████████████████████████████████████████████████████████████████████████████████████████████████████████████████████████| 160/160 [00:00<00:00, 661.82it/s]\n"
     ]
    },
    {
     "name": "stdout",
     "output_type": "stream",
     "text": [
      " Accuracy: 79.375%\n",
      "this dataset have already been processed, check at: \n",
      " ../Records/output/train/2022-04-22_nmnist_homeohots_True_[16, 32]_[40000.0, 160000.0]_[2, 4]_1000_(None, None)/\n",
      "this dataset have already been processed, check at: \n",
      " ../Records/output/test/2022-04-22_nmnist_homeohots_True_[16, 32]_[40000.0, 160000.0]_[2, 4]_160_(None, None)/\n",
      "['4 - four', '9 - nine', '0 - zero', '1 - one', '5 - five', '6 - six', '8 - eight', '7 - seven', '3 - three', '2 - two'] ['4 - four', '9 - nine', '0 - zero', '1 - one', '5 - five', '6 - six', '8 - eight', '7 - seven', '3 - three', '2 - two']\n"
     ]
    },
    {
     "name": "stderr",
     "output_type": "stream",
     "text": [
      "100%|███████████████████████████████████████████████████████████████████████████████████████████████████████████████████████████████████████████████████████████████████████████████████████████████████████████████████████████████████| 1000/1000 [00:00<00:00, 1034.14it/s]\n",
      "100%|██████████████████████████████████████████████████████████████████████████████████████████████████████████████████████████████████████████████████████████████████████████████████████████████████████████████████████████████████████| 160/160 [00:00<00:00, 665.96it/s]\n"
     ]
    },
    {
     "name": "stdout",
     "output_type": "stream",
     "text": [
      " Accuracy: 78.75%\n",
      "this dataset have already been processed, check at: \n",
      " ../Records/output/train/2022-04-22_nmnist_homeohots_True_[16, 32]_[50000.0, 200000.0]_[2, 4]_1000_(None, None)/\n",
      "this dataset have already been processed, check at: \n",
      " ../Records/output/test/2022-04-22_nmnist_homeohots_True_[16, 32]_[50000.0, 200000.0]_[2, 4]_160_(None, None)/\n",
      "['4 - four', '9 - nine', '0 - zero', '1 - one', '5 - five', '6 - six', '8 - eight', '7 - seven', '3 - three', '2 - two'] ['4 - four', '9 - nine', '0 - zero', '1 - one', '5 - five', '6 - six', '8 - eight', '7 - seven', '3 - three', '2 - two']\n"
     ]
    },
    {
     "name": "stderr",
     "output_type": "stream",
     "text": [
      "100%|███████████████████████████████████████████████████████████████████████████████████████████████████████████████████████████████████████████████████████████████████████████████████████████████████████████████████████████████████| 1000/1000 [00:00<00:00, 1021.69it/s]\n",
      "100%|██████████████████████████████████████████████████████████████████████████████████████████████████████████████████████████████████████████████████████████████████████████████████████████████████████████████████████████████████████| 160/160 [00:00<00:00, 669.59it/s]\n"
     ]
    },
    {
     "name": "stdout",
     "output_type": "stream",
     "text": [
      " Accuracy: 74.375%\n",
      "this dataset have already been processed, check at: \n",
      " ../Records/output/train/2022-04-22_nmnist_homeohots_True_[16, 32]_[60000.0, 240000.0]_[2, 4]_1000_(None, None)/\n",
      "this dataset have already been processed, check at: \n",
      " ../Records/output/test/2022-04-22_nmnist_homeohots_True_[16, 32]_[60000.0, 240000.0]_[2, 4]_160_(None, None)/\n",
      "['4 - four', '9 - nine', '0 - zero', '1 - one', '5 - five', '6 - six', '8 - eight', '7 - seven', '3 - three', '2 - two'] ['4 - four', '9 - nine', '0 - zero', '1 - one', '5 - five', '6 - six', '8 - eight', '7 - seven', '3 - three', '2 - two']\n"
     ]
    },
    {
     "name": "stderr",
     "output_type": "stream",
     "text": [
      "100%|███████████████████████████████████████████████████████████████████████████████████████████████████████████████████████████████████████████████████████████████████████████████████████████████████████████████████████████████████| 1000/1000 [00:00<00:00, 1017.59it/s]\n",
      "100%|██████████████████████████████████████████████████████████████████████████████████████████████████████████████████████████████████████████████████████████████████████████████████████████████████████████████████████████████████████| 160/160 [00:00<00:00, 666.19it/s]\n"
     ]
    },
    {
     "name": "stdout",
     "output_type": "stream",
     "text": [
      " Accuracy: 76.875%\n",
      "this dataset have already been processed, check at: \n",
      " ../Records/output/train/2022-04-22_nmnist_homeohots_True_[16, 32]_[80000.0, 320000.0]_[2, 4]_1000_(None, None)/\n",
      "this dataset have already been processed, check at: \n",
      " ../Records/output/test/2022-04-22_nmnist_homeohots_True_[16, 32]_[80000.0, 320000.0]_[2, 4]_160_(None, None)/\n",
      "['4 - four', '9 - nine', '0 - zero', '1 - one', '5 - five', '6 - six', '8 - eight', '7 - seven', '3 - three', '2 - two'] ['4 - four', '9 - nine', '0 - zero', '1 - one', '5 - five', '6 - six', '8 - eight', '7 - seven', '3 - three', '2 - two']\n"
     ]
    },
    {
     "name": "stderr",
     "output_type": "stream",
     "text": [
      "100%|███████████████████████████████████████████████████████████████████████████████████████████████████████████████████████████████████████████████████████████████████████████████████████████████████████████████████████████████████| 1000/1000 [00:00<00:00, 1027.28it/s]\n",
      "100%|██████████████████████████████████████████████████████████████████████████████████████████████████████████████████████████████████████████████████████████████████████████████████████████████████████████████████████████████████████| 160/160 [00:00<00:00, 669.44it/s]\n"
     ]
    },
    {
     "name": "stdout",
     "output_type": "stream",
     "text": [
      " Accuracy: 75.0%\n",
      "this dataset have already been processed, check at: \n",
      " ../Records/output/train/2022-04-22_nmnist_homeohots_True_[16, 32]_[100000.0, 400000.0]_[2, 4]_1000_(None, None)/\n",
      "this dataset have already been processed, check at: \n",
      " ../Records/output/test/2022-04-22_nmnist_homeohots_True_[16, 32]_[100000.0, 400000.0]_[2, 4]_160_(None, None)/\n",
      "['4 - four', '9 - nine', '0 - zero', '1 - one', '5 - five', '6 - six', '8 - eight', '7 - seven', '3 - three', '2 - two'] ['4 - four', '9 - nine', '0 - zero', '1 - one', '5 - five', '6 - six', '8 - eight', '7 - seven', '3 - three', '2 - two']\n"
     ]
    },
    {
     "name": "stderr",
     "output_type": "stream",
     "text": [
      "100%|███████████████████████████████████████████████████████████████████████████████████████████████████████████████████████████████████████████████████████████████████████████████████████████████████████████████████████████████████| 1000/1000 [00:00<00:00, 1022.91it/s]\n",
      "100%|██████████████████████████████████████████████████████████████████████████████████████████████████████████████████████████████████████████████████████████████████████████████████████████████████████████████████████████████████████| 160/160 [00:00<00:00, 668.39it/s]"
     ]
    },
    {
     "name": "stdout",
     "output_type": "stream",
     "text": [
      " Accuracy: 76.25%\n"
     ]
    },
    {
     "name": "stderr",
     "output_type": "stream",
     "text": [
      "\n"
     ]
    }
   ],
   "source": [
    "transform = tonic.transforms.NumpyAsType(int)\n",
    "trainset = tonic.datasets.NMNIST(save_to='../../Data/', train=True, transform=transform, first_saccade_only=True)\n",
    "testset = tonic.datasets.NMNIST(save_to='../../Data/', train=False, transform=transform, first_saccade_only=True)\n",
    "\n",
    "name = 'homeohots'\n",
    "homeo = True\n",
    "timestr = '2022-04-22'\n",
    "dataset_name = 'nmnist'\n",
    "\n",
    "tau_first = (.5e3,1e3,2e3,3e3,4e3,5e3,5e3,6e3,7e3,8e3,9e3,1e4,15e3,2e4,25e3,3e4,4e4,5e4)\n",
    "\n",
    "parameters = []\n",
    "scores = []\n",
    "\n",
    "tau = 1e4\n",
    "lay = 2\n",
    "R = 2\n",
    "N_neuron = 16\n",
    "for tau in tau_first:\n",
    "        Rz = [R*2**Nl for Nl in range(lay)]\n",
    "        N_neuronz = [N_neuron*2**Nl for Nl in range(lay)]\n",
    "        N_pola = N_neuronz.copy()\n",
    "        N_pola.insert(0,2)\n",
    "        tauz = [tau*N_pola[Nl+1]/N_pola[Nl] for Nl in range(lay-1)]\n",
    "        tauz.insert(0,tau*2)\n",
    "        hots = network(name, dataset_name, timestr, trainset.sensor_size, nb_neurons = N_neuronz, tau = tauz, R = Rz, homeo = homeo)\n",
    "        filtering_threshold = [2*Rz[L] for L in range(len(Rz))]\n",
    "        #clustering\n",
    "        loader = get_loader(trainset, kfold = 300)\n",
    "        hots.clustering(loader, trainset.ordering, filtering_threshold)\n",
    "        #training\n",
    "        loader = get_loader(trainset, kfold = 60)\n",
    "        num_sample_train = len(loader)\n",
    "        hots.coding(loader, trainset.ordering, trainset.classes, filtering_threshold, training=True)\n",
    "        #testing\n",
    "        loader = get_loader(testset, kfold = 60)\n",
    "        num_sample_test = len(loader)\n",
    "        hots.coding(loader, trainset.ordering, trainset.classes, filtering_threshold, training=False)\n",
    "        jitter = (None, None)\n",
    "\n",
    "        train_path = f'../Records/output/train/{hots.name}_{num_sample_train}_{jitter}/'\n",
    "        test_path = f'../Records/output/test/{hots.name}_{num_sample_test}_{jitter}/'\n",
    "\n",
    "        testset_output = HOTS_Dataset(test_path, trainset.sensor_size, transform=tonic.transforms.NumpyAsType(int))\n",
    "        trainset_output = HOTS_Dataset(train_path, trainset.sensor_size, transform=tonic.transforms.NumpyAsType(int))\n",
    "\n",
    "        score = make_histogram_classification(trainset_output, testset_output, N_neuronz[-1])\n",
    "        print(f' Accuracy: {score*100}%')\n",
    "\n",
    "        parameters.append([lay, R, tau, N_neuron])\n",
    "        scores.append(score)"
   ]
  },
  {
   "cell_type": "markdown",
   "id": "4af301a7-bf8c-4b33-b08a-6696d2acf7a3",
   "metadata": {},
   "source": [
    "### Choice of an architecture\n",
    "Initial choice is to have an increased number of neurons with 3 layers. "
   ]
  },
  {
   "cell_type": "code",
   "execution_count": null,
   "id": "cdb1ff32-264f-4bec-81a2-45ff45207363",
   "metadata": {},
   "outputs": [],
   "source": [
    "name = 'homeohots'\n",
    "homeo = True\n",
    "timestr = '2022-04-22'\n",
    "dataset_name = 'nmnist'\n",
    "\n",
    "Rz = (2, 4)\n",
    "N_neuronz = (8, 16)\n",
    "tauz = (5e3, 5e3*8/2)\n",
    "\n",
    "network = network(name, dataset_name, timestr, dataset.sensor_size, nb_neurons = N_neuronz, tau = tauz, R = Rz, homeo = homeo)"
   ]
  },
  {
   "cell_type": "code",
   "execution_count": 14,
   "id": "e146dc85-958b-4527-8979-1fba59f5cf58",
   "metadata": {},
   "outputs": [
    {
     "data": {
      "image/png": "[encoded data removed]",
      "text/plain": [
       "<Figure size 1152x648 with 146 Axes>"
      ]
     },
     "metadata": {
      "needs_background": "light"
     },
     "output_type": "display_data"
    }
   ],
   "source": [
    "if not os.path.exists('../Records/'):\n",
    "    os.mkdir('../Records/')\n",
    "    os.mkdir('../Records/networks/')\n",
    "filtering_threshold = [2*Rz[L] for L in range(len(Rz))]\n",
    "path = '../Records/networks/'+network.name+'.pkl'\n",
    "if not os.path.exists(path):\n",
    "    network.clustering(loader, dataset.ordering, filtering_threshold)\n",
    "network.plotlayers();"
   ]
  },
  {
   "cell_type": "code",
   "execution_count": 9,
   "id": "8adbed11-2c59-4ded-883e-5dcd2dc032a4",
   "metadata": {},
   "outputs": [
    {
     "ename": "TypeError",
     "evalue": "coding() missing 1 required positional argument: 'filtering_threshold'",
     "output_type": "error",
     "traceback": [
      "\u001b[0;31m---------------------------------------------------------------------------\u001b[0m",
      "\u001b[0;31mTypeError\u001b[0m                                 Traceback (most recent call last)",
      "Input \u001b[0;32mIn [9]\u001b[0m, in \u001b[0;36m<module>\u001b[0;34m\u001b[0m\n\u001b[1;32m      1\u001b[0m loader \u001b[38;5;241m=\u001b[39m get_loader(dataset, kfold \u001b[38;5;241m=\u001b[39m \u001b[38;5;28;01mNone\u001b[39;00m, shuffle\u001b[38;5;241m=\u001b[39m\u001b[38;5;28;01mTrue\u001b[39;00m)\n\u001b[1;32m      2\u001b[0m num_sample_train \u001b[38;5;241m=\u001b[39m \u001b[38;5;28mlen\u001b[39m(dataset)\n\u001b[0;32m----> 3\u001b[0m \u001b[43mnetwork\u001b[49m\u001b[38;5;241;43m.\u001b[39;49m\u001b[43mcoding\u001b[49m\u001b[43m(\u001b[49m\u001b[43mloader\u001b[49m\u001b[43m,\u001b[49m\u001b[43m \u001b[49m\u001b[43mdataset\u001b[49m\u001b[38;5;241;43m.\u001b[39;49m\u001b[43mordering\u001b[49m\u001b[43m,\u001b[49m\u001b[43m \u001b[49m\u001b[43mdataset\u001b[49m\u001b[38;5;241;43m.\u001b[39;49m\u001b[43mclasses\u001b[49m\u001b[43m,\u001b[49m\u001b[43m \u001b[49m\u001b[43mfiltering_threshold\u001b[49m\u001b[43m,\u001b[49m\u001b[43m \u001b[49m\u001b[43mtraining\u001b[49m\u001b[38;5;241;43m=\u001b[39;49m\u001b[38;5;28;43;01mTrue\u001b[39;49;00m\u001b[43m)\u001b[49m\n",
      "\u001b[0;31mTypeError\u001b[0m: coding() missing 1 required positional argument: 'filtering_threshold'"
     ]
    }
   ],
   "source": [
    "loader = get_loader(dataset, kfold = None, shuffle=True)\n",
    "num_sample_train = len(dataset)\n",
    "network.coding(loader, dataset.ordering, dataset.classes, filtering_threshold, training=True)"
   ]
  },
  {
   "cell_type": "code",
   "execution_count": null,
   "id": "ac3a7d32-62c0-4875-8eb4-bba81c8cbb26",
   "metadata": {},
   "outputs": [],
   "source": [
    "dataset = tonic.datasets.POKERDVS(save_to='../../Data/', train=False, transform=transform)\n",
    "num_sample_test = len(dataset)\n",
    "loader = get_loader(dataset, kfold = None, shuffle=True)\n",
    "network.coding(loader, dataset.ordering, dataset.classes, filtering_threshold, training=False)"
   ]
  },
  {
   "cell_type": "code",
   "execution_count": null,
   "id": "f8e46633-8fcc-4b6d-bbf8-127d5f1e1a7b",
   "metadata": {},
   "outputs": [],
   "source": [
    "from utils import make_histogram_classification, HOTS_Dataset\n",
    "jitter = (None, None)\n",
    "\n",
    "train_path = f'../Records/output/train/{network.name}_{num_sample_train}_{jitter}/'\n",
    "test_path = f'../Records/output/test/{network.name}_{num_sample_test}_{jitter}/'\n",
    "\n",
    "testset = HOTS_Dataset(test_path, dataset.sensor_size, transform=tonic.transforms.NumpyAsType(int))\n",
    "trainset = HOTS_Dataset(train_path, dataset.sensor_size, transform=tonic.transforms.NumpyAsType(int))"
   ]
  },
  {
   "cell_type": "code",
   "execution_count": null,
   "id": "0c12f487-5c82-4e9a-9b75-93cb7d222994",
   "metadata": {},
   "outputs": [],
   "source": [
    "score = make_histogram_classification(trainset, testset, N_neuronz[-1]) \n",
    "print(f' Accuracy: {score*100}%')"
   ]
  },
  {
   "cell_type": "code",
   "execution_count": null,
   "id": "8f9ffb72-8ff3-4daf-a619-00e8c9208674",
   "metadata": {},
   "outputs": [],
   "source": []
  }
 ],
 "metadata": {
  "kernelspec": {
   "display_name": "Python 3 (ipykernel)",
   "language": "python",
   "name": "python3"
  },
  "language_info": {
   "codemirror_mode": {
    "name": "ipython",
    "version": 3
   },
   "file_extension": ".py",
   "mimetype": "text/x-python",
   "name": "python",
   "nbconvert_exporter": "python",
   "pygments_lexer": "ipython3",
   "version": "3.8.10"
  }
 },
 "nbformat": 4,
 "nbformat_minor": 5
}
