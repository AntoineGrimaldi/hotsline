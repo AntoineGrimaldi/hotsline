{
 "cells": [
  {
   "cell_type": "markdown",
   "id": "1323e1fd-cd1d-4b6f-8de6-0a71f2d7a0b8",
   "metadata": {},
   "source": [
    "# [hotsline](https://github.com/AntoineGrimaldi/hotsline) algorithm to replicate results from [this paper](https://www.techrxiv.org/articles/preprint/A_robust_event-driven_approach_to_always-on_object_recognition/18003077/1)\n",
    "## Load events of the POKER_DVS dataset with [Tonic](https://tonic.readthedocs.io/en/latest/index.html)"
   ]
  },
  {
   "cell_type": "code",
   "execution_count": 1,
   "id": "41e167bc-5794-4989-8b83-eb671436db30",
   "metadata": {},
   "outputs": [
    {
     "name": "stdout",
     "output_type": "stream",
     "text": [
      "/home/antoine/homhots/hotsline/hots\n",
      " Tonic version installed -> 1.0.15\n",
      "number of samples in the trainset: 48\n",
      "----------------------------------------\n",
      "number of samples in each class for the trainset: [12. 12. 12. 12.]\n",
      "----------------------------------------\n",
      "number of samples in the dataset: 48\n"
     ]
    },
    {
     "data": {
      "image/png": "[encoded data removed]",
      "text/plain": [
       "<Figure size 2160x720 with 3 Axes>"
      ]
     },
     "metadata": {
      "needs_background": "light"
     },
     "output_type": "display_data"
    }
   ],
   "source": [
    "import tonic, torch, os\n",
    "%cd ../hots\n",
    "from utils import get_loader, get_dataset_info, HOTS_Dataset, make_histogram_classification\n",
    "from network import network\n",
    "from timesurface import timesurface\n",
    "\n",
    "print(f' Tonic version installed -> {tonic.__version__}')\n",
    "\n",
    "transform = tonic.transforms.NumpyAsType(int)\n",
    "dataset = tonic.datasets.POKERDVS(save_to='../../Data/', train=True, transform=transform)\n",
    "loader = get_loader(dataset)\n",
    "get_dataset_info(dataset, properties = ['time', 'mean_isi', 'nb_events']);\n",
    "print(f'number of samples in the dataset: {len(loader)}')"
   ]
  },
  {
   "cell_type": "markdown",
   "id": "4af301a7-bf8c-4b33-b08a-6696d2acf7a3",
   "metadata": {},
   "source": [
    "## Parameter tuning with histogram classification"
   ]
  },
  {
   "cell_type": "code",
   "execution_count": 2,
   "id": "e83e2f95-91d3-4d38-a851-75754a852666",
   "metadata": {},
   "outputs": [],
   "source": [
    "import matplotlib.pyplot as plt\n",
    "\n",
    "def plot_accuracy(scores, parameters, ind_param):\n",
    "    paramlist = ['number of layers', 'R', 'tau', 'number of neurons']\n",
    "    fig, ax = plt.subplots(figsize=(10,6))\n",
    "    score_previous = 0\n",
    "    for ind in range(len(scores)):\n",
    "        score, tau = scores[ind], parameters[ind][ind_param]\n",
    "        ax.plot(tau, score, '*', color='blue')\n",
    "        ax.set_xlabel(paramlist[ind_param])\n",
    "        ax.set_ylabel('accuracy')\n",
    "        if score>score_previous:\n",
    "            score_previous=score\n",
    "            parameters_previous=parameters[ind]\n",
    "    print(score_previous, parameters_previous)\n",
    "    \n",
    "def plot_accuracy_multi_param(scores, parameters):\n",
    "    fig = plt.figure(figsize=(30,10))\n",
    "    sub1 = fig.add_subplot(1,3,1, projection=\"3d\")\n",
    "    sub2 = fig.add_subplot(1,3,2, projection=\"3d\")\n",
    "    sub3 = fig.add_subplot(1,3,3, projection=\"3d\")\n",
    "    score_previous = 0\n",
    "    colormap = plt.cm.get_cmap('summer_r', 10);\n",
    "    for ind in range(len(scores)):\n",
    "        score, lay, n_neuron, R = scores[ind], parameters[ind][0], parameters[ind][3], parameters[ind][1]\n",
    "        sub1.scatter(n_neuron, lay, score, color=colormap(R/4), alpha=0.5)\n",
    "        sub2.scatter(R, lay, score, color=colormap(n_neuron/16), alpha=0.5)\n",
    "        sub3.scatter(n_neuron, R, score, color=colormap(lay/4), alpha=0.5)\n",
    "        sub1.set_xlabel('neuron number')\n",
    "        sub2.set_xlabel('R')\n",
    "        sub3.set_xlabel('neuron number')\n",
    "        sub1.set_ylabel('layer number')\n",
    "        sub2.set_ylabel('layer number')\n",
    "        sub3.set_ylabel('R')\n",
    "        #sub1.view_init(10,-40)"
   ]
  },
  {
   "cell_type": "code",
   "execution_count": 2,
   "id": "cdb1ff32-264f-4bec-81a2-45ff45207363",
   "metadata": {},
   "outputs": [],
   "source": [
    "name = 'homeohots'\n",
    "homeo = True\n",
    "timestr = '2022-04-22'\n",
    "dataset_name = 'poker'\n",
    "\n",
    "Rz = (2, 4)\n",
    "N_neuronz = (4, 8)\n",
    "tauz = (.6e3, .6e3*4/2)\n",
    "filtering_threshold = [2*Rz[L] for L in range(len(Rz))]\n",
    "\n",
    "hots = network(name, dataset_name, timestr, dataset.sensor_size, nb_neurons = N_neuronz, tau = tauz, R = Rz, homeo = homeo)"
   ]
  },
  {
   "cell_type": "code",
   "execution_count": null,
   "id": "e146dc85-958b-4527-8979-1fba59f5cf58",
   "metadata": {},
   "outputs": [
    {
     "name": "stdout",
     "output_type": "stream",
     "text": [
      "../Records/networks/2022-04-22_poker_homeohots_True_(4, 8)_(600.0, 1200.0)_(2, 4).pkl\n"
     ]
    },
    {
     "name": "stderr",
     "output_type": "stream",
     "text": [
      " 40%|████████████████████████████████████████████████████████████████████████████████████████████▏                                                                                                                                            | 19/48 [01:36<02:45,  5.72s/it]"
     ]
    }
   ],
   "source": [
    "if not os.path.exists('../Records/'):\n",
    "    os.mkdir('../Records/')\n",
    "    os.mkdir('../Records/networks/')\n",
    "filtering_threshold = [2*Rz[L] for L in range(len(Rz))]\n",
    "path = '../Records/networks/'+hots.name+'.pkl'\n",
    "print(path)\n",
    "if not os.path.exists(path):\n",
    "    hots.clustering(loader, dataset.ordering, filtering_threshold)\n",
    "hots.plotlayers();"
   ]
  },
  {
   "cell_type": "code",
   "execution_count": 11,
   "id": "8adbed11-2c59-4ded-883e-5dcd2dc032a4",
   "metadata": {},
   "outputs": [
    {
     "name": "stderr",
     "output_type": "stream",
     "text": [
      "100%|█████████████████████████████████████████████████████████████████████████████████████████████████████████████████████████████████████████████████████████████████████████████████████████████████████████████████████████████████████████| 48/48 [00:46<00:00,  1.04it/s]\n"
     ]
    }
   ],
   "source": [
    "loader = get_loader(dataset, kfold = None, shuffle=True)\n",
    "num_sample_train = len(dataset)\n",
    "hots.coding(loader, dataset.ordering, dataset.classes, filtering_threshold, training=True)"
   ]
  },
  {
   "cell_type": "code",
   "execution_count": 12,
   "id": "ac3a7d32-62c0-4875-8eb4-bba81c8cbb26",
   "metadata": {},
   "outputs": [
    {
     "name": "stderr",
     "output_type": "stream",
     "text": [
      "100%|█████████████████████████████████████████████████████████████████████████████████████████████████████████████████████████████████████████████████████████████████████████████████████████████████████████████████████████████████████████| 20/20 [00:20<00:00,  1.03s/it]\n"
     ]
    }
   ],
   "source": [
    "dataset = tonic.datasets.POKERDVS(save_to='../../Data/', train=False, transform=transform)\n",
    "num_sample_test = len(dataset)\n",
    "loader = get_loader(dataset, kfold = None, shuffle=True)\n",
    "hots.coding(loader, dataset.ordering, dataset.classes, filtering_threshold, training=False)"
   ]
  },
  {
   "cell_type": "code",
   "execution_count": 13,
   "id": "f8e46633-8fcc-4b6d-bbf8-127d5f1e1a7b",
   "metadata": {},
   "outputs": [],
   "source": [
    "from utils import make_histogram_classification, HOTS_Dataset\n",
    "\n",
    "jitter = (None, None)\n",
    "\n",
    "train_path = f'../Records/output/train/{hots.name}_{num_sample_train}_{jitter}/'\n",
    "test_path = f'../Records/output/test/{hots.name}_{num_sample_test}_{jitter}/'\n",
    "\n",
    "testset = HOTS_Dataset(test_path, dataset.sensor_size, transform=tonic.transforms.NumpyAsType(int))\n",
    "trainset = HOTS_Dataset(train_path, dataset.sensor_size, transform=tonic.transforms.NumpyAsType(int))"
   ]
  },
  {
   "cell_type": "code",
   "execution_count": 14,
   "id": "0c12f487-5c82-4e9a-9b75-93cb7d222994",
   "metadata": {},
   "outputs": [
    {
     "name": "stderr",
     "output_type": "stream",
     "text": [
      "100%|███████████████████████████████████████████████████████████████████████████████████████████████████████████████████████████████████████████████████████████████████████████████████████████████████████████████████████████████████████| 48/48 [00:00<00:00, 1130.61it/s]\n",
      "100%|████████████████████████████████████████████████████████████████████████████████████████████████████████████████████████████████████████████████████████████████████████████████████████████████████████████████████████████████████████| 20/20 [00:00<00:00, 748.37it/s]"
     ]
    },
    {
     "name": "stdout",
     "output_type": "stream",
     "text": [
      " Accuracy: 95.0%\n"
     ]
    },
    {
     "name": "stderr",
     "output_type": "stream",
     "text": [
      "\n"
     ]
    }
   ],
   "source": [
    "score = make_histogram_classification(trainset, testset, N_neuronz[-1])\n",
    "print(f' Accuracy: {score*100}%')"
   ]
  },
  {
   "cell_type": "markdown",
   "id": "b203c77e-fb34-4985-ab4a-ac6c8c6791cf",
   "metadata": {},
   "source": [
    "## Rough parameters trial"
   ]
  },
  {
   "cell_type": "code",
   "execution_count": 59,
   "id": "8c324685-6b1e-46f7-a825-426ced01351d",
   "metadata": {},
   "outputs": [],
   "source": [
    "import matplotlib.pyplot as plt\n",
    "import copy\n",
    "\n",
    "def plot_accuracy(scores, parameters, param_to_plot):\n",
    "    paramlist = ['number of layers', 'R', 'tau', 'number of neurons']\n",
    "    fig, ax = plt.subplots(figsize=(10,6))\n",
    "    score_previous = 0\n",
    "    for ind in range(len(scores)):\n",
    "        score, tau, n_layer, R, n_neurons = scores[ind], parameters[ind][2], parameters[ind][0], parameters[ind][1], parameters[ind][3]\n",
    "        if param_to_plot=='tau':\n",
    "            x = copy.copy(tau)\n",
    "        elif param_to_plot=='R':\n",
    "            x = copy.copy(R)\n",
    "        elif param_to_plot=='neuron':\n",
    "            x = copy.copy(n_neurons)\n",
    "        elif param_to_plot=='layer':\n",
    "            x = copy.copy(n_layer)\n",
    "        \n",
    "        ax.plot(x, score, '*', color='blue')\n",
    "        if n_layer==2 and R==4 and n_neurons==4:\n",
    "            ax.plot(x, score, '*', color='red')\n",
    "        if n_layer==2 and R==4 and n_neurons==8:\n",
    "            ax.plot(x, score, '*', color='green')\n",
    "        if n_layer==2 and R==4 and n_neurons==16:\n",
    "            ax.plot(x, score, '*', color='orange')\n",
    "\n",
    "        ax.set_xlabel(param_to_plot)\n",
    "        ax.set_ylabel('accuracy')\n",
    "        if score>score_previous:\n",
    "            score_previous=score\n",
    "            parameters_previous=parameters[ind]\n",
    "    print(score_previous, parameters_previous)\n",
    "    \n",
    "def plot_accuracy_multi_param(scores, parameters):\n",
    "    fig = plt.figure(figsize=(30,10))\n",
    "    sub1 = fig.add_subplot(1,3,1, projection=\"3d\")\n",
    "    sub2 = fig.add_subplot(1,3,2, projection=\"3d\")\n",
    "    sub3 = fig.add_subplot(1,3,3, projection=\"3d\")\n",
    "    score_previous = 0\n",
    "    colormap = plt.cm.get_cmap('summer_r', 10);\n",
    "    for ind in range(len(scores)):\n",
    "        score, lay, n_neuron, R = scores[ind], parameters[ind][0], parameters[ind][3], parameters[ind][1]\n",
    "        sub1.scatter(n_neuron, lay, score, color=colormap(R/4), alpha=0.5)\n",
    "        sub2.scatter(R, lay, score, color=colormap(n_neuron/16), alpha=0.5)\n",
    "        sub3.scatter(n_neuron, R, score, color=colormap(lay/4), alpha=0.5)\n",
    "        sub1.set_xlabel('neuron number')\n",
    "        sub2.set_xlabel('R')\n",
    "        sub3.set_xlabel('neuron number')\n",
    "        sub1.set_ylabel('layer number')\n",
    "        sub2.set_ylabel('layer number')\n",
    "        sub3.set_ylabel('R')\n",
    "        #sub1.view_init(10,-40)"
   ]
  },
  {
   "cell_type": "code",
   "execution_count": 60,
   "id": "5849eed7-40fa-40a2-8516-ff2a50a0772a",
   "metadata": {},
   "outputs": [
    {
     "name": "stdout",
     "output_type": "stream",
     "text": [
      "1.0 [2, 2, 300.0, 16]\n",
      "1.0 [2, 2, 300.0, 16]\n",
      "1.0 [2, 2, 300.0, 16]\n",
      "1.0 [2, 2, 300.0, 16]\n"
     ]
    },
    {
     "data": {
      "image/png": "[encoded data removed]",
      "text/plain": [
       "<Figure size 720x432 with 1 Axes>"
      ]
     },
     "metadata": {
      "needs_background": "light"
     },
     "output_type": "display_data"
    },
    {
     "data": {
      "image/png": "[encoded data removed]",
      "text/plain": [
       "<Figure size 720x432 with 1 Axes>"
      ]
     },
     "metadata": {
      "needs_background": "light"
     },
     "output_type": "display_data"
    },
    {
     "data": {
      "image/png": "[encoded data removed]",
      "text/plain": [
       "<Figure size 720x432 with 1 Axes>"
      ]
     },
     "metadata": {
      "needs_background": "light"
     },
     "output_type": "display_data"
    },
    {
     "data": {
      "image/png": "[encoded data removed]",
      "text/plain": [
       "<Figure size 720x432 with 1 Axes>"
      ]
     },
     "metadata": {
      "needs_background": "light"
     },
     "output_type": "display_data"
    }
   ],
   "source": [
    "plot_accuracy(scores, parameters, 'tau')\n",
    "plot_accuracy(scores, parameters, 'R')\n",
    "plot_accuracy(scores, parameters, 'layer')\n",
    "plot_accuracy(scores, parameters, 'neuron')"
   ]
  },
  {
   "cell_type": "code",
   "execution_count": 5,
   "id": "f7c74341-0dc1-4871-97aa-1615b9e3a511",
   "metadata": {},
   "outputs": [
    {
     "data": {
      "image/png": "[encoded data removed]",
      "text/plain": [
       "<Figure size 2160x720 with 3 Axes>"
      ]
     },
     "metadata": {
      "needs_background": "light"
     },
     "output_type": "display_data"
    }
   ],
   "source": [
    "plot_accuracy_multi_param(scores, parameters)"
   ]
  },
  {
   "cell_type": "code",
   "execution_count": 12,
   "id": "816dd599-943b-4d58-9833-d73bb66266f6",
   "metadata": {},
   "outputs": [
    {
     "name": "stdout",
     "output_type": "stream",
     "text": [
      "this dataset have already been processed, check at: \n",
      " ../Records/output/train/2022-04-22_poker_homeohots_True_[4, 8]_[200.0, 200.0]_[2, 4]_48_(None, None)/\n",
      "this dataset have already been processed, check at: \n",
      " ../Records/output/test/2022-04-22_poker_homeohots_True_[4, 8]_[200.0, 200.0]_[2, 4]_20_(None, None)/\n"
     ]
    },
    {
     "name": "stderr",
     "output_type": "stream",
     "text": [
      "100%|████████████████████████████████████████████████████████████████████████████████████████████████████████████████████████████████████████████████████████████████████████████████████████████████████████████████████████████████████████| 48/48 [00:00<00:00, 991.76it/s]\n",
      "100%|████████████████████████████████████████████████████████████████████████████████████████████████████████████████████████████████████████████████████████████████████████████████████████████████████████████████████████████████████████| 20/20 [00:00<00:00, 665.85it/s]\n"
     ]
    },
    {
     "name": "stdout",
     "output_type": "stream",
     "text": [
      " Accuracy: 55.00000000000001%\n",
      "this dataset have already been processed, check at: \n",
      " ../Records/output/train/2022-04-22_poker_homeohots_True_[8, 16]_[200.0, 400.0]_[2, 4]_48_(None, None)/\n",
      "this dataset have already been processed, check at: \n",
      " ../Records/output/test/2022-04-22_poker_homeohots_True_[8, 16]_[200.0, 400.0]_[2, 4]_20_(None, None)/\n"
     ]
    },
    {
     "name": "stderr",
     "output_type": "stream",
     "text": [
      "100%|████████████████████████████████████████████████████████████████████████████████████████████████████████████████████████████████████████████████████████████████████████████████████████████████████████████████████████████████████████| 48/48 [00:00<00:00, 932.00it/s]\n",
      "100%|████████████████████████████████████████████████████████████████████████████████████████████████████████████████████████████████████████████████████████████████████████████████████████████████████████████████████████████████████████| 20/20 [00:00<00:00, 667.64it/s]\n"
     ]
    },
    {
     "name": "stdout",
     "output_type": "stream",
     "text": [
      " Accuracy: 60.0%\n",
      "this dataset have already been processed, check at: \n",
      " ../Records/output/train/2022-04-22_poker_homeohots_True_[16, 32]_[200.0, 800.0]_[2, 4]_48_(None, None)/\n",
      "this dataset have already been processed, check at: \n",
      " ../Records/output/test/2022-04-22_poker_homeohots_True_[16, 32]_[200.0, 800.0]_[2, 4]_20_(None, None)/\n"
     ]
    },
    {
     "name": "stderr",
     "output_type": "stream",
     "text": [
      "100%|███████████████████████████████████████████████████████████████████████████████████████████████████████████████████████████████████████████████████████████████████████████████████████████████████████████████████████████████████████| 48/48 [00:00<00:00, 1010.71it/s]\n",
      "100%|████████████████████████████████████████████████████████████████████████████████████████████████████████████████████████████████████████████████████████████████████████████████████████████████████████████████████████████████████████| 20/20 [00:00<00:00, 670.38it/s]\n"
     ]
    },
    {
     "name": "stdout",
     "output_type": "stream",
     "text": [
      " Accuracy: 70.0%\n",
      "this dataset have already been processed, check at: \n",
      " ../Records/output/train/2022-04-22_poker_homeohots_True_[4, 8]_[400.0, 400.0]_[2, 4]_48_(None, None)/\n",
      "this dataset have already been processed, check at: \n",
      " ../Records/output/test/2022-04-22_poker_homeohots_True_[4, 8]_[400.0, 400.0]_[2, 4]_20_(None, None)/\n"
     ]
    },
    {
     "name": "stderr",
     "output_type": "stream",
     "text": [
      "100%|███████████████████████████████████████████████████████████████████████████████████████████████████████████████████████████████████████████████████████████████████████████████████████████████████████████████████████████████████████| 48/48 [00:00<00:00, 1046.18it/s]\n",
      "100%|████████████████████████████████████████████████████████████████████████████████████████████████████████████████████████████████████████████████████████████████████████████████████████████████████████████████████████████████████████| 20/20 [00:00<00:00, 635.10it/s]\n"
     ]
    },
    {
     "name": "stdout",
     "output_type": "stream",
     "text": [
      " Accuracy: 80.0%\n",
      "this dataset have already been processed, check at: \n",
      " ../Records/output/train/2022-04-22_poker_homeohots_True_[8, 16]_[400.0, 800.0]_[2, 4]_48_(None, None)/\n",
      "this dataset have already been processed, check at: \n",
      " ../Records/output/test/2022-04-22_poker_homeohots_True_[8, 16]_[400.0, 800.0]_[2, 4]_20_(None, None)/\n"
     ]
    },
    {
     "name": "stderr",
     "output_type": "stream",
     "text": [
      "100%|████████████████████████████████████████████████████████████████████████████████████████████████████████████████████████████████████████████████████████████████████████████████████████████████████████████████████████████████████████| 48/48 [00:00<00:00, 980.48it/s]\n",
      "100%|████████████████████████████████████████████████████████████████████████████████████████████████████████████████████████████████████████████████████████████████████████████████████████████████████████████████████████████████████████| 20/20 [00:00<00:00, 638.22it/s]\n"
     ]
    },
    {
     "name": "stdout",
     "output_type": "stream",
     "text": [
      " Accuracy: 95.0%\n",
      "this dataset have already been processed, check at: \n",
      " ../Records/output/train/2022-04-22_poker_homeohots_True_[16, 32]_[400.0, 1600.0]_[2, 4]_48_(None, None)/\n",
      "this dataset have already been processed, check at: \n",
      " ../Records/output/test/2022-04-22_poker_homeohots_True_[16, 32]_[400.0, 1600.0]_[2, 4]_20_(None, None)/\n"
     ]
    },
    {
     "name": "stderr",
     "output_type": "stream",
     "text": [
      "100%|███████████████████████████████████████████████████████████████████████████████████████████████████████████████████████████████████████████████████████████████████████████████████████████████████████████████████████████████████████| 48/48 [00:00<00:00, 1048.39it/s]\n",
      "100%|████████████████████████████████████████████████████████████████████████████████████████████████████████████████████████████████████████████████████████████████████████████████████████████████████████████████████████████████████████| 20/20 [00:00<00:00, 638.42it/s]\n"
     ]
    },
    {
     "name": "stdout",
     "output_type": "stream",
     "text": [
      " Accuracy: 90.0%\n",
      "this dataset have already been processed, check at: \n",
      " ../Records/output/train/2022-04-22_poker_homeohots_True_[4, 8]_[600.0, 600.0]_[2, 4]_48_(None, None)/\n",
      "this dataset have already been processed, check at: \n",
      " ../Records/output/test/2022-04-22_poker_homeohots_True_[4, 8]_[600.0, 600.0]_[2, 4]_20_(None, None)/\n"
     ]
    },
    {
     "name": "stderr",
     "output_type": "stream",
     "text": [
      "100%|███████████████████████████████████████████████████████████████████████████████████████████████████████████████████████████████████████████████████████████████████████████████████████████████████████████████████████████████████████| 48/48 [00:00<00:00, 1054.87it/s]\n",
      "100%|████████████████████████████████████████████████████████████████████████████████████████████████████████████████████████████████████████████████████████████████████████████████████████████████████████████████████████████████████████| 20/20 [00:00<00:00, 642.03it/s]\n"
     ]
    },
    {
     "name": "stdout",
     "output_type": "stream",
     "text": [
      " Accuracy: 80.0%\n",
      "this dataset have already been processed, check at: \n",
      " ../Records/output/train/2022-04-22_poker_homeohots_True_[8, 16]_[600.0, 1200.0]_[2, 4]_48_(None, None)/\n",
      "this dataset have already been processed, check at: \n",
      " ../Records/output/test/2022-04-22_poker_homeohots_True_[8, 16]_[600.0, 1200.0]_[2, 4]_20_(None, None)/\n"
     ]
    },
    {
     "name": "stderr",
     "output_type": "stream",
     "text": [
      "100%|███████████████████████████████████████████████████████████████████████████████████████████████████████████████████████████████████████████████████████████████████████████████████████████████████████████████████████████████████████| 48/48 [00:00<00:00, 1005.10it/s]\n",
      "100%|████████████████████████████████████████████████████████████████████████████████████████████████████████████████████████████████████████████████████████████████████████████████████████████████████████████████████████████████████████| 20/20 [00:00<00:00, 636.84it/s]\n"
     ]
    },
    {
     "name": "stdout",
     "output_type": "stream",
     "text": [
      " Accuracy: 95.0%\n",
      "this dataset have already been processed, check at: \n",
      " ../Records/output/train/2022-04-22_poker_homeohots_True_[16, 32]_[600.0, 2400.0]_[2, 4]_48_(None, None)/\n",
      "this dataset have already been processed, check at: \n",
      " ../Records/output/test/2022-04-22_poker_homeohots_True_[16, 32]_[600.0, 2400.0]_[2, 4]_20_(None, None)/\n"
     ]
    },
    {
     "name": "stderr",
     "output_type": "stream",
     "text": [
      "100%|████████████████████████████████████████████████████████████████████████████████████████████████████████████████████████████████████████████████████████████████████████████████████████████████████████████████████████████████████████| 48/48 [00:00<00:00, 991.94it/s]\n",
      "100%|████████████████████████████████████████████████████████████████████████████████████████████████████████████████████████████████████████████████████████████████████████████████████████████████████████████████████████████████████████| 20/20 [00:00<00:00, 639.64it/s]\n"
     ]
    },
    {
     "name": "stdout",
     "output_type": "stream",
     "text": [
      " Accuracy: 100.0%\n",
      "this dataset have already been processed, check at: \n",
      " ../Records/output/train/2022-04-22_poker_homeohots_True_[4, 8]_[800.0, 800.0]_[2, 4]_48_(None, None)/\n",
      "this dataset have already been processed, check at: \n",
      " ../Records/output/test/2022-04-22_poker_homeohots_True_[4, 8]_[800.0, 800.0]_[2, 4]_20_(None, None)/\n"
     ]
    },
    {
     "name": "stderr",
     "output_type": "stream",
     "text": [
      "100%|███████████████████████████████████████████████████████████████████████████████████████████████████████████████████████████████████████████████████████████████████████████████████████████████████████████████████████████████████████| 48/48 [00:00<00:00, 1042.12it/s]\n",
      "100%|████████████████████████████████████████████████████████████████████████████████████████████████████████████████████████████████████████████████████████████████████████████████████████████████████████████████████████████████████████| 20/20 [00:00<00:00, 672.84it/s]\n"
     ]
    },
    {
     "name": "stdout",
     "output_type": "stream",
     "text": [
      " Accuracy: 85.0%\n",
      "this dataset have already been processed, check at: \n",
      " ../Records/output/train/2022-04-22_poker_homeohots_True_[8, 16]_[800.0, 1600.0]_[2, 4]_48_(None, None)/\n",
      "this dataset have already been processed, check at: \n",
      " ../Records/output/test/2022-04-22_poker_homeohots_True_[8, 16]_[800.0, 1600.0]_[2, 4]_20_(None, None)/\n"
     ]
    },
    {
     "name": "stderr",
     "output_type": "stream",
     "text": [
      "100%|███████████████████████████████████████████████████████████████████████████████████████████████████████████████████████████████████████████████████████████████████████████████████████████████████████████████████████████████████████| 48/48 [00:00<00:00, 1050.25it/s]\n",
      "100%|████████████████████████████████████████████████████████████████████████████████████████████████████████████████████████████████████████████████████████████████████████████████████████████████████████████████████████████████████████| 20/20 [00:00<00:00, 678.68it/s]\n"
     ]
    },
    {
     "name": "stdout",
     "output_type": "stream",
     "text": [
      " Accuracy: 100.0%\n",
      "this dataset have already been processed, check at: \n",
      " ../Records/output/train/2022-04-22_poker_homeohots_True_[16, 32]_[800.0, 3200.0]_[2, 4]_48_(None, None)/\n",
      "this dataset have already been processed, check at: \n",
      " ../Records/output/test/2022-04-22_poker_homeohots_True_[16, 32]_[800.0, 3200.0]_[2, 4]_20_(None, None)/\n"
     ]
    },
    {
     "name": "stderr",
     "output_type": "stream",
     "text": [
      "100%|███████████████████████████████████████████████████████████████████████████████████████████████████████████████████████████████████████████████████████████████████████████████████████████████████████████████████████████████████████| 48/48 [00:00<00:00, 1044.75it/s]\n",
      "100%|████████████████████████████████████████████████████████████████████████████████████████████████████████████████████████████████████████████████████████████████████████████████████████████████████████████████████████████████████████| 20/20 [00:00<00:00, 670.14it/s]\n"
     ]
    },
    {
     "name": "stdout",
     "output_type": "stream",
     "text": [
      " Accuracy: 95.0%\n",
      "this dataset have already been processed, check at: \n",
      " ../Records/output/train/2022-04-22_poker_homeohots_True_[4, 8]_[1000.0, 1000.0]_[2, 4]_48_(None, None)/\n",
      "this dataset have already been processed, check at: \n",
      " ../Records/output/test/2022-04-22_poker_homeohots_True_[4, 8]_[1000.0, 1000.0]_[2, 4]_20_(None, None)/\n"
     ]
    },
    {
     "name": "stderr",
     "output_type": "stream",
     "text": [
      "100%|████████████████████████████████████████████████████████████████████████████████████████████████████████████████████████████████████████████████████████████████████████████████████████████████████████████████████████████████████████| 48/48 [00:00<00:00, 958.94it/s]\n",
      "100%|████████████████████████████████████████████████████████████████████████████████████████████████████████████████████████████████████████████████████████████████████████████████████████████████████████████████████████████████████████| 20/20 [00:00<00:00, 683.07it/s]\n"
     ]
    },
    {
     "name": "stdout",
     "output_type": "stream",
     "text": [
      " Accuracy: 85.0%\n",
      "this dataset have already been processed, check at: \n",
      " ../Records/output/train/2022-04-22_poker_homeohots_True_[8, 16]_[1000.0, 2000.0]_[2, 4]_48_(None, None)/\n",
      "this dataset have already been processed, check at: \n",
      " ../Records/output/test/2022-04-22_poker_homeohots_True_[8, 16]_[1000.0, 2000.0]_[2, 4]_20_(None, None)/\n"
     ]
    },
    {
     "name": "stderr",
     "output_type": "stream",
     "text": [
      "100%|███████████████████████████████████████████████████████████████████████████████████████████████████████████████████████████████████████████████████████████████████████████████████████████████████████████████████████████████████████| 48/48 [00:00<00:00, 1047.22it/s]\n",
      "100%|████████████████████████████████████████████████████████████████████████████████████████████████████████████████████████████████████████████████████████████████████████████████████████████████████████████████████████████████████████| 20/20 [00:00<00:00, 678.42it/s]\n"
     ]
    },
    {
     "name": "stdout",
     "output_type": "stream",
     "text": [
      " Accuracy: 100.0%\n",
      "this dataset have already been processed, check at: \n",
      " ../Records/output/train/2022-04-22_poker_homeohots_True_[16, 32]_[1000.0, 4000.0]_[2, 4]_48_(None, None)/\n",
      "this dataset have already been processed, check at: \n",
      " ../Records/output/test/2022-04-22_poker_homeohots_True_[16, 32]_[1000.0, 4000.0]_[2, 4]_20_(None, None)/\n"
     ]
    },
    {
     "name": "stderr",
     "output_type": "stream",
     "text": [
      "100%|███████████████████████████████████████████████████████████████████████████████████████████████████████████████████████████████████████████████████████████████████████████████████████████████████████████████████████████████████████| 48/48 [00:00<00:00, 1031.34it/s]\n",
      "100%|████████████████████████████████████████████████████████████████████████████████████████████████████████████████████████████████████████████████████████████████████████████████████████████████████████████████████████████████████████| 20/20 [00:00<00:00, 669.75it/s]\n"
     ]
    },
    {
     "name": "stdout",
     "output_type": "stream",
     "text": [
      " Accuracy: 95.0%\n",
      "this dataset have already been processed, check at: \n",
      " ../Records/output/train/2022-04-22_poker_homeohots_True_[4, 8]_[1200.0, 1200.0]_[2, 4]_48_(None, None)/\n",
      "this dataset have already been processed, check at: \n",
      " ../Records/output/test/2022-04-22_poker_homeohots_True_[4, 8]_[1200.0, 1200.0]_[2, 4]_20_(None, None)/\n"
     ]
    },
    {
     "name": "stderr",
     "output_type": "stream",
     "text": [
      "100%|███████████████████████████████████████████████████████████████████████████████████████████████████████████████████████████████████████████████████████████████████████████████████████████████████████████████████████████████████████| 48/48 [00:00<00:00, 1051.20it/s]\n",
      "100%|████████████████████████████████████████████████████████████████████████████████████████████████████████████████████████████████████████████████████████████████████████████████████████████████████████████████████████████████████████| 20/20 [00:00<00:00, 670.12it/s]\n"
     ]
    },
    {
     "name": "stdout",
     "output_type": "stream",
     "text": [
      " Accuracy: 90.0%\n",
      "this dataset have already been processed, check at: \n",
      " ../Records/output/train/2022-04-22_poker_homeohots_True_[8, 16]_[1200.0, 2400.0]_[2, 4]_48_(None, None)/\n",
      "this dataset have already been processed, check at: \n",
      " ../Records/output/test/2022-04-22_poker_homeohots_True_[8, 16]_[1200.0, 2400.0]_[2, 4]_20_(None, None)/\n"
     ]
    },
    {
     "name": "stderr",
     "output_type": "stream",
     "text": [
      "100%|███████████████████████████████████████████████████████████████████████████████████████████████████████████████████████████████████████████████████████████████████████████████████████████████████████████████████████████████████████| 48/48 [00:00<00:00, 1049.31it/s]\n",
      "100%|████████████████████████████████████████████████████████████████████████████████████████████████████████████████████████████████████████████████████████████████████████████████████████████████████████████████████████████████████████| 20/20 [00:00<00:00, 567.30it/s]\n"
     ]
    },
    {
     "name": "stdout",
     "output_type": "stream",
     "text": [
      " Accuracy: 100.0%\n",
      "this dataset have already been processed, check at: \n",
      " ../Records/output/train/2022-04-22_poker_homeohots_True_[16, 32]_[1200.0, 4800.0]_[2, 4]_48_(None, None)/\n",
      "this dataset have already been processed, check at: \n",
      " ../Records/output/test/2022-04-22_poker_homeohots_True_[16, 32]_[1200.0, 4800.0]_[2, 4]_20_(None, None)/\n"
     ]
    },
    {
     "name": "stderr",
     "output_type": "stream",
     "text": [
      "100%|███████████████████████████████████████████████████████████████████████████████████████████████████████████████████████████████████████████████████████████████████████████████████████████████████████████████████████████████████████| 48/48 [00:00<00:00, 1028.09it/s]\n",
      "100%|████████████████████████████████████████████████████████████████████████████████████████████████████████████████████████████████████████████████████████████████████████████████████████████████████████████████████████████████████████| 20/20 [00:00<00:00, 662.25it/s]\n"
     ]
    },
    {
     "name": "stdout",
     "output_type": "stream",
     "text": [
      " Accuracy: 95.0%\n",
      "this dataset have already been processed, check at: \n",
      " ../Records/output/train/2022-04-22_poker_homeohots_True_[4, 8]_[1400.0, 1400.0]_[2, 4]_48_(None, None)/\n",
      "this dataset have already been processed, check at: \n",
      " ../Records/output/test/2022-04-22_poker_homeohots_True_[4, 8]_[1400.0, 1400.0]_[2, 4]_20_(None, None)/\n"
     ]
    },
    {
     "name": "stderr",
     "output_type": "stream",
     "text": [
      "100%|███████████████████████████████████████████████████████████████████████████████████████████████████████████████████████████████████████████████████████████████████████████████████████████████████████████████████████████████████████| 48/48 [00:00<00:00, 1044.50it/s]\n",
      "100%|████████████████████████████████████████████████████████████████████████████████████████████████████████████████████████████████████████████████████████████████████████████████████████████████████████████████████████████████████████| 20/20 [00:00<00:00, 686.92it/s]\n"
     ]
    },
    {
     "name": "stdout",
     "output_type": "stream",
     "text": [
      " Accuracy: 90.0%\n",
      "this dataset have already been processed, check at: \n",
      " ../Records/output/train/2022-04-22_poker_homeohots_True_[8, 16]_[1400.0, 2800.0]_[2, 4]_48_(None, None)/\n",
      "this dataset have already been processed, check at: \n",
      " ../Records/output/test/2022-04-22_poker_homeohots_True_[8, 16]_[1400.0, 2800.0]_[2, 4]_20_(None, None)/\n"
     ]
    },
    {
     "name": "stderr",
     "output_type": "stream",
     "text": [
      "100%|███████████████████████████████████████████████████████████████████████████████████████████████████████████████████████████████████████████████████████████████████████████████████████████████████████████████████████████████████████| 48/48 [00:00<00:00, 1046.94it/s]\n",
      "100%|████████████████████████████████████████████████████████████████████████████████████████████████████████████████████████████████████████████████████████████████████████████████████████████████████████████████████████████████████████| 20/20 [00:00<00:00, 673.81it/s]\n"
     ]
    },
    {
     "name": "stdout",
     "output_type": "stream",
     "text": [
      " Accuracy: 95.0%\n",
      "this dataset have already been processed, check at: \n",
      " ../Records/output/train/2022-04-22_poker_homeohots_True_[16, 32]_[1400.0, 5600.0]_[2, 4]_48_(None, None)/\n",
      "this dataset have already been processed, check at: \n",
      " ../Records/output/test/2022-04-22_poker_homeohots_True_[16, 32]_[1400.0, 5600.0]_[2, 4]_20_(None, None)/\n"
     ]
    },
    {
     "name": "stderr",
     "output_type": "stream",
     "text": [
      "100%|███████████████████████████████████████████████████████████████████████████████████████████████████████████████████████████████████████████████████████████████████████████████████████████████████████████████████████████████████████| 48/48 [00:00<00:00, 1028.17it/s]\n",
      "100%|████████████████████████████████████████████████████████████████████████████████████████████████████████████████████████████████████████████████████████████████████████████████████████████████████████████████████████████████████████| 20/20 [00:00<00:00, 665.23it/s]\n"
     ]
    },
    {
     "name": "stdout",
     "output_type": "stream",
     "text": [
      " Accuracy: 95.0%\n",
      "this dataset have already been processed, check at: \n",
      " ../Records/output/train/2022-04-22_poker_homeohots_True_[4, 8]_[1600.0, 1600.0]_[2, 4]_48_(None, None)/\n",
      "this dataset have already been processed, check at: \n",
      " ../Records/output/test/2022-04-22_poker_homeohots_True_[4, 8]_[1600.0, 1600.0]_[2, 4]_20_(None, None)/\n"
     ]
    },
    {
     "name": "stderr",
     "output_type": "stream",
     "text": [
      "100%|████████████████████████████████████████████████████████████████████████████████████████████████████████████████████████████████████████████████████████████████████████████████████████████████████████████████████████████████████████| 48/48 [00:00<00:00, 893.67it/s]\n",
      "100%|████████████████████████████████████████████████████████████████████████████████████████████████████████████████████████████████████████████████████████████████████████████████████████████████████████████████████████████████████████| 20/20 [00:00<00:00, 671.67it/s]\n"
     ]
    },
    {
     "name": "stdout",
     "output_type": "stream",
     "text": [
      " Accuracy: 75.0%\n",
      "this dataset have already been processed, check at: \n",
      " ../Records/output/train/2022-04-22_poker_homeohots_True_[8, 16]_[1600.0, 3200.0]_[2, 4]_48_(None, None)/\n",
      "this dataset have already been processed, check at: \n",
      " ../Records/output/test/2022-04-22_poker_homeohots_True_[8, 16]_[1600.0, 3200.0]_[2, 4]_20_(None, None)/\n"
     ]
    },
    {
     "name": "stderr",
     "output_type": "stream",
     "text": [
      "100%|████████████████████████████████████████████████████████████████████████████████████████████████████████████████████████████████████████████████████████████████████████████████████████████████████████████████████████████████████████| 48/48 [00:00<00:00, 959.27it/s]\n",
      "100%|████████████████████████████████████████████████████████████████████████████████████████████████████████████████████████████████████████████████████████████████████████████████████████████████████████████████████████████████████████| 20/20 [00:00<00:00, 680.36it/s]\n"
     ]
    },
    {
     "name": "stdout",
     "output_type": "stream",
     "text": [
      " Accuracy: 100.0%\n",
      "this dataset have already been processed, check at: \n",
      " ../Records/output/train/2022-04-22_poker_homeohots_True_[16, 32]_[1600.0, 6400.0]_[2, 4]_48_(None, None)/\n",
      "this dataset have already been processed, check at: \n",
      " ../Records/output/test/2022-04-22_poker_homeohots_True_[16, 32]_[1600.0, 6400.0]_[2, 4]_20_(None, None)/\n"
     ]
    },
    {
     "name": "stderr",
     "output_type": "stream",
     "text": [
      "100%|████████████████████████████████████████████████████████████████████████████████████████████████████████████████████████████████████████████████████████████████████████████████████████████████████████████████████████████████████████| 48/48 [00:00<00:00, 866.40it/s]\n",
      "100%|████████████████████████████████████████████████████████████████████████████████████████████████████████████████████████████████████████████████████████████████████████████████████████████████████████████████████████████████████████| 20/20 [00:00<00:00, 620.58it/s]\n"
     ]
    },
    {
     "name": "stdout",
     "output_type": "stream",
     "text": [
      " Accuracy: 95.0%\n",
      "this dataset have already been processed, check at: \n",
      " ../Records/output/train/2022-04-22_poker_homeohots_True_[4, 8]_[1800.0, 1800.0]_[2, 4]_48_(None, None)/\n",
      "this dataset have already been processed, check at: \n",
      " ../Records/output/test/2022-04-22_poker_homeohots_True_[4, 8]_[1800.0, 1800.0]_[2, 4]_20_(None, None)/\n"
     ]
    },
    {
     "name": "stderr",
     "output_type": "stream",
     "text": [
      "100%|███████████████████████████████████████████████████████████████████████████████████████████████████████████████████████████████████████████████████████████████████████████████████████████████████████████████████████████████████████| 48/48 [00:00<00:00, 1044.84it/s]\n",
      "100%|████████████████████████████████████████████████████████████████████████████████████████████████████████████████████████████████████████████████████████████████████████████████████████████████████████████████████████████████████████| 20/20 [00:00<00:00, 674.93it/s]\n"
     ]
    },
    {
     "name": "stdout",
     "output_type": "stream",
     "text": [
      " Accuracy: 90.0%\n",
      "this dataset have already been processed, check at: \n",
      " ../Records/output/train/2022-04-22_poker_homeohots_True_[8, 16]_[1800.0, 3600.0]_[2, 4]_48_(None, None)/\n",
      "this dataset have already been processed, check at: \n",
      " ../Records/output/test/2022-04-22_poker_homeohots_True_[8, 16]_[1800.0, 3600.0]_[2, 4]_20_(None, None)/\n"
     ]
    },
    {
     "name": "stderr",
     "output_type": "stream",
     "text": [
      "100%|███████████████████████████████████████████████████████████████████████████████████████████████████████████████████████████████████████████████████████████████████████████████████████████████████████████████████████████████████████| 48/48 [00:00<00:00, 1048.24it/s]\n",
      "100%|████████████████████████████████████████████████████████████████████████████████████████████████████████████████████████████████████████████████████████████████████████████████████████████████████████████████████████████████████████| 20/20 [00:00<00:00, 636.68it/s]\n"
     ]
    },
    {
     "name": "stdout",
     "output_type": "stream",
     "text": [
      " Accuracy: 100.0%\n",
      "this dataset have already been processed, check at: \n",
      " ../Records/output/train/2022-04-22_poker_homeohots_True_[16, 32]_[1800.0, 7200.0]_[2, 4]_48_(None, None)/\n",
      "this dataset have already been processed, check at: \n",
      " ../Records/output/test/2022-04-22_poker_homeohots_True_[16, 32]_[1800.0, 7200.0]_[2, 4]_20_(None, None)/\n"
     ]
    },
    {
     "name": "stderr",
     "output_type": "stream",
     "text": [
      "100%|████████████████████████████████████████████████████████████████████████████████████████████████████████████████████████████████████████████████████████████████████████████████████████████████████████████████████████████████████████| 48/48 [00:00<00:00, 968.86it/s]\n",
      "100%|████████████████████████████████████████████████████████████████████████████████████████████████████████████████████████████████████████████████████████████████████████████████████████████████████████████████████████████████████████| 20/20 [00:00<00:00, 625.20it/s]\n"
     ]
    },
    {
     "name": "stdout",
     "output_type": "stream",
     "text": [
      " Accuracy: 90.0%\n",
      "this dataset have already been processed, check at: \n",
      " ../Records/output/train/2022-04-22_poker_homeohots_True_[4, 8]_[200.0, 200.0]_[4, 8]_48_(None, None)/\n",
      "this dataset have already been processed, check at: \n",
      " ../Records/output/test/2022-04-22_poker_homeohots_True_[4, 8]_[200.0, 200.0]_[4, 8]_20_(None, None)/\n"
     ]
    },
    {
     "name": "stderr",
     "output_type": "stream",
     "text": [
      "100%|████████████████████████████████████████████████████████████████████████████████████████████████████████████████████████████████████████████████████████████████████████████████████████████████████████████████████████████████████████| 48/48 [00:00<00:00, 973.42it/s]\n",
      "100%|████████████████████████████████████████████████████████████████████████████████████████████████████████████████████████████████████████████████████████████████████████████████████████████████████████████████████████████████████████| 20/20 [00:00<00:00, 642.15it/s]\n"
     ]
    },
    {
     "name": "stdout",
     "output_type": "stream",
     "text": [
      " Accuracy: 45.0%\n",
      "this dataset have already been processed, check at: \n",
      " ../Records/output/train/2022-04-22_poker_homeohots_True_[8, 16]_[200.0, 400.0]_[4, 8]_48_(None, None)/\n",
      "this dataset have already been processed, check at: \n",
      " ../Records/output/test/2022-04-22_poker_homeohots_True_[8, 16]_[200.0, 400.0]_[4, 8]_20_(None, None)/\n"
     ]
    },
    {
     "name": "stderr",
     "output_type": "stream",
     "text": [
      "100%|███████████████████████████████████████████████████████████████████████████████████████████████████████████████████████████████████████████████████████████████████████████████████████████████████████████████████████████████████████| 48/48 [00:00<00:00, 1054.22it/s]\n",
      "100%|████████████████████████████████████████████████████████████████████████████████████████████████████████████████████████████████████████████████████████████████████████████████████████████████████████████████████████████████████████| 20/20 [00:00<00:00, 692.54it/s]\n"
     ]
    },
    {
     "name": "stdout",
     "output_type": "stream",
     "text": [
      " Accuracy: 80.0%\n",
      "this dataset have already been processed, check at: \n",
      " ../Records/output/train/2022-04-22_poker_homeohots_True_[16, 32]_[200.0, 800.0]_[4, 8]_48_(None, None)/\n",
      "this dataset have already been processed, check at: \n",
      " ../Records/output/test/2022-04-22_poker_homeohots_True_[16, 32]_[200.0, 800.0]_[4, 8]_20_(None, None)/\n"
     ]
    },
    {
     "name": "stderr",
     "output_type": "stream",
     "text": [
      "100%|███████████████████████████████████████████████████████████████████████████████████████████████████████████████████████████████████████████████████████████████████████████████████████████████████████████████████████████████████████| 48/48 [00:00<00:00, 1049.70it/s]\n",
      "100%|████████████████████████████████████████████████████████████████████████████████████████████████████████████████████████████████████████████████████████████████████████████████████████████████████████████████████████████████████████| 20/20 [00:00<00:00, 689.47it/s]\n"
     ]
    },
    {
     "name": "stdout",
     "output_type": "stream",
     "text": [
      " Accuracy: 75.0%\n",
      "this dataset have already been processed, check at: \n",
      " ../Records/output/train/2022-04-22_poker_homeohots_True_[4, 8]_[400.0, 400.0]_[4, 8]_48_(None, None)/\n",
      "this dataset have already been processed, check at: \n",
      " ../Records/output/test/2022-04-22_poker_homeohots_True_[4, 8]_[400.0, 400.0]_[4, 8]_20_(None, None)/\n"
     ]
    },
    {
     "name": "stderr",
     "output_type": "stream",
     "text": [
      "100%|███████████████████████████████████████████████████████████████████████████████████████████████████████████████████████████████████████████████████████████████████████████████████████████████████████████████████████████████████████| 48/48 [00:00<00:00, 1050.56it/s]\n",
      "100%|████████████████████████████████████████████████████████████████████████████████████████████████████████████████████████████████████████████████████████████████████████████████████████████████████████████████████████████████████████| 20/20 [00:00<00:00, 675.48it/s]\n"
     ]
    },
    {
     "name": "stdout",
     "output_type": "stream",
     "text": [
      " Accuracy: 80.0%\n",
      "this dataset have already been processed, check at: \n",
      " ../Records/output/train/2022-04-22_poker_homeohots_True_[8, 16]_[400.0, 800.0]_[4, 8]_48_(None, None)/\n",
      "this dataset have already been processed, check at: \n",
      " ../Records/output/test/2022-04-22_poker_homeohots_True_[8, 16]_[400.0, 800.0]_[4, 8]_20_(None, None)/\n"
     ]
    },
    {
     "name": "stderr",
     "output_type": "stream",
     "text": [
      "100%|███████████████████████████████████████████████████████████████████████████████████████████████████████████████████████████████████████████████████████████████████████████████████████████████████████████████████████████████████████| 48/48 [00:00<00:00, 1418.04it/s]\n",
      "100%|████████████████████████████████████████████████████████████████████████████████████████████████████████████████████████████████████████████████████████████████████████████████████████████████████████████████████████████████████████| 20/20 [00:00<00:00, 544.67it/s]\n"
     ]
    },
    {
     "name": "stdout",
     "output_type": "stream",
     "text": [
      " Accuracy: 95.0%\n",
      "this dataset have already been processed, check at: \n",
      " ../Records/output/train/2022-04-22_poker_homeohots_True_[16, 32]_[400.0, 1600.0]_[4, 8]_48_(None, None)/\n",
      "this dataset have already been processed, check at: \n",
      " ../Records/output/test/2022-04-22_poker_homeohots_True_[16, 32]_[400.0, 1600.0]_[4, 8]_20_(None, None)/\n"
     ]
    },
    {
     "name": "stderr",
     "output_type": "stream",
     "text": [
      "100%|███████████████████████████████████████████████████████████████████████████████████████████████████████████████████████████████████████████████████████████████████████████████████████████████████████████████████████████████████████| 48/48 [00:00<00:00, 1409.93it/s]\n",
      "100%|████████████████████████████████████████████████████████████████████████████████████████████████████████████████████████████████████████████████████████████████████████████████████████████████████████████████████████████████████████| 20/20 [00:00<00:00, 806.29it/s]\n"
     ]
    },
    {
     "name": "stdout",
     "output_type": "stream",
     "text": [
      " Accuracy: 95.0%\n",
      "this dataset have already been processed, check at: \n",
      " ../Records/output/train/2022-04-22_poker_homeohots_True_[4, 8]_[600.0, 600.0]_[4, 8]_48_(None, None)/\n",
      "this dataset have already been processed, check at: \n",
      " ../Records/output/test/2022-04-22_poker_homeohots_True_[4, 8]_[600.0, 600.0]_[4, 8]_20_(None, None)/\n"
     ]
    },
    {
     "name": "stderr",
     "output_type": "stream",
     "text": [
      "100%|███████████████████████████████████████████████████████████████████████████████████████████████████████████████████████████████████████████████████████████████████████████████████████████████████████████████████████████████████████| 48/48 [00:00<00:00, 1078.82it/s]\n",
      "100%|████████████████████████████████████████████████████████████████████████████████████████████████████████████████████████████████████████████████████████████████████████████████████████████████████████████████████████████████████████| 20/20 [00:00<00:00, 687.77it/s]\n"
     ]
    },
    {
     "name": "stdout",
     "output_type": "stream",
     "text": [
      " Accuracy: 100.0%\n",
      "this dataset have already been processed, check at: \n",
      " ../Records/output/train/2022-04-22_poker_homeohots_True_[8, 16]_[600.0, 1200.0]_[4, 8]_48_(None, None)/\n",
      "this dataset have already been processed, check at: \n",
      " ../Records/output/test/2022-04-22_poker_homeohots_True_[8, 16]_[600.0, 1200.0]_[4, 8]_20_(None, None)/\n"
     ]
    },
    {
     "name": "stderr",
     "output_type": "stream",
     "text": [
      "100%|████████████████████████████████████████████████████████████████████████████████████████████████████████████████████████████████████████████████████████████████████████████████████████████████████████████████████████████████████████| 48/48 [00:00<00:00, 980.91it/s]\n",
      "100%|████████████████████████████████████████████████████████████████████████████████████████████████████████████████████████████████████████████████████████████████████████████████████████████████████████████████████████████████████████| 20/20 [00:00<00:00, 643.10it/s]\n"
     ]
    },
    {
     "name": "stdout",
     "output_type": "stream",
     "text": [
      " Accuracy: 100.0%\n",
      "this dataset have already been processed, check at: \n",
      " ../Records/output/train/2022-04-22_poker_homeohots_True_[16, 32]_[600.0, 2400.0]_[4, 8]_48_(None, None)/\n",
      "this dataset have already been processed, check at: \n",
      " ../Records/output/test/2022-04-22_poker_homeohots_True_[16, 32]_[600.0, 2400.0]_[4, 8]_20_(None, None)/\n"
     ]
    },
    {
     "name": "stderr",
     "output_type": "stream",
     "text": [
      "100%|████████████████████████████████████████████████████████████████████████████████████████████████████████████████████████████████████████████████████████████████████████████████████████████████████████████████████████████████████████| 48/48 [00:00<00:00, 986.76it/s]\n",
      "100%|████████████████████████████████████████████████████████████████████████████████████████████████████████████████████████████████████████████████████████████████████████████████████████████████████████████████████████████████████████| 20/20 [00:00<00:00, 642.30it/s]\n"
     ]
    },
    {
     "name": "stdout",
     "output_type": "stream",
     "text": [
      " Accuracy: 95.0%\n",
      "this dataset have already been processed, check at: \n",
      " ../Records/output/train/2022-04-22_poker_homeohots_True_[4, 8]_[800.0, 800.0]_[4, 8]_48_(None, None)/\n",
      "this dataset have already been processed, check at: \n",
      " ../Records/output/test/2022-04-22_poker_homeohots_True_[4, 8]_[800.0, 800.0]_[4, 8]_20_(None, None)/\n"
     ]
    },
    {
     "name": "stderr",
     "output_type": "stream",
     "text": [
      "100%|████████████████████████████████████████████████████████████████████████████████████████████████████████████████████████████████████████████████████████████████████████████████████████████████████████████████████████████████████████| 48/48 [00:00<00:00, 868.41it/s]\n",
      "100%|████████████████████████████████████████████████████████████████████████████████████████████████████████████████████████████████████████████████████████████████████████████████████████████████████████████████████████████████████████| 20/20 [00:00<00:00, 680.49it/s]\n"
     ]
    },
    {
     "name": "stdout",
     "output_type": "stream",
     "text": [
      " Accuracy: 90.0%\n",
      "this dataset have already been processed, check at: \n",
      " ../Records/output/train/2022-04-22_poker_homeohots_True_[8, 16]_[800.0, 1600.0]_[4, 8]_48_(None, None)/\n",
      "this dataset have already been processed, check at: \n",
      " ../Records/output/test/2022-04-22_poker_homeohots_True_[8, 16]_[800.0, 1600.0]_[4, 8]_20_(None, None)/\n"
     ]
    },
    {
     "name": "stderr",
     "output_type": "stream",
     "text": [
      "100%|███████████████████████████████████████████████████████████████████████████████████████████████████████████████████████████████████████████████████████████████████████████████████████████████████████████████████████████████████████| 48/48 [00:00<00:00, 1047.38it/s]\n",
      "100%|████████████████████████████████████████████████████████████████████████████████████████████████████████████████████████████████████████████████████████████████████████████████████████████████████████████████████████████████████████| 20/20 [00:00<00:00, 650.13it/s]\n"
     ]
    },
    {
     "name": "stdout",
     "output_type": "stream",
     "text": [
      " Accuracy: 95.0%\n",
      "this dataset have already been processed, check at: \n",
      " ../Records/output/train/2022-04-22_poker_homeohots_True_[16, 32]_[800.0, 3200.0]_[4, 8]_48_(None, None)/\n",
      "this dataset have already been processed, check at: \n",
      " ../Records/output/test/2022-04-22_poker_homeohots_True_[16, 32]_[800.0, 3200.0]_[4, 8]_20_(None, None)/\n"
     ]
    },
    {
     "name": "stderr",
     "output_type": "stream",
     "text": [
      "100%|████████████████████████████████████████████████████████████████████████████████████████████████████████████████████████████████████████████████████████████████████████████████████████████████████████████████████████████████████████| 48/48 [00:00<00:00, 898.38it/s]\n",
      "100%|████████████████████████████████████████████████████████████████████████████████████████████████████████████████████████████████████████████████████████████████████████████████████████████████████████████████████████████████████████| 20/20 [00:00<00:00, 632.69it/s]\n"
     ]
    },
    {
     "name": "stdout",
     "output_type": "stream",
     "text": [
      " Accuracy: 100.0%\n",
      "this dataset have already been processed, check at: \n",
      " ../Records/output/train/2022-04-22_poker_homeohots_True_[4, 8]_[1000.0, 1000.0]_[4, 8]_48_(None, None)/\n",
      "this dataset have already been processed, check at: \n",
      " ../Records/output/test/2022-04-22_poker_homeohots_True_[4, 8]_[1000.0, 1000.0]_[4, 8]_20_(None, None)/\n"
     ]
    },
    {
     "name": "stderr",
     "output_type": "stream",
     "text": [
      "100%|████████████████████████████████████████████████████████████████████████████████████████████████████████████████████████████████████████████████████████████████████████████████████████████████████████████████████████████████████████| 48/48 [00:00<00:00, 963.13it/s]\n",
      "100%|████████████████████████████████████████████████████████████████████████████████████████████████████████████████████████████████████████████████████████████████████████████████████████████████████████████████████████████████████████| 20/20 [00:00<00:00, 652.32it/s]\n"
     ]
    },
    {
     "name": "stdout",
     "output_type": "stream",
     "text": [
      " Accuracy: 85.0%\n",
      "this dataset have already been processed, check at: \n",
      " ../Records/output/train/2022-04-22_poker_homeohots_True_[8, 16]_[1000.0, 2000.0]_[4, 8]_48_(None, None)/\n",
      "this dataset have already been processed, check at: \n",
      " ../Records/output/test/2022-04-22_poker_homeohots_True_[8, 16]_[1000.0, 2000.0]_[4, 8]_20_(None, None)/\n"
     ]
    },
    {
     "name": "stderr",
     "output_type": "stream",
     "text": [
      "100%|████████████████████████████████████████████████████████████████████████████████████████████████████████████████████████████████████████████████████████████████████████████████████████████████████████████████████████████████████████| 48/48 [00:00<00:00, 951.54it/s]\n",
      "100%|████████████████████████████████████████████████████████████████████████████████████████████████████████████████████████████████████████████████████████████████████████████████████████████████████████████████████████████████████████| 20/20 [00:00<00:00, 660.67it/s]\n"
     ]
    },
    {
     "name": "stdout",
     "output_type": "stream",
     "text": [
      " Accuracy: 100.0%\n",
      "this dataset have already been processed, check at: \n",
      " ../Records/output/train/2022-04-22_poker_homeohots_True_[16, 32]_[1000.0, 4000.0]_[4, 8]_48_(None, None)/\n",
      "this dataset have already been processed, check at: \n",
      " ../Records/output/test/2022-04-22_poker_homeohots_True_[16, 32]_[1000.0, 4000.0]_[4, 8]_20_(None, None)/\n"
     ]
    },
    {
     "name": "stderr",
     "output_type": "stream",
     "text": [
      "100%|████████████████████████████████████████████████████████████████████████████████████████████████████████████████████████████████████████████████████████████████████████████████████████████████████████████████████████████████████████| 48/48 [00:00<00:00, 936.30it/s]\n",
      "100%|████████████████████████████████████████████████████████████████████████████████████████████████████████████████████████████████████████████████████████████████████████████████████████████████████████████████████████████████████████| 20/20 [00:00<00:00, 439.47it/s]\n"
     ]
    },
    {
     "name": "stdout",
     "output_type": "stream",
     "text": [
      " Accuracy: 95.0%\n",
      "this dataset have already been processed, check at: \n",
      " ../Records/output/train/2022-04-22_poker_homeohots_True_[4, 8]_[1200.0, 1200.0]_[4, 8]_48_(None, None)/\n",
      "this dataset have already been processed, check at: \n",
      " ../Records/output/test/2022-04-22_poker_homeohots_True_[4, 8]_[1200.0, 1200.0]_[4, 8]_20_(None, None)/\n"
     ]
    },
    {
     "name": "stderr",
     "output_type": "stream",
     "text": [
      "100%|███████████████████████████████████████████████████████████████████████████████████████████████████████████████████████████████████████████████████████████████████████████████████████████████████████████████████████████████████████| 48/48 [00:00<00:00, 1046.44it/s]\n",
      "100%|████████████████████████████████████████████████████████████████████████████████████████████████████████████████████████████████████████████████████████████████████████████████████████████████████████████████████████████████████████| 20/20 [00:00<00:00, 676.17it/s]\n"
     ]
    },
    {
     "name": "stdout",
     "output_type": "stream",
     "text": [
      " Accuracy: 100.0%\n",
      "this dataset have already been processed, check at: \n",
      " ../Records/output/train/2022-04-22_poker_homeohots_True_[8, 16]_[1200.0, 2400.0]_[4, 8]_48_(None, None)/\n",
      "this dataset have already been processed, check at: \n",
      " ../Records/output/test/2022-04-22_poker_homeohots_True_[8, 16]_[1200.0, 2400.0]_[4, 8]_20_(None, None)/\n"
     ]
    },
    {
     "name": "stderr",
     "output_type": "stream",
     "text": [
      "100%|███████████████████████████████████████████████████████████████████████████████████████████████████████████████████████████████████████████████████████████████████████████████████████████████████████████████████████████████████████| 48/48 [00:00<00:00, 1045.85it/s]\n",
      "100%|████████████████████████████████████████████████████████████████████████████████████████████████████████████████████████████████████████████████████████████████████████████████████████████████████████████████████████████████████████| 20/20 [00:00<00:00, 671.17it/s]\n"
     ]
    },
    {
     "name": "stdout",
     "output_type": "stream",
     "text": [
      " Accuracy: 95.0%\n",
      "this dataset have already been processed, check at: \n",
      " ../Records/output/train/2022-04-22_poker_homeohots_True_[16, 32]_[1200.0, 4800.0]_[4, 8]_48_(None, None)/\n",
      "this dataset have already been processed, check at: \n",
      " ../Records/output/test/2022-04-22_poker_homeohots_True_[16, 32]_[1200.0, 4800.0]_[4, 8]_20_(None, None)/\n"
     ]
    },
    {
     "name": "stderr",
     "output_type": "stream",
     "text": [
      "100%|████████████████████████████████████████████████████████████████████████████████████████████████████████████████████████████████████████████████████████████████████████████████████████████████████████████████████████████████████████| 48/48 [00:00<00:00, 971.34it/s]\n",
      "100%|████████████████████████████████████████████████████████████████████████████████████████████████████████████████████████████████████████████████████████████████████████████████████████████████████████████████████████████████████████| 20/20 [00:00<00:00, 643.24it/s]\n"
     ]
    },
    {
     "name": "stdout",
     "output_type": "stream",
     "text": [
      " Accuracy: 95.0%\n",
      "this dataset have already been processed, check at: \n",
      " ../Records/output/train/2022-04-22_poker_homeohots_True_[4, 8]_[1400.0, 1400.0]_[4, 8]_48_(None, None)/\n",
      "this dataset have already been processed, check at: \n",
      " ../Records/output/test/2022-04-22_poker_homeohots_True_[4, 8]_[1400.0, 1400.0]_[4, 8]_20_(None, None)/\n"
     ]
    },
    {
     "name": "stderr",
     "output_type": "stream",
     "text": [
      "100%|███████████████████████████████████████████████████████████████████████████████████████████████████████████████████████████████████████████████████████████████████████████████████████████████████████████████████████████████████████| 48/48 [00:00<00:00, 1049.72it/s]\n",
      "100%|████████████████████████████████████████████████████████████████████████████████████████████████████████████████████████████████████████████████████████████████████████████████████████████████████████████████████████████████████████| 20/20 [00:00<00:00, 669.85it/s]\n"
     ]
    },
    {
     "name": "stdout",
     "output_type": "stream",
     "text": [
      " Accuracy: 95.0%\n",
      "this dataset have already been processed, check at: \n",
      " ../Records/output/train/2022-04-22_poker_homeohots_True_[8, 16]_[1400.0, 2800.0]_[4, 8]_48_(None, None)/\n",
      "this dataset have already been processed, check at: \n",
      " ../Records/output/test/2022-04-22_poker_homeohots_True_[8, 16]_[1400.0, 2800.0]_[4, 8]_20_(None, None)/\n"
     ]
    },
    {
     "name": "stderr",
     "output_type": "stream",
     "text": [
      "100%|███████████████████████████████████████████████████████████████████████████████████████████████████████████████████████████████████████████████████████████████████████████████████████████████████████████████████████████████████████| 48/48 [00:00<00:00, 1043.19it/s]\n",
      "100%|████████████████████████████████████████████████████████████████████████████████████████████████████████████████████████████████████████████████████████████████████████████████████████████████████████████████████████████████████████| 20/20 [00:00<00:00, 674.49it/s]\n"
     ]
    },
    {
     "name": "stdout",
     "output_type": "stream",
     "text": [
      " Accuracy: 95.0%\n",
      "this dataset have already been processed, check at: \n",
      " ../Records/output/train/2022-04-22_poker_homeohots_True_[16, 32]_[1400.0, 5600.0]_[4, 8]_48_(None, None)/\n",
      "this dataset have already been processed, check at: \n",
      " ../Records/output/test/2022-04-22_poker_homeohots_True_[16, 32]_[1400.0, 5600.0]_[4, 8]_20_(None, None)/\n"
     ]
    },
    {
     "name": "stderr",
     "output_type": "stream",
     "text": [
      "100%|████████████████████████████████████████████████████████████████████████████████████████████████████████████████████████████████████████████████████████████████████████████████████████████████████████████████████████████████████████| 48/48 [00:00<00:00, 955.23it/s]\n",
      "100%|████████████████████████████████████████████████████████████████████████████████████████████████████████████████████████████████████████████████████████████████████████████████████████████████████████████████████████████████████████| 20/20 [00:00<00:00, 631.03it/s]\n"
     ]
    },
    {
     "name": "stdout",
     "output_type": "stream",
     "text": [
      " Accuracy: 95.0%\n",
      "this dataset have already been processed, check at: \n",
      " ../Records/output/train/2022-04-22_poker_homeohots_True_[4, 8]_[1600.0, 1600.0]_[4, 8]_48_(None, None)/\n",
      "this dataset have already been processed, check at: \n",
      " ../Records/output/test/2022-04-22_poker_homeohots_True_[4, 8]_[1600.0, 1600.0]_[4, 8]_20_(None, None)/\n"
     ]
    },
    {
     "name": "stderr",
     "output_type": "stream",
     "text": [
      "100%|███████████████████████████████████████████████████████████████████████████████████████████████████████████████████████████████████████████████████████████████████████████████████████████████████████████████████████████████████████| 48/48 [00:00<00:00, 1033.69it/s]\n",
      "100%|████████████████████████████████████████████████████████████████████████████████████████████████████████████████████████████████████████████████████████████████████████████████████████████████████████████████████████████████████████| 20/20 [00:00<00:00, 667.00it/s]\n"
     ]
    },
    {
     "name": "stdout",
     "output_type": "stream",
     "text": [
      " Accuracy: 90.0%\n",
      "this dataset have already been processed, check at: \n",
      " ../Records/output/train/2022-04-22_poker_homeohots_True_[8, 16]_[1600.0, 3200.0]_[4, 8]_48_(None, None)/\n",
      "this dataset have already been processed, check at: \n",
      " ../Records/output/test/2022-04-22_poker_homeohots_True_[8, 16]_[1600.0, 3200.0]_[4, 8]_20_(None, None)/\n"
     ]
    },
    {
     "name": "stderr",
     "output_type": "stream",
     "text": [
      "100%|███████████████████████████████████████████████████████████████████████████████████████████████████████████████████████████████████████████████████████████████████████████████████████████████████████████████████████████████████████| 48/48 [00:00<00:00, 1029.74it/s]\n",
      "100%|████████████████████████████████████████████████████████████████████████████████████████████████████████████████████████████████████████████████████████████████████████████████████████████████████████████████████████████████████████| 20/20 [00:00<00:00, 669.84it/s]\n"
     ]
    },
    {
     "name": "stdout",
     "output_type": "stream",
     "text": [
      " Accuracy: 90.0%\n",
      "this dataset have already been processed, check at: \n",
      " ../Records/output/train/2022-04-22_poker_homeohots_True_[16, 32]_[1600.0, 6400.0]_[4, 8]_48_(None, None)/\n",
      "this dataset have already been processed, check at: \n",
      " ../Records/output/test/2022-04-22_poker_homeohots_True_[16, 32]_[1600.0, 6400.0]_[4, 8]_20_(None, None)/\n"
     ]
    },
    {
     "name": "stderr",
     "output_type": "stream",
     "text": [
      "100%|████████████████████████████████████████████████████████████████████████████████████████████████████████████████████████████████████████████████████████████████████████████████████████████████████████████████████████████████████████| 48/48 [00:00<00:00, 990.62it/s]\n",
      "100%|████████████████████████████████████████████████████████████████████████████████████████████████████████████████████████████████████████████████████████████████████████████████████████████████████████████████████████████████████████| 20/20 [00:00<00:00, 661.05it/s]\n"
     ]
    },
    {
     "name": "stdout",
     "output_type": "stream",
     "text": [
      " Accuracy: 95.0%\n",
      "this dataset have already been processed, check at: \n",
      " ../Records/output/train/2022-04-22_poker_homeohots_True_[4, 8]_[1800.0, 1800.0]_[4, 8]_48_(None, None)/\n",
      "this dataset have already been processed, check at: \n",
      " ../Records/output/test/2022-04-22_poker_homeohots_True_[4, 8]_[1800.0, 1800.0]_[4, 8]_20_(None, None)/\n"
     ]
    },
    {
     "name": "stderr",
     "output_type": "stream",
     "text": [
      "100%|███████████████████████████████████████████████████████████████████████████████████████████████████████████████████████████████████████████████████████████████████████████████████████████████████████████████████████████████████████| 48/48 [00:00<00:00, 1033.88it/s]\n",
      "100%|████████████████████████████████████████████████████████████████████████████████████████████████████████████████████████████████████████████████████████████████████████████████████████████████████████████████████████████████████████| 20/20 [00:00<00:00, 685.99it/s]\n"
     ]
    },
    {
     "name": "stdout",
     "output_type": "stream",
     "text": [
      " Accuracy: 90.0%\n",
      "this dataset have already been processed, check at: \n",
      " ../Records/output/train/2022-04-22_poker_homeohots_True_[8, 16]_[1800.0, 3600.0]_[4, 8]_48_(None, None)/\n",
      "this dataset have already been processed, check at: \n",
      " ../Records/output/test/2022-04-22_poker_homeohots_True_[8, 16]_[1800.0, 3600.0]_[4, 8]_20_(None, None)/\n"
     ]
    },
    {
     "name": "stderr",
     "output_type": "stream",
     "text": [
      "100%|███████████████████████████████████████████████████████████████████████████████████████████████████████████████████████████████████████████████████████████████████████████████████████████████████████████████████████████████████████| 48/48 [00:00<00:00, 1003.01it/s]\n",
      "100%|████████████████████████████████████████████████████████████████████████████████████████████████████████████████████████████████████████████████████████████████████████████████████████████████████████████████████████████████████████| 20/20 [00:00<00:00, 595.11it/s]\n"
     ]
    },
    {
     "name": "stdout",
     "output_type": "stream",
     "text": [
      " Accuracy: 90.0%\n",
      "this dataset have already been processed, check at: \n",
      " ../Records/output/train/2022-04-22_poker_homeohots_True_[16, 32]_[1800.0, 7200.0]_[4, 8]_48_(None, None)/\n",
      "this dataset have already been processed, check at: \n",
      " ../Records/output/test/2022-04-22_poker_homeohots_True_[16, 32]_[1800.0, 7200.0]_[4, 8]_20_(None, None)/\n"
     ]
    },
    {
     "name": "stderr",
     "output_type": "stream",
     "text": [
      "100%|████████████████████████████████████████████████████████████████████████████████████████████████████████████████████████████████████████████████████████████████████████████████████████████████████████████████████████████████████████| 48/48 [00:00<00:00, 942.63it/s]\n",
      "100%|████████████████████████████████████████████████████████████████████████████████████████████████████████████████████████████████████████████████████████████████████████████████████████████████████████████████████████████████████████| 20/20 [00:00<00:00, 570.29it/s]\n"
     ]
    },
    {
     "name": "stdout",
     "output_type": "stream",
     "text": [
      " Accuracy: 85.0%\n",
      "this dataset have already been processed, check at: \n",
      " ../Records/output/train/2022-04-22_poker_homeohots_True_[4, 8, 16]_[200.0, 200.0, 200.0]_[2, 4, 8]_48_(None, None)/\n",
      "this dataset have already been processed, check at: \n",
      " ../Records/output/test/2022-04-22_poker_homeohots_True_[4, 8, 16]_[200.0, 200.0, 200.0]_[2, 4, 8]_20_(None, None)/\n"
     ]
    },
    {
     "name": "stderr",
     "output_type": "stream",
     "text": [
      "100%|████████████████████████████████████████████████████████████████████████████████████████████████████████████████████████████████████████████████████████████████████████████████████████████████████████████████████████████████████████| 48/48 [00:00<00:00, 971.17it/s]\n",
      "100%|████████████████████████████████████████████████████████████████████████████████████████████████████████████████████████████████████████████████████████████████████████████████████████████████████████████████████████████████████████| 20/20 [00:00<00:00, 625.35it/s]\n"
     ]
    },
    {
     "name": "stdout",
     "output_type": "stream",
     "text": [
      " Accuracy: 35.0%\n",
      "this dataset have already been processed, check at: \n",
      " ../Records/output/train/2022-04-22_poker_homeohots_True_[8, 16, 32]_[200.0, 400.0, 200.0]_[2, 4, 8]_48_(None, None)/\n",
      "this dataset have already been processed, check at: \n",
      " ../Records/output/test/2022-04-22_poker_homeohots_True_[8, 16, 32]_[200.0, 400.0, 200.0]_[2, 4, 8]_20_(None, None)/\n"
     ]
    },
    {
     "name": "stderr",
     "output_type": "stream",
     "text": [
      "100%|████████████████████████████████████████████████████████████████████████████████████████████████████████████████████████████████████████████████████████████████████████████████████████████████████████████████████████████████████████| 48/48 [00:00<00:00, 965.03it/s]\n",
      "100%|████████████████████████████████████████████████████████████████████████████████████████████████████████████████████████████████████████████████████████████████████████████████████████████████████████████████████████████████████████| 20/20 [00:00<00:00, 663.24it/s]\n"
     ]
    },
    {
     "name": "stdout",
     "output_type": "stream",
     "text": [
      " Accuracy: 35.0%\n",
      "this dataset have already been processed, check at: \n",
      " ../Records/output/train/2022-04-22_poker_homeohots_True_[16, 32, 64]_[200.0, 800.0, 200.0]_[2, 4, 8]_48_(None, None)/\n",
      "this dataset have already been processed, check at: \n",
      " ../Records/output/test/2022-04-22_poker_homeohots_True_[16, 32, 64]_[200.0, 800.0, 200.0]_[2, 4, 8]_20_(None, None)/\n"
     ]
    },
    {
     "name": "stderr",
     "output_type": "stream",
     "text": [
      "100%|███████████████████████████████████████████████████████████████████████████████████████████████████████████████████████████████████████████████████████████████████████████████████████████████████████████████████████████████████████| 48/48 [00:00<00:00, 1011.72it/s]\n",
      "100%|████████████████████████████████████████████████████████████████████████████████████████████████████████████████████████████████████████████████████████████████████████████████████████████████████████████████████████████████████████| 20/20 [00:00<00:00, 555.24it/s]\n"
     ]
    },
    {
     "name": "stdout",
     "output_type": "stream",
     "text": [
      " Accuracy: 30.0%\n",
      "this dataset have already been processed, check at: \n",
      " ../Records/output/train/2022-04-22_poker_homeohots_True_[4, 8, 16]_[400.0, 400.0, 400.0]_[2, 4, 8]_48_(None, None)/\n",
      "this dataset have already been processed, check at: \n",
      " ../Records/output/test/2022-04-22_poker_homeohots_True_[4, 8, 16]_[400.0, 400.0, 400.0]_[2, 4, 8]_20_(None, None)/\n"
     ]
    },
    {
     "name": "stderr",
     "output_type": "stream",
     "text": [
      "100%|███████████████████████████████████████████████████████████████████████████████████████████████████████████████████████████████████████████████████████████████████████████████████████████████████████████████████████████████████████| 48/48 [00:00<00:00, 1015.31it/s]\n",
      "100%|████████████████████████████████████████████████████████████████████████████████████████████████████████████████████████████████████████████████████████████████████████████████████████████████████████████████████████████████████████| 20/20 [00:00<00:00, 671.32it/s]\n"
     ]
    },
    {
     "name": "stdout",
     "output_type": "stream",
     "text": [
      " Accuracy: 70.0%\n",
      "this dataset have already been processed, check at: \n",
      " ../Records/output/train/2022-04-22_poker_homeohots_True_[8, 16, 32]_[400.0, 800.0, 400.0]_[2, 4, 8]_48_(None, None)/\n",
      "this dataset have already been processed, check at: \n",
      " ../Records/output/test/2022-04-22_poker_homeohots_True_[8, 16, 32]_[400.0, 800.0, 400.0]_[2, 4, 8]_20_(None, None)/\n"
     ]
    },
    {
     "name": "stderr",
     "output_type": "stream",
     "text": [
      "100%|███████████████████████████████████████████████████████████████████████████████████████████████████████████████████████████████████████████████████████████████████████████████████████████████████████████████████████████████████████| 48/48 [00:00<00:00, 1027.52it/s]\n",
      "100%|████████████████████████████████████████████████████████████████████████████████████████████████████████████████████████████████████████████████████████████████████████████████████████████████████████████████████████████████████████| 20/20 [00:00<00:00, 667.09it/s]\n"
     ]
    },
    {
     "name": "stdout",
     "output_type": "stream",
     "text": [
      " Accuracy: 85.0%\n",
      "this dataset have already been processed, check at: \n",
      " ../Records/output/train/2022-04-22_poker_homeohots_True_[16, 32, 64]_[400.0, 1600.0, 400.0]_[2, 4, 8]_48_(None, None)/\n",
      "this dataset have already been processed, check at: \n",
      " ../Records/output/test/2022-04-22_poker_homeohots_True_[16, 32, 64]_[400.0, 1600.0, 400.0]_[2, 4, 8]_20_(None, None)/\n"
     ]
    },
    {
     "name": "stderr",
     "output_type": "stream",
     "text": [
      "100%|███████████████████████████████████████████████████████████████████████████████████████████████████████████████████████████████████████████████████████████████████████████████████████████████████████████████████████████████████████| 48/48 [00:00<00:00, 1042.46it/s]\n",
      "100%|████████████████████████████████████████████████████████████████████████████████████████████████████████████████████████████████████████████████████████████████████████████████████████████████████████████████████████████████████████| 20/20 [00:00<00:00, 667.36it/s]\n"
     ]
    },
    {
     "name": "stdout",
     "output_type": "stream",
     "text": [
      " Accuracy: 80.0%\n",
      "this dataset have already been processed, check at: \n",
      " ../Records/output/train/2022-04-22_poker_homeohots_True_[4, 8, 16]_[600.0, 600.0, 600.0]_[2, 4, 8]_48_(None, None)/\n",
      "this dataset have already been processed, check at: \n",
      " ../Records/output/test/2022-04-22_poker_homeohots_True_[4, 8, 16]_[600.0, 600.0, 600.0]_[2, 4, 8]_20_(None, None)/\n"
     ]
    },
    {
     "name": "stderr",
     "output_type": "stream",
     "text": [
      "100%|███████████████████████████████████████████████████████████████████████████████████████████████████████████████████████████████████████████████████████████████████████████████████████████████████████████████████████████████████████| 48/48 [00:00<00:00, 1025.64it/s]\n",
      "100%|████████████████████████████████████████████████████████████████████████████████████████████████████████████████████████████████████████████████████████████████████████████████████████████████████████████████████████████████████████| 20/20 [00:00<00:00, 621.90it/s]\n"
     ]
    },
    {
     "name": "stdout",
     "output_type": "stream",
     "text": [
      " Accuracy: 95.0%\n",
      "this dataset have already been processed, check at: \n",
      " ../Records/output/train/2022-04-22_poker_homeohots_True_[8, 16, 32]_[600.0, 1200.0, 600.0]_[2, 4, 8]_48_(None, None)/\n",
      "this dataset have already been processed, check at: \n",
      " ../Records/output/test/2022-04-22_poker_homeohots_True_[8, 16, 32]_[600.0, 1200.0, 600.0]_[2, 4, 8]_20_(None, None)/\n"
     ]
    },
    {
     "name": "stderr",
     "output_type": "stream",
     "text": [
      "100%|████████████████████████████████████████████████████████████████████████████████████████████████████████████████████████████████████████████████████████████████████████████████████████████████████████████████████████████████████████| 48/48 [00:00<00:00, 889.62it/s]\n",
      "100%|████████████████████████████████████████████████████████████████████████████████████████████████████████████████████████████████████████████████████████████████████████████████████████████████████████████████████████████████████████| 20/20 [00:00<00:00, 712.81it/s]\n"
     ]
    },
    {
     "name": "stdout",
     "output_type": "stream",
     "text": [
      " Accuracy: 85.0%\n",
      "this dataset have already been processed, check at: \n",
      " ../Records/output/train/2022-04-22_poker_homeohots_True_[16, 32, 64]_[600.0, 2400.0, 600.0]_[2, 4, 8]_48_(None, None)/\n",
      "this dataset have already been processed, check at: \n",
      " ../Records/output/test/2022-04-22_poker_homeohots_True_[16, 32, 64]_[600.0, 2400.0, 600.0]_[2, 4, 8]_20_(None, None)/\n"
     ]
    },
    {
     "name": "stderr",
     "output_type": "stream",
     "text": [
      "100%|████████████████████████████████████████████████████████████████████████████████████████████████████████████████████████████████████████████████████████████████████████████████████████████████████████████████████████████████████████| 48/48 [00:00<00:00, 971.49it/s]\n",
      "100%|████████████████████████████████████████████████████████████████████████████████████████████████████████████████████████████████████████████████████████████████████████████████████████████████████████████████████████████████████████| 20/20 [00:00<00:00, 621.48it/s]\n"
     ]
    },
    {
     "name": "stdout",
     "output_type": "stream",
     "text": [
      " Accuracy: 95.0%\n",
      "this dataset have already been processed, check at: \n",
      " ../Records/output/train/2022-04-22_poker_homeohots_True_[4, 8, 16]_[800.0, 800.0, 800.0]_[2, 4, 8]_48_(None, None)/\n",
      "this dataset have already been processed, check at: \n",
      " ../Records/output/test/2022-04-22_poker_homeohots_True_[4, 8, 16]_[800.0, 800.0, 800.0]_[2, 4, 8]_20_(None, None)/\n"
     ]
    },
    {
     "name": "stderr",
     "output_type": "stream",
     "text": [
      "100%|███████████████████████████████████████████████████████████████████████████████████████████████████████████████████████████████████████████████████████████████████████████████████████████████████████████████████████████████████████| 48/48 [00:00<00:00, 1032.13it/s]\n",
      "100%|████████████████████████████████████████████████████████████████████████████████████████████████████████████████████████████████████████████████████████████████████████████████████████████████████████████████████████████████████████| 20/20 [00:00<00:00, 637.96it/s]\n"
     ]
    },
    {
     "name": "stdout",
     "output_type": "stream",
     "text": [
      " Accuracy: 95.0%\n",
      "this dataset have already been processed, check at: \n",
      " ../Records/output/train/2022-04-22_poker_homeohots_True_[8, 16, 32]_[800.0, 1600.0, 800.0]_[2, 4, 8]_48_(None, None)/\n",
      "this dataset have already been processed, check at: \n",
      " ../Records/output/test/2022-04-22_poker_homeohots_True_[8, 16, 32]_[800.0, 1600.0, 800.0]_[2, 4, 8]_20_(None, None)/\n"
     ]
    },
    {
     "name": "stderr",
     "output_type": "stream",
     "text": [
      "100%|███████████████████████████████████████████████████████████████████████████████████████████████████████████████████████████████████████████████████████████████████████████████████████████████████████████████████████████████████████| 48/48 [00:00<00:00, 1047.47it/s]\n",
      "100%|████████████████████████████████████████████████████████████████████████████████████████████████████████████████████████████████████████████████████████████████████████████████████████████████████████████████████████████████████████| 20/20 [00:00<00:00, 640.56it/s]\n"
     ]
    },
    {
     "name": "stdout",
     "output_type": "stream",
     "text": [
      " Accuracy: 85.0%\n",
      "this dataset have already been processed, check at: \n",
      " ../Records/output/train/2022-04-22_poker_homeohots_True_[16, 32, 64]_[800.0, 3200.0, 800.0]_[2, 4, 8]_48_(None, None)/\n",
      "this dataset have already been processed, check at: \n",
      " ../Records/output/test/2022-04-22_poker_homeohots_True_[16, 32, 64]_[800.0, 3200.0, 800.0]_[2, 4, 8]_20_(None, None)/\n"
     ]
    },
    {
     "name": "stderr",
     "output_type": "stream",
     "text": [
      "100%|███████████████████████████████████████████████████████████████████████████████████████████████████████████████████████████████████████████████████████████████████████████████████████████████████████████████████████████████████████| 48/48 [00:00<00:00, 1023.79it/s]\n",
      "100%|████████████████████████████████████████████████████████████████████████████████████████████████████████████████████████████████████████████████████████████████████████████████████████████████████████████████████████████████████████| 20/20 [00:00<00:00, 628.55it/s]\n"
     ]
    },
    {
     "name": "stdout",
     "output_type": "stream",
     "text": [
      " Accuracy: 85.0%\n",
      "this dataset have already been processed, check at: \n",
      " ../Records/output/train/2022-04-22_poker_homeohots_True_[4, 8, 16]_[1000.0, 1000.0, 1000.0]_[2, 4, 8]_48_(None, None)/\n",
      "this dataset have already been processed, check at: \n",
      " ../Records/output/test/2022-04-22_poker_homeohots_True_[4, 8, 16]_[1000.0, 1000.0, 1000.0]_[2, 4, 8]_20_(None, None)/\n"
     ]
    },
    {
     "name": "stderr",
     "output_type": "stream",
     "text": [
      "100%|███████████████████████████████████████████████████████████████████████████████████████████████████████████████████████████████████████████████████████████████████████████████████████████████████████████████████████████████████████| 48/48 [00:00<00:00, 1041.53it/s]\n",
      "100%|████████████████████████████████████████████████████████████████████████████████████████████████████████████████████████████████████████████████████████████████████████████████████████████████████████████████████████████████████████| 20/20 [00:00<00:00, 635.06it/s]\n"
     ]
    },
    {
     "name": "stdout",
     "output_type": "stream",
     "text": [
      " Accuracy: 90.0%\n",
      "this dataset have already been processed, check at: \n",
      " ../Records/output/train/2022-04-22_poker_homeohots_True_[8, 16, 32]_[1000.0, 2000.0, 1000.0]_[2, 4, 8]_48_(None, None)/\n",
      "this dataset have already been processed, check at: \n",
      " ../Records/output/test/2022-04-22_poker_homeohots_True_[8, 16, 32]_[1000.0, 2000.0, 1000.0]_[2, 4, 8]_20_(None, None)/\n"
     ]
    },
    {
     "name": "stderr",
     "output_type": "stream",
     "text": [
      "100%|███████████████████████████████████████████████████████████████████████████████████████████████████████████████████████████████████████████████████████████████████████████████████████████████████████████████████████████████████████| 48/48 [00:00<00:00, 1056.39it/s]\n",
      "100%|████████████████████████████████████████████████████████████████████████████████████████████████████████████████████████████████████████████████████████████████████████████████████████████████████████████████████████████████████████| 20/20 [00:00<00:00, 539.04it/s]\n"
     ]
    },
    {
     "name": "stdout",
     "output_type": "stream",
     "text": [
      " Accuracy: 90.0%\n",
      "this dataset have already been processed, check at: \n",
      " ../Records/output/train/2022-04-22_poker_homeohots_True_[16, 32, 64]_[1000.0, 4000.0, 1000.0]_[2, 4, 8]_48_(None, None)/\n",
      "this dataset have already been processed, check at: \n",
      " ../Records/output/test/2022-04-22_poker_homeohots_True_[16, 32, 64]_[1000.0, 4000.0, 1000.0]_[2, 4, 8]_20_(None, None)/\n"
     ]
    },
    {
     "name": "stderr",
     "output_type": "stream",
     "text": [
      "100%|████████████████████████████████████████████████████████████████████████████████████████████████████████████████████████████████████████████████████████████████████████████████████████████████████████████████████████████████████████| 48/48 [00:00<00:00, 956.91it/s]\n",
      "100%|████████████████████████████████████████████████████████████████████████████████████████████████████████████████████████████████████████████████████████████████████████████████████████████████████████████████████████████████████████| 20/20 [00:00<00:00, 678.00it/s]\n"
     ]
    },
    {
     "name": "stdout",
     "output_type": "stream",
     "text": [
      " Accuracy: 85.0%\n",
      "this dataset have already been processed, check at: \n",
      " ../Records/output/train/2022-04-22_poker_homeohots_True_[4, 8, 16]_[1200.0, 1200.0, 1200.0]_[2, 4, 8]_48_(None, None)/\n",
      "this dataset have already been processed, check at: \n",
      " ../Records/output/test/2022-04-22_poker_homeohots_True_[4, 8, 16]_[1200.0, 1200.0, 1200.0]_[2, 4, 8]_20_(None, None)/\n"
     ]
    },
    {
     "name": "stderr",
     "output_type": "stream",
     "text": [
      "100%|████████████████████████████████████████████████████████████████████████████████████████████████████████████████████████████████████████████████████████████████████████████████████████████████████████████████████████████████████████| 48/48 [00:00<00:00, 939.66it/s]\n",
      "100%|████████████████████████████████████████████████████████████████████████████████████████████████████████████████████████████████████████████████████████████████████████████████████████████████████████████████████████████████████████| 20/20 [00:00<00:00, 631.72it/s]\n"
     ]
    },
    {
     "name": "stdout",
     "output_type": "stream",
     "text": [
      " Accuracy: 95.0%\n",
      "this dataset have already been processed, check at: \n",
      " ../Records/output/train/2022-04-22_poker_homeohots_True_[8, 16, 32]_[1200.0, 2400.0, 1200.0]_[2, 4, 8]_48_(None, None)/\n",
      "this dataset have already been processed, check at: \n",
      " ../Records/output/test/2022-04-22_poker_homeohots_True_[8, 16, 32]_[1200.0, 2400.0, 1200.0]_[2, 4, 8]_20_(None, None)/\n"
     ]
    },
    {
     "name": "stderr",
     "output_type": "stream",
     "text": [
      "100%|███████████████████████████████████████████████████████████████████████████████████████████████████████████████████████████████████████████████████████████████████████████████████████████████████████████████████████████████████████| 48/48 [00:00<00:00, 1047.21it/s]\n",
      "100%|████████████████████████████████████████████████████████████████████████████████████████████████████████████████████████████████████████████████████████████████████████████████████████████████████████████████████████████████████████| 20/20 [00:00<00:00, 638.66it/s]\n"
     ]
    },
    {
     "name": "stdout",
     "output_type": "stream",
     "text": [
      " Accuracy: 85.0%\n",
      "this dataset have already been processed, check at: \n",
      " ../Records/output/train/2022-04-22_poker_homeohots_True_[16, 32, 64]_[1200.0, 4800.0, 1200.0]_[2, 4, 8]_48_(None, None)/\n",
      "this dataset have already been processed, check at: \n",
      " ../Records/output/test/2022-04-22_poker_homeohots_True_[16, 32, 64]_[1200.0, 4800.0, 1200.0]_[2, 4, 8]_20_(None, None)/\n"
     ]
    },
    {
     "name": "stderr",
     "output_type": "stream",
     "text": [
      "100%|████████████████████████████████████████████████████████████████████████████████████████████████████████████████████████████████████████████████████████████████████████████████████████████████████████████████████████████████████████| 48/48 [00:00<00:00, 943.87it/s]\n",
      "100%|████████████████████████████████████████████████████████████████████████████████████████████████████████████████████████████████████████████████████████████████████████████████████████████████████████████████████████████████████████| 20/20 [00:00<00:00, 649.57it/s]\n"
     ]
    },
    {
     "name": "stdout",
     "output_type": "stream",
     "text": [
      " Accuracy: 90.0%\n",
      "this dataset have already been processed, check at: \n",
      " ../Records/output/train/2022-04-22_poker_homeohots_True_[4, 8, 16]_[1400.0, 1400.0, 1400.0]_[2, 4, 8]_48_(None, None)/\n",
      "this dataset have already been processed, check at: \n",
      " ../Records/output/test/2022-04-22_poker_homeohots_True_[4, 8, 16]_[1400.0, 1400.0, 1400.0]_[2, 4, 8]_20_(None, None)/\n"
     ]
    },
    {
     "name": "stderr",
     "output_type": "stream",
     "text": [
      "100%|███████████████████████████████████████████████████████████████████████████████████████████████████████████████████████████████████████████████████████████████████████████████████████████████████████████████████████████████████████| 48/48 [00:00<00:00, 1054.89it/s]\n",
      "100%|████████████████████████████████████████████████████████████████████████████████████████████████████████████████████████████████████████████████████████████████████████████████████████████████████████████████████████████████████████| 20/20 [00:00<00:00, 638.54it/s]\n"
     ]
    },
    {
     "name": "stdout",
     "output_type": "stream",
     "text": [
      " Accuracy: 90.0%\n",
      "this dataset have already been processed, check at: \n",
      " ../Records/output/train/2022-04-22_poker_homeohots_True_[8, 16, 32]_[1400.0, 2800.0, 1400.0]_[2, 4, 8]_48_(None, None)/\n",
      "this dataset have already been processed, check at: \n",
      " ../Records/output/test/2022-04-22_poker_homeohots_True_[8, 16, 32]_[1400.0, 2800.0, 1400.0]_[2, 4, 8]_20_(None, None)/\n"
     ]
    },
    {
     "name": "stderr",
     "output_type": "stream",
     "text": [
      "100%|████████████████████████████████████████████████████████████████████████████████████████████████████████████████████████████████████████████████████████████████████████████████████████████████████████████████████████████████████████| 48/48 [00:00<00:00, 983.73it/s]\n",
      "100%|████████████████████████████████████████████████████████████████████████████████████████████████████████████████████████████████████████████████████████████████████████████████████████████████████████████████████████████████████████| 20/20 [00:00<00:00, 649.47it/s]\n"
     ]
    },
    {
     "name": "stdout",
     "output_type": "stream",
     "text": [
      " Accuracy: 95.0%\n",
      "this dataset have already been processed, check at: \n",
      " ../Records/output/train/2022-04-22_poker_homeohots_True_[16, 32, 64]_[1400.0, 5600.0, 1400.0]_[2, 4, 8]_48_(None, None)/\n",
      "this dataset have already been processed, check at: \n",
      " ../Records/output/test/2022-04-22_poker_homeohots_True_[16, 32, 64]_[1400.0, 5600.0, 1400.0]_[2, 4, 8]_20_(None, None)/\n"
     ]
    },
    {
     "name": "stderr",
     "output_type": "stream",
     "text": [
      "100%|████████████████████████████████████████████████████████████████████████████████████████████████████████████████████████████████████████████████████████████████████████████████████████████████████████████████████████████████████████| 48/48 [00:00<00:00, 938.50it/s]\n",
      "100%|████████████████████████████████████████████████████████████████████████████████████████████████████████████████████████████████████████████████████████████████████████████████████████████████████████████████████████████████████████| 20/20 [00:00<00:00, 651.33it/s]\n"
     ]
    },
    {
     "name": "stdout",
     "output_type": "stream",
     "text": [
      " Accuracy: 95.0%\n",
      "this dataset have already been processed, check at: \n",
      " ../Records/output/train/2022-04-22_poker_homeohots_True_[4, 8, 16]_[1600.0, 1600.0, 1600.0]_[2, 4, 8]_48_(None, None)/\n",
      "this dataset have already been processed, check at: \n",
      " ../Records/output/test/2022-04-22_poker_homeohots_True_[4, 8, 16]_[1600.0, 1600.0, 1600.0]_[2, 4, 8]_20_(None, None)/\n"
     ]
    },
    {
     "name": "stderr",
     "output_type": "stream",
     "text": [
      "100%|███████████████████████████████████████████████████████████████████████████████████████████████████████████████████████████████████████████████████████████████████████████████████████████████████████████████████████████████████████| 48/48 [00:00<00:00, 1030.55it/s]\n",
      "100%|████████████████████████████████████████████████████████████████████████████████████████████████████████████████████████████████████████████████████████████████████████████████████████████████████████████████████████████████████████| 20/20 [00:00<00:00, 631.37it/s]\n"
     ]
    },
    {
     "name": "stdout",
     "output_type": "stream",
     "text": [
      " Accuracy: 95.0%\n",
      "this dataset have already been processed, check at: \n",
      " ../Records/output/train/2022-04-22_poker_homeohots_True_[8, 16, 32]_[1600.0, 3200.0, 1600.0]_[2, 4, 8]_48_(None, None)/\n",
      "this dataset have already been processed, check at: \n",
      " ../Records/output/test/2022-04-22_poker_homeohots_True_[8, 16, 32]_[1600.0, 3200.0, 1600.0]_[2, 4, 8]_20_(None, None)/\n"
     ]
    },
    {
     "name": "stderr",
     "output_type": "stream",
     "text": [
      "100%|████████████████████████████████████████████████████████████████████████████████████████████████████████████████████████████████████████████████████████████████████████████████████████████████████████████████████████████████████████| 48/48 [00:00<00:00, 942.04it/s]\n",
      "100%|████████████████████████████████████████████████████████████████████████████████████████████████████████████████████████████████████████████████████████████████████████████████████████████████████████████████████████████████████████| 20/20 [00:00<00:00, 654.55it/s]\n"
     ]
    },
    {
     "name": "stdout",
     "output_type": "stream",
     "text": [
      " Accuracy: 95.0%\n",
      "this dataset have already been processed, check at: \n",
      " ../Records/output/train/2022-04-22_poker_homeohots_True_[16, 32, 64]_[1600.0, 6400.0, 1600.0]_[2, 4, 8]_48_(None, None)/\n",
      "this dataset have already been processed, check at: \n",
      " ../Records/output/test/2022-04-22_poker_homeohots_True_[16, 32, 64]_[1600.0, 6400.0, 1600.0]_[2, 4, 8]_20_(None, None)/\n"
     ]
    },
    {
     "name": "stderr",
     "output_type": "stream",
     "text": [
      "100%|████████████████████████████████████████████████████████████████████████████████████████████████████████████████████████████████████████████████████████████████████████████████████████████████████████████████████████████████████████| 48/48 [00:00<00:00, 940.33it/s]\n",
      "100%|████████████████████████████████████████████████████████████████████████████████████████████████████████████████████████████████████████████████████████████████████████████████████████████████████████████████████████████████████████| 20/20 [00:00<00:00, 660.60it/s]\n"
     ]
    },
    {
     "name": "stdout",
     "output_type": "stream",
     "text": [
      " Accuracy: 90.0%\n",
      "this dataset have already been processed, check at: \n",
      " ../Records/output/train/2022-04-22_poker_homeohots_True_[4, 8, 16]_[1800.0, 1800.0, 1800.0]_[2, 4, 8]_48_(None, None)/\n",
      "this dataset have already been processed, check at: \n",
      " ../Records/output/test/2022-04-22_poker_homeohots_True_[4, 8, 16]_[1800.0, 1800.0, 1800.0]_[2, 4, 8]_20_(None, None)/\n"
     ]
    },
    {
     "name": "stderr",
     "output_type": "stream",
     "text": [
      "100%|████████████████████████████████████████████████████████████████████████████████████████████████████████████████████████████████████████████████████████████████████████████████████████████████████████████████████████████████████████| 48/48 [00:00<00:00, 953.82it/s]\n",
      "100%|████████████████████████████████████████████████████████████████████████████████████████████████████████████████████████████████████████████████████████████████████████████████████████████████████████████████████████████████████████| 20/20 [00:00<00:00, 686.53it/s]\n"
     ]
    },
    {
     "name": "stdout",
     "output_type": "stream",
     "text": [
      " Accuracy: 90.0%\n",
      "this dataset have already been processed, check at: \n",
      " ../Records/output/train/2022-04-22_poker_homeohots_True_[8, 16, 32]_[1800.0, 3600.0, 1800.0]_[2, 4, 8]_48_(None, None)/\n",
      "this dataset have already been processed, check at: \n",
      " ../Records/output/test/2022-04-22_poker_homeohots_True_[8, 16, 32]_[1800.0, 3600.0, 1800.0]_[2, 4, 8]_20_(None, None)/\n"
     ]
    },
    {
     "name": "stderr",
     "output_type": "stream",
     "text": [
      "100%|███████████████████████████████████████████████████████████████████████████████████████████████████████████████████████████████████████████████████████████████████████████████████████████████████████████████████████████████████████| 48/48 [00:00<00:00, 1047.56it/s]\n",
      "100%|████████████████████████████████████████████████████████████████████████████████████████████████████████████████████████████████████████████████████████████████████████████████████████████████████████████████████████████████████████| 20/20 [00:00<00:00, 586.57it/s]\n"
     ]
    },
    {
     "name": "stdout",
     "output_type": "stream",
     "text": [
      " Accuracy: 95.0%\n",
      "this dataset have already been processed, check at: \n",
      " ../Records/output/train/2022-04-22_poker_homeohots_True_[16, 32, 64]_[1800.0, 7200.0, 1800.0]_[2, 4, 8]_48_(None, None)/\n",
      "this dataset have already been processed, check at: \n",
      " ../Records/output/test/2022-04-22_poker_homeohots_True_[16, 32, 64]_[1800.0, 7200.0, 1800.0]_[2, 4, 8]_20_(None, None)/\n"
     ]
    },
    {
     "name": "stderr",
     "output_type": "stream",
     "text": [
      "100%|████████████████████████████████████████████████████████████████████████████████████████████████████████████████████████████████████████████████████████████████████████████████████████████████████████████████████████████████████████| 48/48 [00:00<00:00, 965.26it/s]\n",
      "100%|████████████████████████████████████████████████████████████████████████████████████████████████████████████████████████████████████████████████████████████████████████████████████████████████████████████████████████████████████████| 20/20 [00:00<00:00, 511.14it/s]\n"
     ]
    },
    {
     "name": "stdout",
     "output_type": "stream",
     "text": [
      " Accuracy: 95.0%\n",
      "this dataset have already been processed, check at: \n",
      " ../Records/output/train/2022-04-22_poker_homeohots_True_[4, 8, 16]_[200.0, 200.0, 200.0]_[4, 8, 16]_48_(None, None)/\n",
      "this dataset have already been processed, check at: \n",
      " ../Records/output/test/2022-04-22_poker_homeohots_True_[4, 8, 16]_[200.0, 200.0, 200.0]_[4, 8, 16]_20_(None, None)/\n"
     ]
    },
    {
     "name": "stderr",
     "output_type": "stream",
     "text": [
      "100%|███████████████████████████████████████████████████████████████████████████████████████████████████████████████████████████████████████████████████████████████████████████████████████████████████████████████████████████████████████| 48/48 [00:00<00:00, 1070.70it/s]\n",
      "100%|████████████████████████████████████████████████████████████████████████████████████████████████████████████████████████████████████████████████████████████████████████████████████████████████████████████████████████████████████████| 20/20 [00:00<00:00, 674.14it/s]\n"
     ]
    },
    {
     "name": "stdout",
     "output_type": "stream",
     "text": [
      " Accuracy: 50.0%\n",
      "this dataset have already been processed, check at: \n",
      " ../Records/output/train/2022-04-22_poker_homeohots_True_[8, 16, 32]_[200.0, 400.0, 200.0]_[4, 8, 16]_48_(None, None)/\n",
      "this dataset have already been processed, check at: \n",
      " ../Records/output/test/2022-04-22_poker_homeohots_True_[8, 16, 32]_[200.0, 400.0, 200.0]_[4, 8, 16]_20_(None, None)/\n"
     ]
    },
    {
     "name": "stderr",
     "output_type": "stream",
     "text": [
      "100%|███████████████████████████████████████████████████████████████████████████████████████████████████████████████████████████████████████████████████████████████████████████████████████████████████████████████████████████████████████| 48/48 [00:00<00:00, 1055.06it/s]\n",
      "100%|████████████████████████████████████████████████████████████████████████████████████████████████████████████████████████████████████████████████████████████████████████████████████████████████████████████████████████████████████████| 20/20 [00:00<00:00, 669.72it/s]\n"
     ]
    },
    {
     "name": "stdout",
     "output_type": "stream",
     "text": [
      " Accuracy: 45.0%\n",
      "this dataset have already been processed, check at: \n",
      " ../Records/output/train/2022-04-22_poker_homeohots_True_[16, 32, 64]_[200.0, 800.0, 200.0]_[4, 8, 16]_48_(None, None)/\n",
      "this dataset have already been processed, check at: \n",
      " ../Records/output/test/2022-04-22_poker_homeohots_True_[16, 32, 64]_[200.0, 800.0, 200.0]_[4, 8, 16]_20_(None, None)/\n"
     ]
    },
    {
     "name": "stderr",
     "output_type": "stream",
     "text": [
      "100%|███████████████████████████████████████████████████████████████████████████████████████████████████████████████████████████████████████████████████████████████████████████████████████████████████████████████████████████████████████| 48/48 [00:00<00:00, 1058.74it/s]\n",
      "100%|████████████████████████████████████████████████████████████████████████████████████████████████████████████████████████████████████████████████████████████████████████████████████████████████████████████████████████████████████████| 20/20 [00:00<00:00, 671.93it/s]\n"
     ]
    },
    {
     "name": "stdout",
     "output_type": "stream",
     "text": [
      " Accuracy: 30.0%\n",
      "this dataset have already been processed, check at: \n",
      " ../Records/output/train/2022-04-22_poker_homeohots_True_[4, 8, 16]_[400.0, 400.0, 400.0]_[4, 8, 16]_48_(None, None)/\n",
      "this dataset have already been processed, check at: \n",
      " ../Records/output/test/2022-04-22_poker_homeohots_True_[4, 8, 16]_[400.0, 400.0, 400.0]_[4, 8, 16]_20_(None, None)/\n"
     ]
    },
    {
     "name": "stderr",
     "output_type": "stream",
     "text": [
      "100%|███████████████████████████████████████████████████████████████████████████████████████████████████████████████████████████████████████████████████████████████████████████████████████████████████████████████████████████████████████| 48/48 [00:00<00:00, 1048.42it/s]\n",
      "100%|████████████████████████████████████████████████████████████████████████████████████████████████████████████████████████████████████████████████████████████████████████████████████████████████████████████████████████████████████████| 20/20 [00:00<00:00, 641.78it/s]\n"
     ]
    },
    {
     "name": "stdout",
     "output_type": "stream",
     "text": [
      " Accuracy: 95.0%\n",
      "this dataset have already been processed, check at: \n",
      " ../Records/output/train/2022-04-22_poker_homeohots_True_[8, 16, 32]_[400.0, 800.0, 400.0]_[4, 8, 16]_48_(None, None)/\n",
      "this dataset have already been processed, check at: \n",
      " ../Records/output/test/2022-04-22_poker_homeohots_True_[8, 16, 32]_[400.0, 800.0, 400.0]_[4, 8, 16]_20_(None, None)/\n"
     ]
    },
    {
     "name": "stderr",
     "output_type": "stream",
     "text": [
      "100%|███████████████████████████████████████████████████████████████████████████████████████████████████████████████████████████████████████████████████████████████████████████████████████████████████████████████████████████████████████| 48/48 [00:00<00:00, 1007.50it/s]\n",
      "100%|████████████████████████████████████████████████████████████████████████████████████████████████████████████████████████████████████████████████████████████████████████████████████████████████████████████████████████████████████████| 20/20 [00:00<00:00, 672.54it/s]\n"
     ]
    },
    {
     "name": "stdout",
     "output_type": "stream",
     "text": [
      " Accuracy: 90.0%\n",
      "this dataset have already been processed, check at: \n",
      " ../Records/output/train/2022-04-22_poker_homeohots_True_[16, 32, 64]_[400.0, 1600.0, 400.0]_[4, 8, 16]_48_(None, None)/\n",
      "this dataset have already been processed, check at: \n",
      " ../Records/output/test/2022-04-22_poker_homeohots_True_[16, 32, 64]_[400.0, 1600.0, 400.0]_[4, 8, 16]_20_(None, None)/\n"
     ]
    },
    {
     "name": "stderr",
     "output_type": "stream",
     "text": [
      "100%|████████████████████████████████████████████████████████████████████████████████████████████████████████████████████████████████████████████████████████████████████████████████████████████████████████████████████████████████████████| 48/48 [00:00<00:00, 961.76it/s]\n",
      "100%|████████████████████████████████████████████████████████████████████████████████████████████████████████████████████████████████████████████████████████████████████████████████████████████████████████████████████████████████████████| 20/20 [00:00<00:00, 675.37it/s]\n"
     ]
    },
    {
     "name": "stdout",
     "output_type": "stream",
     "text": [
      " Accuracy: 75.0%\n",
      "this dataset have already been processed, check at: \n",
      " ../Records/output/train/2022-04-22_poker_homeohots_True_[4, 8, 16]_[600.0, 600.0, 600.0]_[4, 8, 16]_48_(None, None)/\n",
      "this dataset have already been processed, check at: \n",
      " ../Records/output/test/2022-04-22_poker_homeohots_True_[4, 8, 16]_[600.0, 600.0, 600.0]_[4, 8, 16]_20_(None, None)/\n"
     ]
    },
    {
     "name": "stderr",
     "output_type": "stream",
     "text": [
      "100%|███████████████████████████████████████████████████████████████████████████████████████████████████████████████████████████████████████████████████████████████████████████████████████████████████████████████████████████████████████| 48/48 [00:00<00:00, 1057.53it/s]\n",
      "100%|████████████████████████████████████████████████████████████████████████████████████████████████████████████████████████████████████████████████████████████████████████████████████████████████████████████████████████████████████████| 20/20 [00:00<00:00, 680.64it/s]\n"
     ]
    },
    {
     "name": "stdout",
     "output_type": "stream",
     "text": [
      " Accuracy: 80.0%\n",
      "this dataset have already been processed, check at: \n",
      " ../Records/output/train/2022-04-22_poker_homeohots_True_[8, 16, 32]_[600.0, 1200.0, 600.0]_[4, 8, 16]_48_(None, None)/\n",
      "this dataset have already been processed, check at: \n",
      " ../Records/output/test/2022-04-22_poker_homeohots_True_[8, 16, 32]_[600.0, 1200.0, 600.0]_[4, 8, 16]_20_(None, None)/\n"
     ]
    },
    {
     "name": "stderr",
     "output_type": "stream",
     "text": [
      "100%|███████████████████████████████████████████████████████████████████████████████████████████████████████████████████████████████████████████████████████████████████████████████████████████████████████████████████████████████████████| 48/48 [00:00<00:00, 1039.70it/s]\n",
      "100%|████████████████████████████████████████████████████████████████████████████████████████████████████████████████████████████████████████████████████████████████████████████████████████████████████████████████████████████████████████| 20/20 [00:00<00:00, 684.52it/s]\n"
     ]
    },
    {
     "name": "stdout",
     "output_type": "stream",
     "text": [
      " Accuracy: 95.0%\n",
      "this dataset have already been processed, check at: \n",
      " ../Records/output/train/2022-04-22_poker_homeohots_True_[16, 32, 64]_[600.0, 2400.0, 600.0]_[4, 8, 16]_48_(None, None)/\n",
      "this dataset have already been processed, check at: \n",
      " ../Records/output/test/2022-04-22_poker_homeohots_True_[16, 32, 64]_[600.0, 2400.0, 600.0]_[4, 8, 16]_20_(None, None)/\n"
     ]
    },
    {
     "name": "stderr",
     "output_type": "stream",
     "text": [
      "100%|███████████████████████████████████████████████████████████████████████████████████████████████████████████████████████████████████████████████████████████████████████████████████████████████████████████████████████████████████████| 48/48 [00:00<00:00, 1057.34it/s]\n",
      "100%|████████████████████████████████████████████████████████████████████████████████████████████████████████████████████████████████████████████████████████████████████████████████████████████████████████████████████████████████████████| 20/20 [00:00<00:00, 690.35it/s]\n"
     ]
    },
    {
     "name": "stdout",
     "output_type": "stream",
     "text": [
      " Accuracy: 90.0%\n",
      "this dataset have already been processed, check at: \n",
      " ../Records/output/train/2022-04-22_poker_homeohots_True_[4, 8, 16]_[800.0, 800.0, 800.0]_[4, 8, 16]_48_(None, None)/\n",
      "this dataset have already been processed, check at: \n",
      " ../Records/output/test/2022-04-22_poker_homeohots_True_[4, 8, 16]_[800.0, 800.0, 800.0]_[4, 8, 16]_20_(None, None)/\n"
     ]
    },
    {
     "name": "stderr",
     "output_type": "stream",
     "text": [
      "100%|███████████████████████████████████████████████████████████████████████████████████████████████████████████████████████████████████████████████████████████████████████████████████████████████████████████████████████████████████████| 48/48 [00:00<00:00, 1045.31it/s]\n",
      "100%|████████████████████████████████████████████████████████████████████████████████████████████████████████████████████████████████████████████████████████████████████████████████████████████████████████████████████████████████████████| 20/20 [00:00<00:00, 674.13it/s]\n"
     ]
    },
    {
     "name": "stdout",
     "output_type": "stream",
     "text": [
      " Accuracy: 95.0%\n",
      "this dataset have already been processed, check at: \n",
      " ../Records/output/train/2022-04-22_poker_homeohots_True_[8, 16, 32]_[800.0, 1600.0, 800.0]_[4, 8, 16]_48_(None, None)/\n",
      "this dataset have already been processed, check at: \n",
      " ../Records/output/test/2022-04-22_poker_homeohots_True_[8, 16, 32]_[800.0, 1600.0, 800.0]_[4, 8, 16]_20_(None, None)/\n"
     ]
    },
    {
     "name": "stderr",
     "output_type": "stream",
     "text": [
      "100%|███████████████████████████████████████████████████████████████████████████████████████████████████████████████████████████████████████████████████████████████████████████████████████████████████████████████████████████████████████| 48/48 [00:00<00:00, 1048.72it/s]\n",
      "100%|████████████████████████████████████████████████████████████████████████████████████████████████████████████████████████████████████████████████████████████████████████████████████████████████████████████████████████████████████████| 20/20 [00:00<00:00, 668.09it/s]\n"
     ]
    },
    {
     "name": "stdout",
     "output_type": "stream",
     "text": [
      " Accuracy: 85.0%\n",
      "this dataset have already been processed, check at: \n",
      " ../Records/output/train/2022-04-22_poker_homeohots_True_[16, 32, 64]_[800.0, 3200.0, 800.0]_[4, 8, 16]_48_(None, None)/\n",
      "this dataset have already been processed, check at: \n",
      " ../Records/output/test/2022-04-22_poker_homeohots_True_[16, 32, 64]_[800.0, 3200.0, 800.0]_[4, 8, 16]_20_(None, None)/\n"
     ]
    },
    {
     "name": "stderr",
     "output_type": "stream",
     "text": [
      "100%|████████████████████████████████████████████████████████████████████████████████████████████████████████████████████████████████████████████████████████████████████████████████████████████████████████████████████████████████████████| 48/48 [00:00<00:00, 927.72it/s]\n",
      "100%|████████████████████████████████████████████████████████████████████████████████████████████████████████████████████████████████████████████████████████████████████████████████████████████████████████████████████████████████████████| 20/20 [00:00<00:00, 613.12it/s]\n"
     ]
    },
    {
     "name": "stdout",
     "output_type": "stream",
     "text": [
      " Accuracy: 90.0%\n",
      "this dataset have already been processed, check at: \n",
      " ../Records/output/train/2022-04-22_poker_homeohots_True_[4, 8, 16]_[1000.0, 1000.0, 1000.0]_[4, 8, 16]_48_(None, None)/\n",
      "this dataset have already been processed, check at: \n",
      " ../Records/output/test/2022-04-22_poker_homeohots_True_[4, 8, 16]_[1000.0, 1000.0, 1000.0]_[4, 8, 16]_20_(None, None)/\n"
     ]
    },
    {
     "name": "stderr",
     "output_type": "stream",
     "text": [
      "100%|████████████████████████████████████████████████████████████████████████████████████████████████████████████████████████████████████████████████████████████████████████████████████████████████████████████████████████████████████████| 48/48 [00:00<00:00, 973.02it/s]\n",
      "100%|████████████████████████████████████████████████████████████████████████████████████████████████████████████████████████████████████████████████████████████████████████████████████████████████████████████████████████████████████████| 20/20 [00:00<00:00, 678.96it/s]\n"
     ]
    },
    {
     "name": "stdout",
     "output_type": "stream",
     "text": [
      " Accuracy: 90.0%\n",
      "this dataset have already been processed, check at: \n",
      " ../Records/output/train/2022-04-22_poker_homeohots_True_[8, 16, 32]_[1000.0, 2000.0, 1000.0]_[4, 8, 16]_48_(None, None)/\n",
      "this dataset have already been processed, check at: \n",
      " ../Records/output/test/2022-04-22_poker_homeohots_True_[8, 16, 32]_[1000.0, 2000.0, 1000.0]_[4, 8, 16]_20_(None, None)/\n"
     ]
    },
    {
     "name": "stderr",
     "output_type": "stream",
     "text": [
      "100%|████████████████████████████████████████████████████████████████████████████████████████████████████████████████████████████████████████████████████████████████████████████████████████████████████████████████████████████████████████| 48/48 [00:00<00:00, 954.18it/s]\n",
      "100%|████████████████████████████████████████████████████████████████████████████████████████████████████████████████████████████████████████████████████████████████████████████████████████████████████████████████████████████████████████| 20/20 [00:00<00:00, 567.68it/s]\n"
     ]
    },
    {
     "name": "stdout",
     "output_type": "stream",
     "text": [
      " Accuracy: 95.0%\n",
      "this dataset have already been processed, check at: \n",
      " ../Records/output/train/2022-04-22_poker_homeohots_True_[16, 32, 64]_[1000.0, 4000.0, 1000.0]_[4, 8, 16]_48_(None, None)/\n",
      "this dataset have already been processed, check at: \n",
      " ../Records/output/test/2022-04-22_poker_homeohots_True_[16, 32, 64]_[1000.0, 4000.0, 1000.0]_[4, 8, 16]_20_(None, None)/\n"
     ]
    },
    {
     "name": "stderr",
     "output_type": "stream",
     "text": [
      "100%|███████████████████████████████████████████████████████████████████████████████████████████████████████████████████████████████████████████████████████████████████████████████████████████████████████████████████████████████████████| 48/48 [00:00<00:00, 1024.48it/s]\n",
      "100%|████████████████████████████████████████████████████████████████████████████████████████████████████████████████████████████████████████████████████████████████████████████████████████████████████████████████████████████████████████| 20/20 [00:00<00:00, 675.96it/s]\n"
     ]
    },
    {
     "name": "stdout",
     "output_type": "stream",
     "text": [
      " Accuracy: 95.0%\n",
      "this dataset have already been processed, check at: \n",
      " ../Records/output/train/2022-04-22_poker_homeohots_True_[4, 8, 16]_[1200.0, 1200.0, 1200.0]_[4, 8, 16]_48_(None, None)/\n",
      "this dataset have already been processed, check at: \n",
      " ../Records/output/test/2022-04-22_poker_homeohots_True_[4, 8, 16]_[1200.0, 1200.0, 1200.0]_[4, 8, 16]_20_(None, None)/\n"
     ]
    },
    {
     "name": "stderr",
     "output_type": "stream",
     "text": [
      "100%|███████████████████████████████████████████████████████████████████████████████████████████████████████████████████████████████████████████████████████████████████████████████████████████████████████████████████████████████████████| 48/48 [00:00<00:00, 1023.53it/s]\n",
      "100%|████████████████████████████████████████████████████████████████████████████████████████████████████████████████████████████████████████████████████████████████████████████████████████████████████████████████████████████████████████| 20/20 [00:00<00:00, 656.02it/s]\n"
     ]
    },
    {
     "name": "stdout",
     "output_type": "stream",
     "text": [
      " Accuracy: 95.0%\n",
      "this dataset have already been processed, check at: \n",
      " ../Records/output/train/2022-04-22_poker_homeohots_True_[8, 16, 32]_[1200.0, 2400.0, 1200.0]_[4, 8, 16]_48_(None, None)/\n",
      "this dataset have already been processed, check at: \n",
      " ../Records/output/test/2022-04-22_poker_homeohots_True_[8, 16, 32]_[1200.0, 2400.0, 1200.0]_[4, 8, 16]_20_(None, None)/\n"
     ]
    },
    {
     "name": "stderr",
     "output_type": "stream",
     "text": [
      "100%|███████████████████████████████████████████████████████████████████████████████████████████████████████████████████████████████████████████████████████████████████████████████████████████████████████████████████████████████████████| 48/48 [00:00<00:00, 1029.33it/s]\n",
      "100%|████████████████████████████████████████████████████████████████████████████████████████████████████████████████████████████████████████████████████████████████████████████████████████████████████████████████████████████████████████| 20/20 [00:00<00:00, 639.96it/s]\n"
     ]
    },
    {
     "name": "stdout",
     "output_type": "stream",
     "text": [
      " Accuracy: 80.0%\n",
      "this dataset have already been processed, check at: \n",
      " ../Records/output/train/2022-04-22_poker_homeohots_True_[16, 32, 64]_[1200.0, 4800.0, 1200.0]_[4, 8, 16]_48_(None, None)/\n",
      "this dataset have already been processed, check at: \n",
      " ../Records/output/test/2022-04-22_poker_homeohots_True_[16, 32, 64]_[1200.0, 4800.0, 1200.0]_[4, 8, 16]_20_(None, None)/\n"
     ]
    },
    {
     "name": "stderr",
     "output_type": "stream",
     "text": [
      "100%|████████████████████████████████████████████████████████████████████████████████████████████████████████████████████████████████████████████████████████████████████████████████████████████████████████████████████████████████████████| 48/48 [00:00<00:00, 962.45it/s]\n",
      "100%|████████████████████████████████████████████████████████████████████████████████████████████████████████████████████████████████████████████████████████████████████████████████████████████████████████████████████████████████████████| 20/20 [00:00<00:00, 673.78it/s]\n"
     ]
    },
    {
     "name": "stdout",
     "output_type": "stream",
     "text": [
      " Accuracy: 90.0%\n",
      "this dataset have already been processed, check at: \n",
      " ../Records/output/train/2022-04-22_poker_homeohots_True_[4, 8, 16]_[1400.0, 1400.0, 1400.0]_[4, 8, 16]_48_(None, None)/\n",
      "this dataset have already been processed, check at: \n",
      " ../Records/output/test/2022-04-22_poker_homeohots_True_[4, 8, 16]_[1400.0, 1400.0, 1400.0]_[4, 8, 16]_20_(None, None)/\n"
     ]
    },
    {
     "name": "stderr",
     "output_type": "stream",
     "text": [
      "100%|████████████████████████████████████████████████████████████████████████████████████████████████████████████████████████████████████████████████████████████████████████████████████████████████████████████████████████████████████████| 48/48 [00:00<00:00, 940.27it/s]\n",
      "100%|████████████████████████████████████████████████████████████████████████████████████████████████████████████████████████████████████████████████████████████████████████████████████████████████████████████████████████████████████████| 20/20 [00:00<00:00, 661.25it/s]\n"
     ]
    },
    {
     "name": "stdout",
     "output_type": "stream",
     "text": [
      " Accuracy: 90.0%\n",
      "this dataset have already been processed, check at: \n",
      " ../Records/output/train/2022-04-22_poker_homeohots_True_[8, 16, 32]_[1400.0, 2800.0, 1400.0]_[4, 8, 16]_48_(None, None)/\n",
      "this dataset have already been processed, check at: \n",
      " ../Records/output/test/2022-04-22_poker_homeohots_True_[8, 16, 32]_[1400.0, 2800.0, 1400.0]_[4, 8, 16]_20_(None, None)/\n"
     ]
    },
    {
     "name": "stderr",
     "output_type": "stream",
     "text": [
      "100%|████████████████████████████████████████████████████████████████████████████████████████████████████████████████████████████████████████████████████████████████████████████████████████████████████████████████████████████████████████| 48/48 [00:00<00:00, 949.34it/s]\n",
      "100%|████████████████████████████████████████████████████████████████████████████████████████████████████████████████████████████████████████████████████████████████████████████████████████████████████████████████████████████████████████| 20/20 [00:00<00:00, 661.97it/s]\n"
     ]
    },
    {
     "name": "stdout",
     "output_type": "stream",
     "text": [
      " Accuracy: 95.0%\n",
      "this dataset have already been processed, check at: \n",
      " ../Records/output/train/2022-04-22_poker_homeohots_True_[16, 32, 64]_[1400.0, 5600.0, 1400.0]_[4, 8, 16]_48_(None, None)/\n",
      "this dataset have already been processed, check at: \n",
      " ../Records/output/test/2022-04-22_poker_homeohots_True_[16, 32, 64]_[1400.0, 5600.0, 1400.0]_[4, 8, 16]_20_(None, None)/\n"
     ]
    },
    {
     "name": "stderr",
     "output_type": "stream",
     "text": [
      "100%|████████████████████████████████████████████████████████████████████████████████████████████████████████████████████████████████████████████████████████████████████████████████████████████████████████████████████████████████████████| 48/48 [00:00<00:00, 997.12it/s]\n",
      "100%|████████████████████████████████████████████████████████████████████████████████████████████████████████████████████████████████████████████████████████████████████████████████████████████████████████████████████████████████████████| 20/20 [00:00<00:00, 659.13it/s]\n"
     ]
    },
    {
     "name": "stdout",
     "output_type": "stream",
     "text": [
      " Accuracy: 95.0%\n",
      "this dataset have already been processed, check at: \n",
      " ../Records/output/train/2022-04-22_poker_homeohots_True_[4, 8, 16]_[1600.0, 1600.0, 1600.0]_[4, 8, 16]_48_(None, None)/\n",
      "this dataset have already been processed, check at: \n",
      " ../Records/output/test/2022-04-22_poker_homeohots_True_[4, 8, 16]_[1600.0, 1600.0, 1600.0]_[4, 8, 16]_20_(None, None)/\n"
     ]
    },
    {
     "name": "stderr",
     "output_type": "stream",
     "text": [
      "100%|███████████████████████████████████████████████████████████████████████████████████████████████████████████████████████████████████████████████████████████████████████████████████████████████████████████████████████████████████████| 48/48 [00:00<00:00, 1033.41it/s]\n",
      "100%|████████████████████████████████████████████████████████████████████████████████████████████████████████████████████████████████████████████████████████████████████████████████████████████████████████████████████████████████████████| 20/20 [00:00<00:00, 550.59it/s]\n"
     ]
    },
    {
     "name": "stdout",
     "output_type": "stream",
     "text": [
      " Accuracy: 90.0%\n",
      "this dataset have already been processed, check at: \n",
      " ../Records/output/train/2022-04-22_poker_homeohots_True_[8, 16, 32]_[1600.0, 3200.0, 1600.0]_[4, 8, 16]_48_(None, None)/\n",
      "this dataset have already been processed, check at: \n",
      " ../Records/output/test/2022-04-22_poker_homeohots_True_[8, 16, 32]_[1600.0, 3200.0, 1600.0]_[4, 8, 16]_20_(None, None)/\n"
     ]
    },
    {
     "name": "stderr",
     "output_type": "stream",
     "text": [
      "100%|████████████████████████████████████████████████████████████████████████████████████████████████████████████████████████████████████████████████████████████████████████████████████████████████████████████████████████████████████████| 48/48 [00:00<00:00, 936.75it/s]\n",
      "100%|████████████████████████████████████████████████████████████████████████████████████████████████████████████████████████████████████████████████████████████████████████████████████████████████████████████████████████████████████████| 20/20 [00:00<00:00, 650.59it/s]\n"
     ]
    },
    {
     "name": "stdout",
     "output_type": "stream",
     "text": [
      " Accuracy: 85.0%\n",
      "this dataset have already been processed, check at: \n",
      " ../Records/output/train/2022-04-22_poker_homeohots_True_[16, 32, 64]_[1600.0, 6400.0, 1600.0]_[4, 8, 16]_48_(None, None)/\n",
      "this dataset have already been processed, check at: \n",
      " ../Records/output/test/2022-04-22_poker_homeohots_True_[16, 32, 64]_[1600.0, 6400.0, 1600.0]_[4, 8, 16]_20_(None, None)/\n"
     ]
    },
    {
     "name": "stderr",
     "output_type": "stream",
     "text": [
      "100%|████████████████████████████████████████████████████████████████████████████████████████████████████████████████████████████████████████████████████████████████████████████████████████████████████████████████████████████████████████| 48/48 [00:00<00:00, 887.53it/s]\n",
      "100%|████████████████████████████████████████████████████████████████████████████████████████████████████████████████████████████████████████████████████████████████████████████████████████████████████████████████████████████████████████| 20/20 [00:00<00:00, 649.75it/s]\n"
     ]
    },
    {
     "name": "stdout",
     "output_type": "stream",
     "text": [
      " Accuracy: 95.0%\n",
      "this dataset have already been processed, check at: \n",
      " ../Records/output/train/2022-04-22_poker_homeohots_True_[4, 8, 16]_[1800.0, 1800.0, 1800.0]_[4, 8, 16]_48_(None, None)/\n",
      "this dataset have already been processed, check at: \n",
      " ../Records/output/test/2022-04-22_poker_homeohots_True_[4, 8, 16]_[1800.0, 1800.0, 1800.0]_[4, 8, 16]_20_(None, None)/\n"
     ]
    },
    {
     "name": "stderr",
     "output_type": "stream",
     "text": [
      "100%|████████████████████████████████████████████████████████████████████████████████████████████████████████████████████████████████████████████████████████████████████████████████████████████████████████████████████████████████████████| 48/48 [00:00<00:00, 920.67it/s]\n",
      "100%|████████████████████████████████████████████████████████████████████████████████████████████████████████████████████████████████████████████████████████████████████████████████████████████████████████████████████████████████████████| 20/20 [00:00<00:00, 656.51it/s]\n"
     ]
    },
    {
     "name": "stdout",
     "output_type": "stream",
     "text": [
      " Accuracy: 95.0%\n",
      "this dataset have already been processed, check at: \n",
      " ../Records/output/train/2022-04-22_poker_homeohots_True_[8, 16, 32]_[1800.0, 3600.0, 1800.0]_[4, 8, 16]_48_(None, None)/\n",
      "this dataset have already been processed, check at: \n",
      " ../Records/output/test/2022-04-22_poker_homeohots_True_[8, 16, 32]_[1800.0, 3600.0, 1800.0]_[4, 8, 16]_20_(None, None)/\n"
     ]
    },
    {
     "name": "stderr",
     "output_type": "stream",
     "text": [
      "100%|████████████████████████████████████████████████████████████████████████████████████████████████████████████████████████████████████████████████████████████████████████████████████████████████████████████████████████████████████████| 48/48 [00:00<00:00, 936.25it/s]\n",
      "100%|████████████████████████████████████████████████████████████████████████████████████████████████████████████████████████████████████████████████████████████████████████████████████████████████████████████████████████████████████████| 20/20 [00:00<00:00, 637.27it/s]\n"
     ]
    },
    {
     "name": "stdout",
     "output_type": "stream",
     "text": [
      " Accuracy: 95.0%\n",
      "this dataset have already been processed, check at: \n",
      " ../Records/output/train/2022-04-22_poker_homeohots_True_[16, 32, 64]_[1800.0, 7200.0, 1800.0]_[4, 8, 16]_48_(None, None)/\n",
      "this dataset have already been processed, check at: \n",
      " ../Records/output/test/2022-04-22_poker_homeohots_True_[16, 32, 64]_[1800.0, 7200.0, 1800.0]_[4, 8, 16]_20_(None, None)/\n"
     ]
    },
    {
     "name": "stderr",
     "output_type": "stream",
     "text": [
      "100%|████████████████████████████████████████████████████████████████████████████████████████████████████████████████████████████████████████████████████████████████████████████████████████████████████████████████████████████████████████| 48/48 [00:00<00:00, 958.74it/s]\n",
      "100%|████████████████████████████████████████████████████████████████████████████████████████████████████████████████████████████████████████████████████████████████████████████████████████████████████████████████████████████████████████| 20/20 [00:00<00:00, 643.54it/s]"
     ]
    },
    {
     "name": "stdout",
     "output_type": "stream",
     "text": [
      " Accuracy: 90.0%\n"
     ]
    },
    {
     "name": "stderr",
     "output_type": "stream",
     "text": [
      "\n"
     ]
    }
   ],
   "source": [
    "transform = tonic.transforms.NumpyAsType(int)\n",
    "trainset = tonic.datasets.POKERDVS(save_to='../../Data/', train=True, transform=transform)\n",
    "testset = tonic.datasets.POKERDVS(save_to='../../Data/', train=False, transform=transform)\n",
    "\n",
    "name = 'homeohots'\n",
    "homeo = True\n",
    "timestr = '2022-04-22'\n",
    "dataset_name = 'poker'\n",
    "\n",
    "R_first = (2, 4)\n",
    "N_layers = (2,3)#,4)\n",
    "n_first = (4,8,16)\n",
    "tau_first = (.1e3,.2e3,.3e3,.4e3,.5e3,.6e3,.7e3,.8e3,.9e3)\n",
    "\n",
    "parameters = []\n",
    "scores = []\n",
    "\n",
    "for lay in N_layers:\n",
    "    for R in R_first:\n",
    "        for tau in tau_first:\n",
    "            for N_neuron in n_first:\n",
    "                Rz = [R*2**Nl for Nl in range(lay)]\n",
    "                N_neuronz = [N_neuron*2**Nl for Nl in range(lay)]\n",
    "                N_pola = N_neuronz.copy()\n",
    "                N_pola.insert(0,2)\n",
    "                tauz = [tau*N_pola[Nl+1]/N_pola[Nl] for Nl in range(lay-1)]\n",
    "                tauz.insert(0,tau*2)\n",
    "                hots = network(name, dataset_name, timestr, trainset.sensor_size, nb_neurons = N_neuronz, tau = tauz, R = Rz, homeo = homeo)\n",
    "                filtering_threshold = [2*Rz[L] for L in range(len(Rz))]\n",
    "                #clustering\n",
    "                loader = get_loader(trainset)\n",
    "                hots.clustering(loader, trainset.ordering, filtering_threshold)\n",
    "                #training\n",
    "                loader = get_loader(trainset)\n",
    "                num_sample_train = len(loader)\n",
    "                hots.coding(loader, trainset.ordering, trainset.classes, filtering_threshold, training=True)\n",
    "                #testing\n",
    "                loader = get_loader(testset)\n",
    "                num_sample_test = len(loader)\n",
    "                hots.coding(loader, trainset.ordering, trainset.classes, filtering_threshold, training=False)\n",
    "                jitter = (None, None)\n",
    "\n",
    "                train_path = f'../Records/output/train/{hots.name}_{num_sample_train}_{jitter}/'\n",
    "                test_path = f'../Records/output/test/{hots.name}_{num_sample_test}_{jitter}/'\n",
    "\n",
    "                testset_output = HOTS_Dataset(test_path, trainset.sensor_size, transform=tonic.transforms.NumpyAsType(int))\n",
    "                trainset_output = HOTS_Dataset(train_path, trainset.sensor_size, transform=tonic.transforms.NumpyAsType(int))\n",
    "                \n",
    "                score = make_histogram_classification(trainset_output, testset_output, N_neuronz[-1]) \n",
    "                print(f' Accuracy: {score*100}%')\n",
    "                \n",
    "                parameters.append([lay, R, tau, N_neuron])\n",
    "                scores.append(score)"
   ]
  },
  {
   "cell_type": "code",
   "execution_count": null,
   "id": "308f58a3-0c71-41af-a907-20e7d5676166",
   "metadata": {},
   "outputs": [],
   "source": [
    "plot_accuracy(scores, parameters, 2)"
   ]
  },
  {
   "cell_type": "code",
   "execution_count": 6,
   "id": "1180f71a-aaa5-47b8-ad14-e725877758df",
   "metadata": {},
   "outputs": [
    {
     "name": "stdout",
     "output_type": "stream",
     "text": [
      "this dataset have already been processed, check at: \n",
      " ../Records/output/train/2022-04-22_poker_homeohots_True_[16, 32]_[200.0, 800.0]_[2, 4]_48_(None, None)/\n",
      "this dataset have already been processed, check at: \n",
      " ../Records/output/test/2022-04-22_poker_homeohots_True_[16, 32]_[200.0, 800.0]_[2, 4]_20_(None, None)/\n"
     ]
    },
    {
     "name": "stderr",
     "output_type": "stream",
     "text": [
      "100%|███████████████████████████████████████████████████████████████████████████████████████████████████████████████████████████████████████████████████████████████████████████████████████████████████████████████████████████████████████| 48/48 [00:00<00:00, 1004.78it/s]\n",
      "100%|████████████████████████████████████████████████████████████████████████████████████████████████████████████████████████████████████████████████████████████████████████████████████████████████████████████████████████████████████████| 20/20 [00:00<00:00, 730.61it/s]\n"
     ]
    },
    {
     "name": "stdout",
     "output_type": "stream",
     "text": [
      " Accuracy: 70.0%\n",
      "this dataset have already been processed, check at: \n",
      " ../Records/output/train/2022-04-22_poker_homeohots_True_[16, 32]_[400.0, 1600.0]_[2, 4]_48_(None, None)/\n",
      "this dataset have already been processed, check at: \n",
      " ../Records/output/test/2022-04-22_poker_homeohots_True_[16, 32]_[400.0, 1600.0]_[2, 4]_20_(None, None)/\n"
     ]
    },
    {
     "name": "stderr",
     "output_type": "stream",
     "text": [
      "100%|███████████████████████████████████████████████████████████████████████████████████████████████████████████████████████████████████████████████████████████████████████████████████████████████████████████████████████████████████████| 48/48 [00:00<00:00, 1128.73it/s]\n",
      "100%|████████████████████████████████████████████████████████████████████████████████████████████████████████████████████████████████████████████████████████████████████████████████████████████████████████████████████████████████████████| 20/20 [00:00<00:00, 590.81it/s]"
     ]
    },
    {
     "name": "stdout",
     "output_type": "stream",
     "text": [
      " Accuracy: 90.0%\n"
     ]
    },
    {
     "name": "stderr",
     "output_type": "stream",
     "text": [
      "\n"
     ]
    },
    {
     "name": "stdout",
     "output_type": "stream",
     "text": [
      "this dataset have already been processed, check at: \n",
      " ../Records/output/train/2022-04-22_poker_homeohots_True_[16, 32]_[600.0, 2400.0]_[2, 4]_48_(None, None)/\n",
      "this dataset have already been processed, check at: \n",
      " ../Records/output/test/2022-04-22_poker_homeohots_True_[16, 32]_[600.0, 2400.0]_[2, 4]_20_(None, None)/\n"
     ]
    },
    {
     "name": "stderr",
     "output_type": "stream",
     "text": [
      "100%|███████████████████████████████████████████████████████████████████████████████████████████████████████████████████████████████████████████████████████████████████████████████████████████████████████████████████████████████████████| 48/48 [00:00<00:00, 1103.75it/s]\n",
      "100%|████████████████████████████████████████████████████████████████████████████████████████████████████████████████████████████████████████████████████████████████████████████████████████████████████████████████████████████████████████| 20/20 [00:00<00:00, 648.04it/s]\n"
     ]
    },
    {
     "name": "stdout",
     "output_type": "stream",
     "text": [
      " Accuracy: 100.0%\n",
      "this dataset have already been processed, check at: \n",
      " ../Records/output/train/2022-04-22_poker_homeohots_True_[16, 32]_[800.0, 3200.0]_[2, 4]_48_(None, None)/\n",
      "this dataset have already been processed, check at: \n",
      " ../Records/output/test/2022-04-22_poker_homeohots_True_[16, 32]_[800.0, 3200.0]_[2, 4]_20_(None, None)/\n"
     ]
    },
    {
     "name": "stderr",
     "output_type": "stream",
     "text": [
      "100%|███████████████████████████████████████████████████████████████████████████████████████████████████████████████████████████████████████████████████████████████████████████████████████████████████████████████████████████████████████| 48/48 [00:00<00:00, 1263.44it/s]\n",
      "100%|████████████████████████████████████████████████████████████████████████████████████████████████████████████████████████████████████████████████████████████████████████████████████████████████████████████████████████████████████████| 20/20 [00:00<00:00, 788.04it/s]\n"
     ]
    },
    {
     "name": "stdout",
     "output_type": "stream",
     "text": [
      " Accuracy: 95.0%\n",
      "this dataset have already been processed, check at: \n",
      " ../Records/output/train/2022-04-22_poker_homeohots_True_[16, 32]_[1000.0, 4000.0]_[2, 4]_48_(None, None)/\n",
      "this dataset have already been processed, check at: \n",
      " ../Records/output/test/2022-04-22_poker_homeohots_True_[16, 32]_[1000.0, 4000.0]_[2, 4]_20_(None, None)/\n"
     ]
    },
    {
     "name": "stderr",
     "output_type": "stream",
     "text": [
      "100%|███████████████████████████████████████████████████████████████████████████████████████████████████████████████████████████████████████████████████████████████████████████████████████████████████████████████████████████████████████| 48/48 [00:00<00:00, 1438.57it/s]\n",
      "100%|████████████████████████████████████████████████████████████████████████████████████████████████████████████████████████████████████████████████████████████████████████████████████████████████████████████████████████████████████████| 20/20 [00:00<00:00, 787.97it/s]\n"
     ]
    },
    {
     "name": "stdout",
     "output_type": "stream",
     "text": [
      " Accuracy: 95.0%\n",
      "this dataset have already been processed, check at: \n",
      " ../Records/output/train/2022-04-22_poker_homeohots_True_[16, 32]_[1200.0, 4800.0]_[2, 4]_48_(None, None)/\n",
      "this dataset have already been processed, check at: \n",
      " ../Records/output/test/2022-04-22_poker_homeohots_True_[16, 32]_[1200.0, 4800.0]_[2, 4]_20_(None, None)/\n"
     ]
    },
    {
     "name": "stderr",
     "output_type": "stream",
     "text": [
      "100%|███████████████████████████████████████████████████████████████████████████████████████████████████████████████████████████████████████████████████████████████████████████████████████████████████████████████████████████████████████| 48/48 [00:00<00:00, 1426.66it/s]\n",
      "100%|████████████████████████████████████████████████████████████████████████████████████████████████████████████████████████████████████████████████████████████████████████████████████████████████████████████████████████████████████████| 20/20 [00:00<00:00, 797.56it/s]\n"
     ]
    },
    {
     "name": "stdout",
     "output_type": "stream",
     "text": [
      " Accuracy: 95.0%\n",
      "this dataset have already been processed, check at: \n",
      " ../Records/output/train/2022-04-22_poker_homeohots_True_[16, 32]_[1400.0, 5600.0]_[2, 4]_48_(None, None)/\n",
      "this dataset have already been processed, check at: \n",
      " ../Records/output/test/2022-04-22_poker_homeohots_True_[16, 32]_[1400.0, 5600.0]_[2, 4]_20_(None, None)/\n"
     ]
    },
    {
     "name": "stderr",
     "output_type": "stream",
     "text": [
      "100%|███████████████████████████████████████████████████████████████████████████████████████████████████████████████████████████████████████████████████████████████████████████████████████████████████████████████████████████████████████| 48/48 [00:00<00:00, 1437.61it/s]\n",
      "100%|████████████████████████████████████████████████████████████████████████████████████████████████████████████████████████████████████████████████████████████████████████████████████████████████████████████████████████████████████████| 20/20 [00:00<00:00, 787.15it/s]\n"
     ]
    },
    {
     "name": "stdout",
     "output_type": "stream",
     "text": [
      " Accuracy: 95.0%\n",
      "this dataset have already been processed, check at: \n",
      " ../Records/output/train/2022-04-22_poker_homeohots_True_[16, 32]_[1600.0, 6400.0]_[2, 4]_48_(None, None)/\n",
      "this dataset have already been processed, check at: \n",
      " ../Records/output/test/2022-04-22_poker_homeohots_True_[16, 32]_[1600.0, 6400.0]_[2, 4]_20_(None, None)/\n"
     ]
    },
    {
     "name": "stderr",
     "output_type": "stream",
     "text": [
      "100%|███████████████████████████████████████████████████████████████████████████████████████████████████████████████████████████████████████████████████████████████████████████████████████████████████████████████████████████████████████| 48/48 [00:00<00:00, 1418.76it/s]\n",
      "100%|████████████████████████████████████████████████████████████████████████████████████████████████████████████████████████████████████████████████████████████████████████████████████████████████████████████████████████████████████████| 20/20 [00:00<00:00, 793.65it/s]\n"
     ]
    },
    {
     "name": "stdout",
     "output_type": "stream",
     "text": [
      " Accuracy: 95.0%\n",
      "this dataset have already been processed, check at: \n",
      " ../Records/output/train/2022-04-22_poker_homeohots_True_[16, 32]_[1800.0, 7200.0]_[2, 4]_48_(None, None)/\n",
      "this dataset have already been processed, check at: \n",
      " ../Records/output/test/2022-04-22_poker_homeohots_True_[16, 32]_[1800.0, 7200.0]_[2, 4]_20_(None, None)/\n"
     ]
    },
    {
     "name": "stderr",
     "output_type": "stream",
     "text": [
      "100%|███████████████████████████████████████████████████████████████████████████████████████████████████████████████████████████████████████████████████████████████████████████████████████████████████████████████████████████████████████| 48/48 [00:00<00:00, 1389.51it/s]\n",
      "100%|████████████████████████████████████████████████████████████████████████████████████████████████████████████████████████████████████████████████████████████████████████████████████████████████████████████████████████████████████████| 20/20 [00:00<00:00, 802.90it/s]\n"
     ]
    },
    {
     "name": "stdout",
     "output_type": "stream",
     "text": [
      " Accuracy: 90.0%\n"
     ]
    },
    {
     "name": "stderr",
     "output_type": "stream",
     "text": [
      "100%|█████████████████████████████████████████████████████████████████████████████████████████████████████████████████████████████████████████████████████████████████████████████████████████████████████████████████████████████████████████| 48/48 [05:01<00:00,  6.29s/it]\n",
      "100%|█████████████████████████████████████████████████████████████████████████████████████████████████████████████████████████████████████████████████████████████████████████████████████████████████████████████████████████████████████████| 48/48 [00:48<00:00,  1.00s/it]\n",
      "100%|█████████████████████████████████████████████████████████████████████████████████████████████████████████████████████████████████████████████████████████████████████████████████████████████████████████████████████████████████████████| 20/20 [00:21<00:00,  1.07s/it]\n",
      "100%|███████████████████████████████████████████████████████████████████████████████████████████████████████████████████████████████████████████████████████████████████████████████████████████████████████████████████████████████████████| 48/48 [00:00<00:00, 1431.85it/s]\n",
      "100%|████████████████████████████████████████████████████████████████████████████████████████████████████████████████████████████████████████████████████████████████████████████████████████████████████████████████████████████████████████| 20/20 [00:00<00:00, 779.65it/s]\n"
     ]
    },
    {
     "name": "stdout",
     "output_type": "stream",
     "text": [
      " Accuracy: 100.0%\n"
     ]
    },
    {
     "name": "stderr",
     "output_type": "stream",
     "text": [
      "100%|█████████████████████████████████████████████████████████████████████████████████████████████████████████████████████████████████████████████████████████████████████████████████████████████████████████████████████████████████████████| 48/48 [07:10<00:00,  8.96s/it]\n",
      "100%|█████████████████████████████████████████████████████████████████████████████████████████████████████████████████████████████████████████████████████████████████████████████████████████████████████████████████████████████████████████| 48/48 [01:11<00:00,  1.49s/it]\n",
      "100%|█████████████████████████████████████████████████████████████████████████████████████████████████████████████████████████████████████████████████████████████████████████████████████████████████████████████████████████████████████████| 20/20 [00:31<00:00,  1.60s/it]\n",
      "100%|███████████████████████████████████████████████████████████████████████████████████████████████████████████████████████████████████████████████████████████████████████████████████████████████████████████████████████████████████████| 48/48 [00:00<00:00, 1017.22it/s]\n",
      "100%|████████████████████████████████████████████████████████████████████████████████████████████████████████████████████████████████████████████████████████████████████████████████████████████████████████████████████████████████████████| 20/20 [00:00<00:00, 665.97it/s]\n"
     ]
    },
    {
     "name": "stdout",
     "output_type": "stream",
     "text": [
      " Accuracy: 100.0%\n"
     ]
    },
    {
     "name": "stderr",
     "output_type": "stream",
     "text": [
      "100%|█████████████████████████████████████████████████████████████████████████████████████████████████████████████████████████████████████████████████████████████████████████████████████████████████████████████████████████████████████████| 48/48 [07:12<00:00,  9.00s/it]\n",
      "100%|█████████████████████████████████████████████████████████████████████████████████████████████████████████████████████████████████████████████████████████████████████████████████████████████████████████████████████████████████████████| 48/48 [00:48<00:00,  1.01s/it]\n",
      "100%|█████████████████████████████████████████████████████████████████████████████████████████████████████████████████████████████████████████████████████████████████████████████████████████████████████████████████████████████████████████| 20/20 [00:21<00:00,  1.07s/it]\n",
      "100%|███████████████████████████████████████████████████████████████████████████████████████████████████████████████████████████████████████████████████████████████████████████████████████████████████████████████████████████████████████| 48/48 [00:00<00:00, 1437.89it/s]\n",
      "100%|████████████████████████████████████████████████████████████████████████████████████████████████████████████████████████████████████████████████████████████████████████████████████████████████████████████████████████████████████████| 20/20 [00:00<00:00, 712.70it/s]\n"
     ]
    },
    {
     "name": "stdout",
     "output_type": "stream",
     "text": [
      " Accuracy: 90.0%\n"
     ]
    },
    {
     "name": "stderr",
     "output_type": "stream",
     "text": [
      "100%|█████████████████████████████████████████████████████████████████████████████████████████████████████████████████████████████████████████████████████████████████████████████████████████████████████████████████████████████████████████| 48/48 [05:07<00:00,  6.41s/it]\n",
      "100%|█████████████████████████████████████████████████████████████████████████████████████████████████████████████████████████████████████████████████████████████████████████████████████████████████████████████████████████████████████████| 48/48 [00:48<00:00,  1.01s/it]\n",
      "100%|█████████████████████████████████████████████████████████████████████████████████████████████████████████████████████████████████████████████████████████████████████████████████████████████████████████████████████████████████████████| 20/20 [00:21<00:00,  1.08s/it]\n",
      "100%|███████████████████████████████████████████████████████████████████████████████████████████████████████████████████████████████████████████████████████████████████████████████████████████████████████████████████████████████████████| 48/48 [00:00<00:00, 1422.82it/s]\n",
      "100%|████████████████████████████████████████████████████████████████████████████████████████████████████████████████████████████████████████████████████████████████████████████████████████████████████████████████████████████████████████| 20/20 [00:00<00:00, 781.75it/s]\n"
     ]
    },
    {
     "name": "stdout",
     "output_type": "stream",
     "text": [
      " Accuracy: 95.0%\n"
     ]
    },
    {
     "name": "stderr",
     "output_type": "stream",
     "text": [
      "100%|█████████████████████████████████████████████████████████████████████████████████████████████████████████████████████████████████████████████████████████████████████████████████████████████████████████████████████████████████████████| 48/48 [05:08<00:00,  6.43s/it]\n",
      "100%|█████████████████████████████████████████████████████████████████████████████████████████████████████████████████████████████████████████████████████████████████████████████████████████████████████████████████████████████████████████| 48/48 [01:07<00:00,  1.40s/it]\n",
      "100%|█████████████████████████████████████████████████████████████████████████████████████████████████████████████████████████████████████████████████████████████████████████████████████████████████████████████████████████████████████████| 20/20 [00:31<00:00,  1.59s/it]\n",
      "100%|███████████████████████████████████████████████████████████████████████████████████████████████████████████████████████████████████████████████████████████████████████████████████████████████████████████████████████████████████████| 48/48 [00:00<00:00, 1031.92it/s]\n",
      "100%|████████████████████████████████████████████████████████████████████████████████████████████████████████████████████████████████████████████████████████████████████████████████████████████████████████████████████████████████████████| 20/20 [00:00<00:00, 675.69it/s]\n"
     ]
    },
    {
     "name": "stdout",
     "output_type": "stream",
     "text": [
      " Accuracy: 95.0%\n"
     ]
    },
    {
     "name": "stderr",
     "output_type": "stream",
     "text": [
      " 15%|██████████████████████████████████▏                                                                                                                                                                                                       | 7/48 [01:17<07:36, 11.13s/it]\n"
     ]
    },
    {
     "ename": "KeyboardInterrupt",
     "evalue": "",
     "output_type": "error",
     "traceback": [
      "\u001b[0;31m---------------------------------------------------------------------------\u001b[0m",
      "\u001b[0;31mKeyboardInterrupt\u001b[0m                         Traceback (most recent call last)",
      "Input \u001b[0;32mIn [6]\u001b[0m, in \u001b[0;36m<module>\u001b[0;34m\u001b[0m\n\u001b[1;32m     30\u001b[0m \u001b[38;5;66;03m#clustering\u001b[39;00m\n\u001b[1;32m     31\u001b[0m loader \u001b[38;5;241m=\u001b[39m get_loader(trainset)\n\u001b[0;32m---> 32\u001b[0m \u001b[43mhots\u001b[49m\u001b[38;5;241;43m.\u001b[39;49m\u001b[43mclustering\u001b[49m\u001b[43m(\u001b[49m\u001b[43mloader\u001b[49m\u001b[43m,\u001b[49m\u001b[43m \u001b[49m\u001b[43mtrainset\u001b[49m\u001b[38;5;241;43m.\u001b[39;49m\u001b[43mordering\u001b[49m\u001b[43m,\u001b[49m\u001b[43m \u001b[49m\u001b[43mfiltering_threshold\u001b[49m\u001b[43m)\u001b[49m\n\u001b[1;32m     33\u001b[0m \u001b[38;5;66;03m#training\u001b[39;00m\n\u001b[1;32m     34\u001b[0m loader \u001b[38;5;241m=\u001b[39m get_loader(trainset)\n",
      "File \u001b[0;32m~/homhots/hotsline/hots/network.py:59\u001b[0m, in \u001b[0;36mnetwork.clustering\u001b[0;34m(self, loader, ordering, filtering_threshold, record)\u001b[0m\n\u001b[1;32m     57\u001b[0m \u001b[38;5;28;01mfor\u001b[39;00m L \u001b[38;5;129;01min\u001b[39;00m \u001b[38;5;28mrange\u001b[39m(\u001b[38;5;28mlen\u001b[39m(\u001b[38;5;28mself\u001b[39m\u001b[38;5;241m.\u001b[39mtau)):\n\u001b[1;32m     58\u001b[0m     all_ts, ind_filtered \u001b[38;5;241m=\u001b[39m timesurface(events\u001b[38;5;241m.\u001b[39msqueeze(\u001b[38;5;241m0\u001b[39m), (\u001b[38;5;28mself\u001b[39m\u001b[38;5;241m.\u001b[39msensor_size[\u001b[38;5;241m0\u001b[39m], \u001b[38;5;28mself\u001b[39m\u001b[38;5;241m.\u001b[39msensor_size[\u001b[38;5;241m1\u001b[39m], \u001b[38;5;28mself\u001b[39m\u001b[38;5;241m.\u001b[39mn_pola[L]), ordering, tau \u001b[38;5;241m=\u001b[39m \u001b[38;5;28mself\u001b[39m\u001b[38;5;241m.\u001b[39mtau[L], surface_dimensions\u001b[38;5;241m=\u001b[39m[\u001b[38;5;241m2\u001b[39m\u001b[38;5;241m*\u001b[39m\u001b[38;5;28mself\u001b[39m\u001b[38;5;241m.\u001b[39mR[L]\u001b[38;5;241m+\u001b[39m\u001b[38;5;241m1\u001b[39m,\u001b[38;5;241m2\u001b[39m\u001b[38;5;241m*\u001b[39m\u001b[38;5;28mself\u001b[39m\u001b[38;5;241m.\u001b[39mR[L]\u001b[38;5;241m+\u001b[39m\u001b[38;5;241m1\u001b[39m], filtering_threshold \u001b[38;5;241m=\u001b[39m filtering_threshold[L], device\u001b[38;5;241m=\u001b[39mdevice)\n\u001b[0;32m---> 59\u001b[0m     n_star \u001b[38;5;241m=\u001b[39m \u001b[38;5;28;43mself\u001b[39;49m\u001b[38;5;241;43m.\u001b[39;49m\u001b[43mlayers\u001b[49m\u001b[43m[\u001b[49m\u001b[43mL\u001b[49m\u001b[43m]\u001b[49m\u001b[43m(\u001b[49m\u001b[43mall_ts\u001b[49m\u001b[43m,\u001b[49m\u001b[43m \u001b[49m\u001b[38;5;28;43;01mTrue\u001b[39;49;00m\u001b[43m)\u001b[49m\n\u001b[1;32m     60\u001b[0m     \u001b[38;5;28;01mif\u001b[39;00m ind_filtered \u001b[38;5;129;01mis\u001b[39;00m \u001b[38;5;129;01mnot\u001b[39;00m \u001b[38;5;28;01mNone\u001b[39;00m:\n\u001b[1;32m     61\u001b[0m         events \u001b[38;5;241m=\u001b[39m events[:,ind_filtered,:]\n",
      "File \u001b[0;32m~/.local/lib/python3.8/site-packages/torch/nn/modules/module.py:1110\u001b[0m, in \u001b[0;36mModule._call_impl\u001b[0;34m(self, *input, **kwargs)\u001b[0m\n\u001b[1;32m   1106\u001b[0m \u001b[38;5;66;03m# If we don't have any hooks, we want to skip the rest of the logic in\u001b[39;00m\n\u001b[1;32m   1107\u001b[0m \u001b[38;5;66;03m# this function, and just call forward.\u001b[39;00m\n\u001b[1;32m   1108\u001b[0m \u001b[38;5;28;01mif\u001b[39;00m \u001b[38;5;129;01mnot\u001b[39;00m (\u001b[38;5;28mself\u001b[39m\u001b[38;5;241m.\u001b[39m_backward_hooks \u001b[38;5;129;01mor\u001b[39;00m \u001b[38;5;28mself\u001b[39m\u001b[38;5;241m.\u001b[39m_forward_hooks \u001b[38;5;129;01mor\u001b[39;00m \u001b[38;5;28mself\u001b[39m\u001b[38;5;241m.\u001b[39m_forward_pre_hooks \u001b[38;5;129;01mor\u001b[39;00m _global_backward_hooks\n\u001b[1;32m   1109\u001b[0m         \u001b[38;5;129;01mor\u001b[39;00m _global_forward_hooks \u001b[38;5;129;01mor\u001b[39;00m _global_forward_pre_hooks):\n\u001b[0;32m-> 1110\u001b[0m     \u001b[38;5;28;01mreturn\u001b[39;00m \u001b[43mforward_call\u001b[49m\u001b[43m(\u001b[49m\u001b[38;5;241;43m*\u001b[39;49m\u001b[38;5;28;43minput\u001b[39;49m\u001b[43m,\u001b[49m\u001b[43m \u001b[49m\u001b[38;5;241;43m*\u001b[39;49m\u001b[38;5;241;43m*\u001b[39;49m\u001b[43mkwargs\u001b[49m\u001b[43m)\u001b[49m\n\u001b[1;32m   1111\u001b[0m \u001b[38;5;66;03m# Do not call functions when jit is used\u001b[39;00m\n\u001b[1;32m   1112\u001b[0m full_backward_hooks, non_full_backward_hooks \u001b[38;5;241m=\u001b[39m [], []\n",
      "File \u001b[0;32m~/homhots/hotsline/hots/layer.py:34\u001b[0m, in \u001b[0;36mhotslayer.forward\u001b[0;34m(self, all_ts, clustering_flag)\u001b[0m\n\u001b[1;32m     31\u001b[0m         \u001b[38;5;28mself\u001b[39m\u001b[38;5;241m.\u001b[39msynapses\u001b[38;5;241m.\u001b[39mweight\u001b[38;5;241m.\u001b[39mdata[n_star_ev,:] \u001b[38;5;241m=\u001b[39m Ck \u001b[38;5;241m+\u001b[39m alpha\u001b[38;5;241m*\u001b[39mbeta[n_star_ev]\u001b[38;5;241m*\u001b[39m(ts \u001b[38;5;241m-\u001b[39m Ck)\n\u001b[1;32m     32\u001b[0m         \u001b[38;5;66;03m# learning rule from Lagorce 2017\u001b[39;00m\n\u001b[1;32m     33\u001b[0m         \u001b[38;5;66;03m#self.synapses[:,n_star] = Ck + alpha*(TS - simil[closest_proto_idx]*Ck)\u001b[39;00m\n\u001b[0;32m---> 34\u001b[0m         \u001b[38;5;28mself\u001b[39m\u001b[38;5;241m.\u001b[39mcumhisto[n_star_ev] \u001b[38;5;241m+\u001b[39m\u001b[38;5;241m=\u001b[39m \u001b[38;5;241m1\u001b[39m\n\u001b[1;32m     35\u001b[0m         n_star[iev] \u001b[38;5;241m=\u001b[39m n_star_ev\n\u001b[1;32m     36\u001b[0m \u001b[38;5;28;01melse\u001b[39;00m:\n",
      "\u001b[0;31mKeyboardInterrupt\u001b[0m: "
     ]
    }
   ],
   "source": [
    "transform = tonic.transforms.NumpyAsType(int)\n",
    "trainset = tonic.datasets.POKERDVS(save_to='../../Data/', train=True, transform=transform)\n",
    "testset = tonic.datasets.POKERDVS(save_to='../../Data/', train=False, transform=transform)\n",
    "\n",
    "name = 'homeohots'\n",
    "homeo = True\n",
    "timestr = '2022-04-22'\n",
    "dataset_name = 'poker'\n",
    "\n",
    "R_first = (2)#, 4)\n",
    "N_layers = (2)#,3)#,4)\n",
    "n_first = (16)\n",
    "tau_first = (.1e3,.2e3,.3e3,.4e3,.5e3,.6e3,.7e3,.8e3,.9e3,1e3,1.5e3,2e3,2.5e3,3e3,4e3,5e3)\n",
    "\n",
    "parameters = []\n",
    "scores = []\n",
    "\n",
    "for tau in tau_first:\n",
    "    R=R_first\n",
    "    lay=N_layers\n",
    "    N_neuronz = n_first\n",
    "    Rz = [R*2**Nl for Nl in range(lay)]\n",
    "    N_neuronz = [N_neuron*2**Nl for Nl in range(lay)]\n",
    "    N_pola = N_neuronz.copy()\n",
    "    N_pola.insert(0,2)\n",
    "    tauz = [tau*N_pola[Nl+1]/N_pola[Nl] for Nl in range(lay-1)]\n",
    "    tauz.insert(0,tau*2)\n",
    "    hots = network(name, dataset_name, timestr, trainset.sensor_size, nb_neurons = N_neuronz, tau = tauz, R = Rz, homeo = homeo)\n",
    "    filtering_threshold = [2*Rz[L] for L in range(len(Rz))]\n",
    "    #clustering\n",
    "    loader = get_loader(trainset)\n",
    "    hots.clustering(loader, trainset.ordering, filtering_threshold)\n",
    "    #training\n",
    "    loader = get_loader(trainset)\n",
    "    num_sample_train = len(loader)\n",
    "    hots.coding(loader, trainset.ordering, trainset.classes, filtering_threshold, training=True)\n",
    "    #testing\n",
    "    loader = get_loader(testset)\n",
    "    num_sample_test = len(loader)\n",
    "    hots.coding(loader, trainset.ordering, trainset.classes, filtering_threshold, training=False)\n",
    "    jitter = (None, None)\n",
    "\n",
    "    train_path = f'../Records/output/train/{hots.name}_{num_sample_train}_{jitter}/'\n",
    "    test_path = f'../Records/output/test/{hots.name}_{num_sample_test}_{jitter}/'\n",
    "\n",
    "    testset_output = HOTS_Dataset(test_path, trainset.sensor_size, transform=tonic.transforms.NumpyAsType(int))\n",
    "    trainset_output = HOTS_Dataset(train_path, trainset.sensor_size, transform=tonic.transforms.NumpyAsType(int))\n",
    "\n",
    "    score = make_histogram_classification(trainset_output, testset_output, N_neuronz[-1]) \n",
    "    print(f' Accuracy: {score*100}%')\n",
    "\n",
    "    parameters.append([lay, R, tau, N_neuron])\n",
    "    scores.append(score)"
   ]
  },
  {
   "cell_type": "code",
   "execution_count": null,
   "id": "d1a40e58-bd49-4435-a4e4-d043f8c123db",
   "metadata": {},
   "outputs": [],
   "source": []
  }
 ],
 "metadata": {
  "kernelspec": {
   "display_name": "Python 3 (ipykernel)",
   "language": "python",
   "name": "python3"
  },
  "language_info": {
   "codemirror_mode": {
    "name": "ipython",
    "version": 3
   },
   "file_extension": ".py",
   "mimetype": "text/x-python",
   "name": "python",
   "nbconvert_exporter": "python",
   "pygments_lexer": "ipython3",
   "version": "3.8.10"
  }
 },
 "nbformat": 4,
 "nbformat_minor": 5
}
